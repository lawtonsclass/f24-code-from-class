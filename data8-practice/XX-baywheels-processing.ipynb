{
 "cells": [
  {
   "cell_type": "code",
   "execution_count": 97,
   "id": "28568f62-9bdf-400f-ac3b-be952b167e9c",
   "metadata": {},
   "outputs": [
    {
     "data": {
      "text/html": [
       "<table border=\"1\" class=\"dataframe\">\n",
       "    <thead>\n",
       "        <tr>\n",
       "            <th>ride_id</th> <th>rideable_type</th> <th>started_at</th> <th>ended_at</th> <th>start_station_name</th> <th>start_station_id</th> <th>end_station_name</th> <th>end_station_id</th> <th>start_lat</th> <th>start_lng</th> <th>end_lat</th> <th>end_lng</th> <th>member_casual</th>\n",
       "        </tr>\n",
       "    </thead>\n",
       "    <tbody>\n",
       "        <tr>\n",
       "            <td>B8FFF86E4717F5EB</td> <td>classic_bike </td> <td>2025-06-30 09:07:18.625</td> <td>2025-06-30 09:16:12.722</td> <td>62nd St at Claremont Ave    </td> <td>OK-A4           </td> <td>Telegraph Ave at 49th St</td> <td>OK-D4         </td> <td>37.8494  </td> <td>-122.253 </td> <td>37.8357</td> <td>-122.263</td> <td>member       </td>\n",
       "        </tr>\n",
       "        <tr>\n",
       "            <td>45B45A777559D706</td> <td>electric_bike</td> <td>2025-06-03 13:07:55.313</td> <td>2025-06-03 13:16:31.166</td> <td>MLK Jr Way at University Ave</td> <td>BK-C6           </td> <td>Fulton St at Ashby Ave  </td> <td>BK-H8         </td> <td>37.8717  </td> <td>-122.273 </td> <td>37.8556</td> <td>-122.264</td> <td>member       </td>\n",
       "        </tr>\n",
       "        <tr>\n",
       "            <td>F04B35645D7E18FB</td> <td>classic_bike </td> <td>2025-06-23 09:13:34.202</td> <td>2025-06-23 09:21:50.823</td> <td>Precita Park                </td> <td>SF-S24          </td> <td>Harrison St at 20th St  </td> <td>SF-P24        </td> <td>37.7473  </td> <td>-122.411 </td> <td>37.7589</td> <td>-122.413</td> <td>casual       </td>\n",
       "        </tr>\n",
       "        <tr>\n",
       "            <td>AF32ECA49D41C765</td> <td>classic_bike </td> <td>2025-06-16 13:24:02.794</td> <td>2025-06-16 13:34:30.657</td> <td>San Pablo Park              </td> <td>BK-G4           </td> <td>San Pablo Park          </td> <td>BK-G4         </td> <td>37.8558  </td> <td>-122.283 </td> <td>37.8558</td> <td>-122.283</td> <td>member       </td>\n",
       "        </tr>\n",
       "        <tr>\n",
       "            <td>E877DD0994FD13F3</td> <td>electric_bike</td> <td>2025-06-04 06:47:59.506</td> <td>2025-06-04 07:00:28.534</td> <td>Broadway at 40th St         </td> <td>OK-F5           </td> <td>Bay Street Plaza        </td> <td>EM-C1-2       </td> <td>37.8278  </td> <td>-122.257 </td> <td>37.8346</td> <td>-122.292</td> <td>casual       </td>\n",
       "        </tr>\n",
       "        <tr>\n",
       "            <td>2EE364B8F5987EE6</td> <td>electric_bike</td> <td>2025-06-03 17:38:46.966</td> <td>2025-06-03 17:47:45.805</td> <td>Masonic Ave at Turk St      </td> <td>SF-I16          </td> <td>Masonic Ave at Turk St  </td> <td>SF-I16        </td> <td>37.779   </td> <td>-122.447 </td> <td>37.779 </td> <td>-122.447</td> <td>casual       </td>\n",
       "        </tr>\n",
       "        <tr>\n",
       "            <td>B9DDED6CEA6EF3B9</td> <td>electric_bike</td> <td>2025-06-03 21:41:02.433</td> <td>2025-06-03 21:47:29.827</td> <td>Masonic Ave at Turk St      </td> <td>SF-I16          </td> <td>Haight St at Lyon St    </td> <td>SF-K17-2      </td> <td>37.779   </td> <td>-122.447 </td> <td>37.7705</td> <td>-122.442</td> <td>casual       </td>\n",
       "        </tr>\n",
       "        <tr>\n",
       "            <td>26C6F9EB47D14AC0</td> <td>electric_bike</td> <td>2025-06-09 16:07:36.708</td> <td>2025-06-09 17:22:53.987</td> <td>Mason St at Halleck St      </td> <td>SF-A15          </td> <td>nan                     </td> <td>nan           </td> <td>37.804   </td> <td>-122.455 </td> <td>37.8   </td> <td>-122.43 </td> <td>casual       </td>\n",
       "        </tr>\n",
       "        <tr>\n",
       "            <td>5BDB090FB8F80EA6</td> <td>electric_bike</td> <td>2025-06-26 06:33:13.815</td> <td>2025-06-26 06:39:16.894</td> <td>Market St at Franklin St    </td> <td>SF-K22-1        </td> <td>nan                     </td> <td>nan           </td> <td>37.7738  </td> <td>-122.421 </td> <td>37.78  </td> <td>-122.42 </td> <td>member       </td>\n",
       "        </tr>\n",
       "        <tr>\n",
       "            <td>584C71D820067532</td> <td>electric_bike</td> <td>2025-06-15 00:26:46.204</td> <td>2025-06-15 00:41:38.997</td> <td>Masonic Ave at Turk St      </td> <td>SF-I16          </td> <td>34th Ave at Balboa St   </td> <td>SF-J5         </td> <td>37.779   </td> <td>-122.447 </td> <td>37.7757</td> <td>-122.494</td> <td>member       </td>\n",
       "        </tr>\n",
       "    </tbody>\n",
       "</table>\n",
       "<p>... (378735 rows omitted)</p>"
      ],
      "text/plain": [
       "ride_id          | rideable_type | started_at              | ended_at                | start_station_name           | start_station_id | end_station_name         | end_station_id | start_lat | start_lng | end_lat | end_lng  | member_casual\n",
       "B8FFF86E4717F5EB | classic_bike  | 2025-06-30 09:07:18.625 | 2025-06-30 09:16:12.722 | 62nd St at Claremont Ave     | OK-A4            | Telegraph Ave at 49th St | OK-D4          | 37.8494   | -122.253  | 37.8357 | -122.263 | member\n",
       "45B45A777559D706 | electric_bike | 2025-06-03 13:07:55.313 | 2025-06-03 13:16:31.166 | MLK Jr Way at University Ave | BK-C6            | Fulton St at Ashby Ave   | BK-H8          | 37.8717   | -122.273  | 37.8556 | -122.264 | member\n",
       "F04B35645D7E18FB | classic_bike  | 2025-06-23 09:13:34.202 | 2025-06-23 09:21:50.823 | Precita Park                 | SF-S24           | Harrison St at 20th St   | SF-P24         | 37.7473   | -122.411  | 37.7589 | -122.413 | casual\n",
       "AF32ECA49D41C765 | classic_bike  | 2025-06-16 13:24:02.794 | 2025-06-16 13:34:30.657 | San Pablo Park               | BK-G4            | San Pablo Park           | BK-G4          | 37.8558   | -122.283  | 37.8558 | -122.283 | member\n",
       "E877DD0994FD13F3 | electric_bike | 2025-06-04 06:47:59.506 | 2025-06-04 07:00:28.534 | Broadway at 40th St          | OK-F5            | Bay Street Plaza         | EM-C1-2        | 37.8278   | -122.257  | 37.8346 | -122.292 | casual\n",
       "2EE364B8F5987EE6 | electric_bike | 2025-06-03 17:38:46.966 | 2025-06-03 17:47:45.805 | Masonic Ave at Turk St       | SF-I16           | Masonic Ave at Turk St   | SF-I16         | 37.779    | -122.447  | 37.779  | -122.447 | casual\n",
       "B9DDED6CEA6EF3B9 | electric_bike | 2025-06-03 21:41:02.433 | 2025-06-03 21:47:29.827 | Masonic Ave at Turk St       | SF-I16           | Haight St at Lyon St     | SF-K17-2       | 37.779    | -122.447  | 37.7705 | -122.442 | casual\n",
       "26C6F9EB47D14AC0 | electric_bike | 2025-06-09 16:07:36.708 | 2025-06-09 17:22:53.987 | Mason St at Halleck St       | SF-A15           | nan                      | nan            | 37.804    | -122.455  | 37.8    | -122.43  | casual\n",
       "5BDB090FB8F80EA6 | electric_bike | 2025-06-26 06:33:13.815 | 2025-06-26 06:39:16.894 | Market St at Franklin St     | SF-K22-1         | nan                      | nan            | 37.7738   | -122.421  | 37.78   | -122.42  | member\n",
       "584C71D820067532 | electric_bike | 2025-06-15 00:26:46.204 | 2025-06-15 00:41:38.997 | Masonic Ave at Turk St       | SF-I16           | 34th Ave at Balboa St    | SF-J5          | 37.779    | -122.447  | 37.7757 | -122.494 | member\n",
       "... (378735 rows omitted)"
      ]
     },
     "execution_count": 97,
     "metadata": {},
     "output_type": "execute_result"
    }
   ],
   "source": [
    "trips = Table.read_table('data/202506-baywheels-tripdata.csv.zip')\n",
    "trips"
   ]
  },
  {
   "cell_type": "code",
   "execution_count": 112,
   "id": "6720d88f-e0bc-4c34-8aec-ae5e40b9aeb5",
   "metadata": {},
   "outputs": [
    {
     "data": {
      "text/html": [
       "<table border=\"1\" class=\"dataframe\">\n",
       "    <thead>\n",
       "        <tr>\n",
       "            <th>start_station_name</th> <th>start_lat mean</th>\n",
       "        </tr>\n",
       "    </thead>\n",
       "    <tbody>\n",
       "        <tr>\n",
       "            <td> Sloat Blvd at The Great Highway to 46th Ave</td> <td>37.7353       </td>\n",
       "        </tr>\n",
       "        <tr>\n",
       "            <td>10th Ave at E 15th St                       </td> <td>37.7927       </td>\n",
       "        </tr>\n",
       "        <tr>\n",
       "            <td>10th Ave at Irving St                       </td> <td>37.7642       </td>\n",
       "        </tr>\n",
       "        <tr>\n",
       "            <td>10th St at Chestnut St                      </td> <td>37.8064       </td>\n",
       "        </tr>\n",
       "        <tr>\n",
       "            <td>10th St at Empire St                        </td> <td>37.3494       </td>\n",
       "        </tr>\n",
       "        <tr>\n",
       "            <td>10th St at Fallon St                        </td> <td>37.7977       </td>\n",
       "        </tr>\n",
       "        <tr>\n",
       "            <td>10th St at Mission St                       </td> <td>37.3557       </td>\n",
       "        </tr>\n",
       "        <tr>\n",
       "            <td>10th St at University Ave                   </td> <td>37.8691       </td>\n",
       "        </tr>\n",
       "        <tr>\n",
       "            <td>11th St at Bryant St                        </td> <td>37.77         </td>\n",
       "        </tr>\n",
       "        <tr>\n",
       "            <td>11th St at Natoma St                        </td> <td>37.7735       </td>\n",
       "        </tr>\n",
       "    </tbody>\n",
       "</table>\n",
       "<p>... (575 rows omitted)</p>"
      ],
      "text/plain": [
       "start_station_name                           | start_lat mean\n",
       " Sloat Blvd at The Great Highway to 46th Ave | 37.7353\n",
       "10th Ave at E 15th St                        | 37.7927\n",
       "10th Ave at Irving St                        | 37.7642\n",
       "10th St at Chestnut St                       | 37.8064\n",
       "10th St at Empire St                         | 37.3494\n",
       "10th St at Fallon St                         | 37.7977\n",
       "10th St at Mission St                        | 37.3557\n",
       "10th St at University Ave                    | 37.8691\n",
       "11th St at Bryant St                         | 37.77\n",
       "11th St at Natoma St                         | 37.7735\n",
       "... (575 rows omitted)"
      ]
     },
     "execution_count": 112,
     "metadata": {},
     "output_type": "execute_result"
    }
   ],
   "source": [
    "lats = trips.select('start_station_name', 'start_lat').group('start_station_name', np.mean)\n",
    "lats"
   ]
  },
  {
   "cell_type": "code",
   "execution_count": 113,
   "id": "d4892f89-2388-430e-8d8a-dea06cdf56bb",
   "metadata": {},
   "outputs": [
    {
     "data": {
      "text/html": [
       "<table border=\"1\" class=\"dataframe\">\n",
       "    <thead>\n",
       "        <tr>\n",
       "            <th>start_station_name</th> <th>start_lng mean</th>\n",
       "        </tr>\n",
       "    </thead>\n",
       "    <tbody>\n",
       "        <tr>\n",
       "            <td> Sloat Blvd at The Great Highway to 46th Ave</td> <td>-122.505      </td>\n",
       "        </tr>\n",
       "        <tr>\n",
       "            <td>10th Ave at E 15th St                       </td> <td>-122.249      </td>\n",
       "        </tr>\n",
       "        <tr>\n",
       "            <td>10th Ave at Irving St                       </td> <td>-122.467      </td>\n",
       "        </tr>\n",
       "        <tr>\n",
       "            <td>10th St at Chestnut St                      </td> <td>-122.286      </td>\n",
       "        </tr>\n",
       "        <tr>\n",
       "            <td>10th St at Empire St                        </td> <td>-121.888      </td>\n",
       "        </tr>\n",
       "        <tr>\n",
       "            <td>10th St at Fallon St                        </td> <td>-122.263      </td>\n",
       "        </tr>\n",
       "        <tr>\n",
       "            <td>10th St at Mission St                       </td> <td>-121.892      </td>\n",
       "        </tr>\n",
       "        <tr>\n",
       "            <td>10th St at University Ave                   </td> <td>-122.293      </td>\n",
       "        </tr>\n",
       "        <tr>\n",
       "            <td>11th St at Bryant St                        </td> <td>-122.412      </td>\n",
       "        </tr>\n",
       "        <tr>\n",
       "            <td>11th St at Natoma St                        </td> <td>-122.416      </td>\n",
       "        </tr>\n",
       "    </tbody>\n",
       "</table>\n",
       "<p>... (575 rows omitted)</p>"
      ],
      "text/plain": [
       "start_station_name                           | start_lng mean\n",
       " Sloat Blvd at The Great Highway to 46th Ave | -122.505\n",
       "10th Ave at E 15th St                        | -122.249\n",
       "10th Ave at Irving St                        | -122.467\n",
       "10th St at Chestnut St                       | -122.286\n",
       "10th St at Empire St                         | -121.888\n",
       "10th St at Fallon St                         | -122.263\n",
       "10th St at Mission St                        | -121.892\n",
       "10th St at University Ave                    | -122.293\n",
       "11th St at Bryant St                         | -122.412\n",
       "11th St at Natoma St                         | -122.416\n",
       "... (575 rows omitted)"
      ]
     },
     "execution_count": 113,
     "metadata": {},
     "output_type": "execute_result"
    }
   ],
   "source": [
    "lngs = trips.select('start_station_name', 'start_lng').group('start_station_name', np.mean)\n",
    "lngs"
   ]
  },
  {
   "cell_type": "code",
   "execution_count": 117,
   "id": "ef297128-cbc8-45ae-8a17-93091c7695e4",
   "metadata": {},
   "outputs": [
    {
     "data": {
      "text/html": [
       "<table border=\"1\" class=\"dataframe\">\n",
       "    <thead>\n",
       "        <tr>\n",
       "            <th>station_name</th> <th>lat</th> <th>long</th>\n",
       "        </tr>\n",
       "    </thead>\n",
       "    <tbody>\n",
       "        <tr>\n",
       "            <td> Sloat Blvd at The Great Highway to 46th Ave</td> <td>37.7353</td> <td>-122.505</td>\n",
       "        </tr>\n",
       "        <tr>\n",
       "            <td>10th Ave at E 15th St                       </td> <td>37.7927</td> <td>-122.249</td>\n",
       "        </tr>\n",
       "        <tr>\n",
       "            <td>10th Ave at Irving St                       </td> <td>37.7642</td> <td>-122.467</td>\n",
       "        </tr>\n",
       "        <tr>\n",
       "            <td>10th St at Chestnut St                      </td> <td>37.8064</td> <td>-122.286</td>\n",
       "        </tr>\n",
       "        <tr>\n",
       "            <td>10th St at Empire St                        </td> <td>37.3494</td> <td>-121.888</td>\n",
       "        </tr>\n",
       "        <tr>\n",
       "            <td>10th St at Fallon St                        </td> <td>37.7977</td> <td>-122.263</td>\n",
       "        </tr>\n",
       "        <tr>\n",
       "            <td>10th St at Mission St                       </td> <td>37.3557</td> <td>-121.892</td>\n",
       "        </tr>\n",
       "        <tr>\n",
       "            <td>10th St at University Ave                   </td> <td>37.8691</td> <td>-122.293</td>\n",
       "        </tr>\n",
       "        <tr>\n",
       "            <td>11th St at Bryant St                        </td> <td>37.77  </td> <td>-122.412</td>\n",
       "        </tr>\n",
       "        <tr>\n",
       "            <td>11th St at Natoma St                        </td> <td>37.7735</td> <td>-122.416</td>\n",
       "        </tr>\n",
       "    </tbody>\n",
       "</table>\n",
       "<p>... (575 rows omitted)</p>"
      ],
      "text/plain": [
       "station_name                                 | lat     | long\n",
       " Sloat Blvd at The Great Highway to 46th Ave | 37.7353 | -122.505\n",
       "10th Ave at E 15th St                        | 37.7927 | -122.249\n",
       "10th Ave at Irving St                        | 37.7642 | -122.467\n",
       "10th St at Chestnut St                       | 37.8064 | -122.286\n",
       "10th St at Empire St                         | 37.3494 | -121.888\n",
       "10th St at Fallon St                         | 37.7977 | -122.263\n",
       "10th St at Mission St                        | 37.3557 | -121.892\n",
       "10th St at University Ave                    | 37.8691 | -122.293\n",
       "11th St at Bryant St                         | 37.77   | -122.412\n",
       "11th St at Natoma St                         | 37.7735 | -122.416\n",
       "... (575 rows omitted)"
      ]
     },
     "execution_count": 117,
     "metadata": {},
     "output_type": "execute_result"
    }
   ],
   "source": [
    "stations = lats.join('start_station_name', lngs).relabeled(\n",
    "    ['start_station_name', 'start_lat mean', 'start_lng mean'],\n",
    "    ['station_name', 'lat', 'long']\n",
    ")\n",
    "stations"
   ]
  },
  {
   "cell_type": "code",
   "execution_count": 118,
   "id": "ae7afa6e-827a-4256-afbe-87435234c1aa",
   "metadata": {},
   "outputs": [],
   "source": [
    "stations.to_csv('data/stations.csv')"
   ]
  },
  {
   "cell_type": "code",
   "execution_count": 119,
   "id": "10fc8a0b-ed8f-4d7b-a8e6-35fd0a669b28",
   "metadata": {},
   "outputs": [
    {
     "data": {
      "text/html": [
       "<table border=\"1\" class=\"dataframe\">\n",
       "    <thead>\n",
       "        <tr>\n",
       "            <th>ride_id</th> <th>rideable_type</th> <th>started_at</th> <th>ended_at</th> <th>start_station_name</th> <th>start_station_id</th> <th>end_station_name</th> <th>end_station_id</th> <th>start_lat</th> <th>start_lng</th> <th>end_lat</th> <th>end_lng</th> <th>member_casual</th>\n",
       "        </tr>\n",
       "    </thead>\n",
       "    <tbody>\n",
       "        <tr>\n",
       "            <td>B8FFF86E4717F5EB</td> <td>classic_bike </td> <td>2025-06-30 09:07:18.625</td> <td>2025-06-30 09:16:12.722</td> <td>62nd St at Claremont Ave    </td> <td>OK-A4           </td> <td>Telegraph Ave at 49th St</td> <td>OK-D4         </td> <td>37.8494  </td> <td>-122.253 </td> <td>37.8357</td> <td>-122.263</td> <td>member       </td>\n",
       "        </tr>\n",
       "        <tr>\n",
       "            <td>45B45A777559D706</td> <td>electric_bike</td> <td>2025-06-03 13:07:55.313</td> <td>2025-06-03 13:16:31.166</td> <td>MLK Jr Way at University Ave</td> <td>BK-C6           </td> <td>Fulton St at Ashby Ave  </td> <td>BK-H8         </td> <td>37.8717  </td> <td>-122.273 </td> <td>37.8556</td> <td>-122.264</td> <td>member       </td>\n",
       "        </tr>\n",
       "        <tr>\n",
       "            <td>F04B35645D7E18FB</td> <td>classic_bike </td> <td>2025-06-23 09:13:34.202</td> <td>2025-06-23 09:21:50.823</td> <td>Precita Park                </td> <td>SF-S24          </td> <td>Harrison St at 20th St  </td> <td>SF-P24        </td> <td>37.7473  </td> <td>-122.411 </td> <td>37.7589</td> <td>-122.413</td> <td>casual       </td>\n",
       "        </tr>\n",
       "        <tr>\n",
       "            <td>AF32ECA49D41C765</td> <td>classic_bike </td> <td>2025-06-16 13:24:02.794</td> <td>2025-06-16 13:34:30.657</td> <td>San Pablo Park              </td> <td>BK-G4           </td> <td>San Pablo Park          </td> <td>BK-G4         </td> <td>37.8558  </td> <td>-122.283 </td> <td>37.8558</td> <td>-122.283</td> <td>member       </td>\n",
       "        </tr>\n",
       "        <tr>\n",
       "            <td>E877DD0994FD13F3</td> <td>electric_bike</td> <td>2025-06-04 06:47:59.506</td> <td>2025-06-04 07:00:28.534</td> <td>Broadway at 40th St         </td> <td>OK-F5           </td> <td>Bay Street Plaza        </td> <td>EM-C1-2       </td> <td>37.8278  </td> <td>-122.257 </td> <td>37.8346</td> <td>-122.292</td> <td>casual       </td>\n",
       "        </tr>\n",
       "        <tr>\n",
       "            <td>2EE364B8F5987EE6</td> <td>electric_bike</td> <td>2025-06-03 17:38:46.966</td> <td>2025-06-03 17:47:45.805</td> <td>Masonic Ave at Turk St      </td> <td>SF-I16          </td> <td>Masonic Ave at Turk St  </td> <td>SF-I16        </td> <td>37.779   </td> <td>-122.447 </td> <td>37.779 </td> <td>-122.447</td> <td>casual       </td>\n",
       "        </tr>\n",
       "        <tr>\n",
       "            <td>B9DDED6CEA6EF3B9</td> <td>electric_bike</td> <td>2025-06-03 21:41:02.433</td> <td>2025-06-03 21:47:29.827</td> <td>Masonic Ave at Turk St      </td> <td>SF-I16          </td> <td>Haight St at Lyon St    </td> <td>SF-K17-2      </td> <td>37.779   </td> <td>-122.447 </td> <td>37.7705</td> <td>-122.442</td> <td>casual       </td>\n",
       "        </tr>\n",
       "        <tr>\n",
       "            <td>26C6F9EB47D14AC0</td> <td>electric_bike</td> <td>2025-06-09 16:07:36.708</td> <td>2025-06-09 17:22:53.987</td> <td>Mason St at Halleck St      </td> <td>SF-A15          </td> <td>nan                     </td> <td>nan           </td> <td>37.804   </td> <td>-122.455 </td> <td>37.8   </td> <td>-122.43 </td> <td>casual       </td>\n",
       "        </tr>\n",
       "        <tr>\n",
       "            <td>5BDB090FB8F80EA6</td> <td>electric_bike</td> <td>2025-06-26 06:33:13.815</td> <td>2025-06-26 06:39:16.894</td> <td>Market St at Franklin St    </td> <td>SF-K22-1        </td> <td>nan                     </td> <td>nan           </td> <td>37.7738  </td> <td>-122.421 </td> <td>37.78  </td> <td>-122.42 </td> <td>member       </td>\n",
       "        </tr>\n",
       "        <tr>\n",
       "            <td>584C71D820067532</td> <td>electric_bike</td> <td>2025-06-15 00:26:46.204</td> <td>2025-06-15 00:41:38.997</td> <td>Masonic Ave at Turk St      </td> <td>SF-I16          </td> <td>34th Ave at Balboa St   </td> <td>SF-J5         </td> <td>37.779   </td> <td>-122.447 </td> <td>37.7757</td> <td>-122.494</td> <td>member       </td>\n",
       "        </tr>\n",
       "    </tbody>\n",
       "</table>\n",
       "<p>... (378735 rows omitted)</p>"
      ],
      "text/plain": [
       "ride_id          | rideable_type | started_at              | ended_at                | start_station_name           | start_station_id | end_station_name         | end_station_id | start_lat | start_lng | end_lat | end_lng  | member_casual\n",
       "B8FFF86E4717F5EB | classic_bike  | 2025-06-30 09:07:18.625 | 2025-06-30 09:16:12.722 | 62nd St at Claremont Ave     | OK-A4            | Telegraph Ave at 49th St | OK-D4          | 37.8494   | -122.253  | 37.8357 | -122.263 | member\n",
       "45B45A777559D706 | electric_bike | 2025-06-03 13:07:55.313 | 2025-06-03 13:16:31.166 | MLK Jr Way at University Ave | BK-C6            | Fulton St at Ashby Ave   | BK-H8          | 37.8717   | -122.273  | 37.8556 | -122.264 | member\n",
       "F04B35645D7E18FB | classic_bike  | 2025-06-23 09:13:34.202 | 2025-06-23 09:21:50.823 | Precita Park                 | SF-S24           | Harrison St at 20th St   | SF-P24         | 37.7473   | -122.411  | 37.7589 | -122.413 | casual\n",
       "AF32ECA49D41C765 | classic_bike  | 2025-06-16 13:24:02.794 | 2025-06-16 13:34:30.657 | San Pablo Park               | BK-G4            | San Pablo Park           | BK-G4          | 37.8558   | -122.283  | 37.8558 | -122.283 | member\n",
       "E877DD0994FD13F3 | electric_bike | 2025-06-04 06:47:59.506 | 2025-06-04 07:00:28.534 | Broadway at 40th St          | OK-F5            | Bay Street Plaza         | EM-C1-2        | 37.8278   | -122.257  | 37.8346 | -122.292 | casual\n",
       "2EE364B8F5987EE6 | electric_bike | 2025-06-03 17:38:46.966 | 2025-06-03 17:47:45.805 | Masonic Ave at Turk St       | SF-I16           | Masonic Ave at Turk St   | SF-I16         | 37.779    | -122.447  | 37.779  | -122.447 | casual\n",
       "B9DDED6CEA6EF3B9 | electric_bike | 2025-06-03 21:41:02.433 | 2025-06-03 21:47:29.827 | Masonic Ave at Turk St       | SF-I16           | Haight St at Lyon St     | SF-K17-2       | 37.779    | -122.447  | 37.7705 | -122.442 | casual\n",
       "26C6F9EB47D14AC0 | electric_bike | 2025-06-09 16:07:36.708 | 2025-06-09 17:22:53.987 | Mason St at Halleck St       | SF-A15           | nan                      | nan            | 37.804    | -122.455  | 37.8    | -122.43  | casual\n",
       "5BDB090FB8F80EA6 | electric_bike | 2025-06-26 06:33:13.815 | 2025-06-26 06:39:16.894 | Market St at Franklin St     | SF-K22-1         | nan                      | nan            | 37.7738   | -122.421  | 37.78   | -122.42  | member\n",
       "584C71D820067532 | electric_bike | 2025-06-15 00:26:46.204 | 2025-06-15 00:41:38.997 | Masonic Ave at Turk St       | SF-I16           | 34th Ave at Balboa St    | SF-J5          | 37.779    | -122.447  | 37.7757 | -122.494 | member\n",
       "... (378735 rows omitted)"
      ]
     },
     "execution_count": 119,
     "metadata": {},
     "output_type": "execute_result"
    }
   ],
   "source": [
    "trips"
   ]
  },
  {
   "cell_type": "code",
   "execution_count": 122,
   "id": "01afb8f2-defe-4f4a-9b4e-cc9647789409",
   "metadata": {},
   "outputs": [
    {
     "data": {
      "text/html": [
       "<table border=\"1\" class=\"dataframe\">\n",
       "    <thead>\n",
       "        <tr>\n",
       "            <th>rideable_type</th> <th>started_at</th> <th>ended_at</th> <th>start_station_name</th> <th>end_station_name</th> <th>member_casual</th>\n",
       "        </tr>\n",
       "    </thead>\n",
       "    <tbody>\n",
       "        <tr>\n",
       "            <td>classic_bike </td> <td>2025-06-30 09:07:18.625</td> <td>2025-06-30 09:16:12.722</td> <td>62nd St at Claremont Ave    </td> <td>Telegraph Ave at 49th St</td> <td>member       </td>\n",
       "        </tr>\n",
       "        <tr>\n",
       "            <td>electric_bike</td> <td>2025-06-03 13:07:55.313</td> <td>2025-06-03 13:16:31.166</td> <td>MLK Jr Way at University Ave</td> <td>Fulton St at Ashby Ave  </td> <td>member       </td>\n",
       "        </tr>\n",
       "        <tr>\n",
       "            <td>classic_bike </td> <td>2025-06-23 09:13:34.202</td> <td>2025-06-23 09:21:50.823</td> <td>Precita Park                </td> <td>Harrison St at 20th St  </td> <td>casual       </td>\n",
       "        </tr>\n",
       "        <tr>\n",
       "            <td>classic_bike </td> <td>2025-06-16 13:24:02.794</td> <td>2025-06-16 13:34:30.657</td> <td>San Pablo Park              </td> <td>San Pablo Park          </td> <td>member       </td>\n",
       "        </tr>\n",
       "        <tr>\n",
       "            <td>electric_bike</td> <td>2025-06-04 06:47:59.506</td> <td>2025-06-04 07:00:28.534</td> <td>Broadway at 40th St         </td> <td>Bay Street Plaza        </td> <td>casual       </td>\n",
       "        </tr>\n",
       "        <tr>\n",
       "            <td>electric_bike</td> <td>2025-06-03 17:38:46.966</td> <td>2025-06-03 17:47:45.805</td> <td>Masonic Ave at Turk St      </td> <td>Masonic Ave at Turk St  </td> <td>casual       </td>\n",
       "        </tr>\n",
       "        <tr>\n",
       "            <td>electric_bike</td> <td>2025-06-03 21:41:02.433</td> <td>2025-06-03 21:47:29.827</td> <td>Masonic Ave at Turk St      </td> <td>Haight St at Lyon St    </td> <td>casual       </td>\n",
       "        </tr>\n",
       "        <tr>\n",
       "            <td>electric_bike</td> <td>2025-06-09 16:07:36.708</td> <td>2025-06-09 17:22:53.987</td> <td>Mason St at Halleck St      </td> <td>nan                     </td> <td>casual       </td>\n",
       "        </tr>\n",
       "        <tr>\n",
       "            <td>electric_bike</td> <td>2025-06-26 06:33:13.815</td> <td>2025-06-26 06:39:16.894</td> <td>Market St at Franklin St    </td> <td>nan                     </td> <td>member       </td>\n",
       "        </tr>\n",
       "        <tr>\n",
       "            <td>electric_bike</td> <td>2025-06-15 00:26:46.204</td> <td>2025-06-15 00:41:38.997</td> <td>Masonic Ave at Turk St      </td> <td>34th Ave at Balboa St   </td> <td>member       </td>\n",
       "        </tr>\n",
       "    </tbody>\n",
       "</table>\n",
       "<p>... (378735 rows omitted)</p>"
      ],
      "text/plain": [
       "rideable_type | started_at              | ended_at                | start_station_name           | end_station_name         | member_casual\n",
       "classic_bike  | 2025-06-30 09:07:18.625 | 2025-06-30 09:16:12.722 | 62nd St at Claremont Ave     | Telegraph Ave at 49th St | member\n",
       "electric_bike | 2025-06-03 13:07:55.313 | 2025-06-03 13:16:31.166 | MLK Jr Way at University Ave | Fulton St at Ashby Ave   | member\n",
       "classic_bike  | 2025-06-23 09:13:34.202 | 2025-06-23 09:21:50.823 | Precita Park                 | Harrison St at 20th St   | casual\n",
       "classic_bike  | 2025-06-16 13:24:02.794 | 2025-06-16 13:34:30.657 | San Pablo Park               | San Pablo Park           | member\n",
       "electric_bike | 2025-06-04 06:47:59.506 | 2025-06-04 07:00:28.534 | Broadway at 40th St          | Bay Street Plaza         | casual\n",
       "electric_bike | 2025-06-03 17:38:46.966 | 2025-06-03 17:47:45.805 | Masonic Ave at Turk St       | Masonic Ave at Turk St   | casual\n",
       "electric_bike | 2025-06-03 21:41:02.433 | 2025-06-03 21:47:29.827 | Masonic Ave at Turk St       | Haight St at Lyon St     | casual\n",
       "electric_bike | 2025-06-09 16:07:36.708 | 2025-06-09 17:22:53.987 | Mason St at Halleck St       | nan                      | casual\n",
       "electric_bike | 2025-06-26 06:33:13.815 | 2025-06-26 06:39:16.894 | Market St at Franklin St     | nan                      | member\n",
       "electric_bike | 2025-06-15 00:26:46.204 | 2025-06-15 00:41:38.997 | Masonic Ave at Turk St       | 34th Ave at Balboa St    | member\n",
       "... (378735 rows omitted)"
      ]
     },
     "execution_count": 122,
     "metadata": {},
     "output_type": "execute_result"
    }
   ],
   "source": [
    "trips = trips.drop([\n",
    "    'ride_id', 'start_station_id', 'end_station_id', 'start_lat',\n",
    "    'start_lng',\t'end_lat',\t'end_lng'])\n",
    "trips"
   ]
  },
  {
   "cell_type": "code",
   "execution_count": 125,
   "id": "85a21eba-af6f-4a53-82ef-6f20d32a6c47",
   "metadata": {},
   "outputs": [
    {
     "data": {
      "text/html": [
       "<table border=\"1\" class=\"dataframe\">\n",
       "    <thead>\n",
       "        <tr>\n",
       "            <th>rideable_type</th> <th>started_at</th> <th>ended_at</th> <th>start_station_name</th> <th>end_station_name</th> <th>member_casual</th>\n",
       "        </tr>\n",
       "    </thead>\n",
       "    <tbody>\n",
       "        <tr>\n",
       "            <td>classic_bike </td> <td>2025-06-30 09:07:18.625</td> <td>2025-06-30 09:16:12.722</td> <td>62nd St at Claremont Ave    </td> <td>Telegraph Ave at 49th St</td> <td>member       </td>\n",
       "        </tr>\n",
       "        <tr>\n",
       "            <td>electric_bike</td> <td>2025-06-03 13:07:55.313</td> <td>2025-06-03 13:16:31.166</td> <td>MLK Jr Way at University Ave</td> <td>Fulton St at Ashby Ave  </td> <td>member       </td>\n",
       "        </tr>\n",
       "        <tr>\n",
       "            <td>classic_bike </td> <td>2025-06-23 09:13:34.202</td> <td>2025-06-23 09:21:50.823</td> <td>Precita Park                </td> <td>Harrison St at 20th St  </td> <td>casual       </td>\n",
       "        </tr>\n",
       "        <tr>\n",
       "            <td>classic_bike </td> <td>2025-06-16 13:24:02.794</td> <td>2025-06-16 13:34:30.657</td> <td>San Pablo Park              </td> <td>San Pablo Park          </td> <td>member       </td>\n",
       "        </tr>\n",
       "        <tr>\n",
       "            <td>electric_bike</td> <td>2025-06-04 06:47:59.506</td> <td>2025-06-04 07:00:28.534</td> <td>Broadway at 40th St         </td> <td>Bay Street Plaza        </td> <td>casual       </td>\n",
       "        </tr>\n",
       "        <tr>\n",
       "            <td>electric_bike</td> <td>2025-06-03 17:38:46.966</td> <td>2025-06-03 17:47:45.805</td> <td>Masonic Ave at Turk St      </td> <td>Masonic Ave at Turk St  </td> <td>casual       </td>\n",
       "        </tr>\n",
       "        <tr>\n",
       "            <td>electric_bike</td> <td>2025-06-03 21:41:02.433</td> <td>2025-06-03 21:47:29.827</td> <td>Masonic Ave at Turk St      </td> <td>Haight St at Lyon St    </td> <td>casual       </td>\n",
       "        </tr>\n",
       "        <tr>\n",
       "            <td>electric_bike</td> <td>2025-06-15 00:26:46.204</td> <td>2025-06-15 00:41:38.997</td> <td>Masonic Ave at Turk St      </td> <td>34th Ave at Balboa St   </td> <td>member       </td>\n",
       "        </tr>\n",
       "        <tr>\n",
       "            <td>electric_bike</td> <td>2025-06-03 21:40:42.205</td> <td>2025-06-03 21:48:15.143</td> <td>Masonic Ave at Turk St      </td> <td>Broderick St at Oak St  </td> <td>casual       </td>\n",
       "        </tr>\n",
       "        <tr>\n",
       "            <td>classic_bike </td> <td>2025-06-28 16:01:15.655</td> <td>2025-06-28 16:07:09.931</td> <td>23rd St at San Bruno Ave    </td> <td>20th St at Bryant St    </td> <td>member       </td>\n",
       "        </tr>\n",
       "    </tbody>\n",
       "</table>\n",
       "<p>... (345730 rows omitted)</p>"
      ],
      "text/plain": [
       "rideable_type | started_at              | ended_at                | start_station_name           | end_station_name         | member_casual\n",
       "classic_bike  | 2025-06-30 09:07:18.625 | 2025-06-30 09:16:12.722 | 62nd St at Claremont Ave     | Telegraph Ave at 49th St | member\n",
       "electric_bike | 2025-06-03 13:07:55.313 | 2025-06-03 13:16:31.166 | MLK Jr Way at University Ave | Fulton St at Ashby Ave   | member\n",
       "classic_bike  | 2025-06-23 09:13:34.202 | 2025-06-23 09:21:50.823 | Precita Park                 | Harrison St at 20th St   | casual\n",
       "classic_bike  | 2025-06-16 13:24:02.794 | 2025-06-16 13:34:30.657 | San Pablo Park               | San Pablo Park           | member\n",
       "electric_bike | 2025-06-04 06:47:59.506 | 2025-06-04 07:00:28.534 | Broadway at 40th St          | Bay Street Plaza         | casual\n",
       "electric_bike | 2025-06-03 17:38:46.966 | 2025-06-03 17:47:45.805 | Masonic Ave at Turk St       | Masonic Ave at Turk St   | casual\n",
       "electric_bike | 2025-06-03 21:41:02.433 | 2025-06-03 21:47:29.827 | Masonic Ave at Turk St       | Haight St at Lyon St     | casual\n",
       "electric_bike | 2025-06-15 00:26:46.204 | 2025-06-15 00:41:38.997 | Masonic Ave at Turk St       | 34th Ave at Balboa St    | member\n",
       "electric_bike | 2025-06-03 21:40:42.205 | 2025-06-03 21:48:15.143 | Masonic Ave at Turk St       | Broderick St at Oak St   | casual\n",
       "classic_bike  | 2025-06-28 16:01:15.655 | 2025-06-28 16:07:09.931 | 23rd St at San Bruno Ave     | 20th St at Bryant St     | member\n",
       "... (345730 rows omitted)"
      ]
     },
     "execution_count": 125,
     "metadata": {},
     "output_type": "execute_result"
    }
   ],
   "source": [
    "trips = trips.where('start_station_name', are.not_equal_to('nan')).where('end_station_name', are.not_equal_to('nan'))\n",
    "trips"
   ]
  },
  {
   "cell_type": "code",
   "execution_count": 126,
   "id": "f1e483cc-8f96-4851-b148-f65edcfdcfd5",
   "metadata": {
    "scrolled": true
   },
   "outputs": [
    {
     "data": {
      "text/html": [
       "<table border=\"1\" class=\"dataframe\">\n",
       "    <thead>\n",
       "        <tr>\n",
       "            <th>rideable_type</th> <th>started_at</th> <th>ended_at</th> <th>start_station_name</th> <th>end_station_name</th> <th>member_casual</th>\n",
       "        </tr>\n",
       "    </thead>\n",
       "    <tbody>\n",
       "        <tr>\n",
       "            <td>classic_bike </td> <td>2025-06-30 09:07:18.625</td> <td>2025-06-30 09:16:12.722</td> <td>62nd St at Claremont Ave    </td> <td>Telegraph Ave at 49th St</td> <td>member       </td>\n",
       "        </tr>\n",
       "        <tr>\n",
       "            <td>electric_bike</td> <td>2025-06-03 13:07:55.313</td> <td>2025-06-03 13:16:31.166</td> <td>MLK Jr Way at University Ave</td> <td>Fulton St at Ashby Ave  </td> <td>member       </td>\n",
       "        </tr>\n",
       "        <tr>\n",
       "            <td>classic_bike </td> <td>2025-06-23 09:13:34.202</td> <td>2025-06-23 09:21:50.823</td> <td>Precita Park                </td> <td>Harrison St at 20th St  </td> <td>casual       </td>\n",
       "        </tr>\n",
       "        <tr>\n",
       "            <td>classic_bike </td> <td>2025-06-16 13:24:02.794</td> <td>2025-06-16 13:34:30.657</td> <td>San Pablo Park              </td> <td>San Pablo Park          </td> <td>member       </td>\n",
       "        </tr>\n",
       "        <tr>\n",
       "            <td>electric_bike</td> <td>2025-06-04 06:47:59.506</td> <td>2025-06-04 07:00:28.534</td> <td>Broadway at 40th St         </td> <td>Bay Street Plaza        </td> <td>casual       </td>\n",
       "        </tr>\n",
       "        <tr>\n",
       "            <td>electric_bike</td> <td>2025-06-03 17:38:46.966</td> <td>2025-06-03 17:47:45.805</td> <td>Masonic Ave at Turk St      </td> <td>Masonic Ave at Turk St  </td> <td>casual       </td>\n",
       "        </tr>\n",
       "        <tr>\n",
       "            <td>electric_bike</td> <td>2025-06-03 21:41:02.433</td> <td>2025-06-03 21:47:29.827</td> <td>Masonic Ave at Turk St      </td> <td>Haight St at Lyon St    </td> <td>casual       </td>\n",
       "        </tr>\n",
       "        <tr>\n",
       "            <td>electric_bike</td> <td>2025-06-15 00:26:46.204</td> <td>2025-06-15 00:41:38.997</td> <td>Masonic Ave at Turk St      </td> <td>34th Ave at Balboa St   </td> <td>member       </td>\n",
       "        </tr>\n",
       "        <tr>\n",
       "            <td>electric_bike</td> <td>2025-06-03 21:40:42.205</td> <td>2025-06-03 21:48:15.143</td> <td>Masonic Ave at Turk St      </td> <td>Broderick St at Oak St  </td> <td>casual       </td>\n",
       "        </tr>\n",
       "        <tr>\n",
       "            <td>classic_bike </td> <td>2025-06-28 16:01:15.655</td> <td>2025-06-28 16:07:09.931</td> <td>23rd St at San Bruno Ave    </td> <td>20th St at Bryant St    </td> <td>member       </td>\n",
       "        </tr>\n",
       "    </tbody>\n",
       "</table>\n",
       "<p>... (345730 rows omitted)</p>"
      ],
      "text/plain": [
       "rideable_type | started_at              | ended_at                | start_station_name           | end_station_name         | member_casual\n",
       "classic_bike  | 2025-06-30 09:07:18.625 | 2025-06-30 09:16:12.722 | 62nd St at Claremont Ave     | Telegraph Ave at 49th St | member\n",
       "electric_bike | 2025-06-03 13:07:55.313 | 2025-06-03 13:16:31.166 | MLK Jr Way at University Ave | Fulton St at Ashby Ave   | member\n",
       "classic_bike  | 2025-06-23 09:13:34.202 | 2025-06-23 09:21:50.823 | Precita Park                 | Harrison St at 20th St   | casual\n",
       "classic_bike  | 2025-06-16 13:24:02.794 | 2025-06-16 13:34:30.657 | San Pablo Park               | San Pablo Park           | member\n",
       "electric_bike | 2025-06-04 06:47:59.506 | 2025-06-04 07:00:28.534 | Broadway at 40th St          | Bay Street Plaza         | casual\n",
       "electric_bike | 2025-06-03 17:38:46.966 | 2025-06-03 17:47:45.805 | Masonic Ave at Turk St       | Masonic Ave at Turk St   | casual\n",
       "electric_bike | 2025-06-03 21:41:02.433 | 2025-06-03 21:47:29.827 | Masonic Ave at Turk St       | Haight St at Lyon St     | casual\n",
       "electric_bike | 2025-06-15 00:26:46.204 | 2025-06-15 00:41:38.997 | Masonic Ave at Turk St       | 34th Ave at Balboa St    | member\n",
       "electric_bike | 2025-06-03 21:40:42.205 | 2025-06-03 21:48:15.143 | Masonic Ave at Turk St       | Broderick St at Oak St   | casual\n",
       "classic_bike  | 2025-06-28 16:01:15.655 | 2025-06-28 16:07:09.931 | 23rd St at San Bruno Ave     | 20th St at Bryant St     | member\n",
       "... (345730 rows omitted)"
      ]
     },
     "execution_count": 126,
     "metadata": {},
     "output_type": "execute_result"
    }
   ],
   "source": [
    "trips"
   ]
  },
  {
   "cell_type": "code",
   "execution_count": 134,
   "id": "6df53989-e384-4f37-b1b0-981b801ff548",
   "metadata": {},
   "outputs": [],
   "source": [
    "durations = (trips.column(2).astype(np.datetime64) - trips.column(1).astype(np.datetime64)).astype(np.float64) / 1000"
   ]
  },
  {
   "cell_type": "code",
   "execution_count": 136,
   "id": "d7121934-6108-4cb9-bfd9-d27e65c3b16b",
   "metadata": {},
   "outputs": [],
   "source": [
    "trips = trips.with_column('duration', durations)"
   ]
  },
  {
   "cell_type": "code",
   "execution_count": 142,
   "id": "9f43a81b-0180-4253-801c-ca27866ead07",
   "metadata": {},
   "outputs": [
    {
     "name": "stdout",
     "output_type": "stream",
     "text": [
      "('rideable_type', 'started_at', 'ended_at', 'start_station_name', 'end_station_name', 'member_casual', 'duration')\n"
     ]
    }
   ],
   "source": [
    "print(trips.labels)"
   ]
  },
  {
   "cell_type": "code",
   "execution_count": 144,
   "id": "8afbbc65-8207-4675-9550-19ff6092506c",
   "metadata": {
    "scrolled": true
   },
   "outputs": [
    {
     "data": {
      "text/html": [
       "<table border=\"1\" class=\"dataframe\">\n",
       "    <thead>\n",
       "        <tr>\n",
       "            <th>rideable_type</th> <th>started_at</th> <th>ended_at</th> <th>duration</th> <th>start_station_name</th> <th>end_station_name</th> <th>member_casual</th>\n",
       "        </tr>\n",
       "    </thead>\n",
       "    <tbody>\n",
       "        <tr>\n",
       "            <td>classic_bike </td> <td>2025-06-30 09:07:18.625</td> <td>2025-06-30 09:16:12.722</td> <td>534.097 </td> <td>62nd St at Claremont Ave    </td> <td>Telegraph Ave at 49th St</td> <td>member       </td>\n",
       "        </tr>\n",
       "        <tr>\n",
       "            <td>electric_bike</td> <td>2025-06-03 13:07:55.313</td> <td>2025-06-03 13:16:31.166</td> <td>515.853 </td> <td>MLK Jr Way at University Ave</td> <td>Fulton St at Ashby Ave  </td> <td>member       </td>\n",
       "        </tr>\n",
       "        <tr>\n",
       "            <td>classic_bike </td> <td>2025-06-23 09:13:34.202</td> <td>2025-06-23 09:21:50.823</td> <td>496.621 </td> <td>Precita Park                </td> <td>Harrison St at 20th St  </td> <td>casual       </td>\n",
       "        </tr>\n",
       "        <tr>\n",
       "            <td>classic_bike </td> <td>2025-06-16 13:24:02.794</td> <td>2025-06-16 13:34:30.657</td> <td>627.863 </td> <td>San Pablo Park              </td> <td>San Pablo Park          </td> <td>member       </td>\n",
       "        </tr>\n",
       "        <tr>\n",
       "            <td>electric_bike</td> <td>2025-06-04 06:47:59.506</td> <td>2025-06-04 07:00:28.534</td> <td>749.028 </td> <td>Broadway at 40th St         </td> <td>Bay Street Plaza        </td> <td>casual       </td>\n",
       "        </tr>\n",
       "        <tr>\n",
       "            <td>electric_bike</td> <td>2025-06-03 17:38:46.966</td> <td>2025-06-03 17:47:45.805</td> <td>538.839 </td> <td>Masonic Ave at Turk St      </td> <td>Masonic Ave at Turk St  </td> <td>casual       </td>\n",
       "        </tr>\n",
       "        <tr>\n",
       "            <td>electric_bike</td> <td>2025-06-03 21:41:02.433</td> <td>2025-06-03 21:47:29.827</td> <td>387.394 </td> <td>Masonic Ave at Turk St      </td> <td>Haight St at Lyon St    </td> <td>casual       </td>\n",
       "        </tr>\n",
       "        <tr>\n",
       "            <td>electric_bike</td> <td>2025-06-15 00:26:46.204</td> <td>2025-06-15 00:41:38.997</td> <td>892.793 </td> <td>Masonic Ave at Turk St      </td> <td>34th Ave at Balboa St   </td> <td>member       </td>\n",
       "        </tr>\n",
       "        <tr>\n",
       "            <td>electric_bike</td> <td>2025-06-03 21:40:42.205</td> <td>2025-06-03 21:48:15.143</td> <td>452.938 </td> <td>Masonic Ave at Turk St      </td> <td>Broderick St at Oak St  </td> <td>casual       </td>\n",
       "        </tr>\n",
       "        <tr>\n",
       "            <td>classic_bike </td> <td>2025-06-28 16:01:15.655</td> <td>2025-06-28 16:07:09.931</td> <td>354.276 </td> <td>23rd St at San Bruno Ave    </td> <td>20th St at Bryant St    </td> <td>member       </td>\n",
       "        </tr>\n",
       "    </tbody>\n",
       "</table>\n",
       "<p>... (345730 rows omitted)</p>"
      ],
      "text/plain": [
       "rideable_type | started_at              | ended_at                | duration | start_station_name           | end_station_name         | member_casual\n",
       "classic_bike  | 2025-06-30 09:07:18.625 | 2025-06-30 09:16:12.722 | 534.097  | 62nd St at Claremont Ave     | Telegraph Ave at 49th St | member\n",
       "electric_bike | 2025-06-03 13:07:55.313 | 2025-06-03 13:16:31.166 | 515.853  | MLK Jr Way at University Ave | Fulton St at Ashby Ave   | member\n",
       "classic_bike  | 2025-06-23 09:13:34.202 | 2025-06-23 09:21:50.823 | 496.621  | Precita Park                 | Harrison St at 20th St   | casual\n",
       "classic_bike  | 2025-06-16 13:24:02.794 | 2025-06-16 13:34:30.657 | 627.863  | San Pablo Park               | San Pablo Park           | member\n",
       "electric_bike | 2025-06-04 06:47:59.506 | 2025-06-04 07:00:28.534 | 749.028  | Broadway at 40th St          | Bay Street Plaza         | casual\n",
       "electric_bike | 2025-06-03 17:38:46.966 | 2025-06-03 17:47:45.805 | 538.839  | Masonic Ave at Turk St       | Masonic Ave at Turk St   | casual\n",
       "electric_bike | 2025-06-03 21:41:02.433 | 2025-06-03 21:47:29.827 | 387.394  | Masonic Ave at Turk St       | Haight St at Lyon St     | casual\n",
       "electric_bike | 2025-06-15 00:26:46.204 | 2025-06-15 00:41:38.997 | 892.793  | Masonic Ave at Turk St       | 34th Ave at Balboa St    | member\n",
       "electric_bike | 2025-06-03 21:40:42.205 | 2025-06-03 21:48:15.143 | 452.938  | Masonic Ave at Turk St       | Broderick St at Oak St   | casual\n",
       "classic_bike  | 2025-06-28 16:01:15.655 | 2025-06-28 16:07:09.931 | 354.276  | 23rd St at San Bruno Ave     | 20th St at Bryant St     | member\n",
       "... (345730 rows omitted)"
      ]
     },
     "execution_count": 144,
     "metadata": {},
     "output_type": "execute_result"
    }
   ],
   "source": [
    "trips = trips.select(\n",
    "    'rideable_type', 'started_at', 'ended_at', 'duration', \n",
    "    'start_station_name', 'end_station_name', 'member_casual', \n",
    ")\n",
    "trips"
   ]
  },
  {
   "cell_type": "code",
   "execution_count": 146,
   "id": "33fd8a16-3dfe-451f-a277-7488aed7597e",
   "metadata": {},
   "outputs": [],
   "source": [
    "trips.to_csv('data/trips.csv')"
   ]
  },
  {
   "cell_type": "code",
   "execution_count": null,
   "id": "5fcd03b1-23d1-46d8-a2c4-d9b1d8143cd6",
   "metadata": {},
   "outputs": [],
   "source": []
  }
 ],
 "metadata": {
  "kernelspec": {
   "display_name": "Python 3 (ipykernel)",
   "language": "python",
   "name": "python3"
  },
  "language_info": {
   "codemirror_mode": {
    "name": "ipython",
    "version": 3
   },
   "file_extension": ".py",
   "mimetype": "text/x-python",
   "name": "python",
   "nbconvert_exporter": "python",
   "pygments_lexer": "ipython3",
   "version": "3.12.5"
  }
 },
 "nbformat": 4,
 "nbformat_minor": 5
}
