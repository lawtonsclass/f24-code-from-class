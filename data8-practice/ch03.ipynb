{
 "cells": [
  {
   "cell_type": "code",
   "execution_count": 1,
   "id": "a2447f10-af71-4e45-9866-65994c9304c6",
   "metadata": {},
   "outputs": [
    {
     "data": {
      "text/plain": [
       "8"
      ]
     },
     "execution_count": 1,
     "metadata": {},
     "output_type": "execute_result"
    }
   ],
   "source": [
    "4 * 2"
   ]
  },
  {
   "cell_type": "code",
   "execution_count": 2,
   "id": "f8d345b1-def1-4e10-ab17-29a843e21735",
   "metadata": {},
   "outputs": [
    {
     "ename": "SyntaxError",
     "evalue": "invalid syntax (3917798244.py, line 1)",
     "output_type": "error",
     "traceback": [
      "\u001b[1;36m  Cell \u001b[1;32mIn[2], line 1\u001b[1;36m\u001b[0m\n\u001b[1;33m    4 * * 2\u001b[0m\n\u001b[1;37m        ^\u001b[0m\n\u001b[1;31mSyntaxError\u001b[0m\u001b[1;31m:\u001b[0m invalid syntax\n"
     ]
    }
   ],
   "source": [
    "4 * * 2"
   ]
  },
  {
   "cell_type": "code",
   "execution_count": 3,
   "id": "b327a7f5-be9b-4399-af91-c3500f25a118",
   "metadata": {},
   "outputs": [
    {
     "data": {
      "text/plain": [
       "16"
      ]
     },
     "execution_count": 3,
     "metadata": {},
     "output_type": "execute_result"
    }
   ],
   "source": [
    "4 ** 2"
   ]
  },
  {
   "cell_type": "code",
   "execution_count": 25,
   "id": "2a2eb1b7-bfa6-413d-804c-b4c17410af8c",
   "metadata": {},
   "outputs": [
    {
     "data": {
      "text/plain": [
       "4"
      ]
     },
     "execution_count": 25,
     "metadata": {},
     "output_type": "execute_result"
    }
   ],
   "source": [
    "# this is a comment--it's just a note for the programmer\n",
    "# it's not code\n",
    "2 + 2"
   ]
  },
  {
   "cell_type": "code",
   "execution_count": 4,
   "id": "0d7697a5-bf26-467f-9f1f-52ef2d26eb88",
   "metadata": {},
   "outputs": [
    {
     "data": {
      "text/plain": [
       "85"
      ]
     },
     "execution_count": 4,
     "metadata": {},
     "output_type": "execute_result"
    }
   ],
   "source": [
    "x = 42\n",
    "y = 43\n",
    "x + y"
   ]
  },
  {
   "cell_type": "code",
   "execution_count": 6,
   "id": "aeff59ae-e76d-4f93-84c2-69b432132d35",
   "metadata": {},
   "outputs": [
    {
     "data": {
      "text/plain": [
       "10.864125"
      ]
     },
     "execution_count": 6,
     "metadata": {},
     "output_type": "execute_result"
    }
   ],
   "source": [
    "subtotal = 9.99\n",
    "tax = 0.0875 * subtotal\n",
    "subtotal + tax"
   ]
  },
  {
   "cell_type": "code",
   "execution_count": 9,
   "id": "c94f8770-1239-444b-a20e-4163615f1aa9",
   "metadata": {},
   "outputs": [
    {
     "data": {
      "text/plain": [
       "3"
      ]
     },
     "execution_count": 9,
     "metadata": {},
     "output_type": "execute_result"
    }
   ],
   "source": [
    "max(2, 3)"
   ]
  },
  {
   "cell_type": "code",
   "execution_count": 7,
   "id": "faf7e3ae-3789-480f-8f59-ae25deee8f41",
   "metadata": {},
   "outputs": [
    {
     "data": {
      "text/plain": [
       "10.86"
      ]
     },
     "execution_count": 7,
     "metadata": {},
     "output_type": "execute_result"
    }
   ],
   "source": [
    "round(subtotal + tax, 2)"
   ]
  },
  {
   "cell_type": "code",
   "execution_count": 8,
   "id": "5847d567-582f-47c2-a805-a1ab804dbc14",
   "metadata": {},
   "outputs": [
    {
     "data": {
      "text/plain": [
       "42"
      ]
     },
     "execution_count": 8,
     "metadata": {},
     "output_type": "execute_result"
    }
   ],
   "source": [
    "abs(-42)"
   ]
  },
  {
   "cell_type": "code",
   "execution_count": 1,
   "id": "66406a4d-c71a-480e-9461-f0ac3f312af2",
   "metadata": {},
   "outputs": [],
   "source": [
    "# question: find the max of 2, 4, and 1. max can take as many arguments as you want to give it. But you can also call max twice!"
   ]
  },
  {
   "cell_type": "code",
   "execution_count": 10,
   "id": "367f0c8d-1e82-43f1-89bf-dad998165329",
   "metadata": {},
   "outputs": [
    {
     "data": {
      "text/plain": [
       "4"
      ]
     },
     "execution_count": 10,
     "metadata": {},
     "output_type": "execute_result"
    }
   ],
   "source": [
    "max(2, 4, 1)"
   ]
  },
  {
   "cell_type": "code",
   "execution_count": 11,
   "id": "a581cf0f-ee4e-460e-806b-c820616cbc6c",
   "metadata": {},
   "outputs": [
    {
     "data": {
      "text/plain": [
       "1.4142135623730951"
      ]
     },
     "execution_count": 11,
     "metadata": {},
     "output_type": "execute_result"
    }
   ],
   "source": [
    "import math\n",
    "math.sqrt(2)"
   ]
  },
  {
   "cell_type": "code",
   "execution_count": 12,
   "id": "23fcb4a1-466c-49c2-bd2d-f42e7731d9d9",
   "metadata": {},
   "outputs": [
    {
     "data": {
      "text/plain": [
       "\u001b[1;31mDocstring:\u001b[0m\n",
       "log(x, [base=math.e])\n",
       "Return the logarithm of x to the given base.\n",
       "\n",
       "If the base is not specified, returns the natural logarithm (base e) of x.\n",
       "\u001b[1;31mType:\u001b[0m      builtin_function_or_method"
      ]
     },
     "metadata": {},
     "output_type": "display_data"
    }
   ],
   "source": [
    "math.log?"
   ]
  },
  {
   "cell_type": "code",
   "execution_count": 13,
   "id": "86fbb5fd-47c4-4f11-a0de-ef357fdaa0bd",
   "metadata": {},
   "outputs": [
    {
     "data": {
      "text/plain": [
       "1.4142135623730951"
      ]
     },
     "execution_count": 13,
     "metadata": {},
     "output_type": "execute_result"
    }
   ],
   "source": [
    "from math import sqrt\n",
    "sqrt(2)"
   ]
  },
  {
   "cell_type": "code",
   "execution_count": 14,
   "id": "fdc40d92-bd73-4876-bfd8-b4db9bab4634",
   "metadata": {},
   "outputs": [],
   "source": [
    "from datascience import *"
   ]
  },
  {
   "cell_type": "code",
   "execution_count": 18,
   "id": "4f1d9b56-6e2c-49ba-ac71-e6088cf48cb9",
   "metadata": {},
   "outputs": [
    {
     "data": {
      "text/plain": [
       "\u001b[1;31mSignature:\u001b[0m \u001b[0mTable\u001b[0m\u001b[1;33m.\u001b[0m\u001b[0mread_table\u001b[0m\u001b[1;33m(\u001b[0m\u001b[0mfilepath_or_buffer\u001b[0m\u001b[1;33m,\u001b[0m \u001b[1;33m*\u001b[0m\u001b[0margs\u001b[0m\u001b[1;33m,\u001b[0m \u001b[1;33m**\u001b[0m\u001b[0mvargs\u001b[0m\u001b[1;33m)\u001b[0m\u001b[1;33m\u001b[0m\u001b[1;33m\u001b[0m\u001b[0m\n",
       "\u001b[1;31mDocstring:\u001b[0m\n",
       "Read a table from a file or web address.\n",
       "\n",
       "Args:\n",
       "    filepath_or_buffer -- string or file handle / StringIO; The string\n",
       "                      could be a URL. Valid URL schemes include http,\n",
       "                      ftp, s3, and file.\n",
       "\n",
       "Returns:\n",
       "    a table read from argument\n",
       "                      \n",
       "Example:\n",
       "\n",
       ">>> Table.read_table('https://www.inferentialthinking.com/data/sat2014.csv')\n",
       "State        | Participation Rate | Critical Reading | Math | Writing | Combined\n",
       "North Dakota | 2.3                | 612              | 620  | 584     | 1816\n",
       "Illinois     | 4.6                | 599              | 616  | 587     | 1802\n",
       "Iowa         | 3.1                | 605              | 611  | 578     | 1794\n",
       "South Dakota | 2.9                | 604              | 609  | 579     | 1792\n",
       "Minnesota    | 5.9                | 598              | 610  | 578     | 1786\n",
       "Michigan     | 3.8                | 593              | 610  | 581     | 1784\n",
       "Wisconsin    | 3.9                | 596              | 608  | 578     | 1782\n",
       "Missouri     | 4.2                | 595              | 597  | 579     | 1771\n",
       "Wyoming      | 3.3                | 590              | 599  | 573     | 1762\n",
       "Kansas       | 5.3                | 591              | 596  | 566     | 1753\n",
       "... (41 rows omitted)\n",
       "        \n",
       "\u001b[1;31mFile:\u001b[0m      \\\\?\\c:\\users\\lawto\\appdata\\roaming\\jupyterlab-desktop\\jlab_server\\lib\\site-packages\\datascience\\tables.py\n",
       "\u001b[1;31mType:\u001b[0m      method"
      ]
     },
     "metadata": {},
     "output_type": "display_data"
    }
   ],
   "source": [
    "Table.read_table?"
   ]
  },
  {
   "cell_type": "code",
   "execution_count": 19,
   "id": "9426b3ce-1a9c-42b9-8634-f61402cfd45d",
   "metadata": {},
   "outputs": [
    {
     "data": {
      "text/html": [
       "<table border=\"1\" class=\"dataframe\">\n",
       "    <thead>\n",
       "        <tr>\n",
       "            <th>Flavor</th> <th>Color</th> <th>Price</th>\n",
       "        </tr>\n",
       "    </thead>\n",
       "    <tbody>\n",
       "        <tr>\n",
       "            <td>strawberry</td> <td>pink       </td> <td>3.55 </td>\n",
       "        </tr>\n",
       "        <tr>\n",
       "            <td>chocolate </td> <td>light brown</td> <td>4.75 </td>\n",
       "        </tr>\n",
       "        <tr>\n",
       "            <td>chocolate </td> <td>dark brown </td> <td>5.25 </td>\n",
       "        </tr>\n",
       "        <tr>\n",
       "            <td>vanilla   </td> <td>white      </td> <td>3.5  </td>\n",
       "        </tr>\n",
       "        <tr>\n",
       "            <td>strawberry</td> <td>pink       </td> <td>5.25 </td>\n",
       "        </tr>\n",
       "        <tr>\n",
       "            <td>chocolate </td> <td>dark brown </td> <td>5.25 </td>\n",
       "        </tr>\n",
       "        <tr>\n",
       "            <td>bubblegum </td> <td>pink       </td> <td>4.75 </td>\n",
       "        </tr>\n",
       "    </tbody>\n",
       "</table>"
      ],
      "text/plain": [
       "Flavor     | Color       | Price\n",
       "strawberry | pink        | 3.55\n",
       "chocolate  | light brown | 4.75\n",
       "chocolate  | dark brown  | 5.25\n",
       "vanilla    | white       | 3.5\n",
       "strawberry | pink        | 5.25\n",
       "chocolate  | dark brown  | 5.25\n",
       "bubblegum  | pink        | 4.75"
      ]
     },
     "execution_count": 19,
     "metadata": {},
     "output_type": "execute_result"
    }
   ],
   "source": [
    "cones = Table.read_table('data/cones.csv')\n",
    "cones"
   ]
  },
  {
   "cell_type": "code",
   "execution_count": 20,
   "id": "8b75ada5-7ecb-4a17-9a55-3f080079929e",
   "metadata": {},
   "outputs": [
    {
     "data": {
      "text/html": [
       "<table border=\"1\" class=\"dataframe\">\n",
       "    <thead>\n",
       "        <tr>\n",
       "            <th>Flavor</th> <th>Color</th> <th>Price</th>\n",
       "        </tr>\n",
       "    </thead>\n",
       "    <tbody>\n",
       "        <tr>\n",
       "            <td>strawberry</td> <td>pink       </td> <td>3.55 </td>\n",
       "        </tr>\n",
       "        <tr>\n",
       "            <td>chocolate </td> <td>light brown</td> <td>4.75 </td>\n",
       "        </tr>\n",
       "    </tbody>\n",
       "</table>\n",
       "<p>... (5 rows omitted)</p>"
      ],
      "text/plain": [
       "<IPython.core.display.HTML object>"
      ]
     },
     "metadata": {},
     "output_type": "display_data"
    }
   ],
   "source": [
    "cones.show(2)"
   ]
  },
  {
   "cell_type": "code",
   "execution_count": 21,
   "id": "2482112c-0f4b-456c-9147-d1f526c7c1ff",
   "metadata": {},
   "outputs": [
    {
     "data": {
      "text/html": [
       "<table border=\"1\" class=\"dataframe\">\n",
       "    <thead>\n",
       "        <tr>\n",
       "            <th>Flavor</th> <th>Color</th> <th>Price</th>\n",
       "        </tr>\n",
       "    </thead>\n",
       "    <tbody>\n",
       "        <tr>\n",
       "            <td>strawberry</td> <td>pink       </td> <td>3.55 </td>\n",
       "        </tr>\n",
       "        <tr>\n",
       "            <td>chocolate </td> <td>light brown</td> <td>4.75 </td>\n",
       "        </tr>\n",
       "        <tr>\n",
       "            <td>chocolate </td> <td>dark brown </td> <td>5.25 </td>\n",
       "        </tr>\n",
       "        <tr>\n",
       "            <td>vanilla   </td> <td>white      </td> <td>3.5  </td>\n",
       "        </tr>\n",
       "        <tr>\n",
       "            <td>strawberry</td> <td>pink       </td> <td>5.25 </td>\n",
       "        </tr>\n",
       "        <tr>\n",
       "            <td>chocolate </td> <td>dark brown </td> <td>5.25 </td>\n",
       "        </tr>\n",
       "        <tr>\n",
       "            <td>bubblegum </td> <td>pink       </td> <td>4.75 </td>\n",
       "        </tr>\n",
       "    </tbody>\n",
       "</table>"
      ],
      "text/plain": [
       "<IPython.core.display.HTML object>"
      ]
     },
     "metadata": {},
     "output_type": "display_data"
    }
   ],
   "source": [
    "cones.show()"
   ]
  },
  {
   "cell_type": "code",
   "execution_count": 22,
   "id": "12516643-5c78-4102-a294-9c28ca2e638a",
   "metadata": {},
   "outputs": [
    {
     "data": {
      "text/html": [
       "<table border=\"1\" class=\"dataframe\">\n",
       "    <thead>\n",
       "        <tr>\n",
       "            <th>Flavor</th>\n",
       "        </tr>\n",
       "    </thead>\n",
       "    <tbody>\n",
       "        <tr>\n",
       "            <td>strawberry</td>\n",
       "        </tr>\n",
       "        <tr>\n",
       "            <td>chocolate </td>\n",
       "        </tr>\n",
       "        <tr>\n",
       "            <td>chocolate </td>\n",
       "        </tr>\n",
       "        <tr>\n",
       "            <td>vanilla   </td>\n",
       "        </tr>\n",
       "        <tr>\n",
       "            <td>strawberry</td>\n",
       "        </tr>\n",
       "        <tr>\n",
       "            <td>chocolate </td>\n",
       "        </tr>\n",
       "        <tr>\n",
       "            <td>bubblegum </td>\n",
       "        </tr>\n",
       "    </tbody>\n",
       "</table>"
      ],
      "text/plain": [
       "Flavor\n",
       "strawberry\n",
       "chocolate\n",
       "chocolate\n",
       "vanilla\n",
       "strawberry\n",
       "chocolate\n",
       "bubblegum"
      ]
     },
     "execution_count": 22,
     "metadata": {},
     "output_type": "execute_result"
    }
   ],
   "source": [
    "cones.select('Flavor')"
   ]
  },
  {
   "cell_type": "code",
   "execution_count": 24,
   "id": "c754362c-c749-4faf-988c-1a6fe9a8c208",
   "metadata": {},
   "outputs": [
    {
     "data": {
      "text/html": [
       "<table border=\"1\" class=\"dataframe\">\n",
       "    <thead>\n",
       "        <tr>\n",
       "            <th>Flavor</th> <th>Color</th> <th>Price</th>\n",
       "        </tr>\n",
       "    </thead>\n",
       "    <tbody>\n",
       "        <tr>\n",
       "            <td>strawberry</td> <td>pink       </td> <td>3.55 </td>\n",
       "        </tr>\n",
       "        <tr>\n",
       "            <td>chocolate </td> <td>light brown</td> <td>4.75 </td>\n",
       "        </tr>\n",
       "        <tr>\n",
       "            <td>chocolate </td> <td>dark brown </td> <td>5.25 </td>\n",
       "        </tr>\n",
       "        <tr>\n",
       "            <td>vanilla   </td> <td>white      </td> <td>3.5  </td>\n",
       "        </tr>\n",
       "        <tr>\n",
       "            <td>strawberry</td> <td>pink       </td> <td>5.25 </td>\n",
       "        </tr>\n",
       "        <tr>\n",
       "            <td>chocolate </td> <td>dark brown </td> <td>5.25 </td>\n",
       "        </tr>\n",
       "        <tr>\n",
       "            <td>bubblegum </td> <td>pink       </td> <td>4.75 </td>\n",
       "        </tr>\n",
       "    </tbody>\n",
       "</table>"
      ],
      "text/plain": [
       "Flavor     | Color       | Price\n",
       "strawberry | pink        | 3.55\n",
       "chocolate  | light brown | 4.75\n",
       "chocolate  | dark brown  | 5.25\n",
       "vanilla    | white       | 3.5\n",
       "strawberry | pink        | 5.25\n",
       "chocolate  | dark brown  | 5.25\n",
       "bubblegum  | pink        | 4.75"
      ]
     },
     "execution_count": 24,
     "metadata": {},
     "output_type": "execute_result"
    }
   ],
   "source": [
    "cones # hasn't changed"
   ]
  },
  {
   "cell_type": "code",
   "execution_count": 23,
   "id": "e07c87c4-c396-4421-8bfe-e1cc554b8a25",
   "metadata": {},
   "outputs": [
    {
     "data": {
      "text/html": [
       "<table border=\"1\" class=\"dataframe\">\n",
       "    <thead>\n",
       "        <tr>\n",
       "            <th>Flavor</th> <th>Price</th>\n",
       "        </tr>\n",
       "    </thead>\n",
       "    <tbody>\n",
       "        <tr>\n",
       "            <td>strawberry</td> <td>3.55 </td>\n",
       "        </tr>\n",
       "        <tr>\n",
       "            <td>chocolate </td> <td>4.75 </td>\n",
       "        </tr>\n",
       "        <tr>\n",
       "            <td>chocolate </td> <td>5.25 </td>\n",
       "        </tr>\n",
       "        <tr>\n",
       "            <td>vanilla   </td> <td>3.5  </td>\n",
       "        </tr>\n",
       "        <tr>\n",
       "            <td>strawberry</td> <td>5.25 </td>\n",
       "        </tr>\n",
       "        <tr>\n",
       "            <td>chocolate </td> <td>5.25 </td>\n",
       "        </tr>\n",
       "        <tr>\n",
       "            <td>bubblegum </td> <td>4.75 </td>\n",
       "        </tr>\n",
       "    </tbody>\n",
       "</table>"
      ],
      "text/plain": [
       "Flavor     | Price\n",
       "strawberry | 3.55\n",
       "chocolate  | 4.75\n",
       "chocolate  | 5.25\n",
       "vanilla    | 3.5\n",
       "strawberry | 5.25\n",
       "chocolate  | 5.25\n",
       "bubblegum  | 4.75"
      ]
     },
     "execution_count": 23,
     "metadata": {},
     "output_type": "execute_result"
    }
   ],
   "source": [
    "cones.select('Flavor', 'Price')"
   ]
  },
  {
   "cell_type": "code",
   "execution_count": 26,
   "id": "73264b5d-8368-43d1-a4db-1a8ea791ce57",
   "metadata": {},
   "outputs": [
    {
     "data": {
      "text/html": [
       "<table border=\"1\" class=\"dataframe\">\n",
       "    <thead>\n",
       "        <tr>\n",
       "            <th>Flavor</th> <th>Price</th>\n",
       "        </tr>\n",
       "    </thead>\n",
       "    <tbody>\n",
       "        <tr>\n",
       "            <td>strawberry</td> <td>3.55 </td>\n",
       "        </tr>\n",
       "        <tr>\n",
       "            <td>chocolate </td> <td>4.75 </td>\n",
       "        </tr>\n",
       "        <tr>\n",
       "            <td>chocolate </td> <td>5.25 </td>\n",
       "        </tr>\n",
       "        <tr>\n",
       "            <td>vanilla   </td> <td>3.5  </td>\n",
       "        </tr>\n",
       "        <tr>\n",
       "            <td>strawberry</td> <td>5.25 </td>\n",
       "        </tr>\n",
       "        <tr>\n",
       "            <td>chocolate </td> <td>5.25 </td>\n",
       "        </tr>\n",
       "        <tr>\n",
       "            <td>bubblegum </td> <td>4.75 </td>\n",
       "        </tr>\n",
       "    </tbody>\n",
       "</table>"
      ],
      "text/plain": [
       "Flavor     | Price\n",
       "strawberry | 3.55\n",
       "chocolate  | 4.75\n",
       "chocolate  | 5.25\n",
       "vanilla    | 3.5\n",
       "strawberry | 5.25\n",
       "chocolate  | 5.25\n",
       "bubblegum  | 4.75"
      ]
     },
     "execution_count": 26,
     "metadata": {},
     "output_type": "execute_result"
    }
   ],
   "source": [
    "cones.drop('Color')"
   ]
  },
  {
   "cell_type": "code",
   "execution_count": 27,
   "id": "fc49151f-336a-47b5-86e5-25913c9c09b4",
   "metadata": {},
   "outputs": [
    {
     "data": {
      "text/html": [
       "<table border=\"1\" class=\"dataframe\">\n",
       "    <thead>\n",
       "        <tr>\n",
       "            <th>Flavor</th> <th>Color</th>\n",
       "        </tr>\n",
       "    </thead>\n",
       "    <tbody>\n",
       "        <tr>\n",
       "            <td>strawberry</td> <td>pink       </td>\n",
       "        </tr>\n",
       "        <tr>\n",
       "            <td>chocolate </td> <td>light brown</td>\n",
       "        </tr>\n",
       "        <tr>\n",
       "            <td>chocolate </td> <td>dark brown </td>\n",
       "        </tr>\n",
       "        <tr>\n",
       "            <td>vanilla   </td> <td>white      </td>\n",
       "        </tr>\n",
       "        <tr>\n",
       "            <td>strawberry</td> <td>pink       </td>\n",
       "        </tr>\n",
       "        <tr>\n",
       "            <td>chocolate </td> <td>dark brown </td>\n",
       "        </tr>\n",
       "        <tr>\n",
       "            <td>bubblegum </td> <td>pink       </td>\n",
       "        </tr>\n",
       "    </tbody>\n",
       "</table>"
      ],
      "text/plain": [
       "Flavor     | Color\n",
       "strawberry | pink\n",
       "chocolate  | light brown\n",
       "chocolate  | dark brown\n",
       "vanilla    | white\n",
       "strawberry | pink\n",
       "chocolate  | dark brown\n",
       "bubblegum  | pink"
      ]
     },
     "execution_count": 27,
     "metadata": {},
     "output_type": "execute_result"
    }
   ],
   "source": [
    "cones_no_price = cones.drop('Price')\n",
    "cones_no_price"
   ]
  },
  {
   "cell_type": "code",
   "execution_count": 28,
   "id": "109c0b2a-66b4-4022-9e99-ceee32e9b984",
   "metadata": {},
   "outputs": [
    {
     "data": {
      "text/html": [
       "<table border=\"1\" class=\"dataframe\">\n",
       "    <thead>\n",
       "        <tr>\n",
       "            <th>Flavor</th> <th>Color</th> <th>Price</th>\n",
       "        </tr>\n",
       "    </thead>\n",
       "    <tbody>\n",
       "        <tr>\n",
       "            <td>vanilla   </td> <td>white      </td> <td>3.5  </td>\n",
       "        </tr>\n",
       "        <tr>\n",
       "            <td>strawberry</td> <td>pink       </td> <td>3.55 </td>\n",
       "        </tr>\n",
       "        <tr>\n",
       "            <td>chocolate </td> <td>light brown</td> <td>4.75 </td>\n",
       "        </tr>\n",
       "        <tr>\n",
       "            <td>bubblegum </td> <td>pink       </td> <td>4.75 </td>\n",
       "        </tr>\n",
       "        <tr>\n",
       "            <td>chocolate </td> <td>dark brown </td> <td>5.25 </td>\n",
       "        </tr>\n",
       "        <tr>\n",
       "            <td>strawberry</td> <td>pink       </td> <td>5.25 </td>\n",
       "        </tr>\n",
       "        <tr>\n",
       "            <td>chocolate </td> <td>dark brown </td> <td>5.25 </td>\n",
       "        </tr>\n",
       "    </tbody>\n",
       "</table>"
      ],
      "text/plain": [
       "Flavor     | Color       | Price\n",
       "vanilla    | white       | 3.5\n",
       "strawberry | pink        | 3.55\n",
       "chocolate  | light brown | 4.75\n",
       "bubblegum  | pink        | 4.75\n",
       "chocolate  | dark brown  | 5.25\n",
       "strawberry | pink        | 5.25\n",
       "chocolate  | dark brown  | 5.25"
      ]
     },
     "execution_count": 28,
     "metadata": {},
     "output_type": "execute_result"
    }
   ],
   "source": [
    "cones.sort('Price')"
   ]
  },
  {
   "cell_type": "code",
   "execution_count": 29,
   "id": "af86de59-8af8-4980-8232-e2f181356b74",
   "metadata": {},
   "outputs": [
    {
     "data": {
      "text/html": [
       "<table border=\"1\" class=\"dataframe\">\n",
       "    <thead>\n",
       "        <tr>\n",
       "            <th>Flavor</th> <th>Color</th> <th>Price</th>\n",
       "        </tr>\n",
       "    </thead>\n",
       "    <tbody>\n",
       "        <tr>\n",
       "            <td>chocolate </td> <td>dark brown </td> <td>5.25 </td>\n",
       "        </tr>\n",
       "        <tr>\n",
       "            <td>strawberry</td> <td>pink       </td> <td>5.25 </td>\n",
       "        </tr>\n",
       "        <tr>\n",
       "            <td>chocolate </td> <td>dark brown </td> <td>5.25 </td>\n",
       "        </tr>\n",
       "        <tr>\n",
       "            <td>chocolate </td> <td>light brown</td> <td>4.75 </td>\n",
       "        </tr>\n",
       "        <tr>\n",
       "            <td>bubblegum </td> <td>pink       </td> <td>4.75 </td>\n",
       "        </tr>\n",
       "        <tr>\n",
       "            <td>strawberry</td> <td>pink       </td> <td>3.55 </td>\n",
       "        </tr>\n",
       "        <tr>\n",
       "            <td>vanilla   </td> <td>white      </td> <td>3.5  </td>\n",
       "        </tr>\n",
       "    </tbody>\n",
       "</table>"
      ],
      "text/plain": [
       "Flavor     | Color       | Price\n",
       "chocolate  | dark brown  | 5.25\n",
       "strawberry | pink        | 5.25\n",
       "chocolate  | dark brown  | 5.25\n",
       "chocolate  | light brown | 4.75\n",
       "bubblegum  | pink        | 4.75\n",
       "strawberry | pink        | 3.55\n",
       "vanilla    | white       | 3.5"
      ]
     },
     "execution_count": 29,
     "metadata": {},
     "output_type": "execute_result"
    }
   ],
   "source": [
    "cones.sort('Price', descending=True)"
   ]
  },
  {
   "cell_type": "code",
   "execution_count": 30,
   "id": "50668470-16e2-4f76-b3f8-6a0d4720f0ba",
   "metadata": {},
   "outputs": [
    {
     "data": {
      "text/html": [
       "<table border=\"1\" class=\"dataframe\">\n",
       "    <thead>\n",
       "        <tr>\n",
       "            <th>Flavor</th> <th>Color</th> <th>Price</th>\n",
       "        </tr>\n",
       "    </thead>\n",
       "    <tbody>\n",
       "        <tr>\n",
       "            <td>chocolate</td> <td>light brown</td> <td>4.75 </td>\n",
       "        </tr>\n",
       "        <tr>\n",
       "            <td>chocolate</td> <td>dark brown </td> <td>5.25 </td>\n",
       "        </tr>\n",
       "        <tr>\n",
       "            <td>chocolate</td> <td>dark brown </td> <td>5.25 </td>\n",
       "        </tr>\n",
       "    </tbody>\n",
       "</table>"
      ],
      "text/plain": [
       "Flavor    | Color       | Price\n",
       "chocolate | light brown | 4.75\n",
       "chocolate | dark brown  | 5.25\n",
       "chocolate | dark brown  | 5.25"
      ]
     },
     "execution_count": 30,
     "metadata": {},
     "output_type": "execute_result"
    }
   ],
   "source": [
    "cones.where('Flavor', 'chocolate')"
   ]
  },
  {
   "cell_type": "markdown",
   "id": "56cf9b01-5675-4a73-9eed-ab7676c738bc",
   "metadata": {},
   "source": [
    "---"
   ]
  },
  {
   "cell_type": "code",
   "execution_count": 32,
   "id": "1ce2f72e-9616-4c03-8d82-f75cd32ce6e7",
   "metadata": {},
   "outputs": [
    {
     "data": {
      "text/html": [
       "<table border=\"1\" class=\"dataframe\">\n",
       "    <thead>\n",
       "        <tr>\n",
       "            <th>abilities</th> <th>against_bug</th> <th>against_dark</th> <th>against_dragon</th> <th>against_electric</th> <th>against_fairy</th> <th>against_fight</th> <th>against_fire</th> <th>against_flying</th> <th>against_ghost</th> <th>against_grass</th> <th>against_ground</th> <th>against_ice</th> <th>against_normal</th> <th>against_poison</th> <th>against_psychic</th> <th>against_rock</th> <th>against_steel</th> <th>against_water</th> <th>attack</th> <th>base_egg_steps</th> <th>base_happiness</th> <th>base_total</th> <th>capture_rate</th> <th>classfication</th> <th>defense</th> <th>experience_growth</th> <th>height_m</th> <th>hp</th> <th>japanese_name</th> <th>name</th> <th>percentage_male</th> <th>pokedex_number</th> <th>sp_attack</th> <th>sp_defense</th> <th>speed</th> <th>type1</th> <th>type2</th> <th>weight_kg</th> <th>generation</th> <th>is_legendary</th>\n",
       "        </tr>\n",
       "    </thead>\n",
       "    <tbody>\n",
       "        <tr>\n",
       "            <td>['Overgrow', 'Chlorophyll']</td> <td>1          </td> <td>1           </td> <td>1             </td> <td>0.5             </td> <td>0.5          </td> <td>0.5          </td> <td>2           </td> <td>2             </td> <td>1            </td> <td>0.25         </td> <td>1             </td> <td>2          </td> <td>1             </td> <td>1             </td> <td>2              </td> <td>1           </td> <td>1            </td> <td>0.5          </td> <td>49    </td> <td>5120          </td> <td>70            </td> <td>318       </td> <td>45          </td> <td>Seed Pokémon       </td> <td>49     </td> <td>1059860          </td> <td>0.7     </td> <td>45  </td> <td>Fushigidaneフシギダネ</td> <td>Bulbasaur </td> <td>88.1           </td> <td>1             </td> <td>65       </td> <td>65        </td> <td>45   </td> <td>grass</td> <td>poison</td> <td>6.9      </td> <td>1         </td> <td>0           </td>\n",
       "        </tr>\n",
       "        <tr>\n",
       "            <td>['Overgrow', 'Chlorophyll']</td> <td>1          </td> <td>1           </td> <td>1             </td> <td>0.5             </td> <td>0.5          </td> <td>0.5          </td> <td>2           </td> <td>2             </td> <td>1            </td> <td>0.25         </td> <td>1             </td> <td>2          </td> <td>1             </td> <td>1             </td> <td>2              </td> <td>1           </td> <td>1            </td> <td>0.5          </td> <td>62    </td> <td>5120          </td> <td>70            </td> <td>405       </td> <td>45          </td> <td>Seed Pokémon       </td> <td>63     </td> <td>1059860          </td> <td>1       </td> <td>60  </td> <td>Fushigisouフシギソウ </td> <td>Ivysaur   </td> <td>88.1           </td> <td>2             </td> <td>80       </td> <td>80        </td> <td>60   </td> <td>grass</td> <td>poison</td> <td>13       </td> <td>1         </td> <td>0           </td>\n",
       "        </tr>\n",
       "        <tr>\n",
       "            <td>['Overgrow', 'Chlorophyll']</td> <td>1          </td> <td>1           </td> <td>1             </td> <td>0.5             </td> <td>0.5          </td> <td>0.5          </td> <td>2           </td> <td>2             </td> <td>1            </td> <td>0.25         </td> <td>1             </td> <td>2          </td> <td>1             </td> <td>1             </td> <td>2              </td> <td>1           </td> <td>1            </td> <td>0.5          </td> <td>100   </td> <td>5120          </td> <td>70            </td> <td>625       </td> <td>45          </td> <td>Seed Pokémon       </td> <td>123    </td> <td>1059860          </td> <td>2       </td> <td>80  </td> <td>Fushigibanaフシギバナ</td> <td>Venusaur  </td> <td>88.1           </td> <td>3             </td> <td>122      </td> <td>120       </td> <td>80   </td> <td>grass</td> <td>poison</td> <td>100      </td> <td>1         </td> <td>0           </td>\n",
       "        </tr>\n",
       "        <tr>\n",
       "            <td>['Blaze', 'Solar Power']   </td> <td>0.5        </td> <td>1           </td> <td>1             </td> <td>1               </td> <td>0.5          </td> <td>1            </td> <td>0.5         </td> <td>1             </td> <td>1            </td> <td>0.5          </td> <td>2             </td> <td>0.5        </td> <td>1             </td> <td>1             </td> <td>1              </td> <td>2           </td> <td>0.5          </td> <td>2            </td> <td>52    </td> <td>5120          </td> <td>70            </td> <td>309       </td> <td>45          </td> <td>Lizard Pokémon     </td> <td>43     </td> <td>1059860          </td> <td>0.6     </td> <td>39  </td> <td>Hitokageヒトカゲ    </td> <td>Charmander</td> <td>88.1           </td> <td>4             </td> <td>60       </td> <td>50        </td> <td>65   </td> <td>fire </td> <td>nan   </td> <td>8.5      </td> <td>1         </td> <td>0           </td>\n",
       "        </tr>\n",
       "        <tr>\n",
       "            <td>['Blaze', 'Solar Power']   </td> <td>0.5        </td> <td>1           </td> <td>1             </td> <td>1               </td> <td>0.5          </td> <td>1            </td> <td>0.5         </td> <td>1             </td> <td>1            </td> <td>0.5          </td> <td>2             </td> <td>0.5        </td> <td>1             </td> <td>1             </td> <td>1              </td> <td>2           </td> <td>0.5          </td> <td>2            </td> <td>64    </td> <td>5120          </td> <td>70            </td> <td>405       </td> <td>45          </td> <td>Flame Pokémon      </td> <td>58     </td> <td>1059860          </td> <td>1.1     </td> <td>58  </td> <td>Lizardoリザード     </td> <td>Charmeleon</td> <td>88.1           </td> <td>5             </td> <td>80       </td> <td>65        </td> <td>80   </td> <td>fire </td> <td>nan   </td> <td>19       </td> <td>1         </td> <td>0           </td>\n",
       "        </tr>\n",
       "        <tr>\n",
       "            <td>['Blaze', 'Solar Power']   </td> <td>0.25       </td> <td>1           </td> <td>1             </td> <td>2               </td> <td>0.5          </td> <td>0.5          </td> <td>0.5         </td> <td>1             </td> <td>1            </td> <td>0.25         </td> <td>0             </td> <td>1          </td> <td>1             </td> <td>1             </td> <td>1              </td> <td>4           </td> <td>0.5          </td> <td>2            </td> <td>104   </td> <td>5120          </td> <td>70            </td> <td>634       </td> <td>45          </td> <td>Flame Pokémon      </td> <td>78     </td> <td>1059860          </td> <td>1.7     </td> <td>78  </td> <td>Lizardonリザードン   </td> <td>Charizard </td> <td>88.1           </td> <td>6             </td> <td>159      </td> <td>115       </td> <td>100  </td> <td>fire </td> <td>flying</td> <td>90.5     </td> <td>1         </td> <td>0           </td>\n",
       "        </tr>\n",
       "        <tr>\n",
       "            <td>['Torrent', 'Rain Dish']   </td> <td>1          </td> <td>1           </td> <td>1             </td> <td>2               </td> <td>1            </td> <td>1            </td> <td>0.5         </td> <td>1             </td> <td>1            </td> <td>2            </td> <td>1             </td> <td>0.5        </td> <td>1             </td> <td>1             </td> <td>1              </td> <td>1           </td> <td>0.5          </td> <td>0.5          </td> <td>48    </td> <td>5120          </td> <td>70            </td> <td>314       </td> <td>45          </td> <td>Tiny Turtle Pokémon</td> <td>65     </td> <td>1059860          </td> <td>0.5     </td> <td>44  </td> <td>Zenigameゼニガメ    </td> <td>Squirtle  </td> <td>88.1           </td> <td>7             </td> <td>50       </td> <td>64        </td> <td>43   </td> <td>water</td> <td>nan   </td> <td>9        </td> <td>1         </td> <td>0           </td>\n",
       "        </tr>\n",
       "        <tr>\n",
       "            <td>['Torrent', 'Rain Dish']   </td> <td>1          </td> <td>1           </td> <td>1             </td> <td>2               </td> <td>1            </td> <td>1            </td> <td>0.5         </td> <td>1             </td> <td>1            </td> <td>2            </td> <td>1             </td> <td>0.5        </td> <td>1             </td> <td>1             </td> <td>1              </td> <td>1           </td> <td>0.5          </td> <td>0.5          </td> <td>63    </td> <td>5120          </td> <td>70            </td> <td>405       </td> <td>45          </td> <td>Turtle Pokémon     </td> <td>80     </td> <td>1059860          </td> <td>1       </td> <td>59  </td> <td>Kameilカメール      </td> <td>Wartortle </td> <td>88.1           </td> <td>8             </td> <td>65       </td> <td>80        </td> <td>58   </td> <td>water</td> <td>nan   </td> <td>22.5     </td> <td>1         </td> <td>0           </td>\n",
       "        </tr>\n",
       "        <tr>\n",
       "            <td>['Torrent', 'Rain Dish']   </td> <td>1          </td> <td>1           </td> <td>1             </td> <td>2               </td> <td>1            </td> <td>1            </td> <td>0.5         </td> <td>1             </td> <td>1            </td> <td>2            </td> <td>1             </td> <td>0.5        </td> <td>1             </td> <td>1             </td> <td>1              </td> <td>1           </td> <td>0.5          </td> <td>0.5          </td> <td>103   </td> <td>5120          </td> <td>70            </td> <td>630       </td> <td>45          </td> <td>Shellfish Pokémon  </td> <td>120    </td> <td>1059860          </td> <td>1.6     </td> <td>79  </td> <td>Kamexカメックス      </td> <td>Blastoise </td> <td>88.1           </td> <td>9             </td> <td>135      </td> <td>115       </td> <td>78   </td> <td>water</td> <td>nan   </td> <td>85.5     </td> <td>1         </td> <td>0           </td>\n",
       "        </tr>\n",
       "        <tr>\n",
       "            <td>['Shield Dust', 'Run Away']</td> <td>1          </td> <td>1           </td> <td>1             </td> <td>1               </td> <td>1            </td> <td>0.5          </td> <td>2           </td> <td>2             </td> <td>1            </td> <td>0.5          </td> <td>0.5           </td> <td>1          </td> <td>1             </td> <td>1             </td> <td>1              </td> <td>2           </td> <td>1            </td> <td>1            </td> <td>30    </td> <td>3840          </td> <td>70            </td> <td>195       </td> <td>255         </td> <td>Worm Pokémon       </td> <td>35     </td> <td>1000000          </td> <td>0.3     </td> <td>45  </td> <td>Caterpieキャタピー   </td> <td>Caterpie  </td> <td>50             </td> <td>10            </td> <td>20       </td> <td>20        </td> <td>45   </td> <td>bug  </td> <td>nan   </td> <td>2.9      </td> <td>1         </td> <td>0           </td>\n",
       "        </tr>\n",
       "    </tbody>\n",
       "</table>\n",
       "<p>... (791 rows omitted)</p>"
      ],
      "text/plain": [
       "abilities                   | against_bug | against_dark | against_dragon | against_electric | against_fairy | against_fight | against_fire | against_flying | against_ghost | against_grass | against_ground | against_ice | against_normal | against_poison | against_psychic | against_rock | against_steel | against_water | attack | base_egg_steps | base_happiness | base_total | capture_rate | classfication       | defense | experience_growth | height_m | hp   | japanese_name    | name       | percentage_male | pokedex_number | sp_attack | sp_defense | speed | type1 | type2  | weight_kg | generation | is_legendary\n",
       "['Overgrow', 'Chlorophyll'] | 1           | 1            | 1              | 0.5              | 0.5           | 0.5           | 2            | 2              | 1             | 0.25          | 1              | 2           | 1              | 1              | 2               | 1            | 1             | 0.5           | 49     | 5120           | 70             | 318        | 45           | Seed Pokémon        | 49      | 1059860           | 0.7      | 45   | Fushigidaneフシギダネ | Bulbasaur  | 88.1            | 1              | 65        | 65         | 45    | grass | poison | 6.9       | 1          | 0\n",
       "['Overgrow', 'Chlorophyll'] | 1           | 1            | 1              | 0.5              | 0.5           | 0.5           | 2            | 2              | 1             | 0.25          | 1              | 2           | 1              | 1              | 2               | 1            | 1             | 0.5           | 62     | 5120           | 70             | 405        | 45           | Seed Pokémon        | 63      | 1059860           | 1        | 60   | Fushigisouフシギソウ  | Ivysaur    | 88.1            | 2              | 80        | 80         | 60    | grass | poison | 13        | 1          | 0\n",
       "['Overgrow', 'Chlorophyll'] | 1           | 1            | 1              | 0.5              | 0.5           | 0.5           | 2            | 2              | 1             | 0.25          | 1              | 2           | 1              | 1              | 2               | 1            | 1             | 0.5           | 100    | 5120           | 70             | 625        | 45           | Seed Pokémon        | 123     | 1059860           | 2        | 80   | Fushigibanaフシギバナ | Venusaur   | 88.1            | 3              | 122       | 120        | 80    | grass | poison | 100       | 1          | 0\n",
       "['Blaze', 'Solar Power']    | 0.5         | 1            | 1              | 1                | 0.5           | 1             | 0.5          | 1              | 1             | 0.5           | 2              | 0.5         | 1              | 1              | 1               | 2            | 0.5           | 2             | 52     | 5120           | 70             | 309        | 45           | Lizard Pokémon      | 43      | 1059860           | 0.6      | 39   | Hitokageヒトカゲ     | Charmander | 88.1            | 4              | 60        | 50         | 65    | fire  | nan    | 8.5       | 1          | 0\n",
       "['Blaze', 'Solar Power']    | 0.5         | 1            | 1              | 1                | 0.5           | 1             | 0.5          | 1              | 1             | 0.5           | 2              | 0.5         | 1              | 1              | 1               | 2            | 0.5           | 2             | 64     | 5120           | 70             | 405        | 45           | Flame Pokémon       | 58      | 1059860           | 1.1      | 58   | Lizardoリザード      | Charmeleon | 88.1            | 5              | 80        | 65         | 80    | fire  | nan    | 19        | 1          | 0\n",
       "['Blaze', 'Solar Power']    | 0.25        | 1            | 1              | 2                | 0.5           | 0.5           | 0.5          | 1              | 1             | 0.25          | 0              | 1           | 1              | 1              | 1               | 4            | 0.5           | 2             | 104    | 5120           | 70             | 634        | 45           | Flame Pokémon       | 78      | 1059860           | 1.7      | 78   | Lizardonリザードン    | Charizard  | 88.1            | 6              | 159       | 115        | 100   | fire  | flying | 90.5      | 1          | 0\n",
       "['Torrent', 'Rain Dish']    | 1           | 1            | 1              | 2                | 1             | 1             | 0.5          | 1              | 1             | 2             | 1              | 0.5         | 1              | 1              | 1               | 1            | 0.5           | 0.5           | 48     | 5120           | 70             | 314        | 45           | Tiny Turtle Pokémon | 65      | 1059860           | 0.5      | 44   | Zenigameゼニガメ     | Squirtle   | 88.1            | 7              | 50        | 64         | 43    | water | nan    | 9         | 1          | 0\n",
       "['Torrent', 'Rain Dish']    | 1           | 1            | 1              | 2                | 1             | 1             | 0.5          | 1              | 1             | 2             | 1              | 0.5         | 1              | 1              | 1               | 1            | 0.5           | 0.5           | 63     | 5120           | 70             | 405        | 45           | Turtle Pokémon      | 80      | 1059860           | 1        | 59   | Kameilカメール       | Wartortle  | 88.1            | 8              | 65        | 80         | 58    | water | nan    | 22.5      | 1          | 0\n",
       "['Torrent', 'Rain Dish']    | 1           | 1            | 1              | 2                | 1             | 1             | 0.5          | 1              | 1             | 2             | 1              | 0.5         | 1              | 1              | 1               | 1            | 0.5           | 0.5           | 103    | 5120           | 70             | 630        | 45           | Shellfish Pokémon   | 120     | 1059860           | 1.6      | 79   | Kamexカメックス       | Blastoise  | 88.1            | 9              | 135       | 115        | 78    | water | nan    | 85.5      | 1          | 0\n",
       "['Shield Dust', 'Run Away'] | 1           | 1            | 1              | 1                | 1             | 0.5           | 2            | 2              | 1             | 0.5           | 0.5            | 1           | 1              | 1              | 1               | 2            | 1             | 1             | 30     | 3840           | 70             | 195        | 255          | Worm Pokémon        | 35      | 1000000           | 0.3      | 45   | Caterpieキャタピー    | Caterpie   | 50              | 10             | 20        | 20         | 45    | bug   | nan    | 2.9       | 1          | 0\n",
       "... (791 rows omitted)"
      ]
     },
     "execution_count": 32,
     "metadata": {},
     "output_type": "execute_result"
    }
   ],
   "source": [
    "pokemon = Table.read_table('data/pokemon.csv')\n",
    "pokemon"
   ]
  },
  {
   "cell_type": "code",
   "execution_count": 33,
   "id": "d56e8022-3add-4a89-b00b-4407e3e96644",
   "metadata": {},
   "outputs": [
    {
     "data": {
      "text/html": [
       "<table border=\"1\" class=\"dataframe\">\n",
       "    <thead>\n",
       "        <tr>\n",
       "            <th>abilities</th> <th>against_bug</th> <th>against_dark</th> <th>against_dragon</th> <th>against_electric</th> <th>against_fairy</th> <th>against_fight</th> <th>against_fire</th> <th>against_flying</th> <th>against_ghost</th> <th>against_grass</th> <th>against_ground</th> <th>against_ice</th> <th>against_normal</th> <th>against_poison</th> <th>against_psychic</th> <th>against_rock</th> <th>against_steel</th> <th>against_water</th> <th>attack</th> <th>base_egg_steps</th> <th>base_happiness</th> <th>base_total</th> <th>capture_rate</th> <th>classfication</th> <th>defense</th> <th>experience_growth</th> <th>height_m</th> <th>hp</th> <th>japanese_name</th> <th>name</th> <th>percentage_male</th> <th>pokedex_number</th> <th>sp_attack</th> <th>sp_defense</th> <th>speed</th> <th>type1</th> <th>type2</th> <th>weight_kg</th> <th>generation</th> <th>is_legendary</th>\n",
       "        </tr>\n",
       "    </thead>\n",
       "    <tbody>\n",
       "        <tr>\n",
       "            <td>['Static', 'Lightningrod']</td> <td>1          </td> <td>1           </td> <td>1             </td> <td>0.5             </td> <td>1            </td> <td>1            </td> <td>1           </td> <td>0.5           </td> <td>1            </td> <td>1            </td> <td>2             </td> <td>1          </td> <td>1             </td> <td>1             </td> <td>1              </td> <td>1           </td> <td>0.5          </td> <td>1            </td> <td>55    </td> <td>2560          </td> <td>70            </td> <td>320       </td> <td>190         </td> <td>Mouse Pokémon</td> <td>40     </td> <td>1000000          </td> <td>0.4     </td> <td>35  </td> <td>Pikachuピカチュウ </td> <td>Pikachu</td> <td>50             </td> <td>25            </td> <td>50       </td> <td>50        </td> <td>90   </td> <td>electric</td> <td>nan  </td> <td>6        </td> <td>1         </td> <td>0           </td>\n",
       "        </tr>\n",
       "    </tbody>\n",
       "</table>"
      ],
      "text/plain": [
       "abilities                  | against_bug | against_dark | against_dragon | against_electric | against_fairy | against_fight | against_fire | against_flying | against_ghost | against_grass | against_ground | against_ice | against_normal | against_poison | against_psychic | against_rock | against_steel | against_water | attack | base_egg_steps | base_happiness | base_total | capture_rate | classfication | defense | experience_growth | height_m | hp   | japanese_name | name    | percentage_male | pokedex_number | sp_attack | sp_defense | speed | type1    | type2 | weight_kg | generation | is_legendary\n",
       "['Static', 'Lightningrod'] | 1           | 1            | 1              | 0.5              | 1             | 1             | 1            | 0.5            | 1             | 1             | 2              | 1           | 1              | 1              | 1               | 1            | 0.5           | 1             | 55     | 2560           | 70             | 320        | 190          | Mouse Pokémon | 40      | 1000000           | 0.4      | 35   | Pikachuピカチュウ  | Pikachu | 50              | 25             | 50        | 50         | 90    | electric | nan   | 6         | 1          | 0"
      ]
     },
     "execution_count": 33,
     "metadata": {},
     "output_type": "execute_result"
    }
   ],
   "source": [
    "pokemon.where('name', 'Pikachu')"
   ]
  },
  {
   "cell_type": "code",
   "execution_count": 36,
   "id": "53fca4f7-41ef-41f6-816d-de1071b3f30c",
   "metadata": {},
   "outputs": [
    {
     "data": {
      "text/html": [
       "<table border=\"1\" class=\"dataframe\">\n",
       "    <thead>\n",
       "        <tr>\n",
       "            <th>abilities</th> <th>against_bug</th> <th>against_dark</th> <th>against_dragon</th> <th>against_electric</th> <th>against_fairy</th> <th>against_fight</th> <th>against_fire</th> <th>against_flying</th> <th>against_ghost</th> <th>against_grass</th> <th>against_ground</th> <th>against_ice</th> <th>against_normal</th> <th>against_poison</th> <th>against_psychic</th> <th>against_rock</th> <th>against_steel</th> <th>against_water</th> <th>attack</th> <th>base_egg_steps</th> <th>base_happiness</th> <th>base_total</th> <th>capture_rate</th> <th>classfication</th> <th>defense</th> <th>experience_growth</th> <th>height_m</th> <th>hp</th> <th>japanese_name</th> <th>name</th> <th>percentage_male</th> <th>pokedex_number</th> <th>sp_attack</th> <th>sp_defense</th> <th>speed</th> <th>type1</th> <th>type2</th> <th>weight_kg</th> <th>generation</th> <th>is_legendary</th>\n",
       "        </tr>\n",
       "    </thead>\n",
       "    <tbody>\n",
       "        <tr>\n",
       "            <td>['Static', 'Lightningrod']                </td> <td>1          </td> <td>1           </td> <td>1             </td> <td>0.5             </td> <td>1            </td> <td>1            </td> <td>1           </td> <td>0.5           </td> <td>1            </td> <td>1            </td> <td>2             </td> <td>1          </td> <td>1             </td> <td>1             </td> <td>1              </td> <td>1           </td> <td>0.5          </td> <td>1            </td> <td>55    </td> <td>2560          </td> <td>70            </td> <td>320       </td> <td>190         </td> <td>Mouse Pokémon     </td> <td>40     </td> <td>1000000          </td> <td>0.4     </td> <td>35  </td> <td>Pikachuピカチュウ   </td> <td>Pikachu   </td> <td>50             </td> <td>25            </td> <td>50       </td> <td>50        </td> <td>90   </td> <td>electric</td> <td>nan     </td> <td>6        </td> <td>1         </td> <td>0           </td>\n",
       "        </tr>\n",
       "        <tr>\n",
       "            <td>['Static', 'Lightningrod', 'Surge Surfer']</td> <td>1          </td> <td>1           </td> <td>1             </td> <td>0.5             </td> <td>1            </td> <td>1            </td> <td>1           </td> <td>0.5           </td> <td>1            </td> <td>1            </td> <td>2             </td> <td>1          </td> <td>1             </td> <td>1             </td> <td>1              </td> <td>1           </td> <td>0.5          </td> <td>1            </td> <td>85    </td> <td>2560          </td> <td>70            </td> <td>485       </td> <td>75          </td> <td>Mouse Pokémon     </td> <td>50     </td> <td>1000000          </td> <td>nan     </td> <td>60  </td> <td>Raichuライチュウ    </td> <td>Raichu    </td> <td>50             </td> <td>26            </td> <td>95       </td> <td>85        </td> <td>110  </td> <td>electric</td> <td>electric</td> <td>nan      </td> <td>1         </td> <td>0           </td>\n",
       "        </tr>\n",
       "        <tr>\n",
       "            <td>['Magnet Pull', 'Sturdy', 'Analytic']     </td> <td>0.5        </td> <td>1           </td> <td>0.5           </td> <td>0.5             </td> <td>0.5          </td> <td>2            </td> <td>2           </td> <td>0.25          </td> <td>1            </td> <td>0.5          </td> <td>4             </td> <td>0.5        </td> <td>0.5           </td> <td>0             </td> <td>0.5            </td> <td>0.5         </td> <td>0.25         </td> <td>1            </td> <td>35    </td> <td>5120          </td> <td>70            </td> <td>325       </td> <td>190         </td> <td>Magnet Pokémon    </td> <td>70     </td> <td>1000000          </td> <td>0.3     </td> <td>25  </td> <td>Coilコイル        </td> <td>Magnemite </td> <td>nan            </td> <td>81            </td> <td>95       </td> <td>55        </td> <td>45   </td> <td>electric</td> <td>steel   </td> <td>6        </td> <td>1         </td> <td>0           </td>\n",
       "        </tr>\n",
       "        <tr>\n",
       "            <td>['Magnet Pull', 'Sturdy', 'Analytic']     </td> <td>0.5        </td> <td>1           </td> <td>0.5           </td> <td>0.5             </td> <td>0.5          </td> <td>2            </td> <td>2           </td> <td>0.25          </td> <td>1            </td> <td>0.5          </td> <td>4             </td> <td>0.5        </td> <td>0.5           </td> <td>0             </td> <td>0.5            </td> <td>0.5         </td> <td>0.25         </td> <td>1            </td> <td>60    </td> <td>5120          </td> <td>70            </td> <td>465       </td> <td>60          </td> <td>Magnet Pokémon    </td> <td>95     </td> <td>1000000          </td> <td>1       </td> <td>50  </td> <td>Rarecoilレアコイル  </td> <td>Magneton  </td> <td>nan            </td> <td>82            </td> <td>120      </td> <td>70        </td> <td>70   </td> <td>electric</td> <td>steel   </td> <td>60       </td> <td>1         </td> <td>0           </td>\n",
       "        </tr>\n",
       "        <tr>\n",
       "            <td>['Soundproof', 'Static', 'Aftermath']     </td> <td>1          </td> <td>1           </td> <td>1             </td> <td>0.5             </td> <td>1            </td> <td>1            </td> <td>1           </td> <td>0.5           </td> <td>1            </td> <td>1            </td> <td>2             </td> <td>1          </td> <td>1             </td> <td>1             </td> <td>1              </td> <td>1           </td> <td>0.5          </td> <td>1            </td> <td>30    </td> <td>5120          </td> <td>70            </td> <td>330       </td> <td>190         </td> <td>Ball Pokémon      </td> <td>50     </td> <td>1000000          </td> <td>0.5     </td> <td>40  </td> <td>Biriridamaビリリダマ</td> <td>Voltorb   </td> <td>nan            </td> <td>100           </td> <td>55       </td> <td>55        </td> <td>100  </td> <td>electric</td> <td>nan     </td> <td>10.4     </td> <td>1         </td> <td>0           </td>\n",
       "        </tr>\n",
       "        <tr>\n",
       "            <td>['Soundproof', 'Static', 'Aftermath']     </td> <td>1          </td> <td>1           </td> <td>1             </td> <td>0.5             </td> <td>1            </td> <td>1            </td> <td>1           </td> <td>0.5           </td> <td>1            </td> <td>1            </td> <td>2             </td> <td>1          </td> <td>1             </td> <td>1             </td> <td>1              </td> <td>1           </td> <td>0.5          </td> <td>1            </td> <td>50    </td> <td>5120          </td> <td>70            </td> <td>490       </td> <td>60          </td> <td>Ball Pokémon      </td> <td>70     </td> <td>1000000          </td> <td>1.2     </td> <td>60  </td> <td>Marumineマルマイン  </td> <td>Electrode </td> <td>nan            </td> <td>101           </td> <td>80       </td> <td>80        </td> <td>150  </td> <td>electric</td> <td>nan     </td> <td>66.6     </td> <td>1         </td> <td>0           </td>\n",
       "        </tr>\n",
       "        <tr>\n",
       "            <td>['Static', 'Vital Spirit']                </td> <td>1          </td> <td>1           </td> <td>1             </td> <td>0.5             </td> <td>1            </td> <td>1            </td> <td>1           </td> <td>0.5           </td> <td>1            </td> <td>1            </td> <td>2             </td> <td>1          </td> <td>1             </td> <td>1             </td> <td>1              </td> <td>1           </td> <td>0.5          </td> <td>1            </td> <td>83    </td> <td>6400          </td> <td>70            </td> <td>490       </td> <td>45          </td> <td>Electric Pokémon  </td> <td>57     </td> <td>1000000          </td> <td>1.1     </td> <td>65  </td> <td>Elebooエレブー     </td> <td>Electabuzz</td> <td>75.4           </td> <td>125           </td> <td>95       </td> <td>85        </td> <td>105  </td> <td>electric</td> <td>nan     </td> <td>30       </td> <td>1         </td> <td>0           </td>\n",
       "        </tr>\n",
       "        <tr>\n",
       "            <td>['Volt Absorb', 'Quick Feet']             </td> <td>1          </td> <td>1           </td> <td>1             </td> <td>0.5             </td> <td>1            </td> <td>1            </td> <td>1           </td> <td>0.5           </td> <td>1            </td> <td>1            </td> <td>2             </td> <td>1          </td> <td>1             </td> <td>1             </td> <td>1              </td> <td>1           </td> <td>0.5          </td> <td>1            </td> <td>65    </td> <td>8960          </td> <td>70            </td> <td>525       </td> <td>45          </td> <td>Lightning Pokémon </td> <td>60     </td> <td>1000000          </td> <td>0.8     </td> <td>65  </td> <td>Thundersサンダース  </td> <td>Jolteon   </td> <td>88.1           </td> <td>135           </td> <td>110      </td> <td>95        </td> <td>130  </td> <td>electric</td> <td>nan     </td> <td>24.5     </td> <td>1         </td> <td>0           </td>\n",
       "        </tr>\n",
       "        <tr>\n",
       "            <td>['Pressure', 'Static']                    </td> <td>0.5        </td> <td>1           </td> <td>1             </td> <td>1               </td> <td>1            </td> <td>0.5          </td> <td>1           </td> <td>0.5           </td> <td>1            </td> <td>0.5          </td> <td>0             </td> <td>2          </td> <td>1             </td> <td>1             </td> <td>1              </td> <td>2           </td> <td>0.5          </td> <td>1            </td> <td>90    </td> <td>20480         </td> <td>35            </td> <td>580       </td> <td>3           </td> <td>Electric Pokémon  </td> <td>85     </td> <td>1250000          </td> <td>1.6     </td> <td>90  </td> <td>Thunderサンダー    </td> <td>Zapdos    </td> <td>nan            </td> <td>145           </td> <td>125      </td> <td>90        </td> <td>100  </td> <td>electric</td> <td>flying  </td> <td>52.6     </td> <td>1         </td> <td>1           </td>\n",
       "        </tr>\n",
       "        <tr>\n",
       "            <td>['Static', 'Lightningrod']                </td> <td>1          </td> <td>1           </td> <td>1             </td> <td>0.5             </td> <td>1            </td> <td>1            </td> <td>1           </td> <td>0.5           </td> <td>1            </td> <td>1            </td> <td>2             </td> <td>1          </td> <td>1             </td> <td>1             </td> <td>1              </td> <td>1           </td> <td>0.5          </td> <td>1            </td> <td>40    </td> <td>2560          </td> <td>70            </td> <td>205       </td> <td>190         </td> <td>Tiny Mouse Pokémon</td> <td>15     </td> <td>1000000          </td> <td>0.3     </td> <td>20  </td> <td>Pichuピチュー      </td> <td>Pichu     </td> <td>50             </td> <td>172           </td> <td>35       </td> <td>35        </td> <td>60   </td> <td>electric</td> <td>nan     </td> <td>2        </td> <td>2         </td> <td>0           </td>\n",
       "        </tr>\n",
       "    </tbody>\n",
       "</table>\n",
       "<p>... (29 rows omitted)</p>"
      ],
      "text/plain": [
       "abilities                                  | against_bug | against_dark | against_dragon | against_electric | against_fairy | against_fight | against_fire | against_flying | against_ghost | against_grass | against_ground | against_ice | against_normal | against_poison | against_psychic | against_rock | against_steel | against_water | attack | base_egg_steps | base_happiness | base_total | capture_rate | classfication      | defense | experience_growth | height_m | hp   | japanese_name   | name       | percentage_male | pokedex_number | sp_attack | sp_defense | speed | type1    | type2    | weight_kg | generation | is_legendary\n",
       "['Static', 'Lightningrod']                 | 1           | 1            | 1              | 0.5              | 1             | 1             | 1            | 0.5            | 1             | 1             | 2              | 1           | 1              | 1              | 1               | 1            | 0.5           | 1             | 55     | 2560           | 70             | 320        | 190          | Mouse Pokémon      | 40      | 1000000           | 0.4      | 35   | Pikachuピカチュウ    | Pikachu    | 50              | 25             | 50        | 50         | 90    | electric | nan      | 6         | 1          | 0\n",
       "['Static', 'Lightningrod', 'Surge Surfer'] | 1           | 1            | 1              | 0.5              | 1             | 1             | 1            | 0.5            | 1             | 1             | 2              | 1           | 1              | 1              | 1               | 1            | 0.5           | 1             | 85     | 2560           | 70             | 485        | 75           | Mouse Pokémon      | 50      | 1000000           | nan      | 60   | Raichuライチュウ     | Raichu     | 50              | 26             | 95        | 85         | 110   | electric | electric | nan       | 1          | 0\n",
       "['Magnet Pull', 'Sturdy', 'Analytic']      | 0.5         | 1            | 0.5            | 0.5              | 0.5           | 2             | 2            | 0.25           | 1             | 0.5           | 4              | 0.5         | 0.5            | 0              | 0.5             | 0.5          | 0.25          | 1             | 35     | 5120           | 70             | 325        | 190          | Magnet Pokémon     | 70      | 1000000           | 0.3      | 25   | Coilコイル         | Magnemite  | nan             | 81             | 95        | 55         | 45    | electric | steel    | 6         | 1          | 0\n",
       "['Magnet Pull', 'Sturdy', 'Analytic']      | 0.5         | 1            | 0.5            | 0.5              | 0.5           | 2             | 2            | 0.25           | 1             | 0.5           | 4              | 0.5         | 0.5            | 0              | 0.5             | 0.5          | 0.25          | 1             | 60     | 5120           | 70             | 465        | 60           | Magnet Pokémon     | 95      | 1000000           | 1        | 50   | Rarecoilレアコイル   | Magneton   | nan             | 82             | 120       | 70         | 70    | electric | steel    | 60        | 1          | 0\n",
       "['Soundproof', 'Static', 'Aftermath']      | 1           | 1            | 1              | 0.5              | 1             | 1             | 1            | 0.5            | 1             | 1             | 2              | 1           | 1              | 1              | 1               | 1            | 0.5           | 1             | 30     | 5120           | 70             | 330        | 190          | Ball Pokémon       | 50      | 1000000           | 0.5      | 40   | Biriridamaビリリダマ | Voltorb    | nan             | 100            | 55        | 55         | 100   | electric | nan      | 10.4      | 1          | 0\n",
       "['Soundproof', 'Static', 'Aftermath']      | 1           | 1            | 1              | 0.5              | 1             | 1             | 1            | 0.5            | 1             | 1             | 2              | 1           | 1              | 1              | 1               | 1            | 0.5           | 1             | 50     | 5120           | 70             | 490        | 60           | Ball Pokémon       | 70      | 1000000           | 1.2      | 60   | Marumineマルマイン   | Electrode  | nan             | 101            | 80        | 80         | 150   | electric | nan      | 66.6      | 1          | 0\n",
       "['Static', 'Vital Spirit']                 | 1           | 1            | 1              | 0.5              | 1             | 1             | 1            | 0.5            | 1             | 1             | 2              | 1           | 1              | 1              | 1               | 1            | 0.5           | 1             | 83     | 6400           | 70             | 490        | 45           | Electric Pokémon   | 57      | 1000000           | 1.1      | 65   | Elebooエレブー      | Electabuzz | 75.4            | 125            | 95        | 85         | 105   | electric | nan      | 30        | 1          | 0\n",
       "['Volt Absorb', 'Quick Feet']              | 1           | 1            | 1              | 0.5              | 1             | 1             | 1            | 0.5            | 1             | 1             | 2              | 1           | 1              | 1              | 1               | 1            | 0.5           | 1             | 65     | 8960           | 70             | 525        | 45           | Lightning Pokémon  | 60      | 1000000           | 0.8      | 65   | Thundersサンダース   | Jolteon    | 88.1            | 135            | 110       | 95         | 130   | electric | nan      | 24.5      | 1          | 0\n",
       "['Pressure', 'Static']                     | 0.5         | 1            | 1              | 1                | 1             | 0.5           | 1            | 0.5            | 1             | 0.5           | 0              | 2           | 1              | 1              | 1               | 2            | 0.5           | 1             | 90     | 20480          | 35             | 580        | 3            | Electric Pokémon   | 85      | 1250000           | 1.6      | 90   | Thunderサンダー     | Zapdos     | nan             | 145            | 125       | 90         | 100   | electric | flying   | 52.6      | 1          | 1\n",
       "['Static', 'Lightningrod']                 | 1           | 1            | 1              | 0.5              | 1             | 1             | 1            | 0.5            | 1             | 1             | 2              | 1           | 1              | 1              | 1               | 1            | 0.5           | 1             | 40     | 2560           | 70             | 205        | 190          | Tiny Mouse Pokémon | 15      | 1000000           | 0.3      | 20   | Pichuピチュー       | Pichu      | 50              | 172            | 35        | 35         | 60    | electric | nan      | 2         | 2          | 0\n",
       "... (29 rows omitted)"
      ]
     },
     "execution_count": 36,
     "metadata": {},
     "output_type": "execute_result"
    }
   ],
   "source": [
    "pokemon.where('type1', 'electric')"
   ]
  },
  {
   "cell_type": "code",
   "execution_count": 38,
   "id": "d8100cd8-ce80-41a4-bf44-6cc61c4a3971",
   "metadata": {},
   "outputs": [],
   "source": [
    "gen1 = pokemon.where('generation', 1)"
   ]
  },
  {
   "cell_type": "code",
   "execution_count": 39,
   "id": "d7166f28-93e1-449b-9c94-726fea6fed2c",
   "metadata": {},
   "outputs": [
    {
     "data": {
      "text/html": [
       "<table border=\"1\" class=\"dataframe\">\n",
       "    <thead>\n",
       "        <tr>\n",
       "            <th>abilities</th> <th>against_bug</th> <th>against_dark</th> <th>against_dragon</th> <th>against_electric</th> <th>against_fairy</th> <th>against_fight</th> <th>against_fire</th> <th>against_flying</th> <th>against_ghost</th> <th>against_grass</th> <th>against_ground</th> <th>against_ice</th> <th>against_normal</th> <th>against_poison</th> <th>against_psychic</th> <th>against_rock</th> <th>against_steel</th> <th>against_water</th> <th>attack</th> <th>base_egg_steps</th> <th>base_happiness</th> <th>base_total</th> <th>capture_rate</th> <th>classfication</th> <th>defense</th> <th>experience_growth</th> <th>height_m</th> <th>hp</th> <th>japanese_name</th> <th>name</th> <th>percentage_male</th> <th>pokedex_number</th> <th>sp_attack</th> <th>sp_defense</th> <th>speed</th> <th>type1</th> <th>type2</th> <th>weight_kg</th> <th>generation</th> <th>is_legendary</th>\n",
       "        </tr>\n",
       "    </thead>\n",
       "    <tbody>\n",
       "        <tr>\n",
       "            <td>['Hyper Cutter', 'Mold Breaker', 'Moxie']     </td> <td>1          </td> <td>1           </td> <td>1             </td> <td>1               </td> <td>1            </td> <td>0.5          </td> <td>2           </td> <td>2             </td> <td>1            </td> <td>0.5          </td> <td>0.5           </td> <td>1          </td> <td>1             </td> <td>1             </td> <td>1              </td> <td>2           </td> <td>1            </td> <td>1            </td> <td>155   </td> <td>6400          </td> <td>70            </td> <td>600       </td> <td>45          </td> <td>Stagbeetle Pokémon</td> <td>120    </td> <td>1250000          </td> <td>1.5     </td> <td>65  </td> <td>Kailiosカイロス  </td> <td>Pinsir    </td> <td>50             </td> <td>127           </td> <td>65       </td> <td>90        </td> <td>105  </td> <td>bug     </td> <td>nan   </td> <td>55       </td> <td>1         </td> <td>0           </td>\n",
       "        </tr>\n",
       "        <tr>\n",
       "            <td>['Intimidate', 'Moxie']                       </td> <td>0.5        </td> <td>1           </td> <td>1             </td> <td>4               </td> <td>1            </td> <td>0.5          </td> <td>0.5         </td> <td>1             </td> <td>1            </td> <td>1            </td> <td>0             </td> <td>1          </td> <td>1             </td> <td>1             </td> <td>1              </td> <td>2           </td> <td>0.5          </td> <td>0.5          </td> <td>155   </td> <td>1280          </td> <td>70            </td> <td>640       </td> <td>45          </td> <td>Atrocious Pokémon </td> <td>109    </td> <td>1250000          </td> <td>6.5     </td> <td>95  </td> <td>Gyaradosギャラドス</td> <td>Gyarados  </td> <td>50             </td> <td>130           </td> <td>70       </td> <td>130       </td> <td>81   </td> <td>water   </td> <td>flying</td> <td>235      </td> <td>1         </td> <td>0           </td>\n",
       "        </tr>\n",
       "        <tr>\n",
       "            <td>['Swarm', 'Sniper']                           </td> <td>0.5        </td> <td>1           </td> <td>1             </td> <td>1               </td> <td>0.5          </td> <td>0.25         </td> <td>2           </td> <td>2             </td> <td>1            </td> <td>0.25         </td> <td>1             </td> <td>1          </td> <td>1             </td> <td>0.5           </td> <td>2              </td> <td>2           </td> <td>1            </td> <td>1            </td> <td>150   </td> <td>3840          </td> <td>70            </td> <td>495       </td> <td>45          </td> <td>Poison Bee Pokémon</td> <td>40     </td> <td>1000000          </td> <td>1       </td> <td>65  </td> <td>Spearスピアー    </td> <td>Beedrill  </td> <td>50             </td> <td>15            </td> <td>15       </td> <td>80        </td> <td>145  </td> <td>bug     </td> <td>poison</td> <td>29.5     </td> <td>1         </td> <td>0           </td>\n",
       "        </tr>\n",
       "        <tr>\n",
       "            <td>['Pressure', 'Unnerve']                       </td> <td>2          </td> <td>2           </td> <td>1             </td> <td>1               </td> <td>1            </td> <td>0.5          </td> <td>1           </td> <td>1             </td> <td>2            </td> <td>1            </td> <td>1             </td> <td>1          </td> <td>1             </td> <td>1             </td> <td>0.5            </td> <td>1           </td> <td>1            </td> <td>1            </td> <td>150   </td> <td>30720         </td> <td>0             </td> <td>780       </td> <td>3           </td> <td>Genetic Pokémon   </td> <td>70     </td> <td>1250000          </td> <td>2       </td> <td>106 </td> <td>Mewtwoミュウツー  </td> <td>Mewtwo    </td> <td>nan            </td> <td>150           </td> <td>194      </td> <td>120       </td> <td>140  </td> <td>psychic </td> <td>nan   </td> <td>122      </td> <td>1         </td> <td>1           </td>\n",
       "        </tr>\n",
       "        <tr>\n",
       "            <td>['Rock Head', 'Pressure', 'Unnerve']          </td> <td>0.5        </td> <td>1           </td> <td>1             </td> <td>2               </td> <td>1            </td> <td>1            </td> <td>0.5         </td> <td>0.5           </td> <td>1            </td> <td>1            </td> <td>0             </td> <td>2          </td> <td>0.5           </td> <td>0.5           </td> <td>1              </td> <td>2           </td> <td>2            </td> <td>2            </td> <td>135   </td> <td>8960          </td> <td>70            </td> <td>615       </td> <td>45          </td> <td>Fossil Pokémon    </td> <td>85     </td> <td>1250000          </td> <td>1.8     </td> <td>80  </td> <td>Pteraプテラ     </td> <td>Aerodactyl</td> <td>88.1           </td> <td>142           </td> <td>70       </td> <td>95        </td> <td>150  </td> <td>rock    </td> <td>flying</td> <td>59       </td> <td>1         </td> <td>0           </td>\n",
       "        </tr>\n",
       "        <tr>\n",
       "            <td>['Inner Focus', 'Multiscale']                 </td> <td>0.5        </td> <td>1           </td> <td>2             </td> <td>1               </td> <td>2            </td> <td>0.5          </td> <td>0.5         </td> <td>1             </td> <td>1            </td> <td>0.25         </td> <td>0             </td> <td>4          </td> <td>1             </td> <td>1             </td> <td>1              </td> <td>2           </td> <td>1            </td> <td>0.5          </td> <td>134   </td> <td>10240         </td> <td>35            </td> <td>600       </td> <td>45          </td> <td>Dragon Pokémon    </td> <td>95     </td> <td>1250000          </td> <td>2.2     </td> <td>91  </td> <td>Kairyuカイリュー  </td> <td>Dragonite </td> <td>50             </td> <td>149           </td> <td>100      </td> <td>100       </td> <td>80   </td> <td>dragon  </td> <td>flying</td> <td>210      </td> <td>1         </td> <td>0           </td>\n",
       "        </tr>\n",
       "        <tr>\n",
       "            <td>['Guts', 'No Guard', 'Steadfast']             </td> <td>0.5        </td> <td>0.5         </td> <td>1             </td> <td>1               </td> <td>2            </td> <td>1            </td> <td>1           </td> <td>2             </td> <td>1            </td> <td>1            </td> <td>1             </td> <td>1          </td> <td>1             </td> <td>1             </td> <td>2              </td> <td>0.5         </td> <td>1            </td> <td>1            </td> <td>130   </td> <td>5120          </td> <td>70            </td> <td>505       </td> <td>45          </td> <td>Superpower Pokémon</td> <td>80     </td> <td>1059860          </td> <td>1.6     </td> <td>90  </td> <td>Kairikyカイリキー </td> <td>Machamp   </td> <td>75.4           </td> <td>68            </td> <td>65       </td> <td>85        </td> <td>55   </td> <td>fighting</td> <td>nan   </td> <td>130      </td> <td>1         </td> <td>0           </td>\n",
       "        </tr>\n",
       "        <tr>\n",
       "            <td>['Hyper Cutter', 'Shell Armor', 'Sheer Force']</td> <td>1          </td> <td>1           </td> <td>1             </td> <td>2               </td> <td>1            </td> <td>1            </td> <td>0.5         </td> <td>1             </td> <td>1            </td> <td>2            </td> <td>1             </td> <td>0.5        </td> <td>1             </td> <td>1             </td> <td>1              </td> <td>1           </td> <td>0.5          </td> <td>0.5          </td> <td>130   </td> <td>5120          </td> <td>70            </td> <td>475       </td> <td>60          </td> <td>Pincer Pokémon    </td> <td>115    </td> <td>1000000          </td> <td>1.3     </td> <td>55  </td> <td>Kinglerキングラー </td> <td>Kingler   </td> <td>50             </td> <td>99            </td> <td>50       </td> <td>50        </td> <td>75   </td> <td>water   </td> <td>nan   </td> <td>60       </td> <td>1         </td> <td>0           </td>\n",
       "        </tr>\n",
       "        <tr>\n",
       "            <td>['Lightningrod', 'Rock Head', 'Reckless']     </td> <td>1          </td> <td>1           </td> <td>1             </td> <td>0               </td> <td>1            </td> <td>2            </td> <td>0.5         </td> <td>0.5           </td> <td>1            </td> <td>4            </td> <td>2             </td> <td>2          </td> <td>0.5           </td> <td>0.25          </td> <td>1              </td> <td>0.5         </td> <td>2            </td> <td>4            </td> <td>130   </td> <td>5120          </td> <td>70            </td> <td>485       </td> <td>60          </td> <td>Drill Pokémon     </td> <td>120    </td> <td>1250000          </td> <td>1.9     </td> <td>105 </td> <td>Sidonサイドン    </td> <td>Rhydon    </td> <td>50             </td> <td>112           </td> <td>45       </td> <td>45        </td> <td>40   </td> <td>ground  </td> <td>rock  </td> <td>120      </td> <td>1         </td> <td>0           </td>\n",
       "        </tr>\n",
       "        <tr>\n",
       "            <td>['Flash Fire', 'Guts']                        </td> <td>0.5        </td> <td>1           </td> <td>1             </td> <td>1               </td> <td>0.5          </td> <td>1            </td> <td>0.5         </td> <td>1             </td> <td>1            </td> <td>0.5          </td> <td>2             </td> <td>0.5        </td> <td>1             </td> <td>1             </td> <td>1              </td> <td>2           </td> <td>0.5          </td> <td>2            </td> <td>130   </td> <td>8960          </td> <td>70            </td> <td>525       </td> <td>45          </td> <td>Flame Pokémon     </td> <td>60     </td> <td>1000000          </td> <td>0.9     </td> <td>65  </td> <td>Boosterブースター </td> <td>Flareon   </td> <td>88.1           </td> <td>136           </td> <td>95       </td> <td>110       </td> <td>65   </td> <td>fire    </td> <td>nan   </td> <td>25       </td> <td>1         </td> <td>0           </td>\n",
       "        </tr>\n",
       "    </tbody>\n",
       "</table>\n",
       "<p>... (141 rows omitted)</p>"
      ],
      "text/plain": [
       "abilities                                      | against_bug | against_dark | against_dragon | against_electric | against_fairy | against_fight | against_fire | against_flying | against_ghost | against_grass | against_ground | against_ice | against_normal | against_poison | against_psychic | against_rock | against_steel | against_water | attack | base_egg_steps | base_happiness | base_total | capture_rate | classfication      | defense | experience_growth | height_m | hp   | japanese_name | name       | percentage_male | pokedex_number | sp_attack | sp_defense | speed | type1    | type2  | weight_kg | generation | is_legendary\n",
       "['Hyper Cutter', 'Mold Breaker', 'Moxie']      | 1           | 1            | 1              | 1                | 1             | 0.5           | 2            | 2              | 1             | 0.5           | 0.5            | 1           | 1              | 1              | 1               | 2            | 1             | 1             | 155    | 6400           | 70             | 600        | 45           | Stagbeetle Pokémon | 120     | 1250000           | 1.5      | 65   | Kailiosカイロス   | Pinsir     | 50              | 127            | 65        | 90         | 105   | bug      | nan    | 55        | 1          | 0\n",
       "['Intimidate', 'Moxie']                        | 0.5         | 1            | 1              | 4                | 1             | 0.5           | 0.5          | 1              | 1             | 1             | 0              | 1           | 1              | 1              | 1               | 2            | 0.5           | 0.5           | 155    | 1280           | 70             | 640        | 45           | Atrocious Pokémon  | 109     | 1250000           | 6.5      | 95   | Gyaradosギャラドス | Gyarados   | 50              | 130            | 70        | 130        | 81    | water    | flying | 235       | 1          | 0\n",
       "['Swarm', 'Sniper']                            | 0.5         | 1            | 1              | 1                | 0.5           | 0.25          | 2            | 2              | 1             | 0.25          | 1              | 1           | 1              | 0.5            | 2               | 2            | 1             | 1             | 150    | 3840           | 70             | 495        | 45           | Poison Bee Pokémon | 40      | 1000000           | 1        | 65   | Spearスピアー     | Beedrill   | 50              | 15             | 15        | 80         | 145   | bug      | poison | 29.5      | 1          | 0\n",
       "['Pressure', 'Unnerve']                        | 2           | 2            | 1              | 1                | 1             | 0.5           | 1            | 1              | 2             | 1             | 1              | 1           | 1              | 1              | 0.5             | 1            | 1             | 1             | 150    | 30720          | 0              | 780        | 3            | Genetic Pokémon    | 70      | 1250000           | 2        | 106  | Mewtwoミュウツー   | Mewtwo     | nan             | 150            | 194       | 120        | 140   | psychic  | nan    | 122       | 1          | 1\n",
       "['Rock Head', 'Pressure', 'Unnerve']           | 0.5         | 1            | 1              | 2                | 1             | 1             | 0.5          | 0.5            | 1             | 1             | 0              | 2           | 0.5            | 0.5            | 1               | 2            | 2             | 2             | 135    | 8960           | 70             | 615        | 45           | Fossil Pokémon     | 85      | 1250000           | 1.8      | 80   | Pteraプテラ      | Aerodactyl | 88.1            | 142            | 70        | 95         | 150   | rock     | flying | 59        | 1          | 0\n",
       "['Inner Focus', 'Multiscale']                  | 0.5         | 1            | 2              | 1                | 2             | 0.5           | 0.5          | 1              | 1             | 0.25          | 0              | 4           | 1              | 1              | 1               | 2            | 1             | 0.5           | 134    | 10240          | 35             | 600        | 45           | Dragon Pokémon     | 95      | 1250000           | 2.2      | 91   | Kairyuカイリュー   | Dragonite  | 50              | 149            | 100       | 100        | 80    | dragon   | flying | 210       | 1          | 0\n",
       "['Guts', 'No Guard', 'Steadfast']              | 0.5         | 0.5          | 1              | 1                | 2             | 1             | 1            | 2              | 1             | 1             | 1              | 1           | 1              | 1              | 2               | 0.5          | 1             | 1             | 130    | 5120           | 70             | 505        | 45           | Superpower Pokémon | 80      | 1059860           | 1.6      | 90   | Kairikyカイリキー  | Machamp    | 75.4            | 68             | 65        | 85         | 55    | fighting | nan    | 130       | 1          | 0\n",
       "['Hyper Cutter', 'Shell Armor', 'Sheer Force'] | 1           | 1            | 1              | 2                | 1             | 1             | 0.5          | 1              | 1             | 2             | 1              | 0.5         | 1              | 1              | 1               | 1            | 0.5           | 0.5           | 130    | 5120           | 70             | 475        | 60           | Pincer Pokémon     | 115     | 1000000           | 1.3      | 55   | Kinglerキングラー  | Kingler    | 50              | 99             | 50        | 50         | 75    | water    | nan    | 60        | 1          | 0\n",
       "['Lightningrod', 'Rock Head', 'Reckless']      | 1           | 1            | 1              | 0                | 1             | 2             | 0.5          | 0.5            | 1             | 4             | 2              | 2           | 0.5            | 0.25           | 1               | 0.5          | 2             | 4             | 130    | 5120           | 70             | 485        | 60           | Drill Pokémon      | 120     | 1250000           | 1.9      | 105  | Sidonサイドン     | Rhydon     | 50              | 112            | 45        | 45         | 40    | ground   | rock   | 120       | 1          | 0\n",
       "['Flash Fire', 'Guts']                         | 0.5         | 1            | 1              | 1                | 0.5           | 1             | 0.5          | 1              | 1             | 0.5           | 2              | 0.5         | 1              | 1              | 1               | 2            | 0.5           | 2             | 130    | 8960           | 70             | 525        | 45           | Flame Pokémon      | 60      | 1000000           | 0.9      | 65   | Boosterブースター  | Flareon    | 88.1            | 136            | 95        | 110        | 65    | fire     | nan    | 25        | 1          | 0\n",
       "... (141 rows omitted)"
      ]
     },
     "execution_count": 39,
     "metadata": {},
     "output_type": "execute_result"
    }
   ],
   "source": [
    "gen1.sort('attack', descending=True)"
   ]
  },
  {
   "cell_type": "code",
   "execution_count": 42,
   "id": "583421a2-1e23-435b-bf05-aaa9ad636262",
   "metadata": {},
   "outputs": [
    {
     "data": {
      "text/html": [
       "<table border=\"1\" class=\"dataframe\">\n",
       "    <thead>\n",
       "        <tr>\n",
       "            <th>name</th> <th>type1</th> <th>attack</th>\n",
       "        </tr>\n",
       "    </thead>\n",
       "    <tbody>\n",
       "        <tr>\n",
       "            <td>Pinsir    </td> <td>bug     </td> <td>155   </td>\n",
       "        </tr>\n",
       "        <tr>\n",
       "            <td>Gyarados  </td> <td>water   </td> <td>155   </td>\n",
       "        </tr>\n",
       "        <tr>\n",
       "            <td>Beedrill  </td> <td>bug     </td> <td>150   </td>\n",
       "        </tr>\n",
       "        <tr>\n",
       "            <td>Mewtwo    </td> <td>psychic </td> <td>150   </td>\n",
       "        </tr>\n",
       "        <tr>\n",
       "            <td>Aerodactyl</td> <td>rock    </td> <td>135   </td>\n",
       "        </tr>\n",
       "        <tr>\n",
       "            <td>Dragonite </td> <td>dragon  </td> <td>134   </td>\n",
       "        </tr>\n",
       "        <tr>\n",
       "            <td>Machamp   </td> <td>fighting</td> <td>130   </td>\n",
       "        </tr>\n",
       "        <tr>\n",
       "            <td>Kingler   </td> <td>water   </td> <td>130   </td>\n",
       "        </tr>\n",
       "        <tr>\n",
       "            <td>Rhydon    </td> <td>ground  </td> <td>130   </td>\n",
       "        </tr>\n",
       "        <tr>\n",
       "            <td>Flareon   </td> <td>fire    </td> <td>130   </td>\n",
       "        </tr>\n",
       "    </tbody>\n",
       "</table>\n",
       "<p>... (141 rows omitted)</p>"
      ],
      "text/plain": [
       "name       | type1    | attack\n",
       "Pinsir     | bug      | 155\n",
       "Gyarados   | water    | 155\n",
       "Beedrill   | bug      | 150\n",
       "Mewtwo     | psychic  | 150\n",
       "Aerodactyl | rock     | 135\n",
       "Dragonite  | dragon   | 134\n",
       "Machamp    | fighting | 130\n",
       "Kingler    | water    | 130\n",
       "Rhydon     | ground   | 130\n",
       "Flareon    | fire     | 130\n",
       "... (141 rows omitted)"
      ]
     },
     "execution_count": 42,
     "metadata": {},
     "output_type": "execute_result"
    }
   ],
   "source": [
    "gen1.sort('attack', descending=True).select('name', 'type1', 'attack')"
   ]
  },
  {
   "cell_type": "code",
   "execution_count": 43,
   "id": "19d370be-8b39-4e19-92f7-e5dec679d7d3",
   "metadata": {},
   "outputs": [],
   "source": [
    "# question: find the top 8 gen 2 pokemon with the highest defense"
   ]
  },
  {
   "cell_type": "code",
   "execution_count": null,
   "id": "10460946-2b13-4cfe-a96b-2ca5fe8ea8cf",
   "metadata": {},
   "outputs": [],
   "source": []
  }
 ],
 "metadata": {
  "kernelspec": {
   "display_name": "Python 3 (ipykernel)",
   "language": "python",
   "name": "python3"
  },
  "language_info": {
   "codemirror_mode": {
    "name": "ipython",
    "version": 3
   },
   "file_extension": ".py",
   "mimetype": "text/x-python",
   "name": "python",
   "nbconvert_exporter": "python",
   "pygments_lexer": "ipython3",
   "version": "3.12.5"
  }
 },
 "nbformat": 4,
 "nbformat_minor": 5
}
