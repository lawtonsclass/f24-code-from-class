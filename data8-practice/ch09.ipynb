{
 "cells": [
  {
   "cell_type": "code",
   "execution_count": 1,
   "id": "a0f8ad51-34c4-4fd4-b3cd-3772ec596d86",
   "metadata": {},
   "outputs": [],
   "source": [
    "from datascience import *\n",
    "import numpy as np\n",
    "%matplotlib inline\n",
    "import matplotlib.pyplot as plt\n",
    "plt.style.use('fivethirtyeight')"
   ]
  },
  {
   "cell_type": "code",
   "execution_count": 4,
   "id": "5a1fc605-a6f4-4550-bdc6-19fb03dc95f1",
   "metadata": {},
   "outputs": [
    {
     "data": {
      "text/plain": [
       "'heads'"
      ]
     },
     "execution_count": 4,
     "metadata": {},
     "output_type": "execute_result"
    }
   ],
   "source": [
    "coin = make_array('heads', 'tails')\n",
    "np.random.choice(coin)"
   ]
  },
  {
   "cell_type": "code",
   "execution_count": 5,
   "id": "0303aef6-8cab-43ee-84e3-ed7f6bf663b5",
   "metadata": {},
   "outputs": [
    {
     "data": {
      "text/plain": [
       "array(['heads', 'tails', 'tails', 'heads', 'tails', 'tails', 'tails',\n",
       "       'tails', 'heads', 'heads', 'heads', 'tails', 'tails', 'tails',\n",
       "       'heads', 'tails', 'heads', 'tails', 'tails', 'heads', 'heads',\n",
       "       'tails', 'heads', 'tails', 'heads', 'heads', 'heads', 'heads',\n",
       "       'heads', 'tails', 'tails', 'heads', 'tails', 'heads', 'tails',\n",
       "       'tails', 'tails', 'tails', 'tails', 'heads', 'tails', 'tails'],\n",
       "      dtype='<U5')"
      ]
     },
     "execution_count": 5,
     "metadata": {},
     "output_type": "execute_result"
    }
   ],
   "source": [
    "np.random.choice(coin, 42)"
   ]
  },
  {
   "cell_type": "code",
   "execution_count": 6,
   "id": "edced791-0a88-45f4-8f00-0724a59c172c",
   "metadata": {},
   "outputs": [
    {
     "data": {
      "text/plain": [
       "True"
      ]
     },
     "execution_count": 6,
     "metadata": {},
     "output_type": "execute_result"
    }
   ],
   "source": [
    "1 < 2"
   ]
  },
  {
   "cell_type": "code",
   "execution_count": 7,
   "id": "e37e71aa-b51d-4a2e-b615-7e624c664269",
   "metadata": {},
   "outputs": [
    {
     "data": {
      "text/plain": [
       "False"
      ]
     },
     "execution_count": 7,
     "metadata": {},
     "output_type": "execute_result"
    }
   ],
   "source": [
    "2 == 3"
   ]
  },
  {
   "cell_type": "code",
   "execution_count": 8,
   "id": "4d8e75a1-5444-4c19-afee-176fd3158c67",
   "metadata": {},
   "outputs": [
    {
     "data": {
      "text/plain": [
       "array([ True,  True, False,  True,  True,  True,  True,  True,  True,\n",
       "        True,  True,  True, False, False,  True,  True,  True, False,\n",
       "       False, False, False,  True, False, False, False, False,  True,\n",
       "        True, False,  True, False, False, False,  True, False,  True,\n",
       "        True,  True,  True, False,  True, False], dtype=bool)"
      ]
     },
     "execution_count": 8,
     "metadata": {},
     "output_type": "execute_result"
    }
   ],
   "source": [
    "np.random.choice(coin, 42) == 'heads'"
   ]
  },
  {
   "cell_type": "code",
   "execution_count": 11,
   "id": "6c4d1f46-5201-4ba1-b92c-7a63fe4499b4",
   "metadata": {},
   "outputs": [
    {
     "data": {
      "text/plain": [
       "2"
      ]
     },
     "execution_count": 11,
     "metadata": {},
     "output_type": "execute_result"
    }
   ],
   "source": [
    "True + False + True"
   ]
  },
  {
   "cell_type": "code",
   "execution_count": 17,
   "id": "a1135223-b046-4145-b244-acf21377cb25",
   "metadata": {},
   "outputs": [
    {
     "data": {
      "text/plain": [
       "21"
      ]
     },
     "execution_count": 17,
     "metadata": {},
     "output_type": "execute_result"
    }
   ],
   "source": [
    "np.count_nonzero(np.random.choice(coin, 42) == 'heads')"
   ]
  },
  {
   "cell_type": "markdown",
   "id": "24acc2c8-b560-443f-af45-5ef06c7954e5",
   "metadata": {},
   "source": [
    "# Conditionals"
   ]
  },
  {
   "cell_type": "code",
   "execution_count": 18,
   "id": "e0faa8f2-b5f0-48a2-a8e8-8c8dfe45330d",
   "metadata": {},
   "outputs": [],
   "source": [
    "def sign(x):\n",
    "    if x < 0:\n",
    "        return 'Negative'"
   ]
  },
  {
   "cell_type": "code",
   "execution_count": 19,
   "id": "d9f9628a-97ba-4463-9186-e73b4a782dec",
   "metadata": {},
   "outputs": [
    {
     "data": {
      "text/plain": [
       "'Negative'"
      ]
     },
     "execution_count": 19,
     "metadata": {},
     "output_type": "execute_result"
    }
   ],
   "source": [
    "sign(-42)"
   ]
  },
  {
   "cell_type": "code",
   "execution_count": 20,
   "id": "7df5252f-cd86-41d7-9e30-b353bdf0585d",
   "metadata": {},
   "outputs": [],
   "source": [
    "sign(42)"
   ]
  },
  {
   "cell_type": "code",
   "execution_count": 1,
   "id": "4d19e19b-177e-4cd8-80b5-bd7e902083e6",
   "metadata": {},
   "outputs": [],
   "source": [
    "def sign(x):\n",
    "    if x < 0:\n",
    "        return 'Negative'\n",
    "    elif x > 0:\n",
    "        return 'Non-negative'"
   ]
  },
  {
   "cell_type": "code",
   "execution_count": 2,
   "id": "f51208a7-53fc-485a-b148-0ec871a4cb01",
   "metadata": {},
   "outputs": [
    {
     "data": {
      "text/plain": [
       "'Non-negative'"
      ]
     },
     "execution_count": 2,
     "metadata": {},
     "output_type": "execute_result"
    }
   ],
   "source": [
    "sign(42)"
   ]
  },
  {
   "cell_type": "code",
   "execution_count": 21,
   "id": "24300778-5272-4cf2-8448-4ee11c102eae",
   "metadata": {},
   "outputs": [],
   "source": [
    "def sign(x):\n",
    "    if x < 0:\n",
    "        return 'Negative'\n",
    "    elif x > 0:\n",
    "        return 'Positive'\n",
    "    else: # the only other option is x == 0\n",
    "        return 'Neither'"
   ]
  },
  {
   "cell_type": "code",
   "execution_count": 22,
   "id": "caed1000-54e6-4589-8ee2-927ef9303b2d",
   "metadata": {},
   "outputs": [
    {
     "data": {
      "text/plain": [
       "'Positive'"
      ]
     },
     "execution_count": 22,
     "metadata": {},
     "output_type": "execute_result"
    }
   ],
   "source": [
    "sign(42)"
   ]
  },
  {
   "cell_type": "code",
   "execution_count": 23,
   "id": "e9a5fc22-dba8-4c57-ad6d-ec268b46dd92",
   "metadata": {},
   "outputs": [
    {
     "data": {
      "text/plain": [
       "'Neither'"
      ]
     },
     "execution_count": 23,
     "metadata": {},
     "output_type": "execute_result"
    }
   ],
   "source": [
    "sign(0)"
   ]
  },
  {
   "cell_type": "code",
   "execution_count": 24,
   "id": "091ccf5d-597d-4a75-8634-e20c13da6b4d",
   "metadata": {},
   "outputs": [
    {
     "data": {
      "text/html": [
       "<table border=\"1\" class=\"dataframe\">\n",
       "    <thead>\n",
       "        <tr>\n",
       "            <th>Pocket</th> <th>Color</th>\n",
       "        </tr>\n",
       "    </thead>\n",
       "    <tbody>\n",
       "        <tr>\n",
       "            <td>0     </td> <td>green</td>\n",
       "        </tr>\n",
       "        <tr>\n",
       "            <td>0     </td> <td>green</td>\n",
       "        </tr>\n",
       "        <tr>\n",
       "            <td>1     </td> <td>red  </td>\n",
       "        </tr>\n",
       "        <tr>\n",
       "            <td>2     </td> <td>black</td>\n",
       "        </tr>\n",
       "        <tr>\n",
       "            <td>3     </td> <td>red  </td>\n",
       "        </tr>\n",
       "        <tr>\n",
       "            <td>4     </td> <td>black</td>\n",
       "        </tr>\n",
       "        <tr>\n",
       "            <td>5     </td> <td>red  </td>\n",
       "        </tr>\n",
       "        <tr>\n",
       "            <td>6     </td> <td>black</td>\n",
       "        </tr>\n",
       "        <tr>\n",
       "            <td>7     </td> <td>red  </td>\n",
       "        </tr>\n",
       "        <tr>\n",
       "            <td>8     </td> <td>black</td>\n",
       "        </tr>\n",
       "    </tbody>\n",
       "</table>\n",
       "<p>... (28 rows omitted)</p>"
      ],
      "text/plain": [
       "Pocket | Color\n",
       "0      | green\n",
       "0      | green\n",
       "1      | red\n",
       "2      | black\n",
       "3      | red\n",
       "4      | black\n",
       "5      | red\n",
       "6      | black\n",
       "7      | red\n",
       "8      | black\n",
       "... (28 rows omitted)"
      ]
     },
     "execution_count": 24,
     "metadata": {},
     "output_type": "execute_result"
    }
   ],
   "source": [
    "roulette = Table.read_table('data/roulette_wheel.csv')\n",
    "roulette"
   ]
  },
  {
   "cell_type": "code",
   "execution_count": 25,
   "id": "9edb15b9-b0cb-4ab9-a04d-88a4060157f7",
   "metadata": {},
   "outputs": [
    {
     "data": {
      "text/plain": [
       "'red'"
      ]
     },
     "execution_count": 25,
     "metadata": {},
     "output_type": "execute_result"
    }
   ],
   "source": [
    "np.random.choice(roulette.column(1))"
   ]
  },
  {
   "cell_type": "code",
   "execution_count": 57,
   "id": "bb598d95-c39d-440e-aa36-75edbe614942",
   "metadata": {},
   "outputs": [],
   "source": [
    "def one_bet_on_red(amt):\n",
    "    color = np.random.choice(roulette.column(1))\n",
    "    if color == 'red':\n",
    "        return amt\n",
    "    else:\n",
    "        return amt * -1"
   ]
  },
  {
   "cell_type": "code",
   "execution_count": 58,
   "id": "17f9ca16-604e-4242-a3bd-b87cde1305d2",
   "metadata": {},
   "outputs": [
    {
     "data": {
      "text/plain": [
       "(1, -1, 1, -1)"
      ]
     },
     "execution_count": 58,
     "metadata": {},
     "output_type": "execute_result"
    }
   ],
   "source": [
    "one_bet_on_red(1), one_bet_on_red(1), one_bet_on_red(1), one_bet_on_red(1)"
   ]
  },
  {
   "cell_type": "code",
   "execution_count": 59,
   "id": "6a3d3da3-795b-4248-a0b9-9b922bb5c2fa",
   "metadata": {},
   "outputs": [
    {
     "data": {
      "text/plain": [
       "5"
      ]
     },
     "execution_count": 59,
     "metadata": {},
     "output_type": "execute_result"
    }
   ],
   "source": [
    "np.random.choice(np.arange(1, 7)) # die roll"
   ]
  },
  {
   "cell_type": "markdown",
   "id": "bb50c3b9-3be0-44d5-9111-6c37fe106222",
   "metadata": {},
   "source": [
    "# Loops"
   ]
  },
  {
   "cell_type": "code",
   "execution_count": 35,
   "id": "813d4a5f-6446-4814-af4d-271df7b9ff2b",
   "metadata": {},
   "outputs": [
    {
     "name": "stdout",
     "output_type": "stream",
     "text": [
      "Lawton\n",
      "Lonzo\n",
      "Bill\n"
     ]
    }
   ],
   "source": [
    "for person in make_array('Lawton', 'Lonzo', 'Bill'):\n",
    "    print(person)"
   ]
  },
  {
   "cell_type": "code",
   "execution_count": 36,
   "id": "db9f058b-c1f1-4188-9957-e4c16c74b644",
   "metadata": {},
   "outputs": [
    {
     "name": "stdout",
     "output_type": "stream",
     "text": [
      "Lawton\n",
      "Lonzo\n",
      "Bill\n"
     ]
    }
   ],
   "source": [
    "person = make_array('Lawton', 'Lonzo', 'Bill').item(0)\n",
    "print(person)\n",
    "person = make_array('Lawton', 'Lonzo', 'Bill').item(1)\n",
    "print(person)\n",
    "person = make_array('Lawton', 'Lonzo', 'Bill').item(2)\n",
    "print(person)"
   ]
  },
  {
   "cell_type": "markdown",
   "id": "8561a670-322c-4df7-a27b-960c81237dc7",
   "metadata": {},
   "source": [
    "# Simulation"
   ]
  },
  {
   "cell_type": "code",
   "execution_count": 60,
   "id": "e4bb9bad-9c53-494d-a50e-18d706cfafa4",
   "metadata": {},
   "outputs": [
    {
     "name": "stdout",
     "output_type": "stream",
     "text": [
      "-1\n",
      "-1\n",
      "-1\n",
      "-1\n",
      "1\n",
      "-1\n",
      "-1\n",
      "-1\n",
      "1\n",
      "-1\n"
     ]
    }
   ],
   "source": [
    "for i in np.arange(10):\n",
    "    print(one_bet_on_red(1))"
   ]
  },
  {
   "cell_type": "code",
   "execution_count": 63,
   "id": "52c534b4-2765-4279-8550-b6353b7753d8",
   "metadata": {},
   "outputs": [
    {
     "data": {
      "text/plain": [
       "-14"
      ]
     },
     "execution_count": 63,
     "metadata": {},
     "output_type": "execute_result"
    }
   ],
   "source": [
    "winnings = 0\n",
    "for i in np.arange(100):\n",
    "    winnings += one_bet_on_red(1)\n",
    "\n",
    "winnings"
   ]
  },
  {
   "cell_type": "code",
   "execution_count": 65,
   "id": "84a60df0-37d2-4777-9e3c-9a1c183e3e2d",
   "metadata": {},
   "outputs": [
    {
     "data": {
      "text/plain": [
       "array([1, 2, 3])"
      ]
     },
     "execution_count": 65,
     "metadata": {},
     "output_type": "execute_result"
    }
   ],
   "source": [
    "a = make_array(1, 2, 3)\n",
    "a"
   ]
  },
  {
   "cell_type": "code",
   "execution_count": 66,
   "id": "2bdd75c7-3bc2-4066-9120-4f6219414af2",
   "metadata": {},
   "outputs": [
    {
     "data": {
      "text/plain": [
       "array([1, 2, 3, 4])"
      ]
     },
     "execution_count": 66,
     "metadata": {},
     "output_type": "execute_result"
    }
   ],
   "source": [
    "np.append(a, 4)"
   ]
  },
  {
   "cell_type": "code",
   "execution_count": 67,
   "id": "b1547cc0-5e8c-4593-a9d2-522d76bca643",
   "metadata": {},
   "outputs": [
    {
     "data": {
      "text/plain": [
       "array([1, 2, 3])"
      ]
     },
     "execution_count": 67,
     "metadata": {},
     "output_type": "execute_result"
    }
   ],
   "source": [
    "a"
   ]
  },
  {
   "cell_type": "code",
   "execution_count": 68,
   "id": "13189ae0-b75b-42b1-b3ef-71f5d67ea58e",
   "metadata": {},
   "outputs": [
    {
     "data": {
      "text/plain": [
       "array([1, 2, 3, 4, 5])"
      ]
     },
     "execution_count": 68,
     "metadata": {},
     "output_type": "execute_result"
    }
   ],
   "source": [
    "a = np.append(a, 4)\n",
    "a = np.append(a, 5)\n",
    "a"
   ]
  },
  {
   "cell_type": "code",
   "execution_count": 69,
   "id": "f73d0b1a-20ee-46d4-8fe2-42913a3ad776",
   "metadata": {},
   "outputs": [
    {
     "data": {
      "text/plain": [
       "array([-1.,  1.,  1.,  1.,  1., -1., -1.,  1., -1.,  1.,  1.,  1., -1.,\n",
       "        1.,  1., -1.,  1.,  1., -1., -1.,  1.,  1., -1., -1., -1., -1.,\n",
       "        1., -1., -1., -1., -1.,  1., -1.,  1., -1., -1., -1.,  1.,  1.,\n",
       "       -1., -1.,  1., -1.,  1.,  1.,  1., -1.,  1., -1., -1., -1., -1.,\n",
       "       -1., -1., -1.,  1., -1.,  1., -1.,  1., -1., -1., -1.,  1., -1.,\n",
       "        1.,  1., -1., -1.,  1., -1., -1.,  1.,  1., -1., -1.,  1.,  1.,\n",
       "       -1.,  1.,  1., -1., -1., -1., -1.,  1.,  1.,  1., -1.,  1.,  1.,\n",
       "       -1.,  1.,  1., -1.,  1., -1.,  1., -1., -1.])"
      ]
     },
     "execution_count": 69,
     "metadata": {},
     "output_type": "execute_result"
    }
   ],
   "source": [
    "winnings = make_array()\n",
    "for i in np.arange(100):\n",
    "    winnings = np.append(winnings, one_bet_on_red(1))\n",
    "\n",
    "winnings"
   ]
  },
  {
   "cell_type": "code",
   "execution_count": 70,
   "id": "499e322d-e8f9-4f71-836e-e9b730c08696",
   "metadata": {},
   "outputs": [
    {
     "data": {
      "text/plain": [
       "(-0.080000000000000002, -8.0)"
      ]
     },
     "execution_count": 70,
     "metadata": {},
     "output_type": "execute_result"
    }
   ],
   "source": [
    "np.average(winnings), sum(winnings)"
   ]
  },
  {
   "cell_type": "code",
   "execution_count": 71,
   "id": "19d0c7bb-1535-43a5-9660-e64453286848",
   "metadata": {},
   "outputs": [
    {
     "data": {
      "text/html": [
       "<table border=\"1\" class=\"dataframe\">\n",
       "    <thead>\n",
       "        <tr>\n",
       "            <th>winnings</th>\n",
       "        </tr>\n",
       "    </thead>\n",
       "    <tbody>\n",
       "        <tr>\n",
       "            <td>-1      </td>\n",
       "        </tr>\n",
       "        <tr>\n",
       "            <td>1       </td>\n",
       "        </tr>\n",
       "        <tr>\n",
       "            <td>1       </td>\n",
       "        </tr>\n",
       "        <tr>\n",
       "            <td>1       </td>\n",
       "        </tr>\n",
       "        <tr>\n",
       "            <td>1       </td>\n",
       "        </tr>\n",
       "        <tr>\n",
       "            <td>-1      </td>\n",
       "        </tr>\n",
       "        <tr>\n",
       "            <td>-1      </td>\n",
       "        </tr>\n",
       "        <tr>\n",
       "            <td>1       </td>\n",
       "        </tr>\n",
       "        <tr>\n",
       "            <td>-1      </td>\n",
       "        </tr>\n",
       "        <tr>\n",
       "            <td>1       </td>\n",
       "        </tr>\n",
       "    </tbody>\n",
       "</table>\n",
       "<p>... (90 rows omitted)</p>"
      ],
      "text/plain": [
       "winnings\n",
       "-1\n",
       "1\n",
       "1\n",
       "1\n",
       "1\n",
       "-1\n",
       "-1\n",
       "1\n",
       "-1\n",
       "1\n",
       "... (90 rows omitted)"
      ]
     },
     "execution_count": 71,
     "metadata": {},
     "output_type": "execute_result"
    }
   ],
   "source": [
    "outcomes = Table().with_column('winnings', winnings)\n",
    "outcomes"
   ]
  },
  {
   "cell_type": "code",
   "execution_count": 76,
   "id": "071191d8-2b79-4db3-95b8-67fd1f1588f8",
   "metadata": {},
   "outputs": [
    {
     "data": {
      "image/png": "[encoded data removed]",
      "text/plain": [
       "<Figure size 600x400 with 1 Axes>"
      ]
     },
     "metadata": {},
     "output_type": "display_data"
    }
   ],
   "source": [
    "outcomes.group('winnings').barh('winnings')"
   ]
  },
  {
   "cell_type": "code",
   "execution_count": 77,
   "id": "84deef0e-1dfd-4058-b165-c3e9cee24b5e",
   "metadata": {},
   "outputs": [
    {
     "data": {
      "text/plain": [
       "array(['heads', 'tails'],\n",
       "      dtype='<U5')"
      ]
     },
     "execution_count": 77,
     "metadata": {},
     "output_type": "execute_result"
    }
   ],
   "source": [
    "coin"
   ]
  },
  {
   "cell_type": "code",
   "execution_count": 82,
   "id": "6c7e0c29-0533-4975-ac0e-d3e73d0885e3",
   "metadata": {},
   "outputs": [
    {
     "data": {
      "text/plain": [
       "49"
      ]
     },
     "execution_count": 82,
     "metadata": {},
     "output_type": "execute_result"
    }
   ],
   "source": [
    "outcomes = np.random.choice(coin, 100)\n",
    "num_heads = np.count_nonzero(outcomes == 'heads')\n",
    "num_heads"
   ]
  },
  {
   "cell_type": "code",
   "execution_count": 86,
   "id": "5b8c3c9f-0a47-41c1-945b-701228f6eca6",
   "metadata": {},
   "outputs": [],
   "source": [
    "def flip_100_coins_and_count_heads():\n",
    "    outcomes = np.random.choice(coin, 100)\n",
    "    return np.count_nonzero(outcomes == 'heads')"
   ]
  },
  {
   "cell_type": "code",
   "execution_count": 87,
   "id": "c9793900-be3c-47ca-880a-8ab5ddc8345a",
   "metadata": {},
   "outputs": [
    {
     "data": {
      "text/plain": [
       "50"
      ]
     },
     "execution_count": 87,
     "metadata": {},
     "output_type": "execute_result"
    }
   ],
   "source": [
    "flip_100_coins_and_count_heads()"
   ]
  },
  {
   "cell_type": "code",
   "execution_count": 88,
   "id": "2a1e101b-a4f5-40a6-9afe-9c85c2270738",
   "metadata": {},
   "outputs": [],
   "source": [
    "num_repetitions = 20000\n",
    "\n",
    "head_counts = make_array()\n",
    "\n",
    "for i in np.arange(num_repetitions):\n",
    "    head_count = flip_100_coins_and_count_heads()\n",
    "    head_counts = np.append(head_counts, head_count)"
   ]
  },
  {
   "cell_type": "code",
   "execution_count": 89,
   "id": "50023c1b-615d-47cd-87eb-e9ce70a6aa93",
   "metadata": {},
   "outputs": [
    {
     "data": {
      "text/plain": [
       "20000"
      ]
     },
     "execution_count": 89,
     "metadata": {},
     "output_type": "execute_result"
    }
   ],
   "source": [
    "len(head_counts)"
   ]
  },
  {
   "cell_type": "code",
   "execution_count": 90,
   "id": "711b0a5f-44d2-4050-a96b-82718b249e86",
   "metadata": {},
   "outputs": [
    {
     "data": {
      "text/plain": [
       "array([ 54.,  56.,  44., ...,  52.,  46.,  47.])"
      ]
     },
     "execution_count": 90,
     "metadata": {},
     "output_type": "execute_result"
    }
   ],
   "source": [
    "head_counts"
   ]
  },
  {
   "cell_type": "code",
   "execution_count": 91,
   "id": "1a52d13d-6b7c-49f2-8714-1a395964a78f",
   "metadata": {},
   "outputs": [
    {
     "data": {
      "text/html": [
       "<table border=\"1\" class=\"dataframe\">\n",
       "    <thead>\n",
       "        <tr>\n",
       "            <th>Repetition</th> <th>Number of heads</th>\n",
       "        </tr>\n",
       "    </thead>\n",
       "    <tbody>\n",
       "        <tr>\n",
       "            <td>1         </td> <td>54             </td>\n",
       "        </tr>\n",
       "        <tr>\n",
       "            <td>2         </td> <td>56             </td>\n",
       "        </tr>\n",
       "        <tr>\n",
       "            <td>3         </td> <td>44             </td>\n",
       "        </tr>\n",
       "        <tr>\n",
       "            <td>4         </td> <td>40             </td>\n",
       "        </tr>\n",
       "        <tr>\n",
       "            <td>5         </td> <td>40             </td>\n",
       "        </tr>\n",
       "        <tr>\n",
       "            <td>6         </td> <td>58             </td>\n",
       "        </tr>\n",
       "        <tr>\n",
       "            <td>7         </td> <td>46             </td>\n",
       "        </tr>\n",
       "        <tr>\n",
       "            <td>8         </td> <td>53             </td>\n",
       "        </tr>\n",
       "        <tr>\n",
       "            <td>9         </td> <td>56             </td>\n",
       "        </tr>\n",
       "        <tr>\n",
       "            <td>10        </td> <td>52             </td>\n",
       "        </tr>\n",
       "    </tbody>\n",
       "</table>\n",
       "<p>... (19990 rows omitted)</p>"
      ],
      "text/plain": [
       "Repetition | Number of heads\n",
       "1          | 54\n",
       "2          | 56\n",
       "3          | 44\n",
       "4          | 40\n",
       "5          | 40\n",
       "6          | 58\n",
       "7          | 46\n",
       "8          | 53\n",
       "9          | 56\n",
       "10         | 52\n",
       "... (19990 rows omitted)"
      ]
     },
     "execution_count": 91,
     "metadata": {},
     "output_type": "execute_result"
    }
   ],
   "source": [
    "results = Table().with_columns(\n",
    "    'Repetition', np.arange(1, num_repetitions+1),\n",
    "    'Number of heads', head_counts\n",
    ")\n",
    "results"
   ]
  },
  {
   "cell_type": "code",
   "execution_count": 97,
   "id": "36769aa7-91ae-4450-9cc0-f60d9d5ab4b4",
   "metadata": {},
   "outputs": [
    {
     "data": {
      "image/png": "[encoded data removed]",
      "text/plain": [
       "<Figure size 600x400 with 1 Axes>"
      ]
     },
     "metadata": {},
     "output_type": "display_data"
    }
   ],
   "source": [
    "results.hist('Number of heads', bins=np.arange(29.5, 70.6, 1))"
   ]
  },
  {
   "cell_type": "markdown",
   "id": "2c1cae9b-0ed4-41cb-8ad9-34d560d55373",
   "metadata": {},
   "source": [
    "# Monty Hall"
   ]
  },
  {
   "cell_type": "code",
   "execution_count": 105,
   "id": "d917a645-84ab-4916-bce8-a7f32a4eff8d",
   "metadata": {},
   "outputs": [],
   "source": [
    "def monty_hall_game():\n",
    "    '''returns a list: \n",
    "    [original guess, what monty reveals, what you could switch to]'''\n",
    "\n",
    "    doors = make_array('goat 1', 'goat 2', 'car')\n",
    "\n",
    "    guess = np.random.choice(doors)\n",
    "\n",
    "    if guess == 'goat 1':\n",
    "        return ['goat 1', 'goat 2', 'car']\n",
    "    elif guess == 'goat 2':\n",
    "        return ['goat 2', 'goat 1', 'car']\n",
    "    else:\n",
    "        goats = make_array('goat 1', 'goat 2')\n",
    "        np.random.shuffle(goats)\n",
    "        return ['car', goats.item(0), goats.item(1)]"
   ]
  },
  {
   "cell_type": "code",
   "execution_count": 106,
   "id": "d395c247-60bf-48ca-83a7-92385d36e48a",
   "metadata": {},
   "outputs": [
    {
     "data": {
      "text/plain": [
       "['goat 2', 'goat 1', 'car']"
      ]
     },
     "execution_count": 106,
     "metadata": {},
     "output_type": "execute_result"
    }
   ],
   "source": [
    "monty_hall_game()"
   ]
  },
  {
   "cell_type": "code",
   "execution_count": 107,
   "id": "eca90209-eb70-41ee-93b2-3671c73bdd69",
   "metadata": {},
   "outputs": [
    {
     "data": {
      "text/html": [
       "<table border=\"1\" class=\"dataframe\">\n",
       "    <thead>\n",
       "        <tr>\n",
       "            <th>Guess</th> <th>Revealed</th> <th>Remaining</th>\n",
       "        </tr>\n",
       "    </thead>\n",
       "    <tbody>\n",
       "        <tr>\n",
       "            <td>car   </td> <td>goat 1  </td> <td>goat 2   </td>\n",
       "        </tr>\n",
       "        <tr>\n",
       "            <td>car   </td> <td>goat 2  </td> <td>goat 1   </td>\n",
       "        </tr>\n",
       "        <tr>\n",
       "            <td>car   </td> <td>goat 1  </td> <td>goat 2   </td>\n",
       "        </tr>\n",
       "        <tr>\n",
       "            <td>car   </td> <td>goat 1  </td> <td>goat 2   </td>\n",
       "        </tr>\n",
       "        <tr>\n",
       "            <td>goat 1</td> <td>goat 2  </td> <td>car      </td>\n",
       "        </tr>\n",
       "        <tr>\n",
       "            <td>goat 1</td> <td>goat 2  </td> <td>car      </td>\n",
       "        </tr>\n",
       "        <tr>\n",
       "            <td>car   </td> <td>goat 2  </td> <td>goat 1   </td>\n",
       "        </tr>\n",
       "        <tr>\n",
       "            <td>goat 1</td> <td>goat 2  </td> <td>car      </td>\n",
       "        </tr>\n",
       "        <tr>\n",
       "            <td>car   </td> <td>goat 2  </td> <td>goat 1   </td>\n",
       "        </tr>\n",
       "        <tr>\n",
       "            <td>goat 1</td> <td>goat 2  </td> <td>car      </td>\n",
       "        </tr>\n",
       "    </tbody>\n",
       "</table>\n",
       "<p>... (9990 rows omitted)</p>"
      ],
      "text/plain": [
       "Guess  | Revealed | Remaining\n",
       "car    | goat 1   | goat 2\n",
       "car    | goat 2   | goat 1\n",
       "car    | goat 1   | goat 2\n",
       "car    | goat 1   | goat 2\n",
       "goat 1 | goat 2   | car\n",
       "goat 1 | goat 2   | car\n",
       "car    | goat 2   | goat 1\n",
       "goat 1 | goat 2   | car\n",
       "car    | goat 2   | goat 1\n",
       "goat 1 | goat 2   | car\n",
       "... (9990 rows omitted)"
      ]
     },
     "execution_count": 107,
     "metadata": {},
     "output_type": "execute_result"
    }
   ],
   "source": [
    "games = Table(['Guess', 'Revealed', 'Remaining']) # Table with column labels but no rows\n",
    "\n",
    "for i in np.arange(10000):\n",
    "    games.append(monty_hall_game()) # add a row to a table in-place\n",
    "\n",
    "games"
   ]
  },
  {
   "cell_type": "code",
   "execution_count": 108,
   "id": "9c42f523-03b4-4540-a7a0-7dd481c2c1a4",
   "metadata": {},
   "outputs": [
    {
     "data": {
      "text/html": [
       "<table border=\"1\" class=\"dataframe\">\n",
       "    <thead>\n",
       "        <tr>\n",
       "            <th>Guess</th> <th>count</th>\n",
       "        </tr>\n",
       "    </thead>\n",
       "    <tbody>\n",
       "        <tr>\n",
       "            <td>car   </td> <td>3257 </td>\n",
       "        </tr>\n",
       "        <tr>\n",
       "            <td>goat 1</td> <td>3351 </td>\n",
       "        </tr>\n",
       "        <tr>\n",
       "            <td>goat 2</td> <td>3392 </td>\n",
       "        </tr>\n",
       "    </tbody>\n",
       "</table>"
      ],
      "text/plain": [
       "Guess  | count\n",
       "car    | 3257\n",
       "goat 1 | 3351\n",
       "goat 2 | 3392"
      ]
     },
     "execution_count": 108,
     "metadata": {},
     "output_type": "execute_result"
    }
   ],
   "source": [
    "original_choice = games.group('Guess')\n",
    "original_choice"
   ]
  },
  {
   "cell_type": "code",
   "execution_count": 109,
   "id": "1b8c8b4d-737e-43e8-886a-37ddd4204a1a",
   "metadata": {},
   "outputs": [
    {
     "data": {
      "text/html": [
       "<table border=\"1\" class=\"dataframe\">\n",
       "    <thead>\n",
       "        <tr>\n",
       "            <th>Remaining</th> <th>count</th>\n",
       "        </tr>\n",
       "    </thead>\n",
       "    <tbody>\n",
       "        <tr>\n",
       "            <td>car      </td> <td>6743 </td>\n",
       "        </tr>\n",
       "        <tr>\n",
       "            <td>goat 1   </td> <td>1646 </td>\n",
       "        </tr>\n",
       "        <tr>\n",
       "            <td>goat 2   </td> <td>1611 </td>\n",
       "        </tr>\n",
       "    </tbody>\n",
       "</table>"
      ],
      "text/plain": [
       "Remaining | count\n",
       "car       | 6743\n",
       "goat 1    | 1646\n",
       "goat 2    | 1611"
      ]
     },
     "execution_count": 109,
     "metadata": {},
     "output_type": "execute_result"
    }
   ],
   "source": [
    "remaining_door = games.group('Remaining')\n",
    "remaining_door"
   ]
  },
  {
   "cell_type": "code",
   "execution_count": 113,
   "id": "2384eade-c707-4af4-9af3-5c4c66aa4e0c",
   "metadata": {},
   "outputs": [
    {
     "data": {
      "text/html": [
       "<table border=\"1\" class=\"dataframe\">\n",
       "    <thead>\n",
       "        <tr>\n",
       "            <th>Item</th> <th>Original door</th> <th>Door you could switch to</th>\n",
       "        </tr>\n",
       "    </thead>\n",
       "    <tbody>\n",
       "        <tr>\n",
       "            <td>car   </td> <td>3257         </td> <td>6743                    </td>\n",
       "        </tr>\n",
       "        <tr>\n",
       "            <td>goat 1</td> <td>3351         </td> <td>1646                    </td>\n",
       "        </tr>\n",
       "        <tr>\n",
       "            <td>goat 2</td> <td>3392         </td> <td>1611                    </td>\n",
       "        </tr>\n",
       "    </tbody>\n",
       "</table>"
      ],
      "text/plain": [
       "Item   | Original door | Door you could switch to\n",
       "car    | 3257          | 6743\n",
       "goat 1 | 3351          | 1646\n",
       "goat 2 | 3392          | 1611"
      ]
     },
     "execution_count": 113,
     "metadata": {},
     "output_type": "execute_result"
    }
   ],
   "source": [
    "joined = original_choice.join('Guess', remaining_door, 'Remaining')\n",
    "joined = joined.relabel(0, 'Item').relabel(1, 'Original door').relabel(2, 'Door you could switch to')\n",
    "joined"
   ]
  },
  {
   "cell_type": "code",
   "execution_count": 114,
   "id": "fa30c12a-db23-4e2b-88da-09ac37daa888",
   "metadata": {},
   "outputs": [
    {
     "data": {
      "image/png": "[encoded data removed]",
      "text/plain": [
       "<Figure size 600x400 with 1 Axes>"
      ]
     },
     "metadata": {},
     "output_type": "display_data"
    }
   ],
   "source": [
    "joined.barh(0)"
   ]
  },
  {
   "cell_type": "markdown",
   "id": "4d841cfe-ea54-45ff-ba1f-804957c0b153",
   "metadata": {},
   "source": [
    "# Probabilities"
   ]
  },
  {
   "cell_type": "code",
   "execution_count": 127,
   "id": "c84b07fc-93ff-46ad-8917-a98ee354cba7",
   "metadata": {},
   "outputs": [
    {
     "data": {
      "text/html": [
       "<table border=\"1\" class=\"dataframe\">\n",
       "    <thead>\n",
       "        <tr>\n",
       "            <th>Rolls</th> <th>Chance of at least one 6</th>\n",
       "        </tr>\n",
       "    </thead>\n",
       "    <tbody>\n",
       "        <tr>\n",
       "            <td>1    </td> <td>0.166667                </td>\n",
       "        </tr>\n",
       "        <tr>\n",
       "            <td>2    </td> <td>0.305556                </td>\n",
       "        </tr>\n",
       "        <tr>\n",
       "            <td>3    </td> <td>0.421296                </td>\n",
       "        </tr>\n",
       "        <tr>\n",
       "            <td>4    </td> <td>0.517747                </td>\n",
       "        </tr>\n",
       "        <tr>\n",
       "            <td>5    </td> <td>0.598122                </td>\n",
       "        </tr>\n",
       "        <tr>\n",
       "            <td>6    </td> <td>0.665102                </td>\n",
       "        </tr>\n",
       "        <tr>\n",
       "            <td>7    </td> <td>0.720918                </td>\n",
       "        </tr>\n",
       "        <tr>\n",
       "            <td>8    </td> <td>0.767432                </td>\n",
       "        </tr>\n",
       "        <tr>\n",
       "            <td>9    </td> <td>0.806193                </td>\n",
       "        </tr>\n",
       "        <tr>\n",
       "            <td>10   </td> <td>0.838494                </td>\n",
       "        </tr>\n",
       "    </tbody>\n",
       "</table>\n",
       "<p>... (40 rows omitted)</p>"
      ],
      "text/plain": [
       "Rolls | Chance of at least one 6\n",
       "1     | 0.166667\n",
       "2     | 0.305556\n",
       "3     | 0.421296\n",
       "4     | 0.517747\n",
       "5     | 0.598122\n",
       "6     | 0.665102\n",
       "7     | 0.720918\n",
       "8     | 0.767432\n",
       "9     | 0.806193\n",
       "10    | 0.838494\n",
       "... (40 rows omitted)"
      ]
     },
     "execution_count": 127,
     "metadata": {},
     "output_type": "execute_result"
    }
   ],
   "source": [
    "rolls = np.arange(1, 51, 1)\n",
    "results = Table().with_columns(\n",
    "    'Rolls', rolls,\n",
    "    'Chance of at least one 6', 1 - (5/6)**rolls\n",
    ")\n",
    "results"
   ]
  },
  {
   "cell_type": "code",
   "execution_count": 125,
   "id": "d53612fd-ea48-421d-b58e-800a458ceebe",
   "metadata": {},
   "outputs": [
    {
     "data": {
      "image/png": "[encoded data removed]",
      "text/plain": [
       "<Figure size 500x500 with 1 Axes>"
      ]
     },
     "metadata": {},
     "output_type": "display_data"
    }
   ],
   "source": [
    "results.scatter('Rolls')"
   ]
  },
  {
   "cell_type": "code",
   "execution_count": 128,
   "id": "b280d950-7ec0-4ac4-9bed-5dd117ae6d48",
   "metadata": {},
   "outputs": [
    {
     "data": {
      "text/html": [
       "<table border=\"1\" class=\"dataframe\">\n",
       "    <thead>\n",
       "        <tr>\n",
       "            <th>Rolls</th> <th>Chance of at least one 6</th>\n",
       "        </tr>\n",
       "    </thead>\n",
       "    <tbody>\n",
       "        <tr>\n",
       "            <td>50   </td> <td>0.99989                 </td>\n",
       "        </tr>\n",
       "    </tbody>\n",
       "</table>"
      ],
      "text/plain": [
       "Rolls | Chance of at least one 6\n",
       "50    | 0.99989"
      ]
     },
     "execution_count": 128,
     "metadata": {},
     "output_type": "execute_result"
    }
   ],
   "source": [
    "results.where('Rolls', 50)"
   ]
  }
 ],
 "metadata": {
  "kernelspec": {
   "display_name": "Python 3 (ipykernel)",
   "language": "python",
   "name": "python3"
  },
  "language_info": {
   "codemirror_mode": {
    "name": "ipython",
    "version": 3
   },
   "file_extension": ".py",
   "mimetype": "text/x-python",
   "name": "python",
   "nbconvert_exporter": "python",
   "pygments_lexer": "ipython3",
   "version": "3.12.5"
  }
 },
 "nbformat": 4,
 "nbformat_minor": 5
}
