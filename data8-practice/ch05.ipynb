{
 "cells": [
  {
   "cell_type": "code",
   "execution_count": 1,
   "id": "f49d0ee8-ae5c-4fe2-b17e-798fb57842d1",
   "metadata": {},
   "outputs": [],
   "source": [
    "from datascience import *"
   ]
  },
  {
   "cell_type": "code",
   "execution_count": 9,
   "id": "7c2b29d7-fbe8-4d9b-9f68-4c0f2dcb8093",
   "metadata": {},
   "outputs": [],
   "source": [
    "pokemon_i_like = make_array('Pikachu', 'Charizard', 'Squirtle')"
   ]
  },
  {
   "cell_type": "code",
   "execution_count": 3,
   "id": "06915000-a897-4048-8290-dc36ef8f4cf9",
   "metadata": {},
   "outputs": [
    {
     "data": {
      "text/plain": [
       "array(['Pikachu', 'Charizard', 'Squirtle'],\n",
       "      dtype='<U9')"
      ]
     },
     "execution_count": 3,
     "metadata": {},
     "output_type": "execute_result"
    }
   ],
   "source": [
    "pokemon_i_like"
   ]
  },
  {
   "cell_type": "code",
   "execution_count": 43,
   "id": "81900721-c501-4363-a019-f937100b4593",
   "metadata": {
    "scrolled": true
   },
   "outputs": [
    {
     "data": {
      "text/plain": [
       "3"
      ]
     },
     "execution_count": 43,
     "metadata": {},
     "output_type": "execute_result"
    }
   ],
   "source": [
    "len(pokemon_i_like)"
   ]
  },
  {
   "cell_type": "code",
   "execution_count": 10,
   "id": "6a6e1e31-ac84-415c-b9cb-c3bf7fa12e6b",
   "metadata": {
    "scrolled": true
   },
   "outputs": [
    {
     "data": {
      "text/plain": [
       "'Pikachu'"
      ]
     },
     "execution_count": 10,
     "metadata": {},
     "output_type": "execute_result"
    }
   ],
   "source": [
    "pokemon_i_like.item(0)"
   ]
  },
  {
   "cell_type": "code",
   "execution_count": 11,
   "id": "fce4fbc4-e491-4948-8542-055af4e7d1e6",
   "metadata": {},
   "outputs": [
    {
     "data": {
      "text/plain": [
       "'Charizard'"
      ]
     },
     "execution_count": 11,
     "metadata": {},
     "output_type": "execute_result"
    }
   ],
   "source": [
    "pokemon_i_like.item(1)"
   ]
  },
  {
   "cell_type": "code",
   "execution_count": 16,
   "id": "2cb32430-c28c-4ed8-99fe-c065ea06a530",
   "metadata": {},
   "outputs": [],
   "source": [
    "temps_f = make_array(100, 78, 32, -40)"
   ]
  },
  {
   "cell_type": "code",
   "execution_count": 17,
   "id": "17da494f-51bf-4223-85c6-a616167f354c",
   "metadata": {},
   "outputs": [
    {
     "data": {
      "text/plain": [
       "array([200, 156,  64, -80])"
      ]
     },
     "execution_count": 17,
     "metadata": {},
     "output_type": "execute_result"
    }
   ],
   "source": [
    "temps_f * 2"
   ]
  },
  {
   "cell_type": "code",
   "execution_count": 7,
   "id": "c4b793c7-b61f-4e91-aadd-dd3449644096",
   "metadata": {},
   "outputs": [
    {
     "data": {
      "text/plain": [
       "4"
      ]
     },
     "execution_count": 7,
     "metadata": {},
     "output_type": "execute_result"
    }
   ],
   "source": [
    "temps_f.size"
   ]
  },
  {
   "cell_type": "code",
   "execution_count": 8,
   "id": "3cab77d9-e787-4944-a0cb-c786e2ee393d",
   "metadata": {},
   "outputs": [
    {
     "data": {
      "text/plain": [
       "170"
      ]
     },
     "execution_count": 8,
     "metadata": {},
     "output_type": "execute_result"
    }
   ],
   "source": [
    "temps_f.sum()"
   ]
  },
  {
   "cell_type": "code",
   "execution_count": 9,
   "id": "7ca8fa02-497a-409c-b88b-9b7a6ebbb150",
   "metadata": {},
   "outputs": [
    {
     "data": {
      "text/plain": [
       "42.5"
      ]
     },
     "execution_count": 9,
     "metadata": {},
     "output_type": "execute_result"
    }
   ],
   "source": [
    "temps_f.mean()"
   ]
  },
  {
   "cell_type": "code",
   "execution_count": 6,
   "id": "525eaefa-b0d9-4b12-b341-f64ddaa0358b",
   "metadata": {},
   "outputs": [
    {
     "data": {
      "text/plain": [
       "[-40, 32, 78, 100]"
      ]
     },
     "execution_count": 6,
     "metadata": {},
     "output_type": "execute_result"
    }
   ],
   "source": [
    "sorted(temps_f)"
   ]
  },
  {
   "cell_type": "code",
   "execution_count": 20,
   "id": "4fc0e06e-3dbc-4fb3-99c8-b84215029a08",
   "metadata": {},
   "outputs": [],
   "source": [
    "import numpy as np"
   ]
  },
  {
   "cell_type": "code",
   "execution_count": 11,
   "id": "d165328b-8f1f-43e5-bde2-242c6b100004",
   "metadata": {},
   "outputs": [
    {
     "data": {
      "text/plain": [
       "array([-22, -46, -72])"
      ]
     },
     "execution_count": 11,
     "metadata": {},
     "output_type": "execute_result"
    }
   ],
   "source": [
    "np.diff(temps_f)"
   ]
  },
  {
   "cell_type": "code",
   "execution_count": 18,
   "id": "0458446a-a6b0-4740-b6a2-311711ce8d92",
   "metadata": {},
   "outputs": [
    {
     "data": {
      "text/plain": [
       "array([ 37.77777778,  25.55555556,   0.        , -40.        ])"
      ]
     },
     "execution_count": 18,
     "metadata": {},
     "output_type": "execute_result"
    }
   ],
   "source": [
    "temps_c = (temps_f - 32) * (5/9)\n",
    "temps_c"
   ]
  },
  {
   "cell_type": "code",
   "execution_count": 22,
   "id": "b14f3ab8-728e-4aa5-bc1c-5fcbc7f94d16",
   "metadata": {},
   "outputs": [
    {
     "data": {
      "text/plain": [
       "array([ 37.78,  25.56,   0.  , -40.  ])"
      ]
     },
     "execution_count": 22,
     "metadata": {},
     "output_type": "execute_result"
    }
   ],
   "source": [
    "np.round(temps_c, 2)"
   ]
  },
  {
   "cell_type": "code",
   "execution_count": 1,
   "id": "d6564106-14fc-46df-8572-9f748d023c12",
   "metadata": {},
   "outputs": [
    {
     "data": {
      "text/plain": [
       "2"
      ]
     },
     "execution_count": 1,
     "metadata": {},
     "output_type": "execute_result"
    }
   ],
   "source": [
    "True + False + True"
   ]
  },
  {
   "cell_type": "code",
   "execution_count": 12,
   "id": "60276133-bc72-4536-b28c-79ee1c00e253",
   "metadata": {},
   "outputs": [
    {
     "data": {
      "text/plain": [
       "2"
      ]
     },
     "execution_count": 12,
     "metadata": {},
     "output_type": "execute_result"
    }
   ],
   "source": [
    "np.count_nonzero(make_array(1 < 2, 2 < 1, 8 < 7, 42 < 43))"
   ]
  },
  {
   "cell_type": "code",
   "execution_count": 13,
   "id": "d913247b-89fa-466a-ae40-83dfd3351bf7",
   "metadata": {},
   "outputs": [
    {
     "data": {
      "text/plain": [
       "array(['PIKACHU', 'CHARIZARD', 'SQUIRTLE'],\n",
       "      dtype='<U9')"
      ]
     },
     "execution_count": 13,
     "metadata": {},
     "output_type": "execute_result"
    }
   ],
   "source": [
    "np.char.upper(pokemon_i_like)"
   ]
  },
  {
   "cell_type": "code",
   "execution_count": 14,
   "id": "0ec769f4-8fa3-4045-890b-b4daf88d30fd",
   "metadata": {},
   "outputs": [
    {
     "data": {
      "text/plain": [
       "array([0, 1, 2, 3, 4])"
      ]
     },
     "execution_count": 14,
     "metadata": {},
     "output_type": "execute_result"
    }
   ],
   "source": [
    "np.arange(5)"
   ]
  },
  {
   "cell_type": "code",
   "execution_count": 15,
   "id": "ff94c10c-2289-4fa7-aede-7e6504282460",
   "metadata": {},
   "outputs": [
    {
     "data": {
      "text/plain": [
       "array([10, 11, 12, 13, 14, 15, 16, 17, 18, 19])"
      ]
     },
     "execution_count": 15,
     "metadata": {},
     "output_type": "execute_result"
    }
   ],
   "source": [
    "np.arange(10, 20)"
   ]
  },
  {
   "cell_type": "code",
   "execution_count": 17,
   "id": "477ad44b-393c-4c65-b445-d101175af251",
   "metadata": {},
   "outputs": [
    {
     "data": {
      "text/plain": [
       "array([  5,  10,  15,  20,  25,  30,  35,  40,  45,  50,  55,  60,  65,\n",
       "        70,  75,  80,  85,  90,  95, 100])"
      ]
     },
     "execution_count": 17,
     "metadata": {},
     "output_type": "execute_result"
    }
   ],
   "source": [
    "np.arange(5, 101, 5)"
   ]
  },
  {
   "cell_type": "code",
   "execution_count": 24,
   "id": "a3e5c2b9-a6fe-41eb-ba71-1a41ee88a665",
   "metadata": {},
   "outputs": [
    {
     "data": {
      "text/plain": [
       "array([ 13. ,  12.9,  12.8,  12.7,  12.6,  12.5,  12.4,  12.3,  12.2,\n",
       "        12.1,  12. ])"
      ]
     },
     "execution_count": 24,
     "metadata": {},
     "output_type": "execute_result"
    }
   ],
   "source": [
    "np.arange(13, 11.9, -0.1)"
   ]
  },
  {
   "cell_type": "code",
   "execution_count": 21,
   "id": "7da8dfdc-c031-4fc0-b431-3dfa8a277661",
   "metadata": {},
   "outputs": [
    {
     "data": {
      "text/plain": [
       "16.9"
      ]
     },
     "execution_count": 21,
     "metadata": {},
     "output_type": "execute_result"
    }
   ],
   "source": [
    "16.9"
   ]
  },
  {
   "cell_type": "markdown",
   "id": "b9e0a00e-2206-40a9-a910-c9bb9f92acf1",
   "metadata": {},
   "source": [
    "---"
   ]
  },
  {
   "cell_type": "code",
   "execution_count": 26,
   "id": "497a3633-cf03-47c0-94af-c1deaf254d44",
   "metadata": {},
   "outputs": [
    {
     "data": {
      "text/plain": [
       "array([   1,    5,    9, ..., 9989, 9993, 9997])"
      ]
     },
     "execution_count": 26,
     "metadata": {},
     "output_type": "execute_result"
    }
   ],
   "source": [
    "pos_denoms = np.arange(1, 9998, 4)\n",
    "pos_denoms"
   ]
  },
  {
   "cell_type": "code",
   "execution_count": 29,
   "id": "d4b962d5-0165-4721-b61b-9c90bcca6d66",
   "metadata": {},
   "outputs": [
    {
     "data": {
      "text/plain": [
       "array([   3,    7,   11, ..., 9991, 9995, 9999])"
      ]
     },
     "execution_count": 29,
     "metadata": {},
     "output_type": "execute_result"
    }
   ],
   "source": [
    "# crushed ice?\n",
    "neg_denoms = np.arange(3, 10000, 4)\n",
    "neg_denoms"
   ]
  },
  {
   "cell_type": "code",
   "execution_count": 30,
   "id": "bca8f9a1-6864-42aa-95ff-14ca37b31429",
   "metadata": {},
   "outputs": [],
   "source": [
    "pos_terms = 1 / pos_denoms\n",
    "neg_terms = 1/ neg_denoms"
   ]
  },
  {
   "cell_type": "code",
   "execution_count": 31,
   "id": "32f5c70a-878a-43b1-835c-a887bda1a6f2",
   "metadata": {},
   "outputs": [
    {
     "data": {
      "text/plain": [
       "array([  1.00000000e+00,   2.00000000e-01,   1.11111111e-01, ...,\n",
       "         1.00110121e-04,   1.00070049e-04,   1.00030009e-04])"
      ]
     },
     "execution_count": 31,
     "metadata": {},
     "output_type": "execute_result"
    }
   ],
   "source": [
    "pos_terms"
   ]
  },
  {
   "cell_type": "code",
   "execution_count": 34,
   "id": "0bb5ec61-d0f0-4636-8e2d-f214f74f62ef",
   "metadata": {},
   "outputs": [
    {
     "data": {
      "text/plain": [
       "3.1413926535917955"
      ]
     },
     "execution_count": 34,
     "metadata": {},
     "output_type": "execute_result"
    }
   ],
   "source": [
    "4 * (sum(pos_terms) - sum(neg_terms))"
   ]
  },
  {
   "cell_type": "markdown",
   "id": "aa7a006f-eacd-413c-bb27-de35b015d62d",
   "metadata": {},
   "source": [
    "---"
   ]
  },
  {
   "cell_type": "code",
   "execution_count": 36,
   "id": "c1a8d951-b64d-4cac-92f0-721745e013df",
   "metadata": {},
   "outputs": [],
   "source": [
    "pokemon = Table.read_table('data/pokemon.csv')"
   ]
  },
  {
   "cell_type": "code",
   "execution_count": 37,
   "id": "f34205ea-c73f-4f21-81aa-3eb1e64e4bd8",
   "metadata": {},
   "outputs": [
    {
     "data": {
      "text/plain": [
       "array(['Bulbasaur', 'Ivysaur', 'Venusaur', 'Charmander', 'Charmeleon',\n",
       "       'Charizard', 'Squirtle', 'Wartortle', 'Blastoise', 'Caterpie',\n",
       "       'Metapod', 'Butterfree', 'Weedle', 'Kakuna', 'Beedrill', 'Pidgey',\n",
       "       'Pidgeotto', 'Pidgeot', 'Rattata', 'Raticate', 'Spearow', 'Fearow',\n",
       "       'Ekans', 'Arbok', 'Pikachu', 'Raichu', 'Sandshrew', 'Sandslash',\n",
       "       'Nidoran♀', 'Nidorina', 'Nidoqueen', 'Nidoran♂', 'Nidorino',\n",
       "       'Nidoking', 'Clefairy', 'Clefable', 'Vulpix', 'Ninetales',\n",
       "       'Jigglypuff', 'Wigglytuff', 'Zubat', 'Golbat', 'Oddish', 'Gloom',\n",
       "       'Vileplume', 'Paras', 'Parasect', 'Venonat', 'Venomoth', 'Diglett',\n",
       "       'Dugtrio', 'Meowth', 'Persian', 'Psyduck', 'Golduck', 'Mankey',\n",
       "       'Primeape', 'Growlithe', 'Arcanine', 'Poliwag', 'Poliwhirl',\n",
       "       'Poliwrath', 'Abra', 'Kadabra', 'Alakazam', 'Machop', 'Machoke',\n",
       "       'Machamp', 'Bellsprout', 'Weepinbell', 'Victreebel', 'Tentacool',\n",
       "       'Tentacruel', 'Geodude', 'Graveler', 'Golem', 'Ponyta', 'Rapidash',\n",
       "       'Slowpoke', 'Slowbro', 'Magnemite', 'Magneton', \"Farfetch'd\",\n",
       "       'Doduo', 'Dodrio', 'Seel', 'Dewgong', 'Grimer', 'Muk', 'Shellder',\n",
       "       'Cloyster', 'Gastly', 'Haunter', 'Gengar', 'Onix', 'Drowzee',\n",
       "       'Hypno', 'Krabby', 'Kingler', 'Voltorb', 'Electrode', 'Exeggcute',\n",
       "       'Exeggutor', 'Cubone', 'Marowak', 'Hitmonlee', 'Hitmonchan',\n",
       "       'Lickitung', 'Koffing', 'Weezing', 'Rhyhorn', 'Rhydon', 'Chansey',\n",
       "       'Tangela', 'Kangaskhan', 'Horsea', 'Seadra', 'Goldeen', 'Seaking',\n",
       "       'Staryu', 'Starmie', 'Mr. Mime', 'Scyther', 'Jynx', 'Electabuzz',\n",
       "       'Magmar', 'Pinsir', 'Tauros', 'Magikarp', 'Gyarados', 'Lapras',\n",
       "       'Ditto', 'Eevee', 'Vaporeon', 'Jolteon', 'Flareon', 'Porygon',\n",
       "       'Omanyte', 'Omastar', 'Kabuto', 'Kabutops', 'Aerodactyl', 'Snorlax',\n",
       "       'Articuno', 'Zapdos', 'Moltres', 'Dratini', 'Dragonair',\n",
       "       'Dragonite', 'Mewtwo', 'Mew', 'Chikorita', 'Bayleef', 'Meganium',\n",
       "       'Cyndaquil', 'Quilava', 'Typhlosion', 'Totodile', 'Croconaw',\n",
       "       'Feraligatr', 'Sentret', 'Furret', 'Hoothoot', 'Noctowl', 'Ledyba',\n",
       "       'Ledian', 'Spinarak', 'Ariados', 'Crobat', 'Chinchou', 'Lanturn',\n",
       "       'Pichu', 'Cleffa', 'Igglybuff', 'Togepi', 'Togetic', 'Natu', 'Xatu',\n",
       "       'Mareep', 'Flaaffy', 'Ampharos', 'Bellossom', 'Marill', 'Azumarill',\n",
       "       'Sudowoodo', 'Politoed', 'Hoppip', 'Skiploom', 'Jumpluff', 'Aipom',\n",
       "       'Sunkern', 'Sunflora', 'Yanma', 'Wooper', 'Quagsire', 'Espeon',\n",
       "       'Umbreon', 'Murkrow', 'Slowking', 'Misdreavus', 'Unown',\n",
       "       'Wobbuffet', 'Girafarig', 'Pineco', 'Forretress', 'Dunsparce',\n",
       "       'Gligar', 'Steelix', 'Snubbull', 'Granbull', 'Qwilfish', 'Scizor',\n",
       "       'Shuckle', 'Heracross', 'Sneasel', 'Teddiursa', 'Ursaring',\n",
       "       'Slugma', 'Magcargo', 'Swinub', 'Piloswine', 'Corsola', 'Remoraid',\n",
       "       'Octillery', 'Delibird', 'Mantine', 'Skarmory', 'Houndour',\n",
       "       'Houndoom', 'Kingdra', 'Phanpy', 'Donphan', 'Porygon2', 'Stantler',\n",
       "       'Smeargle', 'Tyrogue', 'Hitmontop', 'Smoochum', 'Elekid', 'Magby',\n",
       "       'Miltank', 'Blissey', 'Raikou', 'Entei', 'Suicune', 'Larvitar',\n",
       "       'Pupitar', 'Tyranitar', 'Lugia', 'Ho-Oh', 'Celebi', 'Treecko',\n",
       "       'Grovyle', 'Sceptile', 'Torchic', 'Combusken', 'Blaziken', 'Mudkip',\n",
       "       'Marshtomp', 'Swampert', 'Poochyena', 'Mightyena', 'Zigzagoon',\n",
       "       'Linoone', 'Wurmple', 'Silcoon', 'Beautifly', 'Cascoon', 'Dustox',\n",
       "       'Lotad', 'Lombre', 'Ludicolo', 'Seedot', 'Nuzleaf', 'Shiftry',\n",
       "       'Taillow', 'Swellow', 'Wingull', 'Pelipper', 'Ralts', 'Kirlia',\n",
       "       'Gardevoir', 'Surskit', 'Masquerain', 'Shroomish', 'Breloom',\n",
       "       'Slakoth', 'Vigoroth', 'Slaking', 'Nincada', 'Ninjask', 'Shedinja',\n",
       "       'Whismur', 'Loudred', 'Exploud', 'Makuhita', 'Hariyama', 'Azurill',\n",
       "       'Nosepass', 'Skitty', 'Delcatty', 'Sableye', 'Mawile', 'Aron',\n",
       "       'Lairon', 'Aggron', 'Meditite', 'Medicham', 'Electrike',\n",
       "       'Manectric', 'Plusle', 'Minun', 'Volbeat', 'Illumise', 'Roselia',\n",
       "       'Gulpin', 'Swalot', 'Carvanha', 'Sharpedo', 'Wailmer', 'Wailord',\n",
       "       'Numel', 'Camerupt', 'Torkoal', 'Spoink', 'Grumpig', 'Spinda',\n",
       "       'Trapinch', 'Vibrava', 'Flygon', 'Cacnea', 'Cacturne', 'Swablu',\n",
       "       'Altaria', 'Zangoose', 'Seviper', 'Lunatone', 'Solrock', 'Barboach',\n",
       "       'Whiscash', 'Corphish', 'Crawdaunt', 'Baltoy', 'Claydol', 'Lileep',\n",
       "       'Cradily', 'Anorith', 'Armaldo', 'Feebas', 'Milotic', 'Castform',\n",
       "       'Kecleon', 'Shuppet', 'Banette', 'Duskull', 'Dusclops', 'Tropius',\n",
       "       'Chimecho', 'Absol', 'Wynaut', 'Snorunt', 'Glalie', 'Spheal',\n",
       "       'Sealeo', 'Walrein', 'Clamperl', 'Huntail', 'Gorebyss', 'Relicanth',\n",
       "       'Luvdisc', 'Bagon', 'Shelgon', 'Salamence', 'Beldum', 'Metang',\n",
       "       'Metagross', 'Regirock', 'Regice', 'Registeel', 'Latias', 'Latios',\n",
       "       'Kyogre', 'Groudon', 'Rayquaza', 'Jirachi', 'Deoxys', 'Turtwig',\n",
       "       'Grotle', 'Torterra', 'Chimchar', 'Monferno', 'Infernape', 'Piplup',\n",
       "       'Prinplup', 'Empoleon', 'Starly', 'Staravia', 'Staraptor', 'Bidoof',\n",
       "       'Bibarel', 'Kricketot', 'Kricketune', 'Shinx', 'Luxio', 'Luxray',\n",
       "       'Budew', 'Roserade', 'Cranidos', 'Rampardos', 'Shieldon',\n",
       "       'Bastiodon', 'Burmy', 'Wormadam', 'Mothim', 'Combee', 'Vespiquen',\n",
       "       'Pachirisu', 'Buizel', 'Floatzel', 'Cherubi', 'Cherrim', 'Shellos',\n",
       "       'Gastrodon', 'Ambipom', 'Drifloon', 'Drifblim', 'Buneary',\n",
       "       'Lopunny', 'Mismagius', 'Honchkrow', 'Glameow', 'Purugly',\n",
       "       'Chingling', 'Stunky', 'Skuntank', 'Bronzor', 'Bronzong', 'Bonsly',\n",
       "       'Mime Jr.', 'Happiny', 'Chatot', 'Spiritomb', 'Gible', 'Gabite',\n",
       "       'Garchomp', 'Munchlax', 'Riolu', 'Lucario', 'Hippopotas',\n",
       "       'Hippowdon', 'Skorupi', 'Drapion', 'Croagunk', 'Toxicroak',\n",
       "       'Carnivine', 'Finneon', 'Lumineon', 'Mantyke', 'Snover',\n",
       "       'Abomasnow', 'Weavile', 'Magnezone', 'Lickilicky', 'Rhyperior',\n",
       "       'Tangrowth', 'Electivire', 'Magmortar', 'Togekiss', 'Yanmega',\n",
       "       'Leafeon', 'Glaceon', 'Gliscor', 'Mamoswine', 'Porygon-Z',\n",
       "       'Gallade', 'Probopass', 'Dusknoir', 'Froslass', 'Rotom', 'Uxie',\n",
       "       'Mesprit', 'Azelf', 'Dialga', 'Palkia', 'Heatran', 'Regigigas',\n",
       "       'Giratina', 'Cresselia', 'Phione', 'Manaphy', 'Darkrai', 'Shaymin',\n",
       "       'Arceus', 'Victini', 'Snivy', 'Servine', 'Serperior', 'Tepig',\n",
       "       'Pignite', 'Emboar', 'Oshawott', 'Dewott', 'Samurott', 'Patrat',\n",
       "       'Watchog', 'Lillipup', 'Herdier', 'Stoutland', 'Purrloin',\n",
       "       'Liepard', 'Pansage', 'Simisage', 'Pansear', 'Simisear', 'Panpour',\n",
       "       'Simipour', 'Munna', 'Musharna', 'Pidove', 'Tranquill', 'Unfezant',\n",
       "       'Blitzle', 'Zebstrika', 'Roggenrola', 'Boldore', 'Gigalith',\n",
       "       'Woobat', 'Swoobat', 'Drilbur', 'Excadrill', 'Audino', 'Timburr',\n",
       "       'Gurdurr', 'Conkeldurr', 'Tympole', 'Palpitoad', 'Seismitoad',\n",
       "       'Throh', 'Sawk', 'Sewaddle', 'Swadloon', 'Leavanny', 'Venipede',\n",
       "       'Whirlipede', 'Scolipede', 'Cottonee', 'Whimsicott', 'Petilil',\n",
       "       'Lilligant', 'Basculin', 'Sandile', 'Krokorok', 'Krookodile',\n",
       "       'Darumaka', 'Darmanitan', 'Maractus', 'Dwebble', 'Crustle',\n",
       "       'Scraggy', 'Scrafty', 'Sigilyph', 'Yamask', 'Cofagrigus',\n",
       "       'Tirtouga', 'Carracosta', 'Archen', 'Archeops', 'Trubbish',\n",
       "       'Garbodor', 'Zorua', 'Zoroark', 'Minccino', 'Cinccino', 'Gothita',\n",
       "       'Gothorita', 'Gothitelle', 'Solosis', 'Duosion', 'Reuniclus',\n",
       "       'Ducklett', 'Swanna', 'Vanillite', 'Vanillish', 'Vanilluxe',\n",
       "       'Deerling', 'Sawsbuck', 'Emolga', 'Karrablast', 'Escavalier',\n",
       "       'Foongus', 'Amoonguss', 'Frillish', 'Jellicent', 'Alomomola',\n",
       "       'Joltik', 'Galvantula', 'Ferroseed', 'Ferrothorn', 'Klink', 'Klang',\n",
       "       'Klinklang', 'Tynamo', 'Eelektrik', 'Eelektross', 'Elgyem',\n",
       "       'Beheeyem', 'Litwick', 'Lampent', 'Chandelure', 'Axew', 'Fraxure',\n",
       "       'Haxorus', 'Cubchoo', 'Beartic', 'Cryogonal', 'Shelmet', 'Accelgor',\n",
       "       'Stunfisk', 'Mienfoo', 'Mienshao', 'Druddigon', 'Golett', 'Golurk',\n",
       "       'Pawniard', 'Bisharp', 'Bouffalant', 'Rufflet', 'Braviary',\n",
       "       'Vullaby', 'Mandibuzz', 'Heatmor', 'Durant', 'Deino', 'Zweilous',\n",
       "       'Hydreigon', 'Larvesta', 'Volcarona', 'Cobalion', 'Terrakion',\n",
       "       'Virizion', 'Tornadus', 'Thundurus', 'Reshiram', 'Zekrom',\n",
       "       'Landorus', 'Kyurem', 'Keldeo', 'Meloetta', 'Genesect', 'Chespin',\n",
       "       'Quilladin', 'Chesnaught', 'Fennekin', 'Braixen', 'Delphox',\n",
       "       'Froakie', 'Frogadier', 'Greninja', 'Bunnelby', 'Diggersby',\n",
       "       'Fletchling', 'Fletchinder', 'Talonflame', 'Scatterbug', 'Spewpa',\n",
       "       'Vivillon', 'Litleo', 'Pyroar', 'Flabébé', 'Floette', 'Florges',\n",
       "       'Skiddo', 'Gogoat', 'Pancham', 'Pangoro', 'Furfrou', 'Espurr',\n",
       "       'Meowstic', 'Honedge', 'Doublade', 'Aegislash', 'Spritzee',\n",
       "       'Aromatisse', 'Swirlix', 'Slurpuff', 'Inkay', 'Malamar', 'Binacle',\n",
       "       'Barbaracle', 'Skrelp', 'Dragalge', 'Clauncher', 'Clawitzer',\n",
       "       'Helioptile', 'Heliolisk', 'Tyrunt', 'Tyrantrum', 'Amaura',\n",
       "       'Aurorus', 'Sylveon', 'Hawlucha', 'Dedenne', 'Carbink', 'Goomy',\n",
       "       'Sliggoo', 'Goodra', 'Klefki', 'Phantump', 'Trevenant', 'Pumpkaboo',\n",
       "       'Gourgeist', 'Bergmite', 'Avalugg', 'Noibat', 'Noivern', 'Xerneas',\n",
       "       'Yveltal', 'Zygarde', 'Diancie', 'Hoopa', 'Volcanion', 'Rowlet',\n",
       "       'Dartrix', 'Decidueye', 'Litten', 'Torracat', 'Incineroar',\n",
       "       'Popplio', 'Brionne', 'Primarina', 'Pikipek', 'Trumbeak',\n",
       "       'Toucannon', 'Yungoos', 'Gumshoos', 'Grubbin', 'Charjabug',\n",
       "       'Vikavolt', 'Crabrawler', 'Crabominable', 'Oricorio', 'Cutiefly',\n",
       "       'Ribombee', 'Rockruff', 'Lycanroc', 'Wishiwashi', 'Mareanie',\n",
       "       'Toxapex', 'Mudbray', 'Mudsdale', 'Dewpider', 'Araquanid',\n",
       "       'Fomantis', 'Lurantis', 'Morelull', 'Shiinotic', 'Salandit',\n",
       "       'Salazzle', 'Stufful', 'Bewear', 'Bounsweet', 'Steenee', 'Tsareena',\n",
       "       'Comfey', 'Oranguru', 'Passimian', 'Wimpod', 'Golisopod',\n",
       "       'Sandygast', 'Palossand', 'Pyukumuku', 'Type: Null', 'Silvally',\n",
       "       'Minior', 'Komala', 'Turtonator', 'Togedemaru', 'Mimikyu',\n",
       "       'Bruxish', 'Drampa', 'Dhelmise', 'Jangmo-o', 'Hakamo-o', 'Kommo-o',\n",
       "       'Tapu Koko', 'Tapu Lele', 'Tapu Bulu', 'Tapu Fini', 'Cosmog',\n",
       "       'Cosmoem', 'Solgaleo', 'Lunala', 'Nihilego', 'Buzzwole',\n",
       "       'Pheromosa', 'Xurkitree', 'Celesteela', 'Kartana', 'Guzzlord',\n",
       "       'Necrozma', 'Magearna'],\n",
       "      dtype='<U12')"
      ]
     },
     "execution_count": 37,
     "metadata": {},
     "output_type": "execute_result"
    }
   ],
   "source": [
    "pokemon.column('name')"
   ]
  },
  {
   "cell_type": "code",
   "execution_count": 39,
   "id": "9f1d008f-b27f-4669-97fd-a2d38664365b",
   "metadata": {},
   "outputs": [
    {
     "data": {
      "text/plain": [
       "array([ 49,  62, 100,  52,  64, 104,  48,  63, 103,  30,  20,  45,  35,\n",
       "        25, 150,  45,  60,  80,  56,  71,  60,  90,  60,  95,  55,  85,\n",
       "        75, 100,  47,  62,  92,  57,  72, 102,  45,  70,  41,  67,  45,\n",
       "        70,  45,  80,  50,  65,  80,  70,  95,  55,  65,  55, 100,  35,\n",
       "        60,  52,  82,  80, 105,  70, 110,  50,  65,  95,  20,  35,  50,\n",
       "        80, 100, 130,  75,  90, 105,  40,  70,  80,  95, 120,  85, 100,\n",
       "        65,  75,  35,  60,  90,  85, 110,  45,  70,  80, 105,  65,  95,\n",
       "        35,  50,  65,  45,  48,  73, 105, 130,  30,  50,  40, 105,  50,\n",
       "        80, 120, 105,  55,  65,  90,  85, 130,   5,  55, 125,  40,  65,\n",
       "        67,  92,  45,  75,  45, 110,  50,  83,  95, 155, 100,  10, 155,\n",
       "        85,  48,  55,  65,  65, 130,  60,  40,  60,  80, 115, 135, 110,\n",
       "        85,  90, 100,  64,  84, 134, 150, 100,  49,  62,  82,  52,  64,\n",
       "        84,  65,  80, 105,  46,  76,  30,  50,  20,  35,  60,  90,  90,\n",
       "        38,  58,  40,  25,  30,  20,  40,  50,  75,  40,  55,  95,  80,\n",
       "        20,  50, 100,  75,  35,  45,  55,  70,  30,  75,  65,  45,  85,\n",
       "        65,  65,  85,  75,  60,  72,  33,  80,  65,  90,  70,  75, 125,\n",
       "        80, 120,  95, 150,  10, 185,  95,  80, 130,  40,  50,  50, 100,\n",
       "        55,  65, 105,  55,  40,  80,  60,  90,  95,  60, 120,  80,  95,\n",
       "        20,  35,  95,  30,  63,  75,  80,  10,  85, 115,  75,  64,  84,\n",
       "       164,  90, 130, 100,  45,  65, 110,  60,  85, 160,  70,  85, 150,\n",
       "        55,  90,  30,  70,  45,  35,  70,  35,  50,  30,  50,  70,  40,\n",
       "        70, 100,  55,  85,  30,  50,  25,  35,  85,  30,  60,  40, 130,\n",
       "        60,  80, 160,  45,  90,  90,  51,  71,  91,  60, 120,  20,  45,\n",
       "        45,  65,  85, 105,  70,  90, 140,  40, 100,  45,  75,  50,  40,\n",
       "        73,  47,  60,  43,  73,  90, 140,  70,  90,  60, 120,  85,  25,\n",
       "        45,  60, 100,  70, 100,  85, 115,  40, 110, 115, 100,  55,  95,\n",
       "        48,  78,  80, 120,  40,  70,  41,  81,  95, 125,  15,  60,  70,\n",
       "        90,  75, 165,  40,  70,  68,  50, 150,  23,  50, 120,  40,  60,\n",
       "        80,  64, 104,  84,  90,  30,  75,  95, 145,  55,  75, 145, 100,\n",
       "        50,  75, 100, 130, 150, 180, 180, 100,  95,  68,  89, 109,  58,\n",
       "        78, 104,  51,  66,  86,  55,  75, 120,  45,  85,  25,  85,  65,\n",
       "        85, 120,  30,  70, 125, 165,  42,  52,  29,  69,  94,  30,  80,\n",
       "        45,  65, 105,  35,  60,  48,  83, 100,  50,  80,  66, 136,  60,\n",
       "       125,  55,  82,  30,  63,  93,  24,  89,  80,  25,   5,  65,  92,\n",
       "        70,  90, 170,  85,  70, 145,  72, 112,  50,  90,  61, 106, 100,\n",
       "        49,  69,  20,  62, 132, 120,  70,  85, 140, 100, 123,  95,  50,\n",
       "        76, 110,  60,  95, 130,  80, 165,  55, 100,  80,  65,  75, 105,\n",
       "       125, 120, 120,  90, 160, 120,  70,  80, 100,  90, 103, 120, 100,\n",
       "        45,  60,  75,  63,  93, 123,  55,  75, 100,  55,  85,  60,  80,\n",
       "       110,  50,  88,  53,  98,  53,  98,  53,  98,  25,  55,  55,  77,\n",
       "       115,  60, 100,  75, 105, 135,  45,  57,  85, 135,  60,  80, 105,\n",
       "       140,  50,  65,  95, 100, 125,  53,  63, 103,  45,  55, 100,  27,\n",
       "        67,  35,  60,  92,  72,  82, 117,  90,  30,  86,  65, 105,  75,\n",
       "        90,  58,  30,  50,  78, 108, 112, 140,  50,  95,  65, 105,  50,\n",
       "        95,  30,  45,  55,  30,  40,  65,  44,  87,  50,  65,  95,  60,\n",
       "       100,  75,  75, 135,  55,  85,  40,  60,  75,  47,  77,  50,  94,\n",
       "        55,  80, 100,  55,  85, 115,  55,  75,  30,  40,  55,  87, 117,\n",
       "       147,  70, 130,  50,  40,  70,  66,  85, 125, 120,  74, 124,  85,\n",
       "       125, 110,  83, 123,  55,  65,  97, 109,  65,  85, 105,  85,  60,\n",
       "        90, 129,  90, 100, 105, 120, 150, 145, 120,  72, 128, 120,  61,\n",
       "        78, 107,  45,  59,  69,  56,  63, 145,  36,  56,  50,  73,  81,\n",
       "        35,  22,  52,  50,  68,  38,  65,  65,  65, 100,  82, 124,  80,\n",
       "        48,  48,  80, 110, 150,  52,  72,  48,  80,  54,  92,  52, 105,\n",
       "        60,  75,  53,  73,  38,  55,  89, 121,  59,  77,  65,  92,  58,\n",
       "        50,  50,  75, 100,  80,  70, 110,  66, 100,  69, 117,  30,  70,\n",
       "       131, 131, 100, 160, 160, 110,  55,  75, 107,  65,  85, 115,  54,\n",
       "        69,  74,  75,  85, 120,  70, 110,  62,  82,  70,  82, 132,  70,\n",
       "        45,  55,  65, 115, 140,  53,  63, 100, 125,  40,  70,  55, 105,\n",
       "        35,  45,  44,  64,  75, 125,  30,  40, 120,  52,  60, 120,  35,\n",
       "       125,  55,  75,  60,  95,  95, 100, 115,  78,  98,  90, 105,  60,\n",
       "       131,  55,  75, 110, 115,  85, 130,  75,  29,  29, 137, 113,  53,\n",
       "       139, 137,  89, 101, 181, 101, 107,  95])"
      ]
     },
     "execution_count": 39,
     "metadata": {},
     "output_type": "execute_result"
    }
   ],
   "source": [
    "# crushed ice: get the attack\n",
    "attacks = pokemon.column('attack')\n",
    "attacks"
   ]
  },
  {
   "cell_type": "code",
   "execution_count": 42,
   "id": "ce9b0dea-5df9-4b01-b7b7-95027af433a7",
   "metadata": {},
   "outputs": [
    {
     "data": {
      "text/plain": [
       "77.857677902621717"
      ]
     },
     "execution_count": 42,
     "metadata": {},
     "output_type": "execute_result"
    }
   ],
   "source": [
    "np.average(attacks)"
   ]
  },
  {
   "cell_type": "markdown",
   "id": "f4d1d64e-20ed-4f26-bd14-20b5c7827429",
   "metadata": {},
   "source": [
    "# Miscellaneous things Lawton needs to teach you"
   ]
  },
  {
   "cell_type": "code",
   "execution_count": 14,
   "id": "9f55223b-e782-40d7-82f4-7f6caa2ba858",
   "metadata": {},
   "outputs": [
    {
     "data": {
      "text/plain": [
       "'1and2and3'"
      ]
     },
     "execution_count": 14,
     "metadata": {},
     "output_type": "execute_result"
    }
   ],
   "source": [
    "'and'.join(make_array('1', '2', '3')) # the sequence has to be strs"
   ]
  },
  {
   "cell_type": "code",
   "execution_count": null,
   "id": "7ee7a7ae-39b3-414b-99b6-d7cfe4a81328",
   "metadata": {},
   "outputs": [],
   "source": []
  }
 ],
 "metadata": {
  "kernelspec": {
   "display_name": "Python 3 (ipykernel)",
   "language": "python",
   "name": "python3"
  },
  "language_info": {
   "codemirror_mode": {
    "name": "ipython",
    "version": 3
   },
   "file_extension": ".py",
   "mimetype": "text/x-python",
   "name": "python",
   "nbconvert_exporter": "python",
   "pygments_lexer": "ipython3",
   "version": "3.12.5"
  }
 },
 "nbformat": 4,
 "nbformat_minor": 5
}
