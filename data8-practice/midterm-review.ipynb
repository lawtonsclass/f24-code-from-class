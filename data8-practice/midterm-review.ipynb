{
 "cells": [
  {
   "cell_type": "code",
   "execution_count": 1,
   "id": "74caf437-f6aa-43e5-8b24-212ba9226794",
   "metadata": {},
   "outputs": [],
   "source": [
    "from datascience import *\n",
    "import numpy as np\n",
    "\n",
    "%matplotlib inline\n",
    "import matplotlib.pyplot as plt\n",
    "plt.style.use('fivethirtyeight')"
   ]
  },
  {
   "cell_type": "code",
   "execution_count": 2,
   "id": "0dc82e20-cfe7-499f-b259-70adbcf31453",
   "metadata": {
    "scrolled": true
   },
   "outputs": [
    {
     "data": {
      "text/html": [
       "<table border=\"1\" class=\"dataframe\">\n",
       "    <thead>\n",
       "        <tr>\n",
       "            <th>Name</th> <th>Species</th> <th>Age</th>\n",
       "        </tr>\n",
       "    </thead>\n",
       "    <tbody>\n",
       "        <tr>\n",
       "            <td>Lonzo    </td> <td>cat    </td> <td>5   </td>\n",
       "        </tr>\n",
       "        <tr>\n",
       "            <td>Tony     </td> <td>tiger  </td> <td>73  </td>\n",
       "        </tr>\n",
       "        <tr>\n",
       "            <td>Victor E.</td> <td>bulldog</td> <td>8   </td>\n",
       "        </tr>\n",
       "    </tbody>\n",
       "</table>"
      ],
      "text/plain": [
       "Name      | Species | Age\n",
       "Lonzo     | cat     | 5\n",
       "Tony      | tiger   | 73\n",
       "Victor E. | bulldog | 8"
      ]
     },
     "execution_count": 2,
     "metadata": {},
     "output_type": "execute_result"
    }
   ],
   "source": [
    "t = Table().with_columns(\n",
    "    'Name', make_array('Lonzo', 'Tony', 'Victor E.'),\n",
    "    'Species', make_array('cat', 'tiger', 'bulldog'),\n",
    "    'Age', make_array(5, 2025 - 1952, 8)\n",
    ")\n",
    "t"
   ]
  },
  {
   "cell_type": "code",
   "execution_count": 3,
   "id": "a80f436a-f809-4416-beb3-1d1e8e1e2c6b",
   "metadata": {
    "scrolled": true
   },
   "outputs": [
    {
     "data": {
      "text/plain": [
       "3"
      ]
     },
     "execution_count": 3,
     "metadata": {},
     "output_type": "execute_result"
    }
   ],
   "source": [
    "t.num_rows"
   ]
  },
  {
   "cell_type": "code",
   "execution_count": 4,
   "id": "29fbe1ac-fa47-466e-a7ce-683ad4f7e509",
   "metadata": {
    "scrolled": true
   },
   "outputs": [
    {
     "data": {
      "text/plain": [
       "3"
      ]
     },
     "execution_count": 4,
     "metadata": {},
     "output_type": "execute_result"
    }
   ],
   "source": [
    "t.num_columns"
   ]
  },
  {
   "cell_type": "code",
   "execution_count": 5,
   "id": "6ec878f3-e3e6-41f8-ada6-58231d2bd384",
   "metadata": {
    "scrolled": true
   },
   "outputs": [
    {
     "data": {
      "text/plain": [
       "('Name', 'Species', 'Age')"
      ]
     },
     "execution_count": 5,
     "metadata": {},
     "output_type": "execute_result"
    }
   ],
   "source": [
    "t.labels"
   ]
  },
  {
   "cell_type": "code",
   "execution_count": 6,
   "id": "cc9dbe46-da66-46c9-a3dd-b1ce9854fd74",
   "metadata": {},
   "outputs": [
    {
     "data": {
      "text/html": [
       "<table border=\"1\" class=\"dataframe\">\n",
       "    <thead>\n",
       "        <tr>\n",
       "            <th>Name</th> <th>Age</th>\n",
       "        </tr>\n",
       "    </thead>\n",
       "    <tbody>\n",
       "        <tr>\n",
       "            <td>Lonzo    </td> <td>5   </td>\n",
       "        </tr>\n",
       "        <tr>\n",
       "            <td>Tony     </td> <td>73  </td>\n",
       "        </tr>\n",
       "        <tr>\n",
       "            <td>Victor E.</td> <td>8   </td>\n",
       "        </tr>\n",
       "    </tbody>\n",
       "</table>"
      ],
      "text/plain": [
       "Name      | Age\n",
       "Lonzo     | 5\n",
       "Tony      | 73\n",
       "Victor E. | 8"
      ]
     },
     "execution_count": 6,
     "metadata": {},
     "output_type": "execute_result"
    }
   ],
   "source": [
    "t.select('Name', 2) # label or index"
   ]
  },
  {
   "cell_type": "code",
   "execution_count": 7,
   "id": "eb462ed6-1aa3-4b6e-a81e-108ca162f28e",
   "metadata": {
    "scrolled": true
   },
   "outputs": [
    {
     "data": {
      "text/html": [
       "<table border=\"1\" class=\"dataframe\">\n",
       "    <thead>\n",
       "        <tr>\n",
       "            <th>Nombre</th> <th>Species</th> <th>Age</th>\n",
       "        </tr>\n",
       "    </thead>\n",
       "    <tbody>\n",
       "        <tr>\n",
       "            <td>Lonzo    </td> <td>cat    </td> <td>5   </td>\n",
       "        </tr>\n",
       "        <tr>\n",
       "            <td>Tony     </td> <td>tiger  </td> <td>73  </td>\n",
       "        </tr>\n",
       "        <tr>\n",
       "            <td>Victor E.</td> <td>bulldog</td> <td>8   </td>\n",
       "        </tr>\n",
       "    </tbody>\n",
       "</table>"
      ],
      "text/plain": [
       "Nombre    | Species | Age\n",
       "Lonzo     | cat     | 5\n",
       "Tony      | tiger   | 73\n",
       "Victor E. | bulldog | 8"
      ]
     },
     "execution_count": 7,
     "metadata": {},
     "output_type": "execute_result"
    }
   ],
   "source": [
    "t.relabeled('Name', 'Nombre')"
   ]
  },
  {
   "cell_type": "code",
   "execution_count": 8,
   "id": "a6058e03-100f-46b4-aa3f-e9cf4394fbf6",
   "metadata": {},
   "outputs": [
    {
     "data": {
      "text/html": [
       "<table border=\"1\" class=\"dataframe\">\n",
       "    <thead>\n",
       "        <tr>\n",
       "            <th>Name</th> <th>Species</th>\n",
       "        </tr>\n",
       "    </thead>\n",
       "    <tbody>\n",
       "        <tr>\n",
       "            <td>Lonzo    </td> <td>cat    </td>\n",
       "        </tr>\n",
       "        <tr>\n",
       "            <td>Tony     </td> <td>tiger  </td>\n",
       "        </tr>\n",
       "        <tr>\n",
       "            <td>Victor E.</td> <td>bulldog</td>\n",
       "        </tr>\n",
       "    </tbody>\n",
       "</table>"
      ],
      "text/plain": [
       "Name      | Species\n",
       "Lonzo     | cat\n",
       "Tony      | tiger\n",
       "Victor E. | bulldog"
      ]
     },
     "execution_count": 8,
     "metadata": {},
     "output_type": "execute_result"
    }
   ],
   "source": [
    "t.drop('Age')"
   ]
  },
  {
   "cell_type": "code",
   "execution_count": 67,
   "id": "0b668001-f6f2-49da-9f3f-2fcac1acb0a5",
   "metadata": {},
   "outputs": [
    {
     "data": {
      "text/html": [
       "<table border=\"1\" class=\"dataframe\">\n",
       "    <thead>\n",
       "        <tr>\n",
       "            <th>x</th> <th>y</th>\n",
       "        </tr>\n",
       "    </thead>\n",
       "    <tbody>\n",
       "        <tr>\n",
       "            <td>1   </td> <td>200 </td>\n",
       "        </tr>\n",
       "        <tr>\n",
       "            <td>6   </td> <td>190 </td>\n",
       "        </tr>\n",
       "        <tr>\n",
       "            <td>11  </td> <td>180 </td>\n",
       "        </tr>\n",
       "        <tr>\n",
       "            <td>16  </td> <td>170 </td>\n",
       "        </tr>\n",
       "        <tr>\n",
       "            <td>21  </td> <td>160 </td>\n",
       "        </tr>\n",
       "        <tr>\n",
       "            <td>26  </td> <td>150 </td>\n",
       "        </tr>\n",
       "        <tr>\n",
       "            <td>31  </td> <td>140 </td>\n",
       "        </tr>\n",
       "        <tr>\n",
       "            <td>36  </td> <td>130 </td>\n",
       "        </tr>\n",
       "        <tr>\n",
       "            <td>41  </td> <td>120 </td>\n",
       "        </tr>\n",
       "        <tr>\n",
       "            <td>46  </td> <td>110 </td>\n",
       "        </tr>\n",
       "    </tbody>\n",
       "</table>\n",
       "<p>... (10 rows omitted)</p>"
      ],
      "text/plain": [
       "x    | y\n",
       "1    | 200\n",
       "6    | 190\n",
       "11   | 180\n",
       "16   | 170\n",
       "21   | 160\n",
       "26   | 150\n",
       "31   | 140\n",
       "36   | 130\n",
       "41   | 120\n",
       "46   | 110\n",
       "... (10 rows omitted)"
      ]
     },
     "execution_count": 67,
     "metadata": {},
     "output_type": "execute_result"
    }
   ],
   "source": [
    "t2 = Table().with_columns(\n",
    "    'x', np.arange(1, 101, 5),\n",
    "    'y', np.arange(200, 0, -10)\n",
    ")\n",
    "t2"
   ]
  },
  {
   "cell_type": "code",
   "execution_count": 68,
   "id": "268cd57d-fee8-4465-92fb-e4422931e249",
   "metadata": {},
   "outputs": [
    {
     "data": {
      "image/png": "[encoded data removed]",
      "text/plain": [
       "<Figure size 500x500 with 1 Axes>"
      ]
     },
     "metadata": {},
     "output_type": "display_data"
    }
   ],
   "source": [
    "t2.scatter('x')"
   ]
  },
  {
   "cell_type": "markdown",
   "id": "152027ac-1366-48a3-a7a8-c86fa0e08ce5",
   "metadata": {},
   "source": [
    "---"
   ]
  },
  {
   "cell_type": "code",
   "execution_count": 9,
   "id": "9fc4db45-61c3-40eb-b77f-a45534730c0b",
   "metadata": {},
   "outputs": [
    {
     "data": {
      "text/html": [
       "<table border=\"1\" class=\"dataframe\">\n",
       "    <thead>\n",
       "        <tr>\n",
       "            <th>Words</th>\n",
       "        </tr>\n",
       "    </thead>\n",
       "    <tbody>\n",
       "        <tr>\n",
       "            <td>cigar</td>\n",
       "        </tr>\n",
       "        <tr>\n",
       "            <td>rebut</td>\n",
       "        </tr>\n",
       "        <tr>\n",
       "            <td>sissy</td>\n",
       "        </tr>\n",
       "        <tr>\n",
       "            <td>humph</td>\n",
       "        </tr>\n",
       "        <tr>\n",
       "            <td>awake</td>\n",
       "        </tr>\n",
       "        <tr>\n",
       "            <td>blush</td>\n",
       "        </tr>\n",
       "        <tr>\n",
       "            <td>focal</td>\n",
       "        </tr>\n",
       "        <tr>\n",
       "            <td>evade</td>\n",
       "        </tr>\n",
       "        <tr>\n",
       "            <td>naval</td>\n",
       "        </tr>\n",
       "        <tr>\n",
       "            <td>serve</td>\n",
       "        </tr>\n",
       "    </tbody>\n",
       "</table>\n",
       "<p>... (2305 rows omitted)</p>"
      ],
      "text/plain": [
       "Words\n",
       "cigar\n",
       "rebut\n",
       "sissy\n",
       "humph\n",
       "awake\n",
       "blush\n",
       "focal\n",
       "evade\n",
       "naval\n",
       "serve\n",
       "... (2305 rows omitted)"
      ]
     },
     "execution_count": 9,
     "metadata": {},
     "output_type": "execute_result"
    }
   ],
   "source": [
    "words = Table.read_table('data/wordle.csv')\n",
    "words"
   ]
  },
  {
   "cell_type": "code",
   "execution_count": 10,
   "id": "8279c1cd-9f06-4768-87db-2417f842a9bb",
   "metadata": {},
   "outputs": [
    {
     "name": "stdout",
     "output_type": "stream",
     "text": [
      "h\n",
      "e\n",
      "l\n",
      "l\n",
      "o\n"
     ]
    }
   ],
   "source": [
    "for c in 'hello':\n",
    "    print(c)"
   ]
  },
  {
   "cell_type": "code",
   "execution_count": 11,
   "id": "fe26da2e-f768-4bf9-a314-98fdb2e29593",
   "metadata": {
    "scrolled": true
   },
   "outputs": [],
   "source": [
    "def str_to_array(s):\n",
    "    array = make_array()\n",
    "\n",
    "    for c in s:\n",
    "        array = np.append(array, c)\n",
    "\n",
    "    return array"
   ]
  },
  {
   "cell_type": "code",
   "execution_count": 12,
   "id": "b30aeafa-b6ec-4bf5-b0f5-a9c17ad030fc",
   "metadata": {},
   "outputs": [
    {
     "data": {
      "text/plain": [
       "array(['h', 'e', 'l', 'l', 'o', 'w', 'o', 'r', 'l', 'd'],\n",
       "      dtype='<U32')"
      ]
     },
     "execution_count": 12,
     "metadata": {},
     "output_type": "execute_result"
    }
   ],
   "source": [
    "np.append(str_to_array('hello'), str_to_array('world'))"
   ]
  },
  {
   "cell_type": "code",
   "execution_count": 13,
   "id": "7dce62a9-cb2e-4812-8b06-2a9da037c00f",
   "metadata": {},
   "outputs": [
    {
     "data": {
      "text/plain": [
       "array(['c', 'i', 'g', ..., 'a', 'v', 'e'],\n",
       "      dtype='<U32')"
      ]
     },
     "execution_count": 13,
     "metadata": {},
     "output_type": "execute_result"
    }
   ],
   "source": [
    "letters_in_every_word = make_array()\n",
    "\n",
    "for word in words.column(0):\n",
    "    letters_in_every_word = np.append(letters_in_every_word, str_to_array(word))\n",
    "\n",
    "letters_in_every_word"
   ]
  },
  {
   "cell_type": "code",
   "execution_count": 14,
   "id": "0ab7569c-599d-4b54-901f-0a3431c193e8",
   "metadata": {},
   "outputs": [
    {
     "data": {
      "text/plain": [
       "11575"
      ]
     },
     "execution_count": 14,
     "metadata": {},
     "output_type": "execute_result"
    }
   ],
   "source": [
    "len(letters_in_every_word)"
   ]
  },
  {
   "cell_type": "code",
   "execution_count": 15,
   "id": "1ec5128c-a4ed-46a9-8a95-2328f2db2ecc",
   "metadata": {},
   "outputs": [
    {
     "data": {
      "text/html": [
       "<table border=\"1\" class=\"dataframe\">\n",
       "    <thead>\n",
       "        <tr>\n",
       "            <th>Letter</th>\n",
       "        </tr>\n",
       "    </thead>\n",
       "    <tbody>\n",
       "        <tr>\n",
       "            <td>a     </td>\n",
       "        </tr>\n",
       "        <tr>\n",
       "            <td>b     </td>\n",
       "        </tr>\n",
       "        <tr>\n",
       "            <td>c     </td>\n",
       "        </tr>\n",
       "        <tr>\n",
       "            <td>d     </td>\n",
       "        </tr>\n",
       "        <tr>\n",
       "            <td>e     </td>\n",
       "        </tr>\n",
       "        <tr>\n",
       "            <td>f     </td>\n",
       "        </tr>\n",
       "        <tr>\n",
       "            <td>g     </td>\n",
       "        </tr>\n",
       "        <tr>\n",
       "            <td>h     </td>\n",
       "        </tr>\n",
       "        <tr>\n",
       "            <td>i     </td>\n",
       "        </tr>\n",
       "        <tr>\n",
       "            <td>j     </td>\n",
       "        </tr>\n",
       "        <tr>\n",
       "            <td>k     </td>\n",
       "        </tr>\n",
       "        <tr>\n",
       "            <td>l     </td>\n",
       "        </tr>\n",
       "        <tr>\n",
       "            <td>m     </td>\n",
       "        </tr>\n",
       "        <tr>\n",
       "            <td>n     </td>\n",
       "        </tr>\n",
       "        <tr>\n",
       "            <td>o     </td>\n",
       "        </tr>\n",
       "        <tr>\n",
       "            <td>p     </td>\n",
       "        </tr>\n",
       "        <tr>\n",
       "            <td>q     </td>\n",
       "        </tr>\n",
       "        <tr>\n",
       "            <td>r     </td>\n",
       "        </tr>\n",
       "        <tr>\n",
       "            <td>s     </td>\n",
       "        </tr>\n",
       "        <tr>\n",
       "            <td>t     </td>\n",
       "        </tr>\n",
       "        <tr>\n",
       "            <td>u     </td>\n",
       "        </tr>\n",
       "        <tr>\n",
       "            <td>v     </td>\n",
       "        </tr>\n",
       "        <tr>\n",
       "            <td>w     </td>\n",
       "        </tr>\n",
       "        <tr>\n",
       "            <td>x     </td>\n",
       "        </tr>\n",
       "        <tr>\n",
       "            <td>y     </td>\n",
       "        </tr>\n",
       "        <tr>\n",
       "            <td>z     </td>\n",
       "        </tr>\n",
       "    </tbody>\n",
       "</table>"
      ],
      "text/plain": [
       "<IPython.core.display.HTML object>"
      ]
     },
     "metadata": {},
     "output_type": "display_data"
    }
   ],
   "source": [
    "letters = Table().with_column(\n",
    "    'Letter', str_to_array('abcdefghijklmnopqrstuvwxyz'),\n",
    ")\n",
    "letters.show()"
   ]
  },
  {
   "cell_type": "code",
   "execution_count": 16,
   "id": "2ec5a2ab-0953-46cc-85e3-a2f1db7b23af",
   "metadata": {},
   "outputs": [
    {
     "data": {
      "text/plain": [
       "389"
      ]
     },
     "execution_count": 16,
     "metadata": {},
     "output_type": "execute_result"
    }
   ],
   "source": [
    "np.count_nonzero(letters_in_every_word == 'h')"
   ]
  },
  {
   "cell_type": "code",
   "execution_count": 17,
   "id": "741a00cf-13ad-4fd4-9e02-5dabd6e127cc",
   "metadata": {},
   "outputs": [],
   "source": [
    "def count_character(c):\n",
    "    return np.count_nonzero(letters_in_every_word == c)"
   ]
  },
  {
   "cell_type": "code",
   "execution_count": 18,
   "id": "5bb7a988-ba95-4ca4-89dd-b4e5a66ef23c",
   "metadata": {},
   "outputs": [
    {
     "data": {
      "text/plain": [
       "389"
      ]
     },
     "execution_count": 18,
     "metadata": {},
     "output_type": "execute_result"
    }
   ],
   "source": [
    "count_character('h')"
   ]
  },
  {
   "cell_type": "code",
   "execution_count": 19,
   "id": "85852b5f-063e-43c2-b8af-c75dea92bd0f",
   "metadata": {},
   "outputs": [
    {
     "data": {
      "text/plain": [
       "1233"
      ]
     },
     "execution_count": 19,
     "metadata": {},
     "output_type": "execute_result"
    }
   ],
   "source": [
    "count_character('e')"
   ]
  },
  {
   "cell_type": "code",
   "execution_count": 20,
   "id": "f495786f-f033-460b-9130-4a400ca011ff",
   "metadata": {},
   "outputs": [
    {
     "data": {
      "text/plain": [
       "array([ 979,  281,  477,  393, 1233,  230,  311,  389,  671,   27,  210,\n",
       "        719,  316,  575,  754,  367,   29,  899,  669,  729,  467,  153,\n",
       "        195,   37,  425,   40])"
      ]
     },
     "execution_count": 20,
     "metadata": {},
     "output_type": "execute_result"
    }
   ],
   "source": [
    "letters.apply(count_character, 'Letter')"
   ]
  },
  {
   "cell_type": "code",
   "execution_count": 21,
   "id": "463f2181-e74d-4482-978b-4a6c9cfc109b",
   "metadata": {},
   "outputs": [
    {
     "data": {
      "text/html": [
       "<table border=\"1\" class=\"dataframe\">\n",
       "    <thead>\n",
       "        <tr>\n",
       "            <th>Letter</th> <th>Count</th>\n",
       "        </tr>\n",
       "    </thead>\n",
       "    <tbody>\n",
       "        <tr>\n",
       "            <td>a     </td> <td>979  </td>\n",
       "        </tr>\n",
       "        <tr>\n",
       "            <td>b     </td> <td>281  </td>\n",
       "        </tr>\n",
       "        <tr>\n",
       "            <td>c     </td> <td>477  </td>\n",
       "        </tr>\n",
       "        <tr>\n",
       "            <td>d     </td> <td>393  </td>\n",
       "        </tr>\n",
       "        <tr>\n",
       "            <td>e     </td> <td>1233 </td>\n",
       "        </tr>\n",
       "        <tr>\n",
       "            <td>f     </td> <td>230  </td>\n",
       "        </tr>\n",
       "        <tr>\n",
       "            <td>g     </td> <td>311  </td>\n",
       "        </tr>\n",
       "        <tr>\n",
       "            <td>h     </td> <td>389  </td>\n",
       "        </tr>\n",
       "        <tr>\n",
       "            <td>i     </td> <td>671  </td>\n",
       "        </tr>\n",
       "        <tr>\n",
       "            <td>j     </td> <td>27   </td>\n",
       "        </tr>\n",
       "        <tr>\n",
       "            <td>k     </td> <td>210  </td>\n",
       "        </tr>\n",
       "        <tr>\n",
       "            <td>l     </td> <td>719  </td>\n",
       "        </tr>\n",
       "        <tr>\n",
       "            <td>m     </td> <td>316  </td>\n",
       "        </tr>\n",
       "        <tr>\n",
       "            <td>n     </td> <td>575  </td>\n",
       "        </tr>\n",
       "        <tr>\n",
       "            <td>o     </td> <td>754  </td>\n",
       "        </tr>\n",
       "        <tr>\n",
       "            <td>p     </td> <td>367  </td>\n",
       "        </tr>\n",
       "        <tr>\n",
       "            <td>q     </td> <td>29   </td>\n",
       "        </tr>\n",
       "        <tr>\n",
       "            <td>r     </td> <td>899  </td>\n",
       "        </tr>\n",
       "        <tr>\n",
       "            <td>s     </td> <td>669  </td>\n",
       "        </tr>\n",
       "        <tr>\n",
       "            <td>t     </td> <td>729  </td>\n",
       "        </tr>\n",
       "        <tr>\n",
       "            <td>u     </td> <td>467  </td>\n",
       "        </tr>\n",
       "        <tr>\n",
       "            <td>v     </td> <td>153  </td>\n",
       "        </tr>\n",
       "        <tr>\n",
       "            <td>w     </td> <td>195  </td>\n",
       "        </tr>\n",
       "        <tr>\n",
       "            <td>x     </td> <td>37   </td>\n",
       "        </tr>\n",
       "        <tr>\n",
       "            <td>y     </td> <td>425  </td>\n",
       "        </tr>\n",
       "        <tr>\n",
       "            <td>z     </td> <td>40   </td>\n",
       "        </tr>\n",
       "    </tbody>\n",
       "</table>"
      ],
      "text/plain": [
       "<IPython.core.display.HTML object>"
      ]
     },
     "metadata": {},
     "output_type": "display_data"
    }
   ],
   "source": [
    "letters_and_counts = letters.with_column(\n",
    "    'Count', letters.apply(count_character, 'Letter')\n",
    ")\n",
    "letters_and_counts.show()"
   ]
  },
  {
   "cell_type": "code",
   "execution_count": 22,
   "id": "0535403c-78a9-4696-8b45-d17188dd7453",
   "metadata": {},
   "outputs": [
    {
     "data": {
      "text/html": [
       "<table border=\"1\" class=\"dataframe\">\n",
       "    <thead>\n",
       "        <tr>\n",
       "            <th>Letter</th> <th>Count</th>\n",
       "        </tr>\n",
       "    </thead>\n",
       "    <tbody>\n",
       "        <tr>\n",
       "            <td>e     </td> <td>1233 </td>\n",
       "        </tr>\n",
       "        <tr>\n",
       "            <td>a     </td> <td>979  </td>\n",
       "        </tr>\n",
       "        <tr>\n",
       "            <td>r     </td> <td>899  </td>\n",
       "        </tr>\n",
       "        <tr>\n",
       "            <td>o     </td> <td>754  </td>\n",
       "        </tr>\n",
       "        <tr>\n",
       "            <td>t     </td> <td>729  </td>\n",
       "        </tr>\n",
       "        <tr>\n",
       "            <td>l     </td> <td>719  </td>\n",
       "        </tr>\n",
       "        <tr>\n",
       "            <td>i     </td> <td>671  </td>\n",
       "        </tr>\n",
       "        <tr>\n",
       "            <td>s     </td> <td>669  </td>\n",
       "        </tr>\n",
       "        <tr>\n",
       "            <td>n     </td> <td>575  </td>\n",
       "        </tr>\n",
       "        <tr>\n",
       "            <td>c     </td> <td>477  </td>\n",
       "        </tr>\n",
       "        <tr>\n",
       "            <td>u     </td> <td>467  </td>\n",
       "        </tr>\n",
       "        <tr>\n",
       "            <td>y     </td> <td>425  </td>\n",
       "        </tr>\n",
       "        <tr>\n",
       "            <td>d     </td> <td>393  </td>\n",
       "        </tr>\n",
       "        <tr>\n",
       "            <td>h     </td> <td>389  </td>\n",
       "        </tr>\n",
       "        <tr>\n",
       "            <td>p     </td> <td>367  </td>\n",
       "        </tr>\n",
       "        <tr>\n",
       "            <td>m     </td> <td>316  </td>\n",
       "        </tr>\n",
       "        <tr>\n",
       "            <td>g     </td> <td>311  </td>\n",
       "        </tr>\n",
       "        <tr>\n",
       "            <td>b     </td> <td>281  </td>\n",
       "        </tr>\n",
       "        <tr>\n",
       "            <td>f     </td> <td>230  </td>\n",
       "        </tr>\n",
       "        <tr>\n",
       "            <td>k     </td> <td>210  </td>\n",
       "        </tr>\n",
       "        <tr>\n",
       "            <td>w     </td> <td>195  </td>\n",
       "        </tr>\n",
       "        <tr>\n",
       "            <td>v     </td> <td>153  </td>\n",
       "        </tr>\n",
       "        <tr>\n",
       "            <td>z     </td> <td>40   </td>\n",
       "        </tr>\n",
       "        <tr>\n",
       "            <td>x     </td> <td>37   </td>\n",
       "        </tr>\n",
       "        <tr>\n",
       "            <td>q     </td> <td>29   </td>\n",
       "        </tr>\n",
       "        <tr>\n",
       "            <td>j     </td> <td>27   </td>\n",
       "        </tr>\n",
       "    </tbody>\n",
       "</table>"
      ],
      "text/plain": [
       "<IPython.core.display.HTML object>"
      ]
     },
     "metadata": {},
     "output_type": "display_data"
    }
   ],
   "source": [
    "letters_and_counts.sort('Count', descending=True).show()"
   ]
  },
  {
   "cell_type": "code",
   "execution_count": 23,
   "id": "6faf8ba1-975a-43ca-ae38-ac9305406cdb",
   "metadata": {},
   "outputs": [
    {
     "data": {
      "image/png": "[encoded data removed]",
      "text/plain": [
       "<Figure size 600x1300 with 1 Axes>"
      ]
     },
     "metadata": {},
     "output_type": "display_data"
    }
   ],
   "source": [
    "letters_and_counts.barh('Letter')"
   ]
  },
  {
   "cell_type": "code",
   "execution_count": 24,
   "id": "978b910a-6daa-459a-9074-bd6a221d1ab6",
   "metadata": {},
   "outputs": [
    {
     "data": {
      "image/png": "[encoded data removed]",
      "text/plain": [
       "<Figure size 600x1300 with 1 Axes>"
      ]
     },
     "metadata": {},
     "output_type": "display_data"
    }
   ],
   "source": [
    "letters_and_counts.sort('Count', descending=True).barh('Letter')"
   ]
  },
  {
   "cell_type": "code",
   "execution_count": 25,
   "id": "fbcfd00f-85aa-4a06-90cd-c8407661ad95",
   "metadata": {},
   "outputs": [
    {
     "data": {
      "text/html": [
       "<table border=\"1\" class=\"dataframe\">\n",
       "    <thead>\n",
       "        <tr>\n",
       "            <th>Words</th>\n",
       "        </tr>\n",
       "    </thead>\n",
       "    <tbody>\n",
       "        <tr>\n",
       "            <td>cigar</td>\n",
       "        </tr>\n",
       "        <tr>\n",
       "            <td>rebut</td>\n",
       "        </tr>\n",
       "        <tr>\n",
       "            <td>sissy</td>\n",
       "        </tr>\n",
       "        <tr>\n",
       "            <td>humph</td>\n",
       "        </tr>\n",
       "        <tr>\n",
       "            <td>awake</td>\n",
       "        </tr>\n",
       "        <tr>\n",
       "            <td>blush</td>\n",
       "        </tr>\n",
       "        <tr>\n",
       "            <td>focal</td>\n",
       "        </tr>\n",
       "        <tr>\n",
       "            <td>evade</td>\n",
       "        </tr>\n",
       "        <tr>\n",
       "            <td>naval</td>\n",
       "        </tr>\n",
       "        <tr>\n",
       "            <td>serve</td>\n",
       "        </tr>\n",
       "    </tbody>\n",
       "</table>\n",
       "<p>... (2305 rows omitted)</p>"
      ],
      "text/plain": [
       "Words\n",
       "cigar\n",
       "rebut\n",
       "sissy\n",
       "humph\n",
       "awake\n",
       "blush\n",
       "focal\n",
       "evade\n",
       "naval\n",
       "serve\n",
       "... (2305 rows omitted)"
      ]
     },
     "execution_count": 25,
     "metadata": {},
     "output_type": "execute_result"
    }
   ],
   "source": [
    "words"
   ]
  },
  {
   "cell_type": "code",
   "execution_count": 26,
   "id": "b3793a76-0ca7-489d-8742-8264e5f89b3e",
   "metadata": {},
   "outputs": [
    {
     "data": {
      "text/html": [
       "<table border=\"1\" class=\"dataframe\">\n",
       "    <thead>\n",
       "        <tr>\n",
       "            <th>Words</th>\n",
       "        </tr>\n",
       "    </thead>\n",
       "    <tbody>\n",
       "        <tr>\n",
       "            <td>rebut</td>\n",
       "        </tr>\n",
       "        <tr>\n",
       "            <td>awake</td>\n",
       "        </tr>\n",
       "        <tr>\n",
       "            <td>evade</td>\n",
       "        </tr>\n",
       "        <tr>\n",
       "            <td>serve</td>\n",
       "        </tr>\n",
       "        <tr>\n",
       "            <td>heath</td>\n",
       "        </tr>\n",
       "        <tr>\n",
       "            <td>model</td>\n",
       "        </tr>\n",
       "        <tr>\n",
       "            <td>grade</td>\n",
       "        </tr>\n",
       "        <tr>\n",
       "            <td>quiet</td>\n",
       "        </tr>\n",
       "        <tr>\n",
       "            <td>bench</td>\n",
       "        </tr>\n",
       "        <tr>\n",
       "            <td>abate</td>\n",
       "        </tr>\n",
       "    </tbody>\n",
       "</table>\n",
       "<p>... (1046 rows omitted)</p>"
      ],
      "text/plain": [
       "Words\n",
       "rebut\n",
       "awake\n",
       "evade\n",
       "serve\n",
       "heath\n",
       "model\n",
       "grade\n",
       "quiet\n",
       "bench\n",
       "abate\n",
       "... (1046 rows omitted)"
      ]
     },
     "execution_count": 26,
     "metadata": {},
     "output_type": "execute_result"
    }
   ],
   "source": [
    "words.where('Words', are.containing('e'))"
   ]
  },
  {
   "cell_type": "code",
   "execution_count": 27,
   "id": "580d91ac-c37e-4833-b957-e0ef244098ef",
   "metadata": {},
   "outputs": [
    {
     "data": {
      "text/html": [
       "<table border=\"1\" class=\"dataframe\">\n",
       "    <thead>\n",
       "        <tr>\n",
       "            <th>Words</th>\n",
       "        </tr>\n",
       "    </thead>\n",
       "    <tbody>\n",
       "        <tr>\n",
       "            <td>awake</td>\n",
       "        </tr>\n",
       "        <tr>\n",
       "            <td>evade</td>\n",
       "        </tr>\n",
       "        <tr>\n",
       "            <td>heath</td>\n",
       "        </tr>\n",
       "        <tr>\n",
       "            <td>grade</td>\n",
       "        </tr>\n",
       "        <tr>\n",
       "            <td>abate</td>\n",
       "        </tr>\n",
       "        <tr>\n",
       "            <td>death</td>\n",
       "        </tr>\n",
       "        <tr>\n",
       "            <td>abase</td>\n",
       "        </tr>\n",
       "        <tr>\n",
       "            <td>react</td>\n",
       "        </tr>\n",
       "        <tr>\n",
       "            <td>paper</td>\n",
       "        </tr>\n",
       "        <tr>\n",
       "            <td>adobe</td>\n",
       "        </tr>\n",
       "    </tbody>\n",
       "</table>\n",
       "<p>... (352 rows omitted)</p>"
      ],
      "text/plain": [
       "Words\n",
       "awake\n",
       "evade\n",
       "heath\n",
       "grade\n",
       "abate\n",
       "death\n",
       "abase\n",
       "react\n",
       "paper\n",
       "adobe\n",
       "... (352 rows omitted)"
      ]
     },
     "execution_count": 27,
     "metadata": {},
     "output_type": "execute_result"
    }
   ],
   "source": [
    "words.where('Words', are.containing('e')).where('Words', are.containing('a'))"
   ]
  },
  {
   "cell_type": "code",
   "execution_count": 28,
   "id": "840fc547-a5da-425e-89eb-e949e02ed994",
   "metadata": {},
   "outputs": [
    {
     "data": {
      "text/html": [
       "<table border=\"1\" class=\"dataframe\">\n",
       "    <thead>\n",
       "        <tr>\n",
       "            <th>Words</th>\n",
       "        </tr>\n",
       "    </thead>\n",
       "    <tbody>\n",
       "        <tr>\n",
       "            <td>grade</td>\n",
       "        </tr>\n",
       "        <tr>\n",
       "            <td>react</td>\n",
       "        </tr>\n",
       "        <tr>\n",
       "            <td>paper</td>\n",
       "        </tr>\n",
       "        <tr>\n",
       "            <td>repay</td>\n",
       "        </tr>\n",
       "        <tr>\n",
       "            <td>crate</td>\n",
       "        </tr>\n",
       "        <tr>\n",
       "            <td>yearn</td>\n",
       "        </tr>\n",
       "        <tr>\n",
       "            <td>agree</td>\n",
       "        </tr>\n",
       "        <tr>\n",
       "            <td>argue</td>\n",
       "        </tr>\n",
       "        <tr>\n",
       "            <td>great</td>\n",
       "        </tr>\n",
       "        <tr>\n",
       "            <td>break</td>\n",
       "        </tr>\n",
       "    </tbody>\n",
       "</table>\n",
       "<p>... (119 rows omitted)</p>"
      ],
      "text/plain": [
       "Words\n",
       "grade\n",
       "react\n",
       "paper\n",
       "repay\n",
       "crate\n",
       "yearn\n",
       "agree\n",
       "argue\n",
       "great\n",
       "break\n",
       "... (119 rows omitted)"
      ]
     },
     "execution_count": 28,
     "metadata": {},
     "output_type": "execute_result"
    }
   ],
   "source": [
    "words.where('Words', are.containing('e')).where('Words', are.containing('a')).where('Words', are.containing('r'))"
   ]
  },
  {
   "cell_type": "code",
   "execution_count": 29,
   "id": "5101aa06-481c-4afc-bdc5-2e8e20923751",
   "metadata": {},
   "outputs": [
    {
     "data": {
      "text/html": [
       "<table border=\"1\" class=\"dataframe\">\n",
       "    <thead>\n",
       "        <tr>\n",
       "            <th>Words</th>\n",
       "        </tr>\n",
       "    </thead>\n",
       "    <tbody>\n",
       "        <tr>\n",
       "            <td>adore</td>\n",
       "        </tr>\n",
       "        <tr>\n",
       "            <td>arose</td>\n",
       "        </tr>\n",
       "        <tr>\n",
       "            <td>opera</td>\n",
       "        </tr>\n",
       "    </tbody>\n",
       "</table>"
      ],
      "text/plain": [
       "Words\n",
       "adore\n",
       "arose\n",
       "opera"
      ]
     },
     "execution_count": 29,
     "metadata": {},
     "output_type": "execute_result"
    }
   ],
   "source": [
    "words.where('Words', are.containing('e')).where('Words', are.containing('a')).where('Words', are.containing('r')).where('Words', are.containing('o'))"
   ]
  },
  {
   "cell_type": "code",
   "execution_count": 37,
   "id": "ed7a07fd-760c-478d-bb61-8fda0d5845e4",
   "metadata": {},
   "outputs": [
    {
     "data": {
      "text/plain": [
       "979"
      ]
     },
     "execution_count": 37,
     "metadata": {},
     "output_type": "execute_result"
    }
   ],
   "source": [
    "array = str_to_array('arose')\n",
    "\n",
    "letters_and_counts.where('Letter', array.item(0)).row(0).item(1)"
   ]
  },
  {
   "cell_type": "code",
   "execution_count": 38,
   "id": "143fc2cc-b151-49b3-86b1-eda44d4212a3",
   "metadata": {},
   "outputs": [
    {
     "data": {
      "text/plain": [
       "4534"
      ]
     },
     "execution_count": 38,
     "metadata": {},
     "output_type": "execute_result"
    }
   ],
   "source": [
    "score = 0\n",
    "score = score + letters_and_counts.where('Letter', array.item(0)).row(0).item(1)\n",
    "score = score + letters_and_counts.where('Letter', array.item(1)).row(0).item(1)\n",
    "score = score + letters_and_counts.where('Letter', array.item(2)).row(0).item(1)\n",
    "score = score + letters_and_counts.where('Letter', array.item(3)).row(0).item(1)\n",
    "score = score + letters_and_counts.where('Letter', array.item(4)).row(0).item(1)\n",
    "score"
   ]
  },
  {
   "cell_type": "code",
   "execution_count": 42,
   "id": "1ba29c88-ddb1-49f1-8d39-2fb919d52f59",
   "metadata": {},
   "outputs": [],
   "source": [
    "def get_score(word):\n",
    "    array = str_to_array(word)\n",
    "    \n",
    "    score = 0\n",
    "    score = score + letters_and_counts.where('Letter', array.item(0)).row(0).item(1)\n",
    "    score = score + letters_and_counts.where('Letter', array.item(1)).row(0).item(1)\n",
    "    score = score + letters_and_counts.where('Letter', array.item(2)).row(0).item(1)\n",
    "    score = score + letters_and_counts.where('Letter', array.item(3)).row(0).item(1)\n",
    "    score = score + letters_and_counts.where('Letter', array.item(4)).row(0).item(1)\n",
    "    return score"
   ]
  },
  {
   "cell_type": "code",
   "execution_count": 43,
   "id": "db85e38e-3496-45a1-84c5-b246a1952e15",
   "metadata": {},
   "outputs": [
    {
     "data": {
      "text/plain": [
       "array([3337, 3609, 3103, ..., 3701, 3963, 3423])"
      ]
     },
     "execution_count": 43,
     "metadata": {},
     "output_type": "execute_result"
    }
   ],
   "source": [
    "words.apply(get_score, 0)"
   ]
  },
  {
   "cell_type": "code",
   "execution_count": 44,
   "id": "7b6cc4e1-91d7-40e7-b3f2-fa67e0176ea1",
   "metadata": {},
   "outputs": [
    {
     "data": {
      "text/html": [
       "<table border=\"1\" class=\"dataframe\">\n",
       "    <thead>\n",
       "        <tr>\n",
       "            <th>Words</th> <th>Score</th>\n",
       "        </tr>\n",
       "    </thead>\n",
       "    <tbody>\n",
       "        <tr>\n",
       "            <td>cigar</td> <td>3337 </td>\n",
       "        </tr>\n",
       "        <tr>\n",
       "            <td>rebut</td> <td>3609 </td>\n",
       "        </tr>\n",
       "        <tr>\n",
       "            <td>sissy</td> <td>3103 </td>\n",
       "        </tr>\n",
       "        <tr>\n",
       "            <td>humph</td> <td>1928 </td>\n",
       "        </tr>\n",
       "        <tr>\n",
       "            <td>awake</td> <td>3596 </td>\n",
       "        </tr>\n",
       "        <tr>\n",
       "            <td>blush</td> <td>2525 </td>\n",
       "        </tr>\n",
       "        <tr>\n",
       "            <td>focal</td> <td>3159 </td>\n",
       "        </tr>\n",
       "        <tr>\n",
       "            <td>evade</td> <td>3991 </td>\n",
       "        </tr>\n",
       "        <tr>\n",
       "            <td>naval</td> <td>3405 </td>\n",
       "        </tr>\n",
       "        <tr>\n",
       "            <td>serve</td> <td>4187 </td>\n",
       "        </tr>\n",
       "    </tbody>\n",
       "</table>\n",
       "<p>... (2305 rows omitted)</p>"
      ],
      "text/plain": [
       "Words | Score\n",
       "cigar | 3337\n",
       "rebut | 3609\n",
       "sissy | 3103\n",
       "humph | 1928\n",
       "awake | 3596\n",
       "blush | 2525\n",
       "focal | 3159\n",
       "evade | 3991\n",
       "naval | 3405\n",
       "serve | 4187\n",
       "... (2305 rows omitted)"
      ]
     },
     "execution_count": 44,
     "metadata": {},
     "output_type": "execute_result"
    }
   ],
   "source": [
    "words_with_scores = words.with_column(\n",
    "    'Score', words.apply(get_score, 0)\n",
    ")\n",
    "words_with_scores"
   ]
  },
  {
   "cell_type": "code",
   "execution_count": 47,
   "id": "83bae75b-5e40-4cb2-9ce6-717474fcf80a",
   "metadata": {},
   "outputs": [
    {
     "data": {
      "text/html": [
       "<table border=\"1\" class=\"dataframe\">\n",
       "    <thead>\n",
       "        <tr>\n",
       "            <th>Words</th> <th>Score</th>\n",
       "        </tr>\n",
       "    </thead>\n",
       "    <tbody>\n",
       "        <tr>\n",
       "            <td>eerie</td> <td>5269 </td>\n",
       "        </tr>\n",
       "        <tr>\n",
       "            <td>eater</td> <td>5073 </td>\n",
       "        </tr>\n",
       "        <tr>\n",
       "            <td>erase</td> <td>5013 </td>\n",
       "        </tr>\n",
       "        <tr>\n",
       "            <td>rarer</td> <td>4909 </td>\n",
       "        </tr>\n",
       "        <tr>\n",
       "            <td>elate</td> <td>4893 </td>\n",
       "        </tr>\n",
       "        <tr>\n",
       "            <td>tease</td> <td>4843 </td>\n",
       "        </tr>\n",
       "        <tr>\n",
       "            <td>easel</td> <td>4833 </td>\n",
       "        </tr>\n",
       "        <tr>\n",
       "            <td>lease</td> <td>4833 </td>\n",
       "        </tr>\n",
       "        <tr>\n",
       "            <td>tepee</td> <td>4795 </td>\n",
       "        </tr>\n",
       "        <tr>\n",
       "            <td>reset</td> <td>4763 </td>\n",
       "        </tr>\n",
       "    </tbody>\n",
       "</table>\n",
       "<p>... (2305 rows omitted)</p>"
      ],
      "text/plain": [
       "Words | Score\n",
       "eerie | 5269\n",
       "eater | 5073\n",
       "erase | 5013\n",
       "rarer | 4909\n",
       "elate | 4893\n",
       "tease | 4843\n",
       "easel | 4833\n",
       "lease | 4833\n",
       "tepee | 4795\n",
       "reset | 4763\n",
       "... (2305 rows omitted)"
      ]
     },
     "execution_count": 47,
     "metadata": {},
     "output_type": "execute_result"
    }
   ],
   "source": [
    "words_with_scores.sort('Score', descending=True)"
   ]
  },
  {
   "cell_type": "code",
   "execution_count": 52,
   "id": "c20b6f1b-92dd-4b65-9034-44b7e63a5bce",
   "metadata": {},
   "outputs": [
    {
     "data": {
      "text/plain": [
       "3"
      ]
     },
     "execution_count": 52,
     "metadata": {},
     "output_type": "execute_result"
    }
   ],
   "source": [
    "Table().with_column('Letter', str_to_array('eerie')).group('Letter').num_rows"
   ]
  },
  {
   "cell_type": "code",
   "execution_count": 53,
   "id": "8cc10e3e-aefc-404b-a425-8ec68c4a499f",
   "metadata": {},
   "outputs": [],
   "source": [
    "def has_duplicates(word):\n",
    "    unique_letters = Table().with_column('Letter', str_to_array(word)).group('Letter').num_rows\n",
    "\n",
    "    if unique_letters == 5:\n",
    "        return 0\n",
    "    else:\n",
    "        return 1"
   ]
  },
  {
   "cell_type": "code",
   "execution_count": 54,
   "id": "d5f33bc0-975b-450b-8fd0-c1f8dc917ae0",
   "metadata": {},
   "outputs": [
    {
     "data": {
      "text/plain": [
       "array([0, 0, 1, ..., 0, 1, 0])"
      ]
     },
     "execution_count": 54,
     "metadata": {},
     "output_type": "execute_result"
    }
   ],
   "source": [
    "words_with_scores.apply(has_duplicates, 'Words')"
   ]
  },
  {
   "cell_type": "code",
   "execution_count": 55,
   "id": "344c25c1-c8f1-49d3-a5ad-9000e0c5609c",
   "metadata": {},
   "outputs": [
    {
     "data": {
      "text/html": [
       "<table border=\"1\" class=\"dataframe\">\n",
       "    <thead>\n",
       "        <tr>\n",
       "            <th>Words</th> <th>Score</th> <th>Has Duplicates</th>\n",
       "        </tr>\n",
       "    </thead>\n",
       "    <tbody>\n",
       "        <tr>\n",
       "            <td>cigar</td> <td>3337 </td> <td>0             </td>\n",
       "        </tr>\n",
       "        <tr>\n",
       "            <td>rebut</td> <td>3609 </td> <td>0             </td>\n",
       "        </tr>\n",
       "        <tr>\n",
       "            <td>sissy</td> <td>3103 </td> <td>1             </td>\n",
       "        </tr>\n",
       "        <tr>\n",
       "            <td>humph</td> <td>1928 </td> <td>1             </td>\n",
       "        </tr>\n",
       "        <tr>\n",
       "            <td>awake</td> <td>3596 </td> <td>1             </td>\n",
       "        </tr>\n",
       "        <tr>\n",
       "            <td>blush</td> <td>2525 </td> <td>0             </td>\n",
       "        </tr>\n",
       "        <tr>\n",
       "            <td>focal</td> <td>3159 </td> <td>0             </td>\n",
       "        </tr>\n",
       "        <tr>\n",
       "            <td>evade</td> <td>3991 </td> <td>1             </td>\n",
       "        </tr>\n",
       "        <tr>\n",
       "            <td>naval</td> <td>3405 </td> <td>1             </td>\n",
       "        </tr>\n",
       "        <tr>\n",
       "            <td>serve</td> <td>4187 </td> <td>1             </td>\n",
       "        </tr>\n",
       "    </tbody>\n",
       "</table>\n",
       "<p>... (2305 rows omitted)</p>"
      ],
      "text/plain": [
       "Words | Score | Has Duplicates\n",
       "cigar | 3337  | 0\n",
       "rebut | 3609  | 0\n",
       "sissy | 3103  | 1\n",
       "humph | 1928  | 1\n",
       "awake | 3596  | 1\n",
       "blush | 2525  | 0\n",
       "focal | 3159  | 0\n",
       "evade | 3991  | 1\n",
       "naval | 3405  | 1\n",
       "serve | 4187  | 1\n",
       "... (2305 rows omitted)"
      ]
     },
     "execution_count": 55,
     "metadata": {},
     "output_type": "execute_result"
    }
   ],
   "source": [
    "words_scores_duplicates = words_with_scores.with_column(\n",
    "    'Has Duplicates', words_with_scores.apply(has_duplicates, 'Words')\n",
    ")\n",
    "words_scores_duplicates"
   ]
  },
  {
   "cell_type": "code",
   "execution_count": 57,
   "id": "e0f66b2e-e011-4199-9be4-0686e8c40758",
   "metadata": {},
   "outputs": [
    {
     "data": {
      "text/html": [
       "<table border=\"1\" class=\"dataframe\">\n",
       "    <thead>\n",
       "        <tr>\n",
       "            <th>Words</th> <th>Score</th> <th>Has Duplicates</th>\n",
       "        </tr>\n",
       "    </thead>\n",
       "    <tbody>\n",
       "        <tr>\n",
       "            <td>later</td> <td>4559 </td> <td>0             </td>\n",
       "        </tr>\n",
       "        <tr>\n",
       "            <td>alter</td> <td>4559 </td> <td>0             </td>\n",
       "        </tr>\n",
       "        <tr>\n",
       "            <td>alert</td> <td>4559 </td> <td>0             </td>\n",
       "        </tr>\n",
       "        <tr>\n",
       "            <td>arose</td> <td>4534 </td> <td>0             </td>\n",
       "        </tr>\n",
       "        <tr>\n",
       "            <td>irate</td> <td>4511 </td> <td>0             </td>\n",
       "        </tr>\n",
       "        <tr>\n",
       "            <td>stare</td> <td>4509 </td> <td>0             </td>\n",
       "        </tr>\n",
       "        <tr>\n",
       "            <td>arise</td> <td>4451 </td> <td>0             </td>\n",
       "        </tr>\n",
       "        <tr>\n",
       "            <td>raise</td> <td>4451 </td> <td>0             </td>\n",
       "        </tr>\n",
       "        <tr>\n",
       "            <td>learn</td> <td>4405 </td> <td>0             </td>\n",
       "        </tr>\n",
       "        <tr>\n",
       "            <td>renal</td> <td>4405 </td> <td>0             </td>\n",
       "        </tr>\n",
       "    </tbody>\n",
       "</table>\n",
       "<p>... (1556 rows omitted)</p>"
      ],
      "text/plain": [
       "Words | Score | Has Duplicates\n",
       "later | 4559  | 0\n",
       "alter | 4559  | 0\n",
       "alert | 4559  | 0\n",
       "arose | 4534  | 0\n",
       "irate | 4511  | 0\n",
       "stare | 4509  | 0\n",
       "arise | 4451  | 0\n",
       "raise | 4451  | 0\n",
       "learn | 4405  | 0\n",
       "renal | 4405  | 0\n",
       "... (1556 rows omitted)"
      ]
     },
     "execution_count": 57,
     "metadata": {},
     "output_type": "execute_result"
    }
   ],
   "source": [
    "words_scores_duplicates.sort('Score', descending=True).where('Has Duplicates', 0)"
   ]
  },
  {
   "cell_type": "code",
   "execution_count": 69,
   "id": "a04b123c-8113-4350-9aef-510de6f40a11",
   "metadata": {},
   "outputs": [
    {
     "data": {
      "image/png": "[encoded data removed]",
      "text/plain": [
       "<Figure size 600x400 with 1 Axes>"
      ]
     },
     "metadata": {},
     "output_type": "display_data"
    }
   ],
   "source": [
    "words_scores_duplicates.sort('Score', descending=True).where('Has Duplicates', 0).hist('Score')"
   ]
  },
  {
   "cell_type": "code",
   "execution_count": null,
   "id": "6055883f-30dc-497e-8a9b-fba671c5c337",
   "metadata": {},
   "outputs": [],
   "source": []
  }
 ],
 "metadata": {
  "kernelspec": {
   "display_name": "Python 3 (ipykernel)",
   "language": "python",
   "name": "python3"
  },
  "language_info": {
   "codemirror_mode": {
    "name": "ipython",
    "version": 3
   },
   "file_extension": ".py",
   "mimetype": "text/x-python",
   "name": "python",
   "nbconvert_exporter": "python",
   "pygments_lexer": "ipython3",
   "version": "3.12.5"
  }
 },
 "nbformat": 4,
 "nbformat_minor": 5
}
