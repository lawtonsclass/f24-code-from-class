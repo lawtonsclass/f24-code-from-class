{
 "cells": [
  {
   "cell_type": "code",
   "execution_count": 1,
   "id": "3596f2b2-68b0-401f-beb1-6f29ea88d951",
   "metadata": {},
   "outputs": [],
   "source": [
    "from datascience import *\n",
    "import numpy as np\n",
    "\n",
    "%matplotlib inline\n",
    "import matplotlib.pyplot as plt\n",
    "plt.style.use('fivethirtyeight')"
   ]
  },
  {
   "cell_type": "code",
   "execution_count": 2,
   "id": "5e187add-4aa9-4b1b-ac48-6ad1755d94b3",
   "metadata": {},
   "outputs": [
    {
     "data": {
      "text/html": [
       "<table border=\"1\" class=\"dataframe\">\n",
       "    <thead>\n",
       "        <tr>\n",
       "            <th>Words</th>\n",
       "        </tr>\n",
       "    </thead>\n",
       "    <tbody>\n",
       "        <tr>\n",
       "            <td>cigar</td>\n",
       "        </tr>\n",
       "        <tr>\n",
       "            <td>rebut</td>\n",
       "        </tr>\n",
       "        <tr>\n",
       "            <td>sissy</td>\n",
       "        </tr>\n",
       "        <tr>\n",
       "            <td>humph</td>\n",
       "        </tr>\n",
       "        <tr>\n",
       "            <td>awake</td>\n",
       "        </tr>\n",
       "        <tr>\n",
       "            <td>blush</td>\n",
       "        </tr>\n",
       "        <tr>\n",
       "            <td>focal</td>\n",
       "        </tr>\n",
       "        <tr>\n",
       "            <td>evade</td>\n",
       "        </tr>\n",
       "        <tr>\n",
       "            <td>naval</td>\n",
       "        </tr>\n",
       "        <tr>\n",
       "            <td>serve</td>\n",
       "        </tr>\n",
       "    </tbody>\n",
       "</table>\n",
       "<p>... (2305 rows omitted)</p>"
      ],
      "text/plain": [
       "Words\n",
       "cigar\n",
       "rebut\n",
       "sissy\n",
       "humph\n",
       "awake\n",
       "blush\n",
       "focal\n",
       "evade\n",
       "naval\n",
       "serve\n",
       "... (2305 rows omitted)"
      ]
     },
     "execution_count": 2,
     "metadata": {},
     "output_type": "execute_result"
    }
   ],
   "source": [
    "words = Table.read_table('data/wordle.csv')\n",
    "words"
   ]
  },
  {
   "cell_type": "code",
   "execution_count": 3,
   "id": "c8c8eb78-cfbc-40f6-934b-f13c605159e4",
   "metadata": {
    "scrolled": true
   },
   "outputs": [
    {
     "data": {
      "text/plain": [
       "array([1, 2, 3])"
      ]
     },
     "execution_count": 3,
     "metadata": {},
     "output_type": "execute_result"
    }
   ],
   "source": [
    "np.unique(make_array(1, 2, 3, 2, 1))"
   ]
  },
  {
   "cell_type": "code",
   "execution_count": 4,
   "id": "c6619671-b827-4311-ac20-bf2740c47e8d",
   "metadata": {},
   "outputs": [
    {
     "data": {
      "text/plain": [
       "array(['a', 'b'], dtype=object)"
      ]
     },
     "execution_count": 4,
     "metadata": {},
     "output_type": "execute_result"
    }
   ],
   "source": [
    "np.unique(make_array(list('baa')))"
   ]
  },
  {
   "cell_type": "code",
   "execution_count": 5,
   "id": "f1d121c7-ec6e-480f-adaa-e7b06af49094",
   "metadata": {},
   "outputs": [
    {
     "data": {
      "text/plain": [
       "{'a': 909,\n",
       " 'b': 267,\n",
       " 'c': 448,\n",
       " 'd': 370,\n",
       " 'e': 1056,\n",
       " 'f': 207,\n",
       " 'g': 300,\n",
       " 'h': 379,\n",
       " 'i': 647,\n",
       " 'j': 27,\n",
       " 'k': 202,\n",
       " 'l': 648,\n",
       " 'm': 298,\n",
       " 'n': 550,\n",
       " 'o': 673,\n",
       " 'p': 346,\n",
       " 'q': 29,\n",
       " 'r': 837,\n",
       " 's': 618,\n",
       " 't': 667,\n",
       " 'u': 457,\n",
       " 'v': 149,\n",
       " 'w': 194,\n",
       " 'x': 37,\n",
       " 'y': 417,\n",
       " 'z': 35}"
      ]
     },
     "execution_count": 5,
     "metadata": {},
     "output_type": "execute_result"
    }
   ],
   "source": [
    "alphabet = 'abcdefghijklmnopqrstuvwxyz'\n",
    "counts = {}\n",
    "\n",
    "for letter in alphabet:\n",
    "    counts[letter] = 0\n",
    "\n",
    "for word in words.column(0):\n",
    "    nodups = np.unique(make_array(list(word)))\n",
    "    for letter in alphabet:\n",
    "        if letter in nodups:\n",
    "            counts[letter] += 1\n",
    "\n",
    "counts"
   ]
  },
  {
   "cell_type": "code",
   "execution_count": 6,
   "id": "110bf202-21f2-497b-8627-b770cefa0391",
   "metadata": {},
   "outputs": [
    {
     "data": {
      "text/plain": [
       "dict_keys(['a', 'b', 'c', 'd', 'e', 'f', 'g', 'h', 'i', 'j', 'k', 'l', 'm', 'n', 'o', 'p', 'q', 'r', 's', 't', 'u', 'v', 'w', 'x', 'y', 'z'])"
      ]
     },
     "execution_count": 6,
     "metadata": {},
     "output_type": "execute_result"
    }
   ],
   "source": [
    "counts.keys()"
   ]
  },
  {
   "cell_type": "code",
   "execution_count": 7,
   "id": "960bb42d-d35f-42a7-afa1-788c9aa144dc",
   "metadata": {},
   "outputs": [
    {
     "data": {
      "text/plain": [
       "dict_values([909, 267, 448, 370, 1056, 207, 300, 379, 647, 27, 202, 648, 298, 550, 673, 346, 29, 837, 618, 667, 457, 149, 194, 37, 417, 35])"
      ]
     },
     "execution_count": 7,
     "metadata": {},
     "output_type": "execute_result"
    }
   ],
   "source": [
    "counts.values()"
   ]
  },
  {
   "cell_type": "code",
   "execution_count": 8,
   "id": "6736ec06-55b6-499d-b203-aacdd428d676",
   "metadata": {},
   "outputs": [
    {
     "data": {
      "text/html": [
       "<table border=\"1\" class=\"dataframe\">\n",
       "    <thead>\n",
       "        <tr>\n",
       "            <th>Letter</th> <th>Counts</th>\n",
       "        </tr>\n",
       "    </thead>\n",
       "    <tbody>\n",
       "        <tr>\n",
       "            <td>a     </td> <td>909   </td>\n",
       "        </tr>\n",
       "        <tr>\n",
       "            <td>b     </td> <td>267   </td>\n",
       "        </tr>\n",
       "        <tr>\n",
       "            <td>c     </td> <td>448   </td>\n",
       "        </tr>\n",
       "        <tr>\n",
       "            <td>d     </td> <td>370   </td>\n",
       "        </tr>\n",
       "        <tr>\n",
       "            <td>e     </td> <td>1056  </td>\n",
       "        </tr>\n",
       "        <tr>\n",
       "            <td>f     </td> <td>207   </td>\n",
       "        </tr>\n",
       "        <tr>\n",
       "            <td>g     </td> <td>300   </td>\n",
       "        </tr>\n",
       "        <tr>\n",
       "            <td>h     </td> <td>379   </td>\n",
       "        </tr>\n",
       "        <tr>\n",
       "            <td>i     </td> <td>647   </td>\n",
       "        </tr>\n",
       "        <tr>\n",
       "            <td>j     </td> <td>27    </td>\n",
       "        </tr>\n",
       "    </tbody>\n",
       "</table>\n",
       "<p>... (16 rows omitted)</p>"
      ],
      "text/plain": [
       "Letter | Counts\n",
       "a      | 909\n",
       "b      | 267\n",
       "c      | 448\n",
       "d      | 370\n",
       "e      | 1056\n",
       "f      | 207\n",
       "g      | 300\n",
       "h      | 379\n",
       "i      | 647\n",
       "j      | 27\n",
       "... (16 rows omitted)"
      ]
     },
     "execution_count": 8,
     "metadata": {},
     "output_type": "execute_result"
    }
   ],
   "source": [
    "counts = Table().with_columns('Letter', counts.keys(), 'Counts', counts.values())\n",
    "counts"
   ]
  },
  {
   "cell_type": "code",
   "execution_count": 9,
   "id": "dbe14724-2a18-485f-bb89-2a43348dbad5",
   "metadata": {},
   "outputs": [
    {
     "data": {
      "image/png": "[encoded data removed]",
      "text/plain": [
       "<Figure size 600x1300 with 1 Axes>"
      ]
     },
     "metadata": {},
     "output_type": "display_data"
    }
   ],
   "source": [
    "counts.sort('Counts', descending=True).barh('Letter')"
   ]
  },
  {
   "cell_type": "code",
   "execution_count": 10,
   "id": "8554f159-9ade-449d-9215-6060c8434afb",
   "metadata": {},
   "outputs": [
    {
     "data": {
      "text/plain": [
       "909"
      ]
     },
     "execution_count": 10,
     "metadata": {},
     "output_type": "execute_result"
    }
   ],
   "source": [
    "counts.where('Letter', 'a').row(0).item(1)"
   ]
  },
  {
   "cell_type": "code",
   "execution_count": 11,
   "id": "7d8223f6-7201-4ff4-af5a-000b218c83c8",
   "metadata": {},
   "outputs": [],
   "source": [
    "def score(word):\n",
    "    nodups = np.unique(make_array(list(word)))\n",
    "    res = 0\n",
    "    for letter in nodups:\n",
    "        res += counts.where('Letter', letter).row(0).item(1)\n",
    "    return res         "
   ]
  },
  {
   "cell_type": "code",
   "execution_count": 12,
   "id": "8166a831-f15d-464a-a2fc-461298ed1d44",
   "metadata": {},
   "outputs": [
    {
     "data": {
      "text/html": [
       "<table border=\"1\" class=\"dataframe\">\n",
       "    <thead>\n",
       "        <tr>\n",
       "            <th>Words</th> <th>Score</th>\n",
       "        </tr>\n",
       "    </thead>\n",
       "    <tbody>\n",
       "        <tr>\n",
       "            <td>later</td> <td>4117 </td>\n",
       "        </tr>\n",
       "        <tr>\n",
       "            <td>alter</td> <td>4117 </td>\n",
       "        </tr>\n",
       "        <tr>\n",
       "            <td>alert</td> <td>4117 </td>\n",
       "        </tr>\n",
       "        <tr>\n",
       "            <td>irate</td> <td>4116 </td>\n",
       "        </tr>\n",
       "        <tr>\n",
       "            <td>arose</td> <td>4093 </td>\n",
       "        </tr>\n",
       "        <tr>\n",
       "            <td>stare</td> <td>4087 </td>\n",
       "        </tr>\n",
       "        <tr>\n",
       "            <td>arise</td> <td>4067 </td>\n",
       "        </tr>\n",
       "        <tr>\n",
       "            <td>raise</td> <td>4067 </td>\n",
       "        </tr>\n",
       "        <tr>\n",
       "            <td>learn</td> <td>4000 </td>\n",
       "        </tr>\n",
       "        <tr>\n",
       "            <td>renal</td> <td>4000 </td>\n",
       "        </tr>\n",
       "    </tbody>\n",
       "</table>\n",
       "<p>... (2305 rows omitted)</p>"
      ],
      "text/plain": [
       "Words | Score\n",
       "later | 4117\n",
       "alter | 4117\n",
       "alert | 4117\n",
       "irate | 4116\n",
       "arose | 4093\n",
       "stare | 4087\n",
       "arise | 4067\n",
       "raise | 4067\n",
       "learn | 4000\n",
       "renal | 4000\n",
       "... (2305 rows omitted)"
      ]
     },
     "execution_count": 12,
     "metadata": {},
     "output_type": "execute_result"
    }
   ],
   "source": [
    "words = words.with_column('Score', words.apply(score, 'Words'))\n",
    "words.sort('Score', descending=True)"
   ]
  },
  {
   "cell_type": "code",
   "execution_count": null,
   "id": "c2c80037-490d-42c1-89b0-3fdfb022caf4",
   "metadata": {},
   "outputs": [],
   "source": []
  }
 ],
 "metadata": {
  "kernelspec": {
   "display_name": "Python 3 (ipykernel)",
   "language": "python",
   "name": "python3"
  },
  "language_info": {
   "codemirror_mode": {
    "name": "ipython",
    "version": 3
   },
   "file_extension": ".py",
   "mimetype": "text/x-python",
   "name": "python",
   "nbconvert_exporter": "python",
   "pygments_lexer": "ipython3",
   "version": "3.12.5"
  }
 },
 "nbformat": 4,
 "nbformat_minor": 5
}
