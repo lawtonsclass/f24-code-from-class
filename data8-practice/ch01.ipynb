{
 "cells": [
  {
   "cell_type": "code",
   "execution_count": 30,
   "id": "c137d114-dcd4-4315-add6-9062b38f9dbd",
   "metadata": {},
   "outputs": [
    {
     "data": {
      "text/plain": [
       "4"
      ]
     },
     "execution_count": 30,
     "metadata": {},
     "output_type": "execute_result"
    }
   ],
   "source": [
    "2 + 2"
   ]
  },
  {
   "cell_type": "code",
   "execution_count": 31,
   "id": "df65a471-566a-4bca-b05c-f65cdc2055dc",
   "metadata": {},
   "outputs": [
    {
     "data": {
      "text/plain": [
       "'hi mom'"
      ]
     },
     "execution_count": 31,
     "metadata": {},
     "output_type": "execute_result"
    }
   ],
   "source": [
    "'hi mom'"
   ]
  },
  {
   "cell_type": "code",
   "execution_count": 32,
   "id": "36f4e8d5-58e0-471b-a548-13a0c417e654",
   "metadata": {},
   "outputs": [
    {
     "data": {
      "text/plain": [
       "9"
      ]
     },
     "execution_count": 32,
     "metadata": {},
     "output_type": "execute_result"
    }
   ],
   "source": [
    "2 + 3\n",
    "4 + 5"
   ]
  },
  {
   "cell_type": "markdown",
   "id": "61b46736-e32c-4e72-929c-079778e231df",
   "metadata": {},
   "source": [
    "---"
   ]
  },
  {
   "cell_type": "code",
   "execution_count": 10,
   "id": "c2de9125-ce07-4505-a2af-dd97e47bf3dc",
   "metadata": {},
   "outputs": [],
   "source": [
    "def read_file(filename): \n",
    "    from urllib.request import urlopen \n",
    "    import re\n",
    "    with open(filename, encoding='utf8') as f:\n",
    "        s = f.read()\n",
    "    return re.sub('\\\\s+', ' ', s)"
   ]
  },
  {
   "cell_type": "code",
   "execution_count": 21,
   "id": "d4957e41-6de1-4bd3-a28c-4fa1784c7312",
   "metadata": {},
   "outputs": [],
   "source": [
    "alice_in_wonderland_text = read_file('data/alice_in_wonderland.txt')\n",
    "alice_in_wonderland_chapters = alice_in_wonderland_text.split('CHAPTER')[13:]"
   ]
  },
  {
   "cell_type": "code",
   "execution_count": 27,
   "id": "c374cb18-da20-4aef-a528-da61ac5bd1d3",
   "metadata": {},
   "outputs": [],
   "source": [
    "pride_and_prejudice_text = read_file('data/pride_and_prejudice.txt')\n",
    "pride_and_prejudice_chapters = pride_and_prejudice_text.split('CHAPTER')[1:]"
   ]
  },
  {
   "cell_type": "code",
   "execution_count": 28,
   "id": "2e73d784-55f7-476b-a613-bb7d758ca5c5",
   "metadata": {},
   "outputs": [],
   "source": [
    "from datascience import *"
   ]
  },
  {
   "cell_type": "code",
   "execution_count": 33,
   "id": "58a6f6a8-2d2b-4119-934e-3148d6d0b21b",
   "metadata": {},
   "outputs": [
    {
     "data": {
      "text/html": [
       "<table border=\"1\" class=\"dataframe\">\n",
       "    <thead>\n",
       "        <tr>\n",
       "            <th>Chapters</th>\n",
       "        </tr>\n",
       "    </thead>\n",
       "    <tbody>\n",
       "        <tr>\n",
       "            <td> I. Down the Rabbit-Hole Alice was beginning to get very ...</td>\n",
       "        </tr>\n",
       "        <tr>\n",
       "            <td> II. The Pool of Tears “Curiouser and curiouser!” cried  ...</td>\n",
       "        </tr>\n",
       "        <tr>\n",
       "            <td> III. A Caucus-Race and a Long Tale They were indeed a q ...</td>\n",
       "        </tr>\n",
       "        <tr>\n",
       "            <td> IV. The Rabbit Sends in a Little Bill It was the White  ...</td>\n",
       "        </tr>\n",
       "        <tr>\n",
       "            <td> V. Advice from a Caterpillar The Caterpillar and Alice  ...</td>\n",
       "        </tr>\n",
       "        <tr>\n",
       "            <td> VI. Pig and Pepper For a minute or two she stood lookin ...</td>\n",
       "        </tr>\n",
       "        <tr>\n",
       "            <td> VII. A Mad Tea-Party There was a table set out under a  ...</td>\n",
       "        </tr>\n",
       "        <tr>\n",
       "            <td> VIII. The Queen’s Croquet-Ground A large rose-tree stoo ...</td>\n",
       "        </tr>\n",
       "        <tr>\n",
       "            <td> IX. The Mock Turtle’s Story “You can’t think how glad I ...</td>\n",
       "        </tr>\n",
       "        <tr>\n",
       "            <td> X. The Lobster Quadrille The Mock Turtle sighed deeply, ...</td>\n",
       "        </tr>\n",
       "    </tbody>\n",
       "</table>\n",
       "<p>... (2 rows omitted)</p>"
      ],
      "text/plain": [
       "Chapters\n",
       " I. Down the Rabbit-Hole Alice was beginning to get very ...\n",
       " II. The Pool of Tears “Curiouser and curiouser!” cried  ...\n",
       " III. A Caucus-Race and a Long Tale They were indeed a q ...\n",
       " IV. The Rabbit Sends in a Little Bill It was the White  ...\n",
       " V. Advice from a Caterpillar The Caterpillar and Alice  ...\n",
       " VI. Pig and Pepper For a minute or two she stood lookin ...\n",
       " VII. A Mad Tea-Party There was a table set out under a  ...\n",
       " VIII. The Queen’s Croquet-Ground A large rose-tree stoo ...\n",
       " IX. The Mock Turtle’s Story “You can’t think how glad I ...\n",
       " X. The Lobster Quadrille The Mock Turtle sighed deeply, ...\n",
       "... (2 rows omitted)"
      ]
     },
     "execution_count": 33,
     "metadata": {},
     "output_type": "execute_result"
    }
   ],
   "source": [
    "Table().with_column('Chapters', alice_in_wonderland_chapters)"
   ]
  },
  {
   "cell_type": "code",
   "execution_count": 34,
   "id": "64c86064-29f0-4505-9917-b1fc8c8889c8",
   "metadata": {},
   "outputs": [],
   "source": [
    "import numpy as np"
   ]
  },
  {
   "cell_type": "code",
   "execution_count": 35,
   "id": "2c208b74-13fa-483d-bcde-f51de6c15fce",
   "metadata": {},
   "outputs": [
    {
     "data": {
      "text/plain": [
       "array([28, 26, 23, 31, 35, 43, 51, 39, 52, 30, 16, 23])"
      ]
     },
     "execution_count": 35,
     "metadata": {},
     "output_type": "execute_result"
    }
   ],
   "source": [
    "np.char.count(alice_in_wonderland_chapters, 'Alice')"
   ]
  },
  {
   "cell_type": "code",
   "execution_count": 36,
   "id": "c1cc8f8b-b2bd-4eef-8978-1b8ebd8787f6",
   "metadata": {},
   "outputs": [
    {
     "data": {
      "text/plain": [
       "array([ 0,  0,  0,  0,  0,  4,  2, 36, 14,  0,  9, 10])"
      ]
     },
     "execution_count": 36,
     "metadata": {},
     "output_type": "execute_result"
    }
   ],
   "source": [
    "np.char.count(alice_in_wonderland_chapters, 'Queen')"
   ]
  },
  {
   "cell_type": "code",
   "execution_count": 41,
   "id": "1cda7fcc-659d-47ac-9be9-0eb9d0ec6ef5",
   "metadata": {},
   "outputs": [
    {
     "data": {
      "text/html": [
       "<table border=\"1\" class=\"dataframe\">\n",
       "    <thead>\n",
       "        <tr>\n",
       "            <th>Alice</th> <th>Queen</th> <th>Rabbit</th>\n",
       "        </tr>\n",
       "    </thead>\n",
       "    <tbody>\n",
       "        <tr>\n",
       "            <td>28   </td> <td>0    </td> <td>6     </td>\n",
       "        </tr>\n",
       "        <tr>\n",
       "            <td>26   </td> <td>0    </td> <td>4     </td>\n",
       "        </tr>\n",
       "        <tr>\n",
       "            <td>23   </td> <td>0    </td> <td>0     </td>\n",
       "        </tr>\n",
       "        <tr>\n",
       "            <td>31   </td> <td>0    </td> <td>12    </td>\n",
       "        </tr>\n",
       "        <tr>\n",
       "            <td>35   </td> <td>0    </td> <td>0     </td>\n",
       "        </tr>\n",
       "        <tr>\n",
       "            <td>43   </td> <td>4    </td> <td>0     </td>\n",
       "        </tr>\n",
       "        <tr>\n",
       "            <td>51   </td> <td>2    </td> <td>0     </td>\n",
       "        </tr>\n",
       "        <tr>\n",
       "            <td>39   </td> <td>36   </td> <td>6     </td>\n",
       "        </tr>\n",
       "        <tr>\n",
       "            <td>52   </td> <td>14   </td> <td>0     </td>\n",
       "        </tr>\n",
       "        <tr>\n",
       "            <td>30   </td> <td>0    </td> <td>1     </td>\n",
       "        </tr>\n",
       "    </tbody>\n",
       "</table>\n",
       "<p>... (2 rows omitted)</p>"
      ],
      "text/plain": [
       "Alice | Queen | Rabbit\n",
       "28    | 0     | 6\n",
       "26    | 0     | 4\n",
       "23    | 0     | 0\n",
       "31    | 0     | 12\n",
       "35    | 0     | 0\n",
       "43    | 4     | 0\n",
       "51    | 2     | 0\n",
       "39    | 36    | 6\n",
       "52    | 14    | 0\n",
       "30    | 0     | 1\n",
       "... (2 rows omitted)"
      ]
     },
     "execution_count": 41,
     "metadata": {},
     "output_type": "execute_result"
    }
   ],
   "source": [
    "counts = Table().with_columns(\n",
    "    'Alice', np.char.count(alice_in_wonderland_chapters, 'Alice'),\n",
    "    'Queen', np.char.count(alice_in_wonderland_chapters, 'Queen'),\n",
    "    'Rabbit', np.char.count(alice_in_wonderland_chapters, 'Rabbit')\n",
    ")\n",
    "counts"
   ]
  },
  {
   "cell_type": "code",
   "execution_count": 44,
   "id": "7ed1a2c0-db4f-4588-bb2d-656381e5600a",
   "metadata": {},
   "outputs": [
    {
     "data": {
      "text/plain": [
       "array([ 28,  54,  77, 108, 143, 186, 237, 276, 328, 358, 374, 397])"
      ]
     },
     "execution_count": 44,
     "metadata": {},
     "output_type": "execute_result"
    }
   ],
   "source": [
    "np.cumsum(counts.column('Alice'))"
   ]
  },
  {
   "cell_type": "code",
   "execution_count": 48,
   "id": "6ab24b04-9085-49c0-80a8-59cdf2ce3352",
   "metadata": {},
   "outputs": [
    {
     "data": {
      "image/png": "[encoded data removed]",
      "text/plain": [
       "<Figure size 600x600 with 1 Axes>"
      ]
     },
     "metadata": {},
     "output_type": "display_data"
    }
   ],
   "source": [
    "%matplotlib inline\n",
    "import matplotlib.pyplot as plt\n",
    "plt.style.use('fivethirtyeight')\n",
    "\n",
    "cum_counts_alice = np.cumsum(counts.column(\"Alice\"))\n",
    "cum_counts_queen = np.cumsum(counts.column(\"Queen\"))\n",
    "cum_counts_rabbit = np.cumsum(counts.column(\"Rabbit\"))\n",
    "cumulative_table = Table().with_columns(\n",
    "    'Chapter', np.arange(1, 13),\n",
    "    'Alice', cum_counts_alice,\n",
    "    'Queen', cum_counts_queen,\n",
    "    'Rabbit', cum_counts_rabbit\n",
    ")\n",
    "cumulative_table.plot(column_for_xticks='Chapter')\n",
    "plt.title('Cumulative Number of Times Name Appears')\n",
    "plt.show()"
   ]
  },
  {
   "cell_type": "code",
   "execution_count": 49,
   "id": "dd85bcae-c242-4f90-818c-c655cff75357",
   "metadata": {},
   "outputs": [
    {
     "data": {
      "text/html": [
       "<table border=\"1\" class=\"dataframe\">\n",
       "    <thead>\n",
       "        <tr>\n",
       "            <th>Chapters</th>\n",
       "        </tr>\n",
       "    </thead>\n",
       "    <tbody>\n",
       "        <tr>\n",
       "            <td> I. It is a truth universally acknowledged, that a singl ...</td>\n",
       "        </tr>\n",
       "        <tr>\n",
       "            <td> II. Mr. Bennet was among the earliest of those who wait ...</td>\n",
       "        </tr>\n",
       "        <tr>\n",
       "            <td> III. Not all that Mrs. Bennet, however, with the assist ...</td>\n",
       "        </tr>\n",
       "        <tr>\n",
       "            <td> IV. When Jane and Elizabeth were alone, the former, who ...</td>\n",
       "        </tr>\n",
       "        <tr>\n",
       "            <td> V. Within a short walk of Longbourn lived a family with ...</td>\n",
       "        </tr>\n",
       "        <tr>\n",
       "            <td> VI. The ladies of Longbourn soon waited on those of Net ...</td>\n",
       "        </tr>\n",
       "        <tr>\n",
       "            <td> VII. Mr. Bennet’s property consisted almost entirely in ...</td>\n",
       "        </tr>\n",
       "        <tr>\n",
       "            <td> VIII. At five o’clock the two ladies retired to dress,  ...</td>\n",
       "        </tr>\n",
       "        <tr>\n",
       "            <td> IX. Elizabeth passed the chief of the night in her sist ...</td>\n",
       "        </tr>\n",
       "        <tr>\n",
       "            <td> X. The day passed much as the day before had done. Mrs. ...</td>\n",
       "        </tr>\n",
       "    </tbody>\n",
       "</table>\n",
       "<p>... (50 rows omitted)</p>"
      ],
      "text/plain": [
       "Chapters\n",
       " I. It is a truth universally acknowledged, that a singl ...\n",
       " II. Mr. Bennet was among the earliest of those who wait ...\n",
       " III. Not all that Mrs. Bennet, however, with the assist ...\n",
       " IV. When Jane and Elizabeth were alone, the former, who ...\n",
       " V. Within a short walk of Longbourn lived a family with ...\n",
       " VI. The ladies of Longbourn soon waited on those of Net ...\n",
       " VII. Mr. Bennet’s property consisted almost entirely in ...\n",
       " VIII. At five o’clock the two ladies retired to dress,  ...\n",
       " IX. Elizabeth passed the chief of the night in her sist ...\n",
       " X. The day passed much as the day before had done. Mrs. ...\n",
       "... (50 rows omitted)"
      ]
     },
     "execution_count": 49,
     "metadata": {},
     "output_type": "execute_result"
    }
   ],
   "source": [
    "Table().with_column('Chapters', pride_and_prejudice_chapters)"
   ]
  },
  {
   "cell_type": "code",
   "execution_count": 72,
   "id": "ece1493a-af7c-4728-b539-6307d030e792",
   "metadata": {},
   "outputs": [],
   "source": [
    "names = ['Elizabeth', 'Darcy', 'Jane', 'Bingley']\n",
    "mentions = {name: np.char.count(pride_and_prejudice_chapters, name) for name in names}\n",
    "counts = Table().with_columns((name, mentions[name]) for name in names)"
   ]
  },
  {
   "cell_type": "code",
   "execution_count": 73,
   "id": "138be3be-e389-46c6-bf9d-0ddf18884b3d",
   "metadata": {},
   "outputs": [
    {
     "data": {
      "text/html": [
       "<table border=\"1\" class=\"dataframe\">\n",
       "    <thead>\n",
       "        <tr>\n",
       "            <th>Elizabeth</th> <th>Darcy</th> <th>Jane</th> <th>Bingley</th>\n",
       "        </tr>\n",
       "    </thead>\n",
       "    <tbody>\n",
       "        <tr>\n",
       "            <td>0        </td> <td>0    </td> <td>1   </td> <td>4      </td>\n",
       "        </tr>\n",
       "        <tr>\n",
       "            <td>1        </td> <td>0    </td> <td>0   </td> <td>7      </td>\n",
       "        </tr>\n",
       "        <tr>\n",
       "            <td>4        </td> <td>7    </td> <td>5   </td> <td>16     </td>\n",
       "        </tr>\n",
       "        <tr>\n",
       "            <td>3        </td> <td>7    </td> <td>1   </td> <td>11     </td>\n",
       "        </tr>\n",
       "        <tr>\n",
       "            <td>2        </td> <td>3    </td> <td>3   </td> <td>2      </td>\n",
       "        </tr>\n",
       "        <tr>\n",
       "            <td>11       </td> <td>14   </td> <td>9   </td> <td>8      </td>\n",
       "        </tr>\n",
       "        <tr>\n",
       "            <td>14       </td> <td>1    </td> <td>12  </td> <td>8      </td>\n",
       "        </tr>\n",
       "        <tr>\n",
       "            <td>13       </td> <td>10   </td> <td>5   </td> <td>21     </td>\n",
       "        </tr>\n",
       "        <tr>\n",
       "            <td>8        </td> <td>8    </td> <td>8   </td> <td>17     </td>\n",
       "        </tr>\n",
       "        <tr>\n",
       "            <td>16       </td> <td>21   </td> <td>2   </td> <td>18     </td>\n",
       "        </tr>\n",
       "    </tbody>\n",
       "</table>\n",
       "<p>... (50 rows omitted)</p>"
      ],
      "text/plain": [
       "Elizabeth | Darcy | Jane | Bingley\n",
       "0         | 0     | 1    | 4\n",
       "1         | 0     | 0    | 7\n",
       "4         | 7     | 5    | 16\n",
       "3         | 7     | 1    | 11\n",
       "2         | 3     | 3    | 2\n",
       "11        | 14    | 9    | 8\n",
       "14        | 1     | 12   | 8\n",
       "13        | 10    | 5    | 21\n",
       "8         | 8     | 8    | 17\n",
       "16        | 21    | 2    | 18\n",
       "... (50 rows omitted)"
      ]
     },
     "execution_count": 73,
     "metadata": {},
     "output_type": "execute_result"
    }
   ],
   "source": [
    "counts"
   ]
  },
  {
   "cell_type": "code",
   "execution_count": 74,
   "id": "12c10b96-4250-440a-acc6-376efba01219",
   "metadata": {},
   "outputs": [
    {
     "data": {
      "text/html": [
       "<table border=\"1\" class=\"dataframe\">\n",
       "    <thead>\n",
       "        <tr>\n",
       "            <th>Elizabeth</th> <th>Darcy</th> <th>Jane</th> <th>Bingley</th>\n",
       "        </tr>\n",
       "    </thead>\n",
       "    <tbody>\n",
       "        <tr>\n",
       "            <td>0        </td> <td>0    </td> <td>1   </td> <td>4      </td>\n",
       "        </tr>\n",
       "        <tr>\n",
       "            <td>1        </td> <td>0    </td> <td>0   </td> <td>7      </td>\n",
       "        </tr>\n",
       "        <tr>\n",
       "            <td>4        </td> <td>7    </td> <td>5   </td> <td>16     </td>\n",
       "        </tr>\n",
       "        <tr>\n",
       "            <td>3        </td> <td>7    </td> <td>1   </td> <td>11     </td>\n",
       "        </tr>\n",
       "        <tr>\n",
       "            <td>2        </td> <td>3    </td> <td>3   </td> <td>2      </td>\n",
       "        </tr>\n",
       "        <tr>\n",
       "            <td>11       </td> <td>14   </td> <td>9   </td> <td>8      </td>\n",
       "        </tr>\n",
       "        <tr>\n",
       "            <td>14       </td> <td>1    </td> <td>12  </td> <td>8      </td>\n",
       "        </tr>\n",
       "        <tr>\n",
       "            <td>13       </td> <td>10   </td> <td>5   </td> <td>21     </td>\n",
       "        </tr>\n",
       "        <tr>\n",
       "            <td>8        </td> <td>8    </td> <td>8   </td> <td>17     </td>\n",
       "        </tr>\n",
       "        <tr>\n",
       "            <td>16       </td> <td>21   </td> <td>2   </td> <td>18     </td>\n",
       "        </tr>\n",
       "        <tr>\n",
       "            <td>13       </td> <td>14   </td> <td>1   </td> <td>11     </td>\n",
       "        </tr>\n",
       "        <tr>\n",
       "            <td>7        </td> <td>1    </td> <td>7   </td> <td>5      </td>\n",
       "        </tr>\n",
       "        <tr>\n",
       "            <td>2        </td> <td>0    </td> <td>3   </td> <td>3      </td>\n",
       "        </tr>\n",
       "        <tr>\n",
       "            <td>1        </td> <td>0    </td> <td>0   </td> <td>0      </td>\n",
       "        </tr>\n",
       "        <tr>\n",
       "            <td>6        </td> <td>3    </td> <td>6   </td> <td>3      </td>\n",
       "        </tr>\n",
       "        <tr>\n",
       "            <td>18       </td> <td>21   </td> <td>0   </td> <td>4      </td>\n",
       "        </tr>\n",
       "        <tr>\n",
       "            <td>9        </td> <td>4    </td> <td>6   </td> <td>6      </td>\n",
       "        </tr>\n",
       "        <tr>\n",
       "            <td>26       </td> <td>41   </td> <td>12  </td> <td>24     </td>\n",
       "        </tr>\n",
       "        <tr>\n",
       "            <td>11       </td> <td>0    </td> <td>0   </td> <td>0      </td>\n",
       "        </tr>\n",
       "        <tr>\n",
       "            <td>9        </td> <td>0    </td> <td>4   </td> <td>0      </td>\n",
       "        </tr>\n",
       "        <tr>\n",
       "            <td>8        </td> <td>7    </td> <td>13  </td> <td>11     </td>\n",
       "        </tr>\n",
       "        <tr>\n",
       "            <td>10       </td> <td>0    </td> <td>0   </td> <td>0      </td>\n",
       "        </tr>\n",
       "        <tr>\n",
       "            <td>11       </td> <td>1    </td> <td>8   </td> <td>4      </td>\n",
       "        </tr>\n",
       "        <tr>\n",
       "            <td>9        </td> <td>7    </td> <td>13  </td> <td>5      </td>\n",
       "        </tr>\n",
       "        <tr>\n",
       "            <td>7        </td> <td>6    </td> <td>9   </td> <td>6      </td>\n",
       "        </tr>\n",
       "        <tr>\n",
       "            <td>17       </td> <td>5    </td> <td>7   </td> <td>6      </td>\n",
       "        </tr>\n",
       "        <tr>\n",
       "            <td>8        </td> <td>0    </td> <td>4   </td> <td>1      </td>\n",
       "        </tr>\n",
       "        <tr>\n",
       "            <td>13       </td> <td>0    </td> <td>0   </td> <td>0      </td>\n",
       "        </tr>\n",
       "        <tr>\n",
       "            <td>14       </td> <td>1    </td> <td>0   </td> <td>0      </td>\n",
       "        </tr>\n",
       "        <tr>\n",
       "            <td>9        </td> <td>4    </td> <td>1   </td> <td>2      </td>\n",
       "        </tr>\n",
       "        <tr>\n",
       "            <td>10       </td> <td>14   </td> <td>0   </td> <td>1      </td>\n",
       "        </tr>\n",
       "        <tr>\n",
       "            <td>10       </td> <td>8    </td> <td>2   </td> <td>3      </td>\n",
       "        </tr>\n",
       "        <tr>\n",
       "            <td>4        </td> <td>18   </td> <td>5   </td> <td>9      </td>\n",
       "        </tr>\n",
       "        <tr>\n",
       "            <td>9        </td> <td>11   </td> <td>3   </td> <td>0      </td>\n",
       "        </tr>\n",
       "        <tr>\n",
       "            <td>2        </td> <td>4    </td> <td>0   </td> <td>5      </td>\n",
       "        </tr>\n",
       "        <tr>\n",
       "            <td>2        </td> <td>14   </td> <td>6   </td> <td>3      </td>\n",
       "        </tr>\n",
       "        <tr>\n",
       "            <td>4        </td> <td>5    </td> <td>4   </td> <td>1      </td>\n",
       "        </tr>\n",
       "        <tr>\n",
       "            <td>10       </td> <td>1    </td> <td>3   </td> <td>1      </td>\n",
       "        </tr>\n",
       "        <tr>\n",
       "            <td>9        </td> <td>0    </td> <td>5   </td> <td>0      </td>\n",
       "        </tr>\n",
       "        <tr>\n",
       "            <td>6        </td> <td>10   </td> <td>9   </td> <td>2      </td>\n",
       "        </tr>\n",
       "        <tr>\n",
       "            <td>10       </td> <td>4    </td> <td>2   </td> <td>0      </td>\n",
       "        </tr>\n",
       "        <tr>\n",
       "            <td>10       </td> <td>1    </td> <td>2   </td> <td>0      </td>\n",
       "        </tr>\n",
       "        <tr>\n",
       "            <td>40       </td> <td>17   </td> <td>0   </td> <td>2      </td>\n",
       "        </tr>\n",
       "        <tr>\n",
       "            <td>14       </td> <td>17   </td> <td>2   </td> <td>6      </td>\n",
       "        </tr>\n",
       "        <tr>\n",
       "            <td>30       </td> <td>26   </td> <td>7   </td> <td>14     </td>\n",
       "        </tr>\n",
       "        <tr>\n",
       "            <td>19       </td> <td>3    </td> <td>16  </td> <td>0      </td>\n",
       "        </tr>\n",
       "        <tr>\n",
       "            <td>8        </td> <td>1    </td> <td>3   </td> <td>0      </td>\n",
       "        </tr>\n",
       "        <tr>\n",
       "            <td>13       </td> <td>0    </td> <td>11  </td> <td>0      </td>\n",
       "        </tr>\n",
       "        <tr>\n",
       "            <td>3        </td> <td>2    </td> <td>2   </td> <td>0      </td>\n",
       "        </tr>\n",
       "        <tr>\n",
       "            <td>15       </td> <td>3    </td> <td>7   </td> <td>0      </td>\n",
       "        </tr>\n",
       "        <tr>\n",
       "            <td>5        </td> <td>10   </td> <td>3   </td> <td>0      </td>\n",
       "        </tr>\n",
       "        <tr>\n",
       "            <td>15       </td> <td>7    </td> <td>12  </td> <td>15     </td>\n",
       "        </tr>\n",
       "        <tr>\n",
       "            <td>12       </td> <td>5    </td> <td>5   </td> <td>4      </td>\n",
       "        </tr>\n",
       "        <tr>\n",
       "            <td>18       </td> <td>1    </td> <td>19  </td> <td>14     </td>\n",
       "        </tr>\n",
       "        <tr>\n",
       "            <td>20       </td> <td>6    </td> <td>1   </td> <td>2      </td>\n",
       "        </tr>\n",
       "        <tr>\n",
       "            <td>11       </td> <td>4    </td> <td>1   </td> <td>2      </td>\n",
       "        </tr>\n",
       "        <tr>\n",
       "            <td>14       </td> <td>8    </td> <td>3   </td> <td>7      </td>\n",
       "        </tr>\n",
       "        <tr>\n",
       "            <td>13       </td> <td>15   </td> <td>11  </td> <td>9      </td>\n",
       "        </tr>\n",
       "        <tr>\n",
       "            <td>7        </td> <td>7    </td> <td>5   </td> <td>3      </td>\n",
       "        </tr>\n",
       "        <tr>\n",
       "            <td>11       </td> <td>9    </td> <td>3   </td> <td>5      </td>\n",
       "        </tr>\n",
       "    </tbody>\n",
       "</table>"
      ],
      "text/plain": [
       "<IPython.core.display.HTML object>"
      ]
     },
     "metadata": {},
     "output_type": "display_data"
    }
   ],
   "source": [
    "counts.show()"
   ]
  },
  {
   "cell_type": "code",
   "execution_count": 75,
   "id": "51560fc8-51da-4aaa-9832-867749e6b136",
   "metadata": {},
   "outputs": [
    {
     "data": {
      "image/png": "[encoded data removed]",
      "text/plain": [
       "<Figure size 600x600 with 1 Axes>"
      ]
     },
     "metadata": {},
     "output_type": "display_data"
    }
   ],
   "source": [
    "cumulative_table = Table().with_column('Chapter', np.arange(1, len(pride_and_prejudice_chapters) + 1))\n",
    "cumulative_table = cumulative_table.with_columns((name, np.cumsum(counts.column(name))) for name in names)\n",
    "cumulative_table.plot(column_for_xticks='Chapter')\n",
    "plt.title('Cumulative Number of Times Names Appear in Pride and Prejudice')\n",
    "plt.show()"
   ]
  },
  {
   "cell_type": "code",
   "execution_count": 68,
   "id": "c680d76a-e4aa-4a51-aa86-ff77f39d4f53",
   "metadata": {},
   "outputs": [
    {
     "data": {
      "text/plain": [
       "60"
      ]
     },
     "execution_count": 68,
     "metadata": {},
     "output_type": "execute_result"
    }
   ],
   "source": [
    "len(pride_and_prejudice_chapters)"
   ]
  },
  {
   "cell_type": "code",
   "execution_count": 84,
   "id": "b8b927a5-1015-454d-bd06-8e8fba401b1b",
   "metadata": {},
   "outputs": [
    {
     "data": {
      "application/vnd.plotly.v1+json": {
       "config": {
        "plotlyServerURL": "https://plot.ly"
       },
       "data": [
        {
         "line": {
          "color": "rgb(0,30,66)"
         },
         "mode": "lines",
         "name": "Elizabeth",
         "type": "scatter",
         "x": [
          1,
          2,
          3,
          4,
          5,
          6,
          7,
          8,
          9,
          10,
          11,
          12,
          13,
          14,
          15,
          16,
          17,
          18,
          19,
          20,
          21,
          22,
          23,
          24,
          25,
          26,
          27,
          28,
          29,
          30,
          31,
          32,
          33,
          34,
          35,
          36,
          37,
          38,
          39,
          40,
          41,
          42,
          43,
          44,
          45,
          46,
          47,
          48,
          49,
          50,
          51,
          52,
          53,
          54,
          55,
          56,
          57,
          58,
          59,
          60
         ],
         "y": [
          0,
          1,
          5,
          8,
          10,
          21,
          35,
          48,
          56,
          72,
          85,
          92,
          94,
          95,
          101,
          119,
          128,
          154,
          165,
          174,
          182,
          192,
          203,
          212,
          219,
          236,
          244,
          257,
          271,
          280,
          290,
          300,
          304,
          313,
          315,
          317,
          321,
          331,
          340,
          346,
          356,
          366,
          406,
          420,
          450,
          469,
          477,
          490,
          493,
          508,
          513,
          528,
          540,
          558,
          578,
          589,
          603,
          616,
          623,
          634
         ]
        },
        {
         "line": {
          "color": "rgb(256,200,44)"
         },
         "mode": "lines",
         "name": "Darcy",
         "type": "scatter",
         "x": [
          1,
          2,
          3,
          4,
          5,
          6,
          7,
          8,
          9,
          10,
          11,
          12,
          13,
          14,
          15,
          16,
          17,
          18,
          19,
          20,
          21,
          22,
          23,
          24,
          25,
          26,
          27,
          28,
          29,
          30,
          31,
          32,
          33,
          34,
          35,
          36,
          37,
          38,
          39,
          40,
          41,
          42,
          43,
          44,
          45,
          46,
          47,
          48,
          49,
          50,
          51,
          52,
          53,
          54,
          55,
          56,
          57,
          58,
          59,
          60
         ],
         "y": [
          0,
          0,
          7,
          14,
          17,
          31,
          32,
          42,
          50,
          71,
          85,
          86,
          86,
          86,
          89,
          110,
          114,
          155,
          155,
          155,
          162,
          162,
          163,
          170,
          176,
          181,
          181,
          181,
          182,
          186,
          200,
          208,
          226,
          237,
          241,
          255,
          260,
          261,
          261,
          271,
          275,
          276,
          293,
          310,
          336,
          339,
          340,
          340,
          342,
          345,
          355,
          362,
          367,
          368,
          374,
          378,
          386,
          401,
          408,
          417
         ]
        },
        {
         "line": {
          "color": "rgb(0,150,207)"
         },
         "mode": "lines",
         "name": "Jane",
         "type": "scatter",
         "x": [
          1,
          2,
          3,
          4,
          5,
          6,
          7,
          8,
          9,
          10,
          11,
          12,
          13,
          14,
          15,
          16,
          17,
          18,
          19,
          20,
          21,
          22,
          23,
          24,
          25,
          26,
          27,
          28,
          29,
          30,
          31,
          32,
          33,
          34,
          35,
          36,
          37,
          38,
          39,
          40,
          41,
          42,
          43,
          44,
          45,
          46,
          47,
          48,
          49,
          50,
          51,
          52,
          53,
          54,
          55,
          56,
          57,
          58,
          59,
          60
         ],
         "y": [
          1,
          1,
          6,
          7,
          10,
          19,
          31,
          36,
          44,
          46,
          47,
          54,
          57,
          57,
          63,
          63,
          69,
          81,
          81,
          85,
          98,
          98,
          106,
          119,
          128,
          135,
          139,
          139,
          139,
          140,
          140,
          142,
          147,
          150,
          150,
          156,
          160,
          163,
          168,
          177,
          179,
          181,
          181,
          183,
          190,
          206,
          209,
          220,
          222,
          229,
          232,
          244,
          249,
          268,
          269,
          270,
          273,
          284,
          289,
          292
         ]
        },
        {
         "line": {
          "color": "rgb(30,100,0)"
         },
         "mode": "lines",
         "name": "Bingley",
         "type": "scatter",
         "x": [
          1,
          2,
          3,
          4,
          5,
          6,
          7,
          8,
          9,
          10,
          11,
          12,
          13,
          14,
          15,
          16,
          17,
          18,
          19,
          20,
          21,
          22,
          23,
          24,
          25,
          26,
          27,
          28,
          29,
          30,
          31,
          32,
          33,
          34,
          35,
          36,
          37,
          38,
          39,
          40,
          41,
          42,
          43,
          44,
          45,
          46,
          47,
          48,
          49,
          50,
          51,
          52,
          53,
          54,
          55,
          56,
          57,
          58,
          59,
          60
         ],
         "y": [
          4,
          11,
          27,
          38,
          40,
          48,
          56,
          77,
          94,
          112,
          123,
          128,
          131,
          131,
          134,
          138,
          144,
          168,
          168,
          168,
          179,
          179,
          183,
          188,
          194,
          200,
          201,
          201,
          201,
          203,
          204,
          207,
          216,
          216,
          221,
          224,
          225,
          226,
          226,
          228,
          228,
          228,
          230,
          236,
          250,
          250,
          250,
          250,
          250,
          250,
          250,
          265,
          269,
          283,
          285,
          287,
          294,
          303,
          306,
          311
         ]
        }
       ],
       "layout": {
        "autosize": true,
        "template": {
         "data": {
          "bar": [
           {
            "error_x": {
             "color": "#2a3f5f"
            },
            "error_y": {
             "color": "#2a3f5f"
            },
            "marker": {
             "line": {
              "color": "#E5ECF6",
              "width": 0.5
             },
             "pattern": {
              "fillmode": "overlay",
              "size": 10,
              "solidity": 0.2
             }
            },
            "type": "bar"
           }
          ],
          "barpolar": [
           {
            "marker": {
             "line": {
              "color": "#E5ECF6",
              "width": 0.5
             },
             "pattern": {
              "fillmode": "overlay",
              "size": 10,
              "solidity": 0.2
             }
            },
            "type": "barpolar"
           }
          ],
          "carpet": [
           {
            "aaxis": {
             "endlinecolor": "#2a3f5f",
             "gridcolor": "white",
             "linecolor": "white",
             "minorgridcolor": "white",
             "startlinecolor": "#2a3f5f"
            },
            "baxis": {
             "endlinecolor": "#2a3f5f",
             "gridcolor": "white",
             "linecolor": "white",
             "minorgridcolor": "white",
             "startlinecolor": "#2a3f5f"
            },
            "type": "carpet"
           }
          ],
          "choropleth": [
           {
            "colorbar": {
             "outlinewidth": 0,
             "ticks": ""
            },
            "type": "choropleth"
           }
          ],
          "contour": [
           {
            "colorbar": {
             "outlinewidth": 0,
             "ticks": ""
            },
            "colorscale": [
             [
              0,
              "#0d0887"
             ],
             [
              0.1111111111111111,
              "#46039f"
             ],
             [
              0.2222222222222222,
              "#7201a8"
             ],
             [
              0.3333333333333333,
              "#9c179e"
             ],
             [
              0.4444444444444444,
              "#bd3786"
             ],
             [
              0.5555555555555556,
              "#d8576b"
             ],
             [
              0.6666666666666666,
              "#ed7953"
             ],
             [
              0.7777777777777778,
              "#fb9f3a"
             ],
             [
              0.8888888888888888,
              "#fdca26"
             ],
             [
              1,
              "#f0f921"
             ]
            ],
            "type": "contour"
           }
          ],
          "contourcarpet": [
           {
            "colorbar": {
             "outlinewidth": 0,
             "ticks": ""
            },
            "type": "contourcarpet"
           }
          ],
          "heatmap": [
           {
            "colorbar": {
             "outlinewidth": 0,
             "ticks": ""
            },
            "colorscale": [
             [
              0,
              "#0d0887"
             ],
             [
              0.1111111111111111,
              "#46039f"
             ],
             [
              0.2222222222222222,
              "#7201a8"
             ],
             [
              0.3333333333333333,
              "#9c179e"
             ],
             [
              0.4444444444444444,
              "#bd3786"
             ],
             [
              0.5555555555555556,
              "#d8576b"
             ],
             [
              0.6666666666666666,
              "#ed7953"
             ],
             [
              0.7777777777777778,
              "#fb9f3a"
             ],
             [
              0.8888888888888888,
              "#fdca26"
             ],
             [
              1,
              "#f0f921"
             ]
            ],
            "type": "heatmap"
           }
          ],
          "heatmapgl": [
           {
            "colorbar": {
             "outlinewidth": 0,
             "ticks": ""
            },
            "colorscale": [
             [
              0,
              "#0d0887"
             ],
             [
              0.1111111111111111,
              "#46039f"
             ],
             [
              0.2222222222222222,
              "#7201a8"
             ],
             [
              0.3333333333333333,
              "#9c179e"
             ],
             [
              0.4444444444444444,
              "#bd3786"
             ],
             [
              0.5555555555555556,
              "#d8576b"
             ],
             [
              0.6666666666666666,
              "#ed7953"
             ],
             [
              0.7777777777777778,
              "#fb9f3a"
             ],
             [
              0.8888888888888888,
              "#fdca26"
             ],
             [
              1,
              "#f0f921"
             ]
            ],
            "type": "heatmapgl"
           }
          ],
          "histogram": [
           {
            "marker": {
             "pattern": {
              "fillmode": "overlay",
              "size": 10,
              "solidity": 0.2
             }
            },
            "type": "histogram"
           }
          ],
          "histogram2d": [
           {
            "colorbar": {
             "outlinewidth": 0,
             "ticks": ""
            },
            "colorscale": [
             [
              0,
              "#0d0887"
             ],
             [
              0.1111111111111111,
              "#46039f"
             ],
             [
              0.2222222222222222,
              "#7201a8"
             ],
             [
              0.3333333333333333,
              "#9c179e"
             ],
             [
              0.4444444444444444,
              "#bd3786"
             ],
             [
              0.5555555555555556,
              "#d8576b"
             ],
             [
              0.6666666666666666,
              "#ed7953"
             ],
             [
              0.7777777777777778,
              "#fb9f3a"
             ],
             [
              0.8888888888888888,
              "#fdca26"
             ],
             [
              1,
              "#f0f921"
             ]
            ],
            "type": "histogram2d"
           }
          ],
          "histogram2dcontour": [
           {
            "colorbar": {
             "outlinewidth": 0,
             "ticks": ""
            },
            "colorscale": [
             [
              0,
              "#0d0887"
             ],
             [
              0.1111111111111111,
              "#46039f"
             ],
             [
              0.2222222222222222,
              "#7201a8"
             ],
             [
              0.3333333333333333,
              "#9c179e"
             ],
             [
              0.4444444444444444,
              "#bd3786"
             ],
             [
              0.5555555555555556,
              "#d8576b"
             ],
             [
              0.6666666666666666,
              "#ed7953"
             ],
             [
              0.7777777777777778,
              "#fb9f3a"
             ],
             [
              0.8888888888888888,
              "#fdca26"
             ],
             [
              1,
              "#f0f921"
             ]
            ],
            "type": "histogram2dcontour"
           }
          ],
          "mesh3d": [
           {
            "colorbar": {
             "outlinewidth": 0,
             "ticks": ""
            },
            "type": "mesh3d"
           }
          ],
          "parcoords": [
           {
            "line": {
             "colorbar": {
              "outlinewidth": 0,
              "ticks": ""
             }
            },
            "type": "parcoords"
           }
          ],
          "pie": [
           {
            "automargin": true,
            "type": "pie"
           }
          ],
          "scatter": [
           {
            "fillpattern": {
             "fillmode": "overlay",
             "size": 10,
             "solidity": 0.2
            },
            "type": "scatter"
           }
          ],
          "scatter3d": [
           {
            "line": {
             "colorbar": {
              "outlinewidth": 0,
              "ticks": ""
             }
            },
            "marker": {
             "colorbar": {
              "outlinewidth": 0,
              "ticks": ""
             }
            },
            "type": "scatter3d"
           }
          ],
          "scattercarpet": [
           {
            "marker": {
             "colorbar": {
              "outlinewidth": 0,
              "ticks": ""
             }
            },
            "type": "scattercarpet"
           }
          ],
          "scattergeo": [
           {
            "marker": {
             "colorbar": {
              "outlinewidth": 0,
              "ticks": ""
             }
            },
            "type": "scattergeo"
           }
          ],
          "scattergl": [
           {
            "marker": {
             "colorbar": {
              "outlinewidth": 0,
              "ticks": ""
             }
            },
            "type": "scattergl"
           }
          ],
          "scattermapbox": [
           {
            "marker": {
             "colorbar": {
              "outlinewidth": 0,
              "ticks": ""
             }
            },
            "type": "scattermapbox"
           }
          ],
          "scatterpolar": [
           {
            "marker": {
             "colorbar": {
              "outlinewidth": 0,
              "ticks": ""
             }
            },
            "type": "scatterpolar"
           }
          ],
          "scatterpolargl": [
           {
            "marker": {
             "colorbar": {
              "outlinewidth": 0,
              "ticks": ""
             }
            },
            "type": "scatterpolargl"
           }
          ],
          "scatterternary": [
           {
            "marker": {
             "colorbar": {
              "outlinewidth": 0,
              "ticks": ""
             }
            },
            "type": "scatterternary"
           }
          ],
          "surface": [
           {
            "colorbar": {
             "outlinewidth": 0,
             "ticks": ""
            },
            "colorscale": [
             [
              0,
              "#0d0887"
             ],
             [
              0.1111111111111111,
              "#46039f"
             ],
             [
              0.2222222222222222,
              "#7201a8"
             ],
             [
              0.3333333333333333,
              "#9c179e"
             ],
             [
              0.4444444444444444,
              "#bd3786"
             ],
             [
              0.5555555555555556,
              "#d8576b"
             ],
             [
              0.6666666666666666,
              "#ed7953"
             ],
             [
              0.7777777777777778,
              "#fb9f3a"
             ],
             [
              0.8888888888888888,
              "#fdca26"
             ],
             [
              1,
              "#f0f921"
             ]
            ],
            "type": "surface"
           }
          ],
          "table": [
           {
            "cells": {
             "fill": {
              "color": "#EBF0F8"
             },
             "line": {
              "color": "white"
             }
            },
            "header": {
             "fill": {
              "color": "#C8D4E3"
             },
             "line": {
              "color": "white"
             }
            },
            "type": "table"
           }
          ]
         },
         "layout": {
          "annotationdefaults": {
           "arrowcolor": "#2a3f5f",
           "arrowhead": 0,
           "arrowwidth": 1
          },
          "autotypenumbers": "strict",
          "coloraxis": {
           "colorbar": {
            "outlinewidth": 0,
            "ticks": ""
           }
          },
          "colorscale": {
           "diverging": [
            [
             0,
             "#8e0152"
            ],
            [
             0.1,
             "#c51b7d"
            ],
            [
             0.2,
             "#de77ae"
            ],
            [
             0.3,
             "#f1b6da"
            ],
            [
             0.4,
             "#fde0ef"
            ],
            [
             0.5,
             "#f7f7f7"
            ],
            [
             0.6,
             "#e6f5d0"
            ],
            [
             0.7,
             "#b8e186"
            ],
            [
             0.8,
             "#7fbc41"
            ],
            [
             0.9,
             "#4d9221"
            ],
            [
             1,
             "#276419"
            ]
           ],
           "sequential": [
            [
             0,
             "#0d0887"
            ],
            [
             0.1111111111111111,
             "#46039f"
            ],
            [
             0.2222222222222222,
             "#7201a8"
            ],
            [
             0.3333333333333333,
             "#9c179e"
            ],
            [
             0.4444444444444444,
             "#bd3786"
            ],
            [
             0.5555555555555556,
             "#d8576b"
            ],
            [
             0.6666666666666666,
             "#ed7953"
            ],
            [
             0.7777777777777778,
             "#fb9f3a"
            ],
            [
             0.8888888888888888,
             "#fdca26"
            ],
            [
             1,
             "#f0f921"
            ]
           ],
           "sequentialminus": [
            [
             0,
             "#0d0887"
            ],
            [
             0.1111111111111111,
             "#46039f"
            ],
            [
             0.2222222222222222,
             "#7201a8"
            ],
            [
             0.3333333333333333,
             "#9c179e"
            ],
            [
             0.4444444444444444,
             "#bd3786"
            ],
            [
             0.5555555555555556,
             "#d8576b"
            ],
            [
             0.6666666666666666,
             "#ed7953"
            ],
            [
             0.7777777777777778,
             "#fb9f3a"
            ],
            [
             0.8888888888888888,
             "#fdca26"
            ],
            [
             1,
             "#f0f921"
            ]
           ]
          },
          "colorway": [
           "#636efa",
           "#EF553B",
           "#00cc96",
           "#ab63fa",
           "#FFA15A",
           "#19d3f3",
           "#FF6692",
           "#B6E880",
           "#FF97FF",
           "#FECB52"
          ],
          "font": {
           "color": "#2a3f5f"
          },
          "geo": {
           "bgcolor": "white",
           "lakecolor": "white",
           "landcolor": "#E5ECF6",
           "showlakes": true,
           "showland": true,
           "subunitcolor": "white"
          },
          "hoverlabel": {
           "align": "left"
          },
          "hovermode": "closest",
          "mapbox": {
           "style": "light"
          },
          "paper_bgcolor": "white",
          "plot_bgcolor": "#E5ECF6",
          "polar": {
           "angularaxis": {
            "gridcolor": "white",
            "linecolor": "white",
            "ticks": ""
           },
           "bgcolor": "#E5ECF6",
           "radialaxis": {
            "gridcolor": "white",
            "linecolor": "white",
            "ticks": ""
           }
          },
          "scene": {
           "xaxis": {
            "backgroundcolor": "#E5ECF6",
            "gridcolor": "white",
            "gridwidth": 2,
            "linecolor": "white",
            "showbackground": true,
            "ticks": "",
            "zerolinecolor": "white"
           },
           "yaxis": {
            "backgroundcolor": "#E5ECF6",
            "gridcolor": "white",
            "gridwidth": 2,
            "linecolor": "white",
            "showbackground": true,
            "ticks": "",
            "zerolinecolor": "white"
           },
           "zaxis": {
            "backgroundcolor": "#E5ECF6",
            "gridcolor": "white",
            "gridwidth": 2,
            "linecolor": "white",
            "showbackground": true,
            "ticks": "",
            "zerolinecolor": "white"
           }
          },
          "shapedefaults": {
           "line": {
            "color": "#2a3f5f"
           }
          },
          "ternary": {
           "aaxis": {
            "gridcolor": "white",
            "linecolor": "white",
            "ticks": ""
           },
           "baxis": {
            "gridcolor": "white",
            "linecolor": "white",
            "ticks": ""
           },
           "bgcolor": "#E5ECF6",
           "caxis": {
            "gridcolor": "white",
            "linecolor": "white",
            "ticks": ""
           }
          },
          "title": {
           "x": 0.05
          },
          "xaxis": {
           "automargin": true,
           "gridcolor": "white",
           "linecolor": "white",
           "ticks": "",
           "title": {
            "standoff": 15
           },
           "zerolinecolor": "white",
           "zerolinewidth": 2
          },
          "yaxis": {
           "automargin": true,
           "gridcolor": "white",
           "linecolor": "white",
           "ticks": "",
           "title": {
            "standoff": 15
           },
           "zerolinecolor": "white",
           "zerolinewidth": 2
          }
         }
        },
        "xaxis": {
         "autorange": true,
         "range": [
          1,
          60
         ],
         "title": {
          "text": "Chapter"
         },
         "type": "linear"
        },
        "yaxis": {
         "autorange": true,
         "range": [
          -35.22222222222222,
          669.2222222222222
         ],
         "title": {},
         "type": "linear"
        }
       }
      },
      "image/png": "[encoded data removed]",
      "text/html": [
       "<div>                            <div id=\"644d2960-8c45-43a4-8583-a66b64db0bfc\" class=\"plotly-graph-div\" style=\"height:525px; width:100%;\"></div>            <script type=\"text/javascript\">                require([\"plotly\"], function(Plotly) {                    window.PLOTLYENV=window.PLOTLYENV || {};                                    if (document.getElementById(\"644d2960-8c45-43a4-8583-a66b64db0bfc\")) {                    Plotly.newPlot(                        \"644d2960-8c45-43a4-8583-a66b64db0bfc\",                        [{\"line\":{\"color\":\"rgb(0,30,66)\"},\"mode\":\"lines\",\"name\":\"Elizabeth\",\"x\":[1,2,3,4,5,6,7,8,9,10,11,12,13,14,15,16,17,18,19,20,21,22,23,24,25,26,27,28,29,30,31,32,33,34,35,36,37,38,39,40,41,42,43,44,45,46,47,48,49,50,51,52,53,54,55,56,57,58,59,60],\"y\":[0,1,5,8,10,21,35,48,56,72,85,92,94,95,101,119,128,154,165,174,182,192,203,212,219,236,244,257,271,280,290,300,304,313,315,317,321,331,340,346,356,366,406,420,450,469,477,490,493,508,513,528,540,558,578,589,603,616,623,634],\"type\":\"scatter\"},{\"line\":{\"color\":\"rgb(256,200,44)\"},\"mode\":\"lines\",\"name\":\"Darcy\",\"x\":[1,2,3,4,5,6,7,8,9,10,11,12,13,14,15,16,17,18,19,20,21,22,23,24,25,26,27,28,29,30,31,32,33,34,35,36,37,38,39,40,41,42,43,44,45,46,47,48,49,50,51,52,53,54,55,56,57,58,59,60],\"y\":[0,0,7,14,17,31,32,42,50,71,85,86,86,86,89,110,114,155,155,155,162,162,163,170,176,181,181,181,182,186,200,208,226,237,241,255,260,261,261,271,275,276,293,310,336,339,340,340,342,345,355,362,367,368,374,378,386,401,408,417],\"type\":\"scatter\"},{\"line\":{\"color\":\"rgb(0,150,207)\"},\"mode\":\"lines\",\"name\":\"Jane\",\"x\":[1,2,3,4,5,6,7,8,9,10,11,12,13,14,15,16,17,18,19,20,21,22,23,24,25,26,27,28,29,30,31,32,33,34,35,36,37,38,39,40,41,42,43,44,45,46,47,48,49,50,51,52,53,54,55,56,57,58,59,60],\"y\":[1,1,6,7,10,19,31,36,44,46,47,54,57,57,63,63,69,81,81,85,98,98,106,119,128,135,139,139,139,140,140,142,147,150,150,156,160,163,168,177,179,181,181,183,190,206,209,220,222,229,232,244,249,268,269,270,273,284,289,292],\"type\":\"scatter\"},{\"line\":{\"color\":\"rgb(30,100,0)\"},\"mode\":\"lines\",\"name\":\"Bingley\",\"x\":[1,2,3,4,5,6,7,8,9,10,11,12,13,14,15,16,17,18,19,20,21,22,23,24,25,26,27,28,29,30,31,32,33,34,35,36,37,38,39,40,41,42,43,44,45,46,47,48,49,50,51,52,53,54,55,56,57,58,59,60],\"y\":[4,11,27,38,40,48,56,77,94,112,123,128,131,131,134,138,144,168,168,168,179,179,183,188,194,200,201,201,201,203,204,207,216,216,221,224,225,226,226,228,228,228,230,236,250,250,250,250,250,250,250,265,269,283,285,287,294,303,306,311],\"type\":\"scatter\"}],                        {\"template\":{\"data\":{\"histogram2dcontour\":[{\"type\":\"histogram2dcontour\",\"colorbar\":{\"outlinewidth\":0,\"ticks\":\"\"},\"colorscale\":[[0.0,\"#0d0887\"],[0.1111111111111111,\"#46039f\"],[0.2222222222222222,\"#7201a8\"],[0.3333333333333333,\"#9c179e\"],[0.4444444444444444,\"#bd3786\"],[0.5555555555555556,\"#d8576b\"],[0.6666666666666666,\"#ed7953\"],[0.7777777777777778,\"#fb9f3a\"],[0.8888888888888888,\"#fdca26\"],[1.0,\"#f0f921\"]]}],\"choropleth\":[{\"type\":\"choropleth\",\"colorbar\":{\"outlinewidth\":0,\"ticks\":\"\"}}],\"histogram2d\":[{\"type\":\"histogram2d\",\"colorbar\":{\"outlinewidth\":0,\"ticks\":\"\"},\"colorscale\":[[0.0,\"#0d0887\"],[0.1111111111111111,\"#46039f\"],[0.2222222222222222,\"#7201a8\"],[0.3333333333333333,\"#9c179e\"],[0.4444444444444444,\"#bd3786\"],[0.5555555555555556,\"#d8576b\"],[0.6666666666666666,\"#ed7953\"],[0.7777777777777778,\"#fb9f3a\"],[0.8888888888888888,\"#fdca26\"],[1.0,\"#f0f921\"]]}],\"heatmap\":[{\"type\":\"heatmap\",\"colorbar\":{\"outlinewidth\":0,\"ticks\":\"\"},\"colorscale\":[[0.0,\"#0d0887\"],[0.1111111111111111,\"#46039f\"],[0.2222222222222222,\"#7201a8\"],[0.3333333333333333,\"#9c179e\"],[0.4444444444444444,\"#bd3786\"],[0.5555555555555556,\"#d8576b\"],[0.6666666666666666,\"#ed7953\"],[0.7777777777777778,\"#fb9f3a\"],[0.8888888888888888,\"#fdca26\"],[1.0,\"#f0f921\"]]}],\"heatmapgl\":[{\"type\":\"heatmapgl\",\"colorbar\":{\"outlinewidth\":0,\"ticks\":\"\"},\"colorscale\":[[0.0,\"#0d0887\"],[0.1111111111111111,\"#46039f\"],[0.2222222222222222,\"#7201a8\"],[0.3333333333333333,\"#9c179e\"],[0.4444444444444444,\"#bd3786\"],[0.5555555555555556,\"#d8576b\"],[0.6666666666666666,\"#ed7953\"],[0.7777777777777778,\"#fb9f3a\"],[0.8888888888888888,\"#fdca26\"],[1.0,\"#f0f921\"]]}],\"contourcarpet\":[{\"type\":\"contourcarpet\",\"colorbar\":{\"outlinewidth\":0,\"ticks\":\"\"}}],\"contour\":[{\"type\":\"contour\",\"colorbar\":{\"outlinewidth\":0,\"ticks\":\"\"},\"colorscale\":[[0.0,\"#0d0887\"],[0.1111111111111111,\"#46039f\"],[0.2222222222222222,\"#7201a8\"],[0.3333333333333333,\"#9c179e\"],[0.4444444444444444,\"#bd3786\"],[0.5555555555555556,\"#d8576b\"],[0.6666666666666666,\"#ed7953\"],[0.7777777777777778,\"#fb9f3a\"],[0.8888888888888888,\"#fdca26\"],[1.0,\"#f0f921\"]]}],\"surface\":[{\"type\":\"surface\",\"colorbar\":{\"outlinewidth\":0,\"ticks\":\"\"},\"colorscale\":[[0.0,\"#0d0887\"],[0.1111111111111111,\"#46039f\"],[0.2222222222222222,\"#7201a8\"],[0.3333333333333333,\"#9c179e\"],[0.4444444444444444,\"#bd3786\"],[0.5555555555555556,\"#d8576b\"],[0.6666666666666666,\"#ed7953\"],[0.7777777777777778,\"#fb9f3a\"],[0.8888888888888888,\"#fdca26\"],[1.0,\"#f0f921\"]]}],\"mesh3d\":[{\"type\":\"mesh3d\",\"colorbar\":{\"outlinewidth\":0,\"ticks\":\"\"}}],\"scatter\":[{\"fillpattern\":{\"fillmode\":\"overlay\",\"size\":10,\"solidity\":0.2},\"type\":\"scatter\"}],\"parcoords\":[{\"type\":\"parcoords\",\"line\":{\"colorbar\":{\"outlinewidth\":0,\"ticks\":\"\"}}}],\"scatterpolargl\":[{\"type\":\"scatterpolargl\",\"marker\":{\"colorbar\":{\"outlinewidth\":0,\"ticks\":\"\"}}}],\"bar\":[{\"error_x\":{\"color\":\"#2a3f5f\"},\"error_y\":{\"color\":\"#2a3f5f\"},\"marker\":{\"line\":{\"color\":\"#E5ECF6\",\"width\":0.5},\"pattern\":{\"fillmode\":\"overlay\",\"size\":10,\"solidity\":0.2}},\"type\":\"bar\"}],\"scattergeo\":[{\"type\":\"scattergeo\",\"marker\":{\"colorbar\":{\"outlinewidth\":0,\"ticks\":\"\"}}}],\"scatterpolar\":[{\"type\":\"scatterpolar\",\"marker\":{\"colorbar\":{\"outlinewidth\":0,\"ticks\":\"\"}}}],\"histogram\":[{\"marker\":{\"pattern\":{\"fillmode\":\"overlay\",\"size\":10,\"solidity\":0.2}},\"type\":\"histogram\"}],\"scattergl\":[{\"type\":\"scattergl\",\"marker\":{\"colorbar\":{\"outlinewidth\":0,\"ticks\":\"\"}}}],\"scatter3d\":[{\"type\":\"scatter3d\",\"line\":{\"colorbar\":{\"outlinewidth\":0,\"ticks\":\"\"}},\"marker\":{\"colorbar\":{\"outlinewidth\":0,\"ticks\":\"\"}}}],\"scattermapbox\":[{\"type\":\"scattermapbox\",\"marker\":{\"colorbar\":{\"outlinewidth\":0,\"ticks\":\"\"}}}],\"scatterternary\":[{\"type\":\"scatterternary\",\"marker\":{\"colorbar\":{\"outlinewidth\":0,\"ticks\":\"\"}}}],\"scattercarpet\":[{\"type\":\"scattercarpet\",\"marker\":{\"colorbar\":{\"outlinewidth\":0,\"ticks\":\"\"}}}],\"carpet\":[{\"aaxis\":{\"endlinecolor\":\"#2a3f5f\",\"gridcolor\":\"white\",\"linecolor\":\"white\",\"minorgridcolor\":\"white\",\"startlinecolor\":\"#2a3f5f\"},\"baxis\":{\"endlinecolor\":\"#2a3f5f\",\"gridcolor\":\"white\",\"linecolor\":\"white\",\"minorgridcolor\":\"white\",\"startlinecolor\":\"#2a3f5f\"},\"type\":\"carpet\"}],\"table\":[{\"cells\":{\"fill\":{\"color\":\"#EBF0F8\"},\"line\":{\"color\":\"white\"}},\"header\":{\"fill\":{\"color\":\"#C8D4E3\"},\"line\":{\"color\":\"white\"}},\"type\":\"table\"}],\"barpolar\":[{\"marker\":{\"line\":{\"color\":\"#E5ECF6\",\"width\":0.5},\"pattern\":{\"fillmode\":\"overlay\",\"size\":10,\"solidity\":0.2}},\"type\":\"barpolar\"}],\"pie\":[{\"automargin\":true,\"type\":\"pie\"}]},\"layout\":{\"autotypenumbers\":\"strict\",\"colorway\":[\"#636efa\",\"#EF553B\",\"#00cc96\",\"#ab63fa\",\"#FFA15A\",\"#19d3f3\",\"#FF6692\",\"#B6E880\",\"#FF97FF\",\"#FECB52\"],\"font\":{\"color\":\"#2a3f5f\"},\"hovermode\":\"closest\",\"hoverlabel\":{\"align\":\"left\"},\"paper_bgcolor\":\"white\",\"plot_bgcolor\":\"#E5ECF6\",\"polar\":{\"bgcolor\":\"#E5ECF6\",\"angularaxis\":{\"gridcolor\":\"white\",\"linecolor\":\"white\",\"ticks\":\"\"},\"radialaxis\":{\"gridcolor\":\"white\",\"linecolor\":\"white\",\"ticks\":\"\"}},\"ternary\":{\"bgcolor\":\"#E5ECF6\",\"aaxis\":{\"gridcolor\":\"white\",\"linecolor\":\"white\",\"ticks\":\"\"},\"baxis\":{\"gridcolor\":\"white\",\"linecolor\":\"white\",\"ticks\":\"\"},\"caxis\":{\"gridcolor\":\"white\",\"linecolor\":\"white\",\"ticks\":\"\"}},\"coloraxis\":{\"colorbar\":{\"outlinewidth\":0,\"ticks\":\"\"}},\"colorscale\":{\"sequential\":[[0.0,\"#0d0887\"],[0.1111111111111111,\"#46039f\"],[0.2222222222222222,\"#7201a8\"],[0.3333333333333333,\"#9c179e\"],[0.4444444444444444,\"#bd3786\"],[0.5555555555555556,\"#d8576b\"],[0.6666666666666666,\"#ed7953\"],[0.7777777777777778,\"#fb9f3a\"],[0.8888888888888888,\"#fdca26\"],[1.0,\"#f0f921\"]],\"sequentialminus\":[[0.0,\"#0d0887\"],[0.1111111111111111,\"#46039f\"],[0.2222222222222222,\"#7201a8\"],[0.3333333333333333,\"#9c179e\"],[0.4444444444444444,\"#bd3786\"],[0.5555555555555556,\"#d8576b\"],[0.6666666666666666,\"#ed7953\"],[0.7777777777777778,\"#fb9f3a\"],[0.8888888888888888,\"#fdca26\"],[1.0,\"#f0f921\"]],\"diverging\":[[0,\"#8e0152\"],[0.1,\"#c51b7d\"],[0.2,\"#de77ae\"],[0.3,\"#f1b6da\"],[0.4,\"#fde0ef\"],[0.5,\"#f7f7f7\"],[0.6,\"#e6f5d0\"],[0.7,\"#b8e186\"],[0.8,\"#7fbc41\"],[0.9,\"#4d9221\"],[1,\"#276419\"]]},\"xaxis\":{\"gridcolor\":\"white\",\"linecolor\":\"white\",\"ticks\":\"\",\"title\":{\"standoff\":15},\"zerolinecolor\":\"white\",\"automargin\":true,\"zerolinewidth\":2},\"yaxis\":{\"gridcolor\":\"white\",\"linecolor\":\"white\",\"ticks\":\"\",\"title\":{\"standoff\":15},\"zerolinecolor\":\"white\",\"automargin\":true,\"zerolinewidth\":2},\"scene\":{\"xaxis\":{\"backgroundcolor\":\"#E5ECF6\",\"gridcolor\":\"white\",\"linecolor\":\"white\",\"showbackground\":true,\"ticks\":\"\",\"zerolinecolor\":\"white\",\"gridwidth\":2},\"yaxis\":{\"backgroundcolor\":\"#E5ECF6\",\"gridcolor\":\"white\",\"linecolor\":\"white\",\"showbackground\":true,\"ticks\":\"\",\"zerolinecolor\":\"white\",\"gridwidth\":2},\"zaxis\":{\"backgroundcolor\":\"#E5ECF6\",\"gridcolor\":\"white\",\"linecolor\":\"white\",\"showbackground\":true,\"ticks\":\"\",\"zerolinecolor\":\"white\",\"gridwidth\":2}},\"shapedefaults\":{\"line\":{\"color\":\"#2a3f5f\"}},\"annotationdefaults\":{\"arrowcolor\":\"#2a3f5f\",\"arrowhead\":0,\"arrowwidth\":1},\"geo\":{\"bgcolor\":\"white\",\"landcolor\":\"#E5ECF6\",\"subunitcolor\":\"white\",\"showland\":true,\"showlakes\":true,\"lakecolor\":\"white\"},\"title\":{\"x\":0.05},\"mapbox\":{\"style\":\"light\"}}},\"xaxis\":{\"title\":{\"text\":\"Chapter\"}},\"yaxis\":{\"title\":{}}},                        {\"responsive\": true}                    ).then(function(){\n",
       "                            \n",
       "var gd = document.getElementById('644d2960-8c45-43a4-8583-a66b64db0bfc');\n",
       "var x = new MutationObserver(function (mutations, observer) {{\n",
       "        var display = window.getComputedStyle(gd).display;\n",
       "        if (!display || display === 'none') {{\n",
       "            console.log([gd, 'removed!']);\n",
       "            Plotly.purge(gd);\n",
       "            observer.disconnect();\n",
       "        }}\n",
       "}});\n",
       "\n",
       "// Listen for the removal of the full notebook cells\n",
       "var notebookContainer = gd.closest('#notebook-container');\n",
       "if (notebookContainer) {{\n",
       "    x.observe(notebookContainer, {childList: true});\n",
       "}}\n",
       "\n",
       "// Listen for the clearing of the current output cell\n",
       "var outputEl = gd.closest('.output');\n",
       "if (outputEl) {{\n",
       "    x.observe(outputEl, {childList: true});\n",
       "}}\n",
       "\n",
       "                        })                };                });            </script>        </div>"
      ]
     },
     "metadata": {},
     "output_type": "display_data"
    }
   ],
   "source": [
    "Table.interactive_plots()\n",
    "cumulative_table.plot(column_for_xticks=0)\n",
    "Table.static_plots()"
   ]
  },
  {
   "cell_type": "code",
   "execution_count": 77,
   "id": "1f6b4cbb-b684-49cd-8942-9da4a19eca33",
   "metadata": {},
   "outputs": [],
   "source": [
    "length_a = Table().with_columns([\n",
    "        'Length', [len(s) for s in alice_in_wonderland_chapters],\n",
    "        'Periods', np.char.count(alice_in_wonderland_chapters, '.')\n",
    "    ])\n",
    "length_p = Table().with_columns([\n",
    "        'Length', [len(s) for s in pride_and_prejudice_chapters],\n",
    "        'Periods', np.char.count(pride_and_prejudice_chapters, '.')\n",
    "    ])"
   ]
  },
  {
   "cell_type": "code",
   "execution_count": 79,
   "id": "3c08f340-ea88-4304-924e-a24852ab9d29",
   "metadata": {},
   "outputs": [
    {
     "data": {
      "text/html": [
       "<table border=\"1\" class=\"dataframe\">\n",
       "    <thead>\n",
       "        <tr>\n",
       "            <th>Length</th> <th>Periods</th>\n",
       "        </tr>\n",
       "    </thead>\n",
       "    <tbody>\n",
       "        <tr>\n",
       "            <td>11335 </td> <td>44     </td>\n",
       "        </tr>\n",
       "        <tr>\n",
       "            <td>10893 </td> <td>46     </td>\n",
       "        </tr>\n",
       "        <tr>\n",
       "            <td>9143  </td> <td>63     </td>\n",
       "        </tr>\n",
       "        <tr>\n",
       "            <td>13835 </td> <td>57     </td>\n",
       "        </tr>\n",
       "        <tr>\n",
       "            <td>11771 </td> <td>74     </td>\n",
       "        </tr>\n",
       "        <tr>\n",
       "            <td>13735 </td> <td>111    </td>\n",
       "        </tr>\n",
       "        <tr>\n",
       "            <td>12569 </td> <td>121    </td>\n",
       "        </tr>\n",
       "        <tr>\n",
       "            <td>13592 </td> <td>86     </td>\n",
       "        </tr>\n",
       "        <tr>\n",
       "            <td>12532 </td> <td>114    </td>\n",
       "        </tr>\n",
       "        <tr>\n",
       "            <td>11291 </td> <td>92     </td>\n",
       "        </tr>\n",
       "    </tbody>\n",
       "</table>\n",
       "<p>... (2 rows omitted)</p>"
      ],
      "text/plain": [
       "Length | Periods\n",
       "11335  | 44\n",
       "10893  | 46\n",
       "9143   | 63\n",
       "13835  | 57\n",
       "11771  | 74\n",
       "13735  | 111\n",
       "12569  | 121\n",
       "13592  | 86\n",
       "12532  | 114\n",
       "11291  | 92\n",
       "... (2 rows omitted)"
      ]
     },
     "execution_count": 79,
     "metadata": {},
     "output_type": "execute_result"
    }
   ],
   "source": [
    "length_a"
   ]
  },
  {
   "cell_type": "code",
   "execution_count": 80,
   "id": "6df5eea3-8439-46f4-98ea-8cff8c08bfe6",
   "metadata": {},
   "outputs": [
    {
     "data": {
      "text/html": [
       "<table border=\"1\" class=\"dataframe\">\n",
       "    <thead>\n",
       "        <tr>\n",
       "            <th>Length</th> <th>Periods</th>\n",
       "        </tr>\n",
       "    </thead>\n",
       "    <tbody>\n",
       "        <tr>\n",
       "            <td>4459  </td> <td>59     </td>\n",
       "        </tr>\n",
       "        <tr>\n",
       "            <td>4287  </td> <td>63     </td>\n",
       "        </tr>\n",
       "        <tr>\n",
       "            <td>9551  </td> <td>106    </td>\n",
       "        </tr>\n",
       "        <tr>\n",
       "            <td>5925  </td> <td>53     </td>\n",
       "        </tr>\n",
       "        <tr>\n",
       "            <td>5255  </td> <td>61     </td>\n",
       "        </tr>\n",
       "        <tr>\n",
       "            <td>12981 </td> <td>112    </td>\n",
       "        </tr>\n",
       "        <tr>\n",
       "            <td>11153 </td> <td>109    </td>\n",
       "        </tr>\n",
       "        <tr>\n",
       "            <td>10958 </td> <td>105    </td>\n",
       "        </tr>\n",
       "        <tr>\n",
       "            <td>9739  </td> <td>117    </td>\n",
       "        </tr>\n",
       "        <tr>\n",
       "            <td>12441 </td> <td>126    </td>\n",
       "        </tr>\n",
       "    </tbody>\n",
       "</table>\n",
       "<p>... (50 rows omitted)</p>"
      ],
      "text/plain": [
       "Length | Periods\n",
       "4459   | 59\n",
       "4287   | 63\n",
       "9551   | 106\n",
       "5925   | 53\n",
       "5255   | 61\n",
       "12981  | 112\n",
       "11153  | 109\n",
       "10958  | 105\n",
       "9739   | 117\n",
       "12441  | 126\n",
       "... (50 rows omitted)"
      ]
     },
     "execution_count": 80,
     "metadata": {},
     "output_type": "execute_result"
    }
   ],
   "source": [
    "length_p"
   ]
  },
  {
   "cell_type": "code",
   "execution_count": 87,
   "id": "bccaec67-85be-4921-be10-7d312f9d16cc",
   "metadata": {},
   "outputs": [
    {
     "data": {
      "image/png": "[encoded data removed]",
      "text/plain": [
       "<Figure size 600x600 with 1 Axes>"
      ]
     },
     "metadata": {},
     "output_type": "display_data"
    }
   ],
   "source": [
    "plt.figure(figsize=(6,6))\n",
    "plt.scatter(length_a.column(1), length_a.column(0), color='darkblue')\n",
    "plt.scatter(length_p.column(1), length_p.column(0), color='gold')\n",
    "plt.xlabel('Number of periods in chapter')\n",
    "plt.ylabel('Number of characters in chapter');"
   ]
  },
  {
   "cell_type": "code",
   "execution_count": 2,
   "id": "3c10ef8e-c84b-44fb-9f2c-c9ae6f7a3ba7",
   "metadata": {},
   "outputs": [],
   "source": [
    "# Twitter's original character limit was 140"
   ]
  }
 ],
 "metadata": {
  "kernelspec": {
   "display_name": "Python 3 (ipykernel)",
   "language": "python",
   "name": "python3"
  },
  "language_info": {
   "codemirror_mode": {
    "name": "ipython",
    "version": 3
   },
   "file_extension": ".py",
   "mimetype": "text/x-python",
   "name": "python",
   "nbconvert_exporter": "python",
   "pygments_lexer": "ipython3",
   "version": "3.12.5"
  }
 },
 "nbformat": 4,
 "nbformat_minor": 5
}
