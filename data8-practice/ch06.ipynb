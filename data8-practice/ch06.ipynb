{
 "cells": [
  {
   "cell_type": "code",
   "execution_count": 1,
   "id": "d470b59e-d2cc-4b25-a4bc-3fe60cff7506",
   "metadata": {},
   "outputs": [],
   "source": [
    "from datascience import *"
   ]
  },
  {
   "cell_type": "code",
   "execution_count": 2,
   "id": "3eec35b8-294d-463f-b31a-ab513e06d3cd",
   "metadata": {},
   "outputs": [
    {
     "data": {
      "text/html": [
       "<table border=\"1\" class=\"dataframe\">\n",
       "    <thead>\n",
       "        <tr>\n",
       "            \n",
       "        </tr>\n",
       "    </thead>\n",
       "    <tbody>\n",
       "    </tbody>\n",
       "</table>"
      ],
      "text/plain": []
     },
     "execution_count": 2,
     "metadata": {},
     "output_type": "execute_result"
    }
   ],
   "source": [
    "Table() # empty table"
   ]
  },
  {
   "cell_type": "code",
   "execution_count": 3,
   "id": "f869d316-6d3e-4704-aade-4d0770d528f6",
   "metadata": {},
   "outputs": [
    {
     "data": {
      "text/html": [
       "<table border=\"1\" class=\"dataframe\">\n",
       "    <thead>\n",
       "        <tr>\n",
       "            <th>Name</th>\n",
       "        </tr>\n",
       "    </thead>\n",
       "    <tbody>\n",
       "        <tr>\n",
       "            <td>Lawton</td>\n",
       "        </tr>\n",
       "        <tr>\n",
       "            <td>Lonzo </td>\n",
       "        </tr>\n",
       "        <tr>\n",
       "            <td>Bill  </td>\n",
       "        </tr>\n",
       "    </tbody>\n",
       "</table>"
      ],
      "text/plain": [
       "Name\n",
       "Lawton\n",
       "Lonzo\n",
       "Bill"
      ]
     },
     "execution_count": 3,
     "metadata": {},
     "output_type": "execute_result"
    }
   ],
   "source": [
    "Table().with_column('Name', make_array('Lawton', 'Lonzo', 'Bill'))"
   ]
  },
  {
   "cell_type": "code",
   "execution_count": 4,
   "id": "6c40b547-dac6-4db7-993e-dfd766c3a018",
   "metadata": {},
   "outputs": [
    {
     "data": {
      "text/html": [
       "<table border=\"1\" class=\"dataframe\">\n",
       "    <thead>\n",
       "        <tr>\n",
       "            <th>Name</th> <th>Age</th>\n",
       "        </tr>\n",
       "    </thead>\n",
       "    <tbody>\n",
       "        <tr>\n",
       "            <td>Lawton</td> <td>32  </td>\n",
       "        </tr>\n",
       "        <tr>\n",
       "            <td>Lonzo </td> <td>5   </td>\n",
       "        </tr>\n",
       "        <tr>\n",
       "            <td>Bill  </td> <td>33  </td>\n",
       "        </tr>\n",
       "    </tbody>\n",
       "</table>"
      ],
      "text/plain": [
       "Name   | Age\n",
       "Lawton | 32\n",
       "Lonzo  | 5\n",
       "Bill   | 33"
      ]
     },
     "execution_count": 4,
     "metadata": {},
     "output_type": "execute_result"
    }
   ],
   "source": [
    "Table().with_columns(\n",
    "    'Name', make_array('Lawton', 'Lonzo', 'Bill'),\n",
    "    'Age', make_array(32, 5, 33)\n",
    ")"
   ]
  },
  {
   "cell_type": "code",
   "execution_count": 5,
   "id": "b408bbcc-326b-4113-82a2-3944f25cad10",
   "metadata": {},
   "outputs": [],
   "source": [
    "people = Table().with_columns(\n",
    "    'Name', make_array('Lawton', 'Lonzo', 'Bill'),\n",
    "    'Age', make_array(32, 5, 33)\n",
    ")"
   ]
  },
  {
   "cell_type": "code",
   "execution_count": 6,
   "id": "81e50c64-83fa-4fe5-8932-0ff7b1d93771",
   "metadata": {},
   "outputs": [
    {
     "data": {
      "text/html": [
       "<table border=\"1\" class=\"dataframe\">\n",
       "    <thead>\n",
       "        <tr>\n",
       "            <th>Name</th> <th>Age</th> <th>Employer</th>\n",
       "        </tr>\n",
       "    </thead>\n",
       "    <tbody>\n",
       "        <tr>\n",
       "            <td>Lawton</td> <td>32  </td> <td>CCC       </td>\n",
       "        </tr>\n",
       "        <tr>\n",
       "            <td>Lonzo </td> <td>5   </td> <td>Unemployed</td>\n",
       "        </tr>\n",
       "        <tr>\n",
       "            <td>Bill  </td> <td>33  </td> <td>CCC       </td>\n",
       "        </tr>\n",
       "    </tbody>\n",
       "</table>"
      ],
      "text/plain": [
       "Name   | Age  | Employer\n",
       "Lawton | 32   | CCC\n",
       "Lonzo  | 5    | Unemployed\n",
       "Bill   | 33   | CCC"
      ]
     },
     "execution_count": 6,
     "metadata": {},
     "output_type": "execute_result"
    }
   ],
   "source": [
    "people.with_columns('Employer', make_array('CCC', 'Unemployed', 'CCC')) # it's fine to use the plural one here"
   ]
  },
  {
   "cell_type": "code",
   "execution_count": 7,
   "id": "924a5cc6-95f9-4145-a1b8-36caf467874e",
   "metadata": {},
   "outputs": [
    {
     "data": {
      "text/html": [
       "<table border=\"1\" class=\"dataframe\">\n",
       "    <thead>\n",
       "        <tr>\n",
       "            <th>Name</th> <th>Age</th>\n",
       "        </tr>\n",
       "    </thead>\n",
       "    <tbody>\n",
       "        <tr>\n",
       "            <td>Lawton</td> <td>32  </td>\n",
       "        </tr>\n",
       "        <tr>\n",
       "            <td>Lonzo </td> <td>5   </td>\n",
       "        </tr>\n",
       "        <tr>\n",
       "            <td>Bill  </td> <td>33  </td>\n",
       "        </tr>\n",
       "    </tbody>\n",
       "</table>"
      ],
      "text/plain": [
       "Name   | Age\n",
       "Lawton | 32\n",
       "Lonzo  | 5\n",
       "Bill   | 33"
      ]
     },
     "execution_count": 7,
     "metadata": {},
     "output_type": "execute_result"
    }
   ],
   "source": [
    "people # didn't change"
   ]
  },
  {
   "cell_type": "code",
   "execution_count": 8,
   "id": "3968b9b5-f041-4b86-8b7f-df25236f8220",
   "metadata": {},
   "outputs": [
    {
     "data": {
      "text/html": [
       "<table border=\"1\" class=\"dataframe\">\n",
       "    <thead>\n",
       "        <tr>\n",
       "            <th>Name</th> <th>Trips around sun</th>\n",
       "        </tr>\n",
       "    </thead>\n",
       "    <tbody>\n",
       "        <tr>\n",
       "            <td>Lawton</td> <td>32              </td>\n",
       "        </tr>\n",
       "        <tr>\n",
       "            <td>Lonzo </td> <td>5               </td>\n",
       "        </tr>\n",
       "        <tr>\n",
       "            <td>Bill  </td> <td>33              </td>\n",
       "        </tr>\n",
       "    </tbody>\n",
       "</table>"
      ],
      "text/plain": [
       "Name   | Trips around sun\n",
       "Lawton | 32\n",
       "Lonzo  | 5\n",
       "Bill   | 33"
      ]
     },
     "execution_count": 8,
     "metadata": {},
     "output_type": "execute_result"
    }
   ],
   "source": [
    "people.relabeled('Age', 'Trips around sun')"
   ]
  },
  {
   "cell_type": "markdown",
   "id": "8a10e7dd-13ec-4939-9618-1b3cd701ac68",
   "metadata": {},
   "source": [
    "---"
   ]
  },
  {
   "cell_type": "code",
   "execution_count": 9,
   "id": "279d5f00-a27f-419f-a5e6-f5e022a2369a",
   "metadata": {},
   "outputs": [
    {
     "data": {
      "text/html": [
       "<table border=\"1\" class=\"dataframe\">\n",
       "    <thead>\n",
       "        <tr>\n",
       "            <th>Flavor</th> <th>Color</th> <th>Price</th>\n",
       "        </tr>\n",
       "    </thead>\n",
       "    <tbody>\n",
       "        <tr>\n",
       "            <td>strawberry</td> <td>pink       </td> <td>3.55 </td>\n",
       "        </tr>\n",
       "        <tr>\n",
       "            <td>chocolate </td> <td>light brown</td> <td>4.75 </td>\n",
       "        </tr>\n",
       "        <tr>\n",
       "            <td>chocolate </td> <td>dark brown </td> <td>5.25 </td>\n",
       "        </tr>\n",
       "        <tr>\n",
       "            <td>vanilla   </td> <td>white      </td> <td>3.5  </td>\n",
       "        </tr>\n",
       "        <tr>\n",
       "            <td>strawberry</td> <td>pink       </td> <td>5.25 </td>\n",
       "        </tr>\n",
       "        <tr>\n",
       "            <td>chocolate </td> <td>dark brown </td> <td>5.25 </td>\n",
       "        </tr>\n",
       "        <tr>\n",
       "            <td>bubblegum </td> <td>pink       </td> <td>4.75 </td>\n",
       "        </tr>\n",
       "    </tbody>\n",
       "</table>"
      ],
      "text/plain": [
       "Flavor     | Color       | Price\n",
       "strawberry | pink        | 3.55\n",
       "chocolate  | light brown | 4.75\n",
       "chocolate  | dark brown  | 5.25\n",
       "vanilla    | white       | 3.5\n",
       "strawberry | pink        | 5.25\n",
       "chocolate  | dark brown  | 5.25\n",
       "bubblegum  | pink        | 4.75"
      ]
     },
     "execution_count": 9,
     "metadata": {},
     "output_type": "execute_result"
    }
   ],
   "source": [
    "cones = Table.read_table('data/cones.csv')\n",
    "cones"
   ]
  },
  {
   "cell_type": "code",
   "execution_count": 10,
   "id": "fc0d9328-02ec-4076-81c0-7dbd23798586",
   "metadata": {},
   "outputs": [
    {
     "data": {
      "text/plain": [
       "3"
      ]
     },
     "execution_count": 10,
     "metadata": {},
     "output_type": "execute_result"
    }
   ],
   "source": [
    "cones.num_columns"
   ]
  },
  {
   "cell_type": "code",
   "execution_count": 11,
   "id": "bc6d3e37-d936-4cfd-8d7f-cd26c9296b9f",
   "metadata": {},
   "outputs": [
    {
     "data": {
      "text/plain": [
       "7"
      ]
     },
     "execution_count": 11,
     "metadata": {},
     "output_type": "execute_result"
    }
   ],
   "source": [
    "cones.num_rows"
   ]
  },
  {
   "cell_type": "code",
   "execution_count": 12,
   "id": "cb8f20c9-2bf9-472d-8e8c-1aee10890ca2",
   "metadata": {},
   "outputs": [
    {
     "data": {
      "text/plain": [
       "('Flavor', 'Color', 'Price')"
      ]
     },
     "execution_count": 12,
     "metadata": {},
     "output_type": "execute_result"
    }
   ],
   "source": [
    "cones.labels"
   ]
  },
  {
   "cell_type": "code",
   "execution_count": 13,
   "id": "936a15cb-4ad7-405f-8f2e-8597706be1c5",
   "metadata": {},
   "outputs": [
    {
     "data": {
      "text/plain": [
       "array([ 3.55,  4.75,  5.25,  3.5 ,  5.25,  5.25,  4.75])"
      ]
     },
     "execution_count": 13,
     "metadata": {},
     "output_type": "execute_result"
    }
   ],
   "source": [
    "cones.column('Price')"
   ]
  },
  {
   "cell_type": "code",
   "execution_count": 14,
   "id": "a4d97f02-293d-44e1-ab74-1255b305a5b6",
   "metadata": {},
   "outputs": [
    {
     "data": {
      "text/plain": [
       "3.55"
      ]
     },
     "execution_count": 14,
     "metadata": {},
     "output_type": "execute_result"
    }
   ],
   "source": [
    "cones.column('Price').item(0) # first one is at index 0"
   ]
  },
  {
   "cell_type": "code",
   "execution_count": 15,
   "id": "1ac4110c-e4d9-4e32-a999-4c64eb17756a",
   "metadata": {},
   "outputs": [
    {
     "data": {
      "text/plain": [
       "array([ 3.55,  4.75,  5.25,  3.5 ,  5.25,  5.25,  4.75])"
      ]
     },
     "execution_count": 15,
     "metadata": {},
     "output_type": "execute_result"
    }
   ],
   "source": [
    "cones.column(2)"
   ]
  },
  {
   "cell_type": "code",
   "execution_count": 16,
   "id": "464a16a6-f132-4f85-9e6e-fec2798d3827",
   "metadata": {},
   "outputs": [
    {
     "data": {
      "text/plain": [
       "4.75"
      ]
     },
     "execution_count": 16,
     "metadata": {},
     "output_type": "execute_result"
    }
   ],
   "source": [
    "cones.column(2).item(1)"
   ]
  },
  {
   "cell_type": "code",
   "execution_count": null,
   "id": "9377a7e9-6e94-4f66-bbda-ec470a6c71ff",
   "metadata": {},
   "outputs": [],
   "source": [
    "# crushed ice: calculate 8.75% sales tax of the prices in the Price column"
   ]
  },
  {
   "cell_type": "code",
   "execution_count": 17,
   "id": "833518c5-f383-4ab8-9932-f21ed4c3702c",
   "metadata": {},
   "outputs": [
    {
     "data": {
      "text/html": [
       "<table border=\"1\" class=\"dataframe\">\n",
       "    <thead>\n",
       "        <tr>\n",
       "            <th>Flavor</th> <th>Color</th> <th>Price</th> <th>Price with tax</th>\n",
       "        </tr>\n",
       "    </thead>\n",
       "    <tbody>\n",
       "        <tr>\n",
       "            <td>strawberry</td> <td>pink       </td> <td>3.55 </td> <td>3.86062       </td>\n",
       "        </tr>\n",
       "        <tr>\n",
       "            <td>chocolate </td> <td>light brown</td> <td>4.75 </td> <td>5.16562       </td>\n",
       "        </tr>\n",
       "        <tr>\n",
       "            <td>chocolate </td> <td>dark brown </td> <td>5.25 </td> <td>5.70937       </td>\n",
       "        </tr>\n",
       "        <tr>\n",
       "            <td>vanilla   </td> <td>white      </td> <td>3.5  </td> <td>3.80625       </td>\n",
       "        </tr>\n",
       "        <tr>\n",
       "            <td>strawberry</td> <td>pink       </td> <td>5.25 </td> <td>5.70937       </td>\n",
       "        </tr>\n",
       "        <tr>\n",
       "            <td>chocolate </td> <td>dark brown </td> <td>5.25 </td> <td>5.70937       </td>\n",
       "        </tr>\n",
       "        <tr>\n",
       "            <td>bubblegum </td> <td>pink       </td> <td>4.75 </td> <td>5.16562       </td>\n",
       "        </tr>\n",
       "    </tbody>\n",
       "</table>"
      ],
      "text/plain": [
       "Flavor     | Color       | Price | Price with tax\n",
       "strawberry | pink        | 3.55  | 3.86062\n",
       "chocolate  | light brown | 4.75  | 5.16562\n",
       "chocolate  | dark brown  | 5.25  | 5.70937\n",
       "vanilla    | white       | 3.5   | 3.80625\n",
       "strawberry | pink        | 5.25  | 5.70937\n",
       "chocolate  | dark brown  | 5.25  | 5.70937\n",
       "bubblegum  | pink        | 4.75  | 5.16562"
      ]
     },
     "execution_count": 17,
     "metadata": {},
     "output_type": "execute_result"
    }
   ],
   "source": [
    "tax_rate = 0.0875\n",
    "cones = cones.with_column('Price with tax', cones.column('Price') * (1 + tax_rate))\n",
    "cones"
   ]
  },
  {
   "cell_type": "code",
   "execution_count": 18,
   "id": "982ea123-e2d1-482d-af23-61a01ab32ef8",
   "metadata": {},
   "outputs": [
    {
     "data": {
      "text/html": [
       "<table border=\"1\" class=\"dataframe\">\n",
       "    <thead>\n",
       "        <tr>\n",
       "            <th>Flavor</th> <th>Color</th> <th>Price</th> <th>Price with tax</th>\n",
       "        </tr>\n",
       "    </thead>\n",
       "    <tbody>\n",
       "        <tr>\n",
       "            <td>strawberry</td> <td>pink       </td> <td>3.55 </td> <td>$3.86         </td>\n",
       "        </tr>\n",
       "        <tr>\n",
       "            <td>chocolate </td> <td>light brown</td> <td>4.75 </td> <td>$5.17         </td>\n",
       "        </tr>\n",
       "        <tr>\n",
       "            <td>chocolate </td> <td>dark brown </td> <td>5.25 </td> <td>$5.71         </td>\n",
       "        </tr>\n",
       "        <tr>\n",
       "            <td>vanilla   </td> <td>white      </td> <td>3.5  </td> <td>$3.81         </td>\n",
       "        </tr>\n",
       "        <tr>\n",
       "            <td>strawberry</td> <td>pink       </td> <td>5.25 </td> <td>$5.71         </td>\n",
       "        </tr>\n",
       "        <tr>\n",
       "            <td>chocolate </td> <td>dark brown </td> <td>5.25 </td> <td>$5.71         </td>\n",
       "        </tr>\n",
       "        <tr>\n",
       "            <td>bubblegum </td> <td>pink       </td> <td>4.75 </td> <td>$5.17         </td>\n",
       "        </tr>\n",
       "    </tbody>\n",
       "</table>"
      ],
      "text/plain": [
       "Flavor     | Color       | Price | Price with tax\n",
       "strawberry | pink        | 3.55  | $3.86\n",
       "chocolate  | light brown | 4.75  | $5.17\n",
       "chocolate  | dark brown  | 5.25  | $5.71\n",
       "vanilla    | white       | 3.5   | $3.81\n",
       "strawberry | pink        | 5.25  | $5.71\n",
       "chocolate  | dark brown  | 5.25  | $5.71\n",
       "bubblegum  | pink        | 4.75  | $5.17"
      ]
     },
     "execution_count": 18,
     "metadata": {},
     "output_type": "execute_result"
    }
   ],
   "source": [
    "cones.set_format('Price with tax', CurrencyFormatter) # see the book for other formatters"
   ]
  },
  {
   "cell_type": "code",
   "execution_count": 19,
   "id": "8c980c52-0365-4c78-a9be-71129713a8e6",
   "metadata": {},
   "outputs": [
    {
     "data": {
      "text/html": [
       "<table border=\"1\" class=\"dataframe\">\n",
       "    <thead>\n",
       "        <tr>\n",
       "            <th>Flavor</th> <th>Price with tax</th>\n",
       "        </tr>\n",
       "    </thead>\n",
       "    <tbody>\n",
       "        <tr>\n",
       "            <td>strawberry</td> <td>$3.86         </td>\n",
       "        </tr>\n",
       "        <tr>\n",
       "            <td>chocolate </td> <td>$5.17         </td>\n",
       "        </tr>\n",
       "        <tr>\n",
       "            <td>chocolate </td> <td>$5.71         </td>\n",
       "        </tr>\n",
       "        <tr>\n",
       "            <td>vanilla   </td> <td>$3.81         </td>\n",
       "        </tr>\n",
       "        <tr>\n",
       "            <td>strawberry</td> <td>$5.71         </td>\n",
       "        </tr>\n",
       "        <tr>\n",
       "            <td>chocolate </td> <td>$5.71         </td>\n",
       "        </tr>\n",
       "        <tr>\n",
       "            <td>bubblegum </td> <td>$5.17         </td>\n",
       "        </tr>\n",
       "    </tbody>\n",
       "</table>"
      ],
      "text/plain": [
       "Flavor     | Price with tax\n",
       "strawberry | $3.86\n",
       "chocolate  | $5.17\n",
       "chocolate  | $5.71\n",
       "vanilla    | $3.81\n",
       "strawberry | $5.71\n",
       "chocolate  | $5.71\n",
       "bubblegum  | $5.17"
      ]
     },
     "execution_count": 19,
     "metadata": {},
     "output_type": "execute_result"
    }
   ],
   "source": [
    "cones.select('Flavor', 'Price with tax')"
   ]
  },
  {
   "cell_type": "code",
   "execution_count": 20,
   "id": "5689cf7b-6747-4cb4-8d22-603c52e59aeb",
   "metadata": {},
   "outputs": [
    {
     "data": {
      "text/html": [
       "<table border=\"1\" class=\"dataframe\">\n",
       "    <thead>\n",
       "        <tr>\n",
       "            <th>Flavor</th> <th>Price with tax</th>\n",
       "        </tr>\n",
       "    </thead>\n",
       "    <tbody>\n",
       "        <tr>\n",
       "            <td>strawberry</td> <td>$3.86         </td>\n",
       "        </tr>\n",
       "        <tr>\n",
       "            <td>chocolate </td> <td>$5.17         </td>\n",
       "        </tr>\n",
       "        <tr>\n",
       "            <td>chocolate </td> <td>$5.71         </td>\n",
       "        </tr>\n",
       "        <tr>\n",
       "            <td>vanilla   </td> <td>$3.81         </td>\n",
       "        </tr>\n",
       "        <tr>\n",
       "            <td>strawberry</td> <td>$5.71         </td>\n",
       "        </tr>\n",
       "        <tr>\n",
       "            <td>chocolate </td> <td>$5.71         </td>\n",
       "        </tr>\n",
       "        <tr>\n",
       "            <td>bubblegum </td> <td>$5.17         </td>\n",
       "        </tr>\n",
       "    </tbody>\n",
       "</table>"
      ],
      "text/plain": [
       "Flavor     | Price with tax\n",
       "strawberry | $3.86\n",
       "chocolate  | $5.17\n",
       "chocolate  | $5.71\n",
       "vanilla    | $3.81\n",
       "strawberry | $5.71\n",
       "chocolate  | $5.71\n",
       "bubblegum  | $5.17"
      ]
     },
     "execution_count": 20,
     "metadata": {},
     "output_type": "execute_result"
    }
   ],
   "source": [
    "cones.select(0, 3)  # indices work too"
   ]
  },
  {
   "cell_type": "code",
   "execution_count": 21,
   "id": "52c73db5-2be2-4bcb-bb85-e09a7fcd36d8",
   "metadata": {},
   "outputs": [
    {
     "data": {
      "text/html": [
       "<table border=\"1\" class=\"dataframe\">\n",
       "    <thead>\n",
       "        <tr>\n",
       "            <th>Flavor</th>\n",
       "        </tr>\n",
       "    </thead>\n",
       "    <tbody>\n",
       "        <tr>\n",
       "            <td>strawberry</td>\n",
       "        </tr>\n",
       "        <tr>\n",
       "            <td>chocolate </td>\n",
       "        </tr>\n",
       "        <tr>\n",
       "            <td>chocolate </td>\n",
       "        </tr>\n",
       "        <tr>\n",
       "            <td>vanilla   </td>\n",
       "        </tr>\n",
       "        <tr>\n",
       "            <td>strawberry</td>\n",
       "        </tr>\n",
       "        <tr>\n",
       "            <td>chocolate </td>\n",
       "        </tr>\n",
       "        <tr>\n",
       "            <td>bubblegum </td>\n",
       "        </tr>\n",
       "    </tbody>\n",
       "</table>"
      ],
      "text/plain": [
       "Flavor\n",
       "strawberry\n",
       "chocolate\n",
       "chocolate\n",
       "vanilla\n",
       "strawberry\n",
       "chocolate\n",
       "bubblegum"
      ]
     },
     "execution_count": 21,
     "metadata": {},
     "output_type": "execute_result"
    }
   ],
   "source": [
    "cones.select('Flavor')"
   ]
  },
  {
   "cell_type": "code",
   "execution_count": 22,
   "id": "be1caac2-2168-4490-8a2a-cdf75707a6f6",
   "metadata": {},
   "outputs": [
    {
     "data": {
      "text/plain": [
       "array(['strawberry', 'chocolate', 'chocolate', 'vanilla', 'strawberry',\n",
       "       'chocolate', 'bubblegum'],\n",
       "      dtype='<U10')"
      ]
     },
     "execution_count": 22,
     "metadata": {},
     "output_type": "execute_result"
    }
   ],
   "source": [
    "cones.column('Flavor') # only this makes an array"
   ]
  },
  {
   "cell_type": "code",
   "execution_count": 23,
   "id": "eee67f05-52d9-4357-931f-d0b8b2c7acb3",
   "metadata": {},
   "outputs": [
    {
     "data": {
      "text/html": [
       "<table border=\"1\" class=\"dataframe\">\n",
       "    <thead>\n",
       "        <tr>\n",
       "            <th>Flavor</th> <th>Color</th> <th>Price with tax</th>\n",
       "        </tr>\n",
       "    </thead>\n",
       "    <tbody>\n",
       "        <tr>\n",
       "            <td>strawberry</td> <td>pink       </td> <td>$3.86         </td>\n",
       "        </tr>\n",
       "        <tr>\n",
       "            <td>chocolate </td> <td>light brown</td> <td>$5.17         </td>\n",
       "        </tr>\n",
       "        <tr>\n",
       "            <td>chocolate </td> <td>dark brown </td> <td>$5.71         </td>\n",
       "        </tr>\n",
       "        <tr>\n",
       "            <td>vanilla   </td> <td>white      </td> <td>$3.81         </td>\n",
       "        </tr>\n",
       "        <tr>\n",
       "            <td>strawberry</td> <td>pink       </td> <td>$5.71         </td>\n",
       "        </tr>\n",
       "        <tr>\n",
       "            <td>chocolate </td> <td>dark brown </td> <td>$5.71         </td>\n",
       "        </tr>\n",
       "        <tr>\n",
       "            <td>bubblegum </td> <td>pink       </td> <td>$5.17         </td>\n",
       "        </tr>\n",
       "    </tbody>\n",
       "</table>"
      ],
      "text/plain": [
       "Flavor     | Color       | Price with tax\n",
       "strawberry | pink        | $3.86\n",
       "chocolate  | light brown | $5.17\n",
       "chocolate  | dark brown  | $5.71\n",
       "vanilla    | white       | $3.81\n",
       "strawberry | pink        | $5.71\n",
       "chocolate  | dark brown  | $5.71\n",
       "bubblegum  | pink        | $5.17"
      ]
     },
     "execution_count": 23,
     "metadata": {},
     "output_type": "execute_result"
    }
   ],
   "source": [
    "cones.drop('Price') # makes a new Table, as usual"
   ]
  },
  {
   "cell_type": "code",
   "execution_count": 24,
   "id": "45c511b8-3669-418f-87f3-c980c4c70a35",
   "metadata": {},
   "outputs": [
    {
     "data": {
      "text/html": [
       "<table border=\"1\" class=\"dataframe\">\n",
       "    <thead>\n",
       "        <tr>\n",
       "            <th>Flavor</th> <th>Color</th> <th>Price</th> <th>Price with tax</th>\n",
       "        </tr>\n",
       "    </thead>\n",
       "    <tbody>\n",
       "        <tr>\n",
       "            <td>vanilla   </td> <td>white      </td> <td>3.5  </td> <td>$3.81         </td>\n",
       "        </tr>\n",
       "        <tr>\n",
       "            <td>strawberry</td> <td>pink       </td> <td>3.55 </td> <td>$3.86         </td>\n",
       "        </tr>\n",
       "        <tr>\n",
       "            <td>chocolate </td> <td>light brown</td> <td>4.75 </td> <td>$5.17         </td>\n",
       "        </tr>\n",
       "        <tr>\n",
       "            <td>bubblegum </td> <td>pink       </td> <td>4.75 </td> <td>$5.17         </td>\n",
       "        </tr>\n",
       "        <tr>\n",
       "            <td>chocolate </td> <td>dark brown </td> <td>5.25 </td> <td>$5.71         </td>\n",
       "        </tr>\n",
       "        <tr>\n",
       "            <td>strawberry</td> <td>pink       </td> <td>5.25 </td> <td>$5.71         </td>\n",
       "        </tr>\n",
       "        <tr>\n",
       "            <td>chocolate </td> <td>dark brown </td> <td>5.25 </td> <td>$5.71         </td>\n",
       "        </tr>\n",
       "    </tbody>\n",
       "</table>"
      ],
      "text/plain": [
       "Flavor     | Color       | Price | Price with tax\n",
       "vanilla    | white       | 3.5   | $3.81\n",
       "strawberry | pink        | 3.55  | $3.86\n",
       "chocolate  | light brown | 4.75  | $5.17\n",
       "bubblegum  | pink        | 4.75  | $5.17\n",
       "chocolate  | dark brown  | 5.25  | $5.71\n",
       "strawberry | pink        | 5.25  | $5.71\n",
       "chocolate  | dark brown  | 5.25  | $5.71"
      ]
     },
     "execution_count": 24,
     "metadata": {},
     "output_type": "execute_result"
    }
   ],
   "source": [
    "cones.sort('Price with tax')"
   ]
  },
  {
   "cell_type": "code",
   "execution_count": 25,
   "id": "e9bd5934-cd0a-4e18-829c-27c3cf22f98c",
   "metadata": {},
   "outputs": [
    {
     "data": {
      "text/html": [
       "<table border=\"1\" class=\"dataframe\">\n",
       "    <thead>\n",
       "        <tr>\n",
       "            <th>Flavor</th> <th>Color</th> <th>Price</th> <th>Price with tax</th>\n",
       "        </tr>\n",
       "    </thead>\n",
       "    <tbody>\n",
       "        <tr>\n",
       "            <td>chocolate </td> <td>dark brown </td> <td>5.25 </td> <td>$5.71         </td>\n",
       "        </tr>\n",
       "        <tr>\n",
       "            <td>strawberry</td> <td>pink       </td> <td>5.25 </td> <td>$5.71         </td>\n",
       "        </tr>\n",
       "        <tr>\n",
       "            <td>chocolate </td> <td>dark brown </td> <td>5.25 </td> <td>$5.71         </td>\n",
       "        </tr>\n",
       "        <tr>\n",
       "            <td>chocolate </td> <td>light brown</td> <td>4.75 </td> <td>$5.17         </td>\n",
       "        </tr>\n",
       "        <tr>\n",
       "            <td>bubblegum </td> <td>pink       </td> <td>4.75 </td> <td>$5.17         </td>\n",
       "        </tr>\n",
       "        <tr>\n",
       "            <td>strawberry</td> <td>pink       </td> <td>3.55 </td> <td>$3.86         </td>\n",
       "        </tr>\n",
       "        <tr>\n",
       "            <td>vanilla   </td> <td>white      </td> <td>3.5  </td> <td>$3.81         </td>\n",
       "        </tr>\n",
       "    </tbody>\n",
       "</table>"
      ],
      "text/plain": [
       "Flavor     | Color       | Price | Price with tax\n",
       "chocolate  | dark brown  | 5.25  | $5.71\n",
       "strawberry | pink        | 5.25  | $5.71\n",
       "chocolate  | dark brown  | 5.25  | $5.71\n",
       "chocolate  | light brown | 4.75  | $5.17\n",
       "bubblegum  | pink        | 4.75  | $5.17\n",
       "strawberry | pink        | 3.55  | $3.86\n",
       "vanilla    | white       | 3.5   | $3.81"
      ]
     },
     "execution_count": 25,
     "metadata": {},
     "output_type": "execute_result"
    }
   ],
   "source": [
    "cones.sort('Price with tax', descending=True)"
   ]
  },
  {
   "cell_type": "markdown",
   "id": "f6895b33-9359-40ec-b1e3-56f1c27257a6",
   "metadata": {},
   "source": [
    "---"
   ]
  },
  {
   "cell_type": "code",
   "execution_count": 26,
   "id": "87db26eb-0669-4ebc-8584-eb3e459e53c1",
   "metadata": {},
   "outputs": [
    {
     "data": {
      "text/html": [
       "<table border=\"1\" class=\"dataframe\">\n",
       "    <thead>\n",
       "        <tr>\n",
       "            <th>abilities</th> <th>against_bug</th> <th>against_dark</th> <th>against_dragon</th> <th>against_electric</th> <th>against_fairy</th> <th>against_fight</th> <th>against_fire</th> <th>against_flying</th> <th>against_ghost</th> <th>against_grass</th> <th>against_ground</th> <th>against_ice</th> <th>against_normal</th> <th>against_poison</th> <th>against_psychic</th> <th>against_rock</th> <th>against_steel</th> <th>against_water</th> <th>attack</th> <th>base_egg_steps</th> <th>base_happiness</th> <th>base_total</th> <th>capture_rate</th> <th>classfication</th> <th>defense</th> <th>experience_growth</th> <th>height_m</th> <th>hp</th> <th>japanese_name</th> <th>name</th> <th>percentage_male</th> <th>pokedex_number</th> <th>sp_attack</th> <th>sp_defense</th> <th>speed</th> <th>type1</th> <th>type2</th> <th>weight_kg</th> <th>generation</th> <th>is_legendary</th>\n",
       "        </tr>\n",
       "    </thead>\n",
       "    <tbody>\n",
       "        <tr>\n",
       "            <td>['Overgrow', 'Chlorophyll']</td> <td>1          </td> <td>1           </td> <td>1             </td> <td>0.5             </td> <td>0.5          </td> <td>0.5          </td> <td>2           </td> <td>2             </td> <td>1            </td> <td>0.25         </td> <td>1             </td> <td>2          </td> <td>1             </td> <td>1             </td> <td>2              </td> <td>1           </td> <td>1            </td> <td>0.5          </td> <td>49    </td> <td>5120          </td> <td>70            </td> <td>318       </td> <td>45          </td> <td>Seed Pokémon       </td> <td>49     </td> <td>1059860          </td> <td>0.7     </td> <td>45  </td> <td>Fushigidaneフシギダネ</td> <td>Bulbasaur </td> <td>88.1           </td> <td>1             </td> <td>65       </td> <td>65        </td> <td>45   </td> <td>grass</td> <td>poison</td> <td>6.9      </td> <td>1         </td> <td>0           </td>\n",
       "        </tr>\n",
       "        <tr>\n",
       "            <td>['Overgrow', 'Chlorophyll']</td> <td>1          </td> <td>1           </td> <td>1             </td> <td>0.5             </td> <td>0.5          </td> <td>0.5          </td> <td>2           </td> <td>2             </td> <td>1            </td> <td>0.25         </td> <td>1             </td> <td>2          </td> <td>1             </td> <td>1             </td> <td>2              </td> <td>1           </td> <td>1            </td> <td>0.5          </td> <td>62    </td> <td>5120          </td> <td>70            </td> <td>405       </td> <td>45          </td> <td>Seed Pokémon       </td> <td>63     </td> <td>1059860          </td> <td>1       </td> <td>60  </td> <td>Fushigisouフシギソウ </td> <td>Ivysaur   </td> <td>88.1           </td> <td>2             </td> <td>80       </td> <td>80        </td> <td>60   </td> <td>grass</td> <td>poison</td> <td>13       </td> <td>1         </td> <td>0           </td>\n",
       "        </tr>\n",
       "        <tr>\n",
       "            <td>['Overgrow', 'Chlorophyll']</td> <td>1          </td> <td>1           </td> <td>1             </td> <td>0.5             </td> <td>0.5          </td> <td>0.5          </td> <td>2           </td> <td>2             </td> <td>1            </td> <td>0.25         </td> <td>1             </td> <td>2          </td> <td>1             </td> <td>1             </td> <td>2              </td> <td>1           </td> <td>1            </td> <td>0.5          </td> <td>100   </td> <td>5120          </td> <td>70            </td> <td>625       </td> <td>45          </td> <td>Seed Pokémon       </td> <td>123    </td> <td>1059860          </td> <td>2       </td> <td>80  </td> <td>Fushigibanaフシギバナ</td> <td>Venusaur  </td> <td>88.1           </td> <td>3             </td> <td>122      </td> <td>120       </td> <td>80   </td> <td>grass</td> <td>poison</td> <td>100      </td> <td>1         </td> <td>0           </td>\n",
       "        </tr>\n",
       "        <tr>\n",
       "            <td>['Blaze', 'Solar Power']   </td> <td>0.5        </td> <td>1           </td> <td>1             </td> <td>1               </td> <td>0.5          </td> <td>1            </td> <td>0.5         </td> <td>1             </td> <td>1            </td> <td>0.5          </td> <td>2             </td> <td>0.5        </td> <td>1             </td> <td>1             </td> <td>1              </td> <td>2           </td> <td>0.5          </td> <td>2            </td> <td>52    </td> <td>5120          </td> <td>70            </td> <td>309       </td> <td>45          </td> <td>Lizard Pokémon     </td> <td>43     </td> <td>1059860          </td> <td>0.6     </td> <td>39  </td> <td>Hitokageヒトカゲ    </td> <td>Charmander</td> <td>88.1           </td> <td>4             </td> <td>60       </td> <td>50        </td> <td>65   </td> <td>fire </td> <td>nan   </td> <td>8.5      </td> <td>1         </td> <td>0           </td>\n",
       "        </tr>\n",
       "        <tr>\n",
       "            <td>['Blaze', 'Solar Power']   </td> <td>0.5        </td> <td>1           </td> <td>1             </td> <td>1               </td> <td>0.5          </td> <td>1            </td> <td>0.5         </td> <td>1             </td> <td>1            </td> <td>0.5          </td> <td>2             </td> <td>0.5        </td> <td>1             </td> <td>1             </td> <td>1              </td> <td>2           </td> <td>0.5          </td> <td>2            </td> <td>64    </td> <td>5120          </td> <td>70            </td> <td>405       </td> <td>45          </td> <td>Flame Pokémon      </td> <td>58     </td> <td>1059860          </td> <td>1.1     </td> <td>58  </td> <td>Lizardoリザード     </td> <td>Charmeleon</td> <td>88.1           </td> <td>5             </td> <td>80       </td> <td>65        </td> <td>80   </td> <td>fire </td> <td>nan   </td> <td>19       </td> <td>1         </td> <td>0           </td>\n",
       "        </tr>\n",
       "        <tr>\n",
       "            <td>['Blaze', 'Solar Power']   </td> <td>0.25       </td> <td>1           </td> <td>1             </td> <td>2               </td> <td>0.5          </td> <td>0.5          </td> <td>0.5         </td> <td>1             </td> <td>1            </td> <td>0.25         </td> <td>0             </td> <td>1          </td> <td>1             </td> <td>1             </td> <td>1              </td> <td>4           </td> <td>0.5          </td> <td>2            </td> <td>104   </td> <td>5120          </td> <td>70            </td> <td>634       </td> <td>45          </td> <td>Flame Pokémon      </td> <td>78     </td> <td>1059860          </td> <td>1.7     </td> <td>78  </td> <td>Lizardonリザードン   </td> <td>Charizard </td> <td>88.1           </td> <td>6             </td> <td>159      </td> <td>115       </td> <td>100  </td> <td>fire </td> <td>flying</td> <td>90.5     </td> <td>1         </td> <td>0           </td>\n",
       "        </tr>\n",
       "        <tr>\n",
       "            <td>['Torrent', 'Rain Dish']   </td> <td>1          </td> <td>1           </td> <td>1             </td> <td>2               </td> <td>1            </td> <td>1            </td> <td>0.5         </td> <td>1             </td> <td>1            </td> <td>2            </td> <td>1             </td> <td>0.5        </td> <td>1             </td> <td>1             </td> <td>1              </td> <td>1           </td> <td>0.5          </td> <td>0.5          </td> <td>48    </td> <td>5120          </td> <td>70            </td> <td>314       </td> <td>45          </td> <td>Tiny Turtle Pokémon</td> <td>65     </td> <td>1059860          </td> <td>0.5     </td> <td>44  </td> <td>Zenigameゼニガメ    </td> <td>Squirtle  </td> <td>88.1           </td> <td>7             </td> <td>50       </td> <td>64        </td> <td>43   </td> <td>water</td> <td>nan   </td> <td>9        </td> <td>1         </td> <td>0           </td>\n",
       "        </tr>\n",
       "        <tr>\n",
       "            <td>['Torrent', 'Rain Dish']   </td> <td>1          </td> <td>1           </td> <td>1             </td> <td>2               </td> <td>1            </td> <td>1            </td> <td>0.5         </td> <td>1             </td> <td>1            </td> <td>2            </td> <td>1             </td> <td>0.5        </td> <td>1             </td> <td>1             </td> <td>1              </td> <td>1           </td> <td>0.5          </td> <td>0.5          </td> <td>63    </td> <td>5120          </td> <td>70            </td> <td>405       </td> <td>45          </td> <td>Turtle Pokémon     </td> <td>80     </td> <td>1059860          </td> <td>1       </td> <td>59  </td> <td>Kameilカメール      </td> <td>Wartortle </td> <td>88.1           </td> <td>8             </td> <td>65       </td> <td>80        </td> <td>58   </td> <td>water</td> <td>nan   </td> <td>22.5     </td> <td>1         </td> <td>0           </td>\n",
       "        </tr>\n",
       "        <tr>\n",
       "            <td>['Torrent', 'Rain Dish']   </td> <td>1          </td> <td>1           </td> <td>1             </td> <td>2               </td> <td>1            </td> <td>1            </td> <td>0.5         </td> <td>1             </td> <td>1            </td> <td>2            </td> <td>1             </td> <td>0.5        </td> <td>1             </td> <td>1             </td> <td>1              </td> <td>1           </td> <td>0.5          </td> <td>0.5          </td> <td>103   </td> <td>5120          </td> <td>70            </td> <td>630       </td> <td>45          </td> <td>Shellfish Pokémon  </td> <td>120    </td> <td>1059860          </td> <td>1.6     </td> <td>79  </td> <td>Kamexカメックス      </td> <td>Blastoise </td> <td>88.1           </td> <td>9             </td> <td>135      </td> <td>115       </td> <td>78   </td> <td>water</td> <td>nan   </td> <td>85.5     </td> <td>1         </td> <td>0           </td>\n",
       "        </tr>\n",
       "        <tr>\n",
       "            <td>['Shield Dust', 'Run Away']</td> <td>1          </td> <td>1           </td> <td>1             </td> <td>1               </td> <td>1            </td> <td>0.5          </td> <td>2           </td> <td>2             </td> <td>1            </td> <td>0.5          </td> <td>0.5           </td> <td>1          </td> <td>1             </td> <td>1             </td> <td>1              </td> <td>2           </td> <td>1            </td> <td>1            </td> <td>30    </td> <td>3840          </td> <td>70            </td> <td>195       </td> <td>255         </td> <td>Worm Pokémon       </td> <td>35     </td> <td>1000000          </td> <td>0.3     </td> <td>45  </td> <td>Caterpieキャタピー   </td> <td>Caterpie  </td> <td>50             </td> <td>10            </td> <td>20       </td> <td>20        </td> <td>45   </td> <td>bug  </td> <td>nan   </td> <td>2.9      </td> <td>1         </td> <td>0           </td>\n",
       "        </tr>\n",
       "    </tbody>\n",
       "</table>\n",
       "<p>... (791 rows omitted)</p>"
      ],
      "text/plain": [
       "abilities                   | against_bug | against_dark | against_dragon | against_electric | against_fairy | against_fight | against_fire | against_flying | against_ghost | against_grass | against_ground | against_ice | against_normal | against_poison | against_psychic | against_rock | against_steel | against_water | attack | base_egg_steps | base_happiness | base_total | capture_rate | classfication       | defense | experience_growth | height_m | hp   | japanese_name    | name       | percentage_male | pokedex_number | sp_attack | sp_defense | speed | type1 | type2  | weight_kg | generation | is_legendary\n",
       "['Overgrow', 'Chlorophyll'] | 1           | 1            | 1              | 0.5              | 0.5           | 0.5           | 2            | 2              | 1             | 0.25          | 1              | 2           | 1              | 1              | 2               | 1            | 1             | 0.5           | 49     | 5120           | 70             | 318        | 45           | Seed Pokémon        | 49      | 1059860           | 0.7      | 45   | Fushigidaneフシギダネ | Bulbasaur  | 88.1            | 1              | 65        | 65         | 45    | grass | poison | 6.9       | 1          | 0\n",
       "['Overgrow', 'Chlorophyll'] | 1           | 1            | 1              | 0.5              | 0.5           | 0.5           | 2            | 2              | 1             | 0.25          | 1              | 2           | 1              | 1              | 2               | 1            | 1             | 0.5           | 62     | 5120           | 70             | 405        | 45           | Seed Pokémon        | 63      | 1059860           | 1        | 60   | Fushigisouフシギソウ  | Ivysaur    | 88.1            | 2              | 80        | 80         | 60    | grass | poison | 13        | 1          | 0\n",
       "['Overgrow', 'Chlorophyll'] | 1           | 1            | 1              | 0.5              | 0.5           | 0.5           | 2            | 2              | 1             | 0.25          | 1              | 2           | 1              | 1              | 2               | 1            | 1             | 0.5           | 100    | 5120           | 70             | 625        | 45           | Seed Pokémon        | 123     | 1059860           | 2        | 80   | Fushigibanaフシギバナ | Venusaur   | 88.1            | 3              | 122       | 120        | 80    | grass | poison | 100       | 1          | 0\n",
       "['Blaze', 'Solar Power']    | 0.5         | 1            | 1              | 1                | 0.5           | 1             | 0.5          | 1              | 1             | 0.5           | 2              | 0.5         | 1              | 1              | 1               | 2            | 0.5           | 2             | 52     | 5120           | 70             | 309        | 45           | Lizard Pokémon      | 43      | 1059860           | 0.6      | 39   | Hitokageヒトカゲ     | Charmander | 88.1            | 4              | 60        | 50         | 65    | fire  | nan    | 8.5       | 1          | 0\n",
       "['Blaze', 'Solar Power']    | 0.5         | 1            | 1              | 1                | 0.5           | 1             | 0.5          | 1              | 1             | 0.5           | 2              | 0.5         | 1              | 1              | 1               | 2            | 0.5           | 2             | 64     | 5120           | 70             | 405        | 45           | Flame Pokémon       | 58      | 1059860           | 1.1      | 58   | Lizardoリザード      | Charmeleon | 88.1            | 5              | 80        | 65         | 80    | fire  | nan    | 19        | 1          | 0\n",
       "['Blaze', 'Solar Power']    | 0.25        | 1            | 1              | 2                | 0.5           | 0.5           | 0.5          | 1              | 1             | 0.25          | 0              | 1           | 1              | 1              | 1               | 4            | 0.5           | 2             | 104    | 5120           | 70             | 634        | 45           | Flame Pokémon       | 78      | 1059860           | 1.7      | 78   | Lizardonリザードン    | Charizard  | 88.1            | 6              | 159       | 115        | 100   | fire  | flying | 90.5      | 1          | 0\n",
       "['Torrent', 'Rain Dish']    | 1           | 1            | 1              | 2                | 1             | 1             | 0.5          | 1              | 1             | 2             | 1              | 0.5         | 1              | 1              | 1               | 1            | 0.5           | 0.5           | 48     | 5120           | 70             | 314        | 45           | Tiny Turtle Pokémon | 65      | 1059860           | 0.5      | 44   | Zenigameゼニガメ     | Squirtle   | 88.1            | 7              | 50        | 64         | 43    | water | nan    | 9         | 1          | 0\n",
       "['Torrent', 'Rain Dish']    | 1           | 1            | 1              | 2                | 1             | 1             | 0.5          | 1              | 1             | 2             | 1              | 0.5         | 1              | 1              | 1               | 1            | 0.5           | 0.5           | 63     | 5120           | 70             | 405        | 45           | Turtle Pokémon      | 80      | 1059860           | 1        | 59   | Kameilカメール       | Wartortle  | 88.1            | 8              | 65        | 80         | 58    | water | nan    | 22.5      | 1          | 0\n",
       "['Torrent', 'Rain Dish']    | 1           | 1            | 1              | 2                | 1             | 1             | 0.5          | 1              | 1             | 2             | 1              | 0.5         | 1              | 1              | 1               | 1            | 0.5           | 0.5           | 103    | 5120           | 70             | 630        | 45           | Shellfish Pokémon   | 120     | 1059860           | 1.6      | 79   | Kamexカメックス       | Blastoise  | 88.1            | 9              | 135       | 115        | 78    | water | nan    | 85.5      | 1          | 0\n",
       "['Shield Dust', 'Run Away'] | 1           | 1            | 1              | 1                | 1             | 0.5           | 2            | 2              | 1             | 0.5           | 0.5            | 1           | 1              | 1              | 1               | 2            | 1             | 1             | 30     | 3840           | 70             | 195        | 255          | Worm Pokémon        | 35      | 1000000           | 0.3      | 45   | Caterpieキャタピー    | Caterpie   | 50              | 10             | 20        | 20         | 45    | bug   | nan    | 2.9       | 1          | 0\n",
       "... (791 rows omitted)"
      ]
     },
     "execution_count": 26,
     "metadata": {},
     "output_type": "execute_result"
    }
   ],
   "source": [
    "pokemon = Table.read_table('data/pokemon.csv')\n",
    "pokemon"
   ]
  },
  {
   "cell_type": "code",
   "execution_count": 27,
   "id": "53f4aebd-3cc7-42c0-9942-dd8cb165abf6",
   "metadata": {},
   "outputs": [
    {
     "data": {
      "text/html": [
       "<table border=\"1\" class=\"dataframe\">\n",
       "    <thead>\n",
       "        <tr>\n",
       "            <th>name</th> <th>number</th> <th>type</th> <th>attack</th> <th>hp</th>\n",
       "        </tr>\n",
       "    </thead>\n",
       "    <tbody>\n",
       "        <tr>\n",
       "            <td>Bulbasaur </td> <td>1     </td> <td>grass</td> <td>49    </td> <td>45  </td>\n",
       "        </tr>\n",
       "        <tr>\n",
       "            <td>Ivysaur   </td> <td>2     </td> <td>grass</td> <td>62    </td> <td>60  </td>\n",
       "        </tr>\n",
       "        <tr>\n",
       "            <td>Venusaur  </td> <td>3     </td> <td>grass</td> <td>100   </td> <td>80  </td>\n",
       "        </tr>\n",
       "        <tr>\n",
       "            <td>Charmander</td> <td>4     </td> <td>fire </td> <td>52    </td> <td>39  </td>\n",
       "        </tr>\n",
       "        <tr>\n",
       "            <td>Charmeleon</td> <td>5     </td> <td>fire </td> <td>64    </td> <td>58  </td>\n",
       "        </tr>\n",
       "        <tr>\n",
       "            <td>Charizard </td> <td>6     </td> <td>fire </td> <td>104   </td> <td>78  </td>\n",
       "        </tr>\n",
       "        <tr>\n",
       "            <td>Squirtle  </td> <td>7     </td> <td>water</td> <td>48    </td> <td>44  </td>\n",
       "        </tr>\n",
       "        <tr>\n",
       "            <td>Wartortle </td> <td>8     </td> <td>water</td> <td>63    </td> <td>59  </td>\n",
       "        </tr>\n",
       "        <tr>\n",
       "            <td>Blastoise </td> <td>9     </td> <td>water</td> <td>103   </td> <td>79  </td>\n",
       "        </tr>\n",
       "        <tr>\n",
       "            <td>Caterpie  </td> <td>10    </td> <td>bug  </td> <td>30    </td> <td>45  </td>\n",
       "        </tr>\n",
       "    </tbody>\n",
       "</table>\n",
       "<p>... (791 rows omitted)</p>"
      ],
      "text/plain": [
       "name       | number | type  | attack | hp\n",
       "Bulbasaur  | 1      | grass | 49     | 45\n",
       "Ivysaur    | 2      | grass | 62     | 60\n",
       "Venusaur   | 3      | grass | 100    | 80\n",
       "Charmander | 4      | fire  | 52     | 39\n",
       "Charmeleon | 5      | fire  | 64     | 58\n",
       "Charizard  | 6      | fire  | 104    | 78\n",
       "Squirtle   | 7      | water | 48     | 44\n",
       "Wartortle  | 8      | water | 63     | 59\n",
       "Blastoise  | 9      | water | 103    | 79\n",
       "Caterpie   | 10     | bug   | 30     | 45\n",
       "... (791 rows omitted)"
      ]
     },
     "execution_count": 27,
     "metadata": {},
     "output_type": "execute_result"
    }
   ],
   "source": [
    "pokemon = pokemon.select('name', 'pokedex_number', 'type1', 'attack', 'hp').relabeled('pokedex_number', 'number').relabeled('type1', 'type')\n",
    "pokemon"
   ]
  },
  {
   "cell_type": "code",
   "execution_count": 28,
   "id": "4515e54f-0be0-42fa-a278-fa50daf30104",
   "metadata": {},
   "outputs": [
    {
     "data": {
      "text/html": [
       "<table border=\"1\" class=\"dataframe\">\n",
       "    <thead>\n",
       "        <tr>\n",
       "            <th>name</th> <th>number</th> <th>type</th> <th>attack</th> <th>hp</th>\n",
       "        </tr>\n",
       "    </thead>\n",
       "    <tbody>\n",
       "        <tr>\n",
       "            <td>Charmander</td> <td>4     </td> <td>fire</td> <td>52    </td> <td>39  </td>\n",
       "        </tr>\n",
       "    </tbody>\n",
       "</table>"
      ],
      "text/plain": [
       "name       | number | type | attack | hp\n",
       "Charmander | 4      | fire | 52     | 39"
      ]
     },
     "execution_count": 28,
     "metadata": {},
     "output_type": "execute_result"
    }
   ],
   "source": [
    "pokemon.take(3)"
   ]
  },
  {
   "cell_type": "code",
   "execution_count": 29,
   "id": "074e2e01-e465-4d2c-b512-7001a59f775b",
   "metadata": {},
   "outputs": [],
   "source": [
    "import numpy as np"
   ]
  },
  {
   "cell_type": "code",
   "execution_count": 30,
   "id": "618637ba-197e-46c1-9f59-f9f8b94b9e10",
   "metadata": {},
   "outputs": [
    {
     "data": {
      "text/html": [
       "<table border=\"1\" class=\"dataframe\">\n",
       "    <thead>\n",
       "        <tr>\n",
       "            <th>name</th> <th>number</th> <th>type</th> <th>attack</th> <th>hp</th>\n",
       "        </tr>\n",
       "    </thead>\n",
       "    <tbody>\n",
       "        <tr>\n",
       "            <td>Pikachu  </td> <td>25    </td> <td>electric</td> <td>55    </td> <td>35  </td>\n",
       "        </tr>\n",
       "        <tr>\n",
       "            <td>Raichu   </td> <td>26    </td> <td>electric</td> <td>85    </td> <td>60  </td>\n",
       "        </tr>\n",
       "        <tr>\n",
       "            <td>Sandshrew</td> <td>27    </td> <td>ground  </td> <td>75    </td> <td>50  </td>\n",
       "        </tr>\n",
       "        <tr>\n",
       "            <td>Sandslash</td> <td>28    </td> <td>ground  </td> <td>100   </td> <td>75  </td>\n",
       "        </tr>\n",
       "        <tr>\n",
       "            <td>Nidoran♀ </td> <td>29    </td> <td>poison  </td> <td>47    </td> <td>55  </td>\n",
       "        </tr>\n",
       "        <tr>\n",
       "            <td>Nidorina </td> <td>30    </td> <td>poison  </td> <td>62    </td> <td>70  </td>\n",
       "        </tr>\n",
       "    </tbody>\n",
       "</table>"
      ],
      "text/plain": [
       "name      | number | type     | attack | hp\n",
       "Pikachu   | 25     | electric | 55     | 35\n",
       "Raichu    | 26     | electric | 85     | 60\n",
       "Sandshrew | 27     | ground   | 75     | 50\n",
       "Sandslash | 28     | ground   | 100    | 75\n",
       "Nidoran♀  | 29     | poison   | 47     | 55\n",
       "Nidorina  | 30     | poison   | 62     | 70"
      ]
     },
     "execution_count": 30,
     "metadata": {},
     "output_type": "execute_result"
    }
   ],
   "source": [
    "pokemon.take(np.arange(24, 30))"
   ]
  },
  {
   "cell_type": "code",
   "execution_count": 31,
   "id": "7c3276fe-a5f1-4db7-bcae-b9c9eb295782",
   "metadata": {},
   "outputs": [
    {
     "data": {
      "text/html": [
       "<table border=\"1\" class=\"dataframe\">\n",
       "    <thead>\n",
       "        <tr>\n",
       "            <th>name</th> <th>number</th> <th>type</th> <th>attack</th> <th>hp</th>\n",
       "        </tr>\n",
       "    </thead>\n",
       "    <tbody>\n",
       "        <tr>\n",
       "            <td>Venusaur </td> <td>3     </td> <td>grass   </td> <td>100   </td> <td>80  </td>\n",
       "        </tr>\n",
       "        <tr>\n",
       "            <td>Charizard</td> <td>6     </td> <td>fire    </td> <td>104   </td> <td>78  </td>\n",
       "        </tr>\n",
       "        <tr>\n",
       "            <td>Blastoise</td> <td>9     </td> <td>water   </td> <td>103   </td> <td>79  </td>\n",
       "        </tr>\n",
       "        <tr>\n",
       "            <td>Beedrill </td> <td>15    </td> <td>bug     </td> <td>150   </td> <td>65  </td>\n",
       "        </tr>\n",
       "        <tr>\n",
       "            <td>Pidgeot  </td> <td>18    </td> <td>normal  </td> <td>80    </td> <td>83  </td>\n",
       "        </tr>\n",
       "        <tr>\n",
       "            <td>Fearow   </td> <td>22    </td> <td>normal  </td> <td>90    </td> <td>65  </td>\n",
       "        </tr>\n",
       "        <tr>\n",
       "            <td>Arbok    </td> <td>24    </td> <td>poison  </td> <td>95    </td> <td>60  </td>\n",
       "        </tr>\n",
       "        <tr>\n",
       "            <td>Raichu   </td> <td>26    </td> <td>electric</td> <td>85    </td> <td>60  </td>\n",
       "        </tr>\n",
       "        <tr>\n",
       "            <td>Sandslash</td> <td>28    </td> <td>ground  </td> <td>100   </td> <td>75  </td>\n",
       "        </tr>\n",
       "        <tr>\n",
       "            <td>Nidoqueen</td> <td>31    </td> <td>poison  </td> <td>92    </td> <td>90  </td>\n",
       "        </tr>\n",
       "    </tbody>\n",
       "</table>\n",
       "<p>... (365 rows omitted)</p>"
      ],
      "text/plain": [
       "name      | number | type     | attack | hp\n",
       "Venusaur  | 3      | grass    | 100    | 80\n",
       "Charizard | 6      | fire     | 104    | 78\n",
       "Blastoise | 9      | water    | 103    | 79\n",
       "Beedrill  | 15     | bug      | 150    | 65\n",
       "Pidgeot   | 18     | normal   | 80     | 83\n",
       "Fearow    | 22     | normal   | 90     | 65\n",
       "Arbok     | 24     | poison   | 95     | 60\n",
       "Raichu    | 26     | electric | 85     | 60\n",
       "Sandslash | 28     | ground   | 100    | 75\n",
       "Nidoqueen | 31     | poison   | 92     | 90\n",
       "... (365 rows omitted)"
      ]
     },
     "execution_count": 31,
     "metadata": {},
     "output_type": "execute_result"
    }
   ],
   "source": [
    "pokemon.where('attack', are.above(75))"
   ]
  },
  {
   "cell_type": "code",
   "execution_count": 32,
   "id": "05a836c2-f488-440e-9563-d0d0d5bc2659",
   "metadata": {},
   "outputs": [
    {
     "data": {
      "text/html": [
       "<table border=\"1\" class=\"dataframe\">\n",
       "    <thead>\n",
       "        <tr>\n",
       "            <th>name</th> <th>number</th> <th>type</th> <th>attack</th> <th>hp</th>\n",
       "        </tr>\n",
       "    </thead>\n",
       "    <tbody>\n",
       "        <tr>\n",
       "            <td>Furret    </td> <td>162   </td> <td>normal</td> <td>76    </td> <td>85  </td>\n",
       "        </tr>\n",
       "        <tr>\n",
       "            <td>Yanmega   </td> <td>469   </td> <td>bug   </td> <td>76    </td> <td>86  </td>\n",
       "        </tr>\n",
       "        <tr>\n",
       "            <td>Tranquill </td> <td>520   </td> <td>normal</td> <td>77    </td> <td>62  </td>\n",
       "        </tr>\n",
       "        <tr>\n",
       "            <td>Galvantula</td> <td>596   </td> <td>bug   </td> <td>77    </td> <td>70  </td>\n",
       "        </tr>\n",
       "        <tr>\n",
       "            <td>Aurorus   </td> <td>699   </td> <td>rock  </td> <td>77    </td> <td>123 </td>\n",
       "        </tr>\n",
       "        <tr>\n",
       "            <td>Whiscash  </td> <td>340   </td> <td>water </td> <td>78    </td> <td>110 </td>\n",
       "        </tr>\n",
       "        <tr>\n",
       "            <td>Monferno  </td> <td>391   </td> <td>fire  </td> <td>78    </td> <td>64  </td>\n",
       "        </tr>\n",
       "        <tr>\n",
       "            <td>Tirtouga  </td> <td>564   </td> <td>water </td> <td>78    </td> <td>54  </td>\n",
       "        </tr>\n",
       "        <tr>\n",
       "            <td>Quilladin </td> <td>651   </td> <td>grass </td> <td>78    </td> <td>61  </td>\n",
       "        </tr>\n",
       "        <tr>\n",
       "            <td>Turtonator</td> <td>776   </td> <td>fire  </td> <td>78    </td> <td>60  </td>\n",
       "        </tr>\n",
       "    </tbody>\n",
       "</table>\n",
       "<p>... (365 rows omitted)</p>"
      ],
      "text/plain": [
       "name       | number | type   | attack | hp\n",
       "Furret     | 162    | normal | 76     | 85\n",
       "Yanmega    | 469    | bug    | 76     | 86\n",
       "Tranquill  | 520    | normal | 77     | 62\n",
       "Galvantula | 596    | bug    | 77     | 70\n",
       "Aurorus    | 699    | rock   | 77     | 123\n",
       "Whiscash   | 340    | water  | 78     | 110\n",
       "Monferno   | 391    | fire   | 78     | 64\n",
       "Tirtouga   | 564    | water  | 78     | 54\n",
       "Quilladin  | 651    | grass  | 78     | 61\n",
       "Turtonator | 776    | fire   | 78     | 60\n",
       "... (365 rows omitted)"
      ]
     },
     "execution_count": 32,
     "metadata": {},
     "output_type": "execute_result"
    }
   ],
   "source": [
    "pokemon.where('attack', are.above(75)).sort('attack')"
   ]
  },
  {
   "cell_type": "code",
   "execution_count": 33,
   "id": "63ab9134-3606-462d-9bc2-970645535e0a",
   "metadata": {},
   "outputs": [
    {
     "data": {
      "text/html": [
       "<table border=\"1\" class=\"dataframe\">\n",
       "    <thead>\n",
       "        <tr>\n",
       "            <th>name</th> <th>number</th> <th>type</th> <th>attack</th> <th>hp</th>\n",
       "        </tr>\n",
       "    </thead>\n",
       "    <tbody>\n",
       "        <tr>\n",
       "            <td>Pikachu   </td> <td>25    </td> <td>electric</td> <td>55    </td> <td>35  </td>\n",
       "        </tr>\n",
       "        <tr>\n",
       "            <td>Raichu    </td> <td>26    </td> <td>electric</td> <td>85    </td> <td>60  </td>\n",
       "        </tr>\n",
       "        <tr>\n",
       "            <td>Magnemite </td> <td>81    </td> <td>electric</td> <td>35    </td> <td>25  </td>\n",
       "        </tr>\n",
       "        <tr>\n",
       "            <td>Magneton  </td> <td>82    </td> <td>electric</td> <td>60    </td> <td>50  </td>\n",
       "        </tr>\n",
       "        <tr>\n",
       "            <td>Voltorb   </td> <td>100   </td> <td>electric</td> <td>30    </td> <td>40  </td>\n",
       "        </tr>\n",
       "        <tr>\n",
       "            <td>Electrode </td> <td>101   </td> <td>electric</td> <td>50    </td> <td>60  </td>\n",
       "        </tr>\n",
       "        <tr>\n",
       "            <td>Electabuzz</td> <td>125   </td> <td>electric</td> <td>83    </td> <td>65  </td>\n",
       "        </tr>\n",
       "        <tr>\n",
       "            <td>Jolteon   </td> <td>135   </td> <td>electric</td> <td>65    </td> <td>65  </td>\n",
       "        </tr>\n",
       "        <tr>\n",
       "            <td>Zapdos    </td> <td>145   </td> <td>electric</td> <td>90    </td> <td>90  </td>\n",
       "        </tr>\n",
       "        <tr>\n",
       "            <td>Pichu     </td> <td>172   </td> <td>electric</td> <td>40    </td> <td>20  </td>\n",
       "        </tr>\n",
       "    </tbody>\n",
       "</table>\n",
       "<p>... (29 rows omitted)</p>"
      ],
      "text/plain": [
       "name       | number | type     | attack | hp\n",
       "Pikachu    | 25     | electric | 55     | 35\n",
       "Raichu     | 26     | electric | 85     | 60\n",
       "Magnemite  | 81     | electric | 35     | 25\n",
       "Magneton   | 82     | electric | 60     | 50\n",
       "Voltorb    | 100    | electric | 30     | 40\n",
       "Electrode  | 101    | electric | 50     | 60\n",
       "Electabuzz | 125    | electric | 83     | 65\n",
       "Jolteon    | 135    | electric | 65     | 65\n",
       "Zapdos     | 145    | electric | 90     | 90\n",
       "Pichu      | 172    | electric | 40     | 20\n",
       "... (29 rows omitted)"
      ]
     },
     "execution_count": 33,
     "metadata": {},
     "output_type": "execute_result"
    }
   ],
   "source": [
    "pokemon.where('type', are.equal_to('electric'))"
   ]
  },
  {
   "cell_type": "code",
   "execution_count": 34,
   "id": "ddeb1da2-548c-4929-84f4-3cf9a86cf8dd",
   "metadata": {},
   "outputs": [
    {
     "data": {
      "text/html": [
       "<table border=\"1\" class=\"dataframe\">\n",
       "    <thead>\n",
       "        <tr>\n",
       "            <th>name</th> <th>number</th> <th>type</th> <th>attack</th> <th>hp</th>\n",
       "        </tr>\n",
       "    </thead>\n",
       "    <tbody>\n",
       "        <tr>\n",
       "            <td>Pikachu   </td> <td>25    </td> <td>electric</td> <td>55    </td> <td>35  </td>\n",
       "        </tr>\n",
       "        <tr>\n",
       "            <td>Raichu    </td> <td>26    </td> <td>electric</td> <td>85    </td> <td>60  </td>\n",
       "        </tr>\n",
       "        <tr>\n",
       "            <td>Magnemite </td> <td>81    </td> <td>electric</td> <td>35    </td> <td>25  </td>\n",
       "        </tr>\n",
       "        <tr>\n",
       "            <td>Magneton  </td> <td>82    </td> <td>electric</td> <td>60    </td> <td>50  </td>\n",
       "        </tr>\n",
       "        <tr>\n",
       "            <td>Voltorb   </td> <td>100   </td> <td>electric</td> <td>30    </td> <td>40  </td>\n",
       "        </tr>\n",
       "        <tr>\n",
       "            <td>Electrode </td> <td>101   </td> <td>electric</td> <td>50    </td> <td>60  </td>\n",
       "        </tr>\n",
       "        <tr>\n",
       "            <td>Electabuzz</td> <td>125   </td> <td>electric</td> <td>83    </td> <td>65  </td>\n",
       "        </tr>\n",
       "        <tr>\n",
       "            <td>Jolteon   </td> <td>135   </td> <td>electric</td> <td>65    </td> <td>65  </td>\n",
       "        </tr>\n",
       "        <tr>\n",
       "            <td>Zapdos    </td> <td>145   </td> <td>electric</td> <td>90    </td> <td>90  </td>\n",
       "        </tr>\n",
       "        <tr>\n",
       "            <td>Pichu     </td> <td>172   </td> <td>electric</td> <td>40    </td> <td>20  </td>\n",
       "        </tr>\n",
       "    </tbody>\n",
       "</table>\n",
       "<p>... (29 rows omitted)</p>"
      ],
      "text/plain": [
       "name       | number | type     | attack | hp\n",
       "Pikachu    | 25     | electric | 55     | 35\n",
       "Raichu     | 26     | electric | 85     | 60\n",
       "Magnemite  | 81     | electric | 35     | 25\n",
       "Magneton   | 82     | electric | 60     | 50\n",
       "Voltorb    | 100    | electric | 30     | 40\n",
       "Electrode  | 101    | electric | 50     | 60\n",
       "Electabuzz | 125    | electric | 83     | 65\n",
       "Jolteon    | 135    | electric | 65     | 65\n",
       "Zapdos     | 145    | electric | 90     | 90\n",
       "Pichu      | 172    | electric | 40     | 20\n",
       "... (29 rows omitted)"
      ]
     },
     "execution_count": 34,
     "metadata": {},
     "output_type": "execute_result"
    }
   ],
   "source": [
    "pokemon.where('type', 'electric') # shorthand"
   ]
  },
  {
   "cell_type": "code",
   "execution_count": 35,
   "id": "5bf1b98a-1721-4583-941d-6d3dff4d629e",
   "metadata": {},
   "outputs": [
    {
     "data": {
      "text/html": [
       "<table border=\"1\" class=\"dataframe\">\n",
       "    <thead>\n",
       "        <tr>\n",
       "            <th>name</th> <th>number</th> <th>type</th> <th>attack</th> <th>hp</th>\n",
       "        </tr>\n",
       "    </thead>\n",
       "    <tbody>\n",
       "        <tr>\n",
       "            <td>Zapdos    </td> <td>145   </td> <td>electric</td> <td>90    </td> <td>90  </td>\n",
       "        </tr>\n",
       "        <tr>\n",
       "            <td>Ampharos  </td> <td>181   </td> <td>electric</td> <td>95    </td> <td>90  </td>\n",
       "        </tr>\n",
       "        <tr>\n",
       "            <td>Raikou    </td> <td>243   </td> <td>electric</td> <td>85    </td> <td>90  </td>\n",
       "        </tr>\n",
       "        <tr>\n",
       "            <td>Luxray    </td> <td>405   </td> <td>electric</td> <td>120   </td> <td>80  </td>\n",
       "        </tr>\n",
       "        <tr>\n",
       "            <td>Eelektross</td> <td>604   </td> <td>electric</td> <td>115   </td> <td>85  </td>\n",
       "        </tr>\n",
       "        <tr>\n",
       "            <td>Xurkitree </td> <td>796   </td> <td>electric</td> <td>89    </td> <td>83  </td>\n",
       "        </tr>\n",
       "    </tbody>\n",
       "</table>"
      ],
      "text/plain": [
       "name       | number | type     | attack | hp\n",
       "Zapdos     | 145    | electric | 90     | 90\n",
       "Ampharos   | 181    | electric | 95     | 90\n",
       "Raikou     | 243    | electric | 85     | 90\n",
       "Luxray     | 405    | electric | 120    | 80\n",
       "Eelektross | 604    | electric | 115    | 85\n",
       "Xurkitree  | 796    | electric | 89     | 83"
      ]
     },
     "execution_count": 35,
     "metadata": {},
     "output_type": "execute_result"
    }
   ],
   "source": [
    "pokemon.where('type', 'electric').where('hp', are.above_or_equal_to(80))"
   ]
  },
  {
   "cell_type": "code",
   "execution_count": 36,
   "id": "137e085b-dd77-4f7f-8b46-058e52ddb301",
   "metadata": {},
   "outputs": [
    {
     "data": {
      "text/html": [
       "<table border=\"1\" class=\"dataframe\">\n",
       "    <thead>\n",
       "        <tr>\n",
       "            <th>name</th> <th>number</th> <th>type</th> <th>attack</th> <th>hp</th>\n",
       "        </tr>\n",
       "    </thead>\n",
       "    <tbody>\n",
       "        <tr>\n",
       "            <td>Eevee   </td> <td>133   </td> <td>normal  </td> <td>55    </td> <td>55  </td>\n",
       "        </tr>\n",
       "        <tr>\n",
       "            <td>Vaporeon</td> <td>134   </td> <td>water   </td> <td>65    </td> <td>130 </td>\n",
       "        </tr>\n",
       "        <tr>\n",
       "            <td>Jolteon </td> <td>135   </td> <td>electric</td> <td>65    </td> <td>65  </td>\n",
       "        </tr>\n",
       "        <tr>\n",
       "            <td>Flareon </td> <td>136   </td> <td>fire    </td> <td>130   </td> <td>65  </td>\n",
       "        </tr>\n",
       "    </tbody>\n",
       "</table>"
      ],
      "text/plain": [
       "name     | number | type     | attack | hp\n",
       "Eevee    | 133    | normal   | 55     | 55\n",
       "Vaporeon | 134    | water    | 65     | 130\n",
       "Jolteon  | 135    | electric | 65     | 65\n",
       "Flareon  | 136    | fire     | 130    | 65"
      ]
     },
     "execution_count": 36,
     "metadata": {},
     "output_type": "execute_result"
    }
   ],
   "source": [
    "eeveelutions = pokemon.take(np.arange(132, 136))\n",
    "eeveelutions"
   ]
  },
  {
   "cell_type": "code",
   "execution_count": 37,
   "id": "ef938bf3-b916-4ef3-8fa6-736412ae2996",
   "metadata": {},
   "outputs": [
    {
     "data": {
      "text/html": [
       "<table border=\"1\" class=\"dataframe\">\n",
       "    <thead>\n",
       "        <tr>\n",
       "            <th>name</th> <th>number</th> <th>type</th> <th>attack</th> <th>hp</th> <th>Percent increase</th>\n",
       "        </tr>\n",
       "    </thead>\n",
       "    <tbody>\n",
       "        <tr>\n",
       "            <td>Eevee   </td> <td>133   </td> <td>normal  </td> <td>55    </td> <td>55  </td> <td>0               </td>\n",
       "        </tr>\n",
       "        <tr>\n",
       "            <td>Vaporeon</td> <td>134   </td> <td>water   </td> <td>65    </td> <td>130 </td> <td>1.36364         </td>\n",
       "        </tr>\n",
       "        <tr>\n",
       "            <td>Jolteon </td> <td>135   </td> <td>electric</td> <td>65    </td> <td>65  </td> <td>0.181818        </td>\n",
       "        </tr>\n",
       "        <tr>\n",
       "            <td>Flareon </td> <td>136   </td> <td>fire    </td> <td>130   </td> <td>65  </td> <td>0.181818        </td>\n",
       "        </tr>\n",
       "    </tbody>\n",
       "</table>"
      ],
      "text/plain": [
       "name     | number | type     | attack | hp   | Percent increase\n",
       "Eevee    | 133    | normal   | 55     | 55   | 0\n",
       "Vaporeon | 134    | water    | 65     | 130  | 1.36364\n",
       "Jolteon  | 135    | electric | 65     | 65   | 0.181818\n",
       "Flareon  | 136    | fire     | 130    | 65   | 0.181818"
      ]
     },
     "execution_count": 37,
     "metadata": {},
     "output_type": "execute_result"
    }
   ],
   "source": [
    "original_hp = eeveelutions.column('hp').item(0)\n",
    "eeveelutions = eeveelutions.with_column('Percent increase', eeveelutions.column('hp') / original_hp - 1)\n",
    "eeveelutions"
   ]
  },
  {
   "cell_type": "code",
   "execution_count": 38,
   "id": "44eda0a3-5a2b-4b99-a872-c0bcf63336f7",
   "metadata": {},
   "outputs": [
    {
     "data": {
      "text/html": [
       "<table border=\"1\" class=\"dataframe\">\n",
       "    <thead>\n",
       "        <tr>\n",
       "            <th>name</th> <th>number</th> <th>type</th> <th>attack</th> <th>hp</th> <th>Percent increase</th>\n",
       "        </tr>\n",
       "    </thead>\n",
       "    <tbody>\n",
       "        <tr>\n",
       "            <td>Eevee   </td> <td>133   </td> <td>normal  </td> <td>55    </td> <td>55  </td> <td>0.00%           </td>\n",
       "        </tr>\n",
       "        <tr>\n",
       "            <td>Vaporeon</td> <td>134   </td> <td>water   </td> <td>65    </td> <td>130 </td> <td>136.36%         </td>\n",
       "        </tr>\n",
       "        <tr>\n",
       "            <td>Jolteon </td> <td>135   </td> <td>electric</td> <td>65    </td> <td>65  </td> <td>18.18%          </td>\n",
       "        </tr>\n",
       "        <tr>\n",
       "            <td>Flareon </td> <td>136   </td> <td>fire    </td> <td>130   </td> <td>65  </td> <td>18.18%          </td>\n",
       "        </tr>\n",
       "    </tbody>\n",
       "</table>"
      ],
      "text/plain": [
       "name     | number | type     | attack | hp   | Percent increase\n",
       "Eevee    | 133    | normal   | 55     | 55   | 0.00%\n",
       "Vaporeon | 134    | water    | 65     | 130  | 136.36%\n",
       "Jolteon  | 135    | electric | 65     | 65   | 18.18%\n",
       "Flareon  | 136    | fire     | 130    | 65   | 18.18%"
      ]
     },
     "execution_count": 38,
     "metadata": {},
     "output_type": "execute_result"
    }
   ],
   "source": [
    "eeveelutions.set_format('Percent increase', PercentFormatter)"
   ]
  }
 ],
 "metadata": {
  "kernelspec": {
   "display_name": "Python 3 (ipykernel)",
   "language": "python",
   "name": "python3"
  },
  "language_info": {
   "codemirror_mode": {
    "name": "ipython",
    "version": 3
   },
   "file_extension": ".py",
   "mimetype": "text/x-python",
   "name": "python",
   "nbconvert_exporter": "python",
   "pygments_lexer": "ipython3",
   "version": "3.12.5"
  }
 },
 "nbformat": 4,
 "nbformat_minor": 5
}
